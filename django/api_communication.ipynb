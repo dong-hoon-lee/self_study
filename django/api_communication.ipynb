{
 "cells": [
  {
   "cell_type": "code",
   "execution_count": 7,
   "metadata": {},
   "outputs": [
    {
     "name": "stdout",
     "output_type": "stream",
     "text": [
      "json objects:\n",
      "{'location': {'name': 'Seoul', 'region': '', 'country': 'South Korea', 'lat': 37.57, 'lon': 127.0, 'tz_id': 'Asia/Seoul', 'localtime_epoch': 1657001581, 'localtime': '2022-07-05 15:13'}, 'current': {'last_updated_epoch': 1656997200, 'last_updated': '2022-07-05 14:00', 'temp_c': 32.0, 'temp_f': 89.6, 'is_day': 1, 'condition': {'text': 'Partly cloudy', 'icon': '//cdn.weatherapi.com/weather/64x64/day/116.png', 'code': 1003}, 'wind_mph': 2.2, 'wind_kph': 3.6, 'wind_degree': 50, 'wind_dir': 'NE', 'pressure_mb': 1004.0, 'pressure_in': 29.65, 'precip_mm': 0.0, 'precip_in': 0.0, 'humidity': 63, 'cloud': 75, 'feelslike_c': 36.9, 'feelslike_f': 98.3, 'vis_km': 10.0, 'vis_miles': 6.0, 'uv': 8.0, 'gust_mph': 2.2, 'gust_kph': 3.6, 'air_quality': {'co': 357.20001220703125, 'no2': 10.5, 'o3': 286.1000061035156, 'so2': 12.399999618530273, 'pm2_5': 68.4000015258789, 'pm10': 72.30000305175781, 'us-epa-index': 4, 'gb-defra-index': 9}}}\n",
      "\n",
      "json.dumps:\n",
      "{\n",
      "    \"location\": {\n",
      "        \"name\": \"Seoul\",\n",
      "        \"region\": \"\",\n",
      "        \"country\": \"South Korea\",\n",
      "        \"lat\": 37.57,\n",
      "        \"lon\": 127.0,\n",
      "        \"tz_id\": \"Asia/Seoul\",\n",
      "        \"localtime_epoch\": 1657001581,\n",
      "        \"localtime\": \"2022-07-05 15:13\"\n",
      "    },\n",
      "    \"current\": {\n",
      "        \"last_updated_epoch\": 1656997200,\n",
      "        \"last_updated\": \"2022-07-05 14:00\",\n",
      "        \"temp_c\": 32.0,\n",
      "        \"temp_f\": 89.6,\n",
      "        \"is_day\": 1,\n",
      "        \"condition\": {\n",
      "            \"text\": \"Partly cloudy\",\n",
      "            \"icon\": \"//cdn.weatherapi.com/weather/64x64/day/116.png\",\n",
      "            \"code\": 1003\n",
      "        },\n",
      "        \"wind_mph\": 2.2,\n",
      "        \"wind_kph\": 3.6,\n",
      "        \"wind_degree\": 50,\n",
      "        \"wind_dir\": \"NE\",\n",
      "        \"pressure_mb\": 1004.0,\n",
      "        \"pressure_in\": 29.65,\n",
      "        \"precip_mm\": 0.0,\n",
      "        \"precip_in\": 0.0,\n",
      "        \"humidity\": 63,\n",
      "        \"cloud\": 75,\n",
      "        \"feelslike_c\": 36.9,\n",
      "        \"feelslike_f\": 98.3,\n",
      "        \"vis_km\": 10.0,\n",
      "        \"vis_miles\": 6.0,\n",
      "        \"uv\": 8.0,\n",
      "        \"gust_mph\": 2.2,\n",
      "        \"gust_kph\": 3.6,\n",
      "        \"air_quality\": {\n",
      "            \"co\": 357.20001220703125,\n",
      "            \"no2\": 10.5,\n",
      "            \"o3\": 286.1000061035156,\n",
      "            \"so2\": 12.399999618530273,\n",
      "            \"pm2_5\": 68.4000015258789,\n",
      "            \"pm10\": 72.30000305175781,\n",
      "            \"us-epa-index\": 4,\n",
      "            \"gb-defra-index\": 9\n",
      "        }\n",
      "    }\n",
      "}\n"
     ]
    }
   ],
   "source": [
    "import requests\n",
    "import json\n",
    "\n",
    "\n",
    "response = requests.get('http://api.weatherapi.com/v1/current.json?key=e66d3058788f4e2691b54232220507&q=Seoul&aqi=yes')\n",
    "\n",
    "# 받아온 API가 JSON형식의 string으로 들어가 있기 때문에 json.loads로 JSON형식으로 변환해야 함\n",
    "json_obj = json.loads(response.text)\n",
    "print(f'json objects:\\n{json_obj}\\n')\n",
    "print(f'json.dumps:\\n{json.dumps(json_obj, indent=4)}')"
   ]
  },
  {
   "cell_type": "code",
   "execution_count": 8,
   "metadata": {},
   "outputs": [
    {
     "data": {
      "text/plain": [
       "'{\"location\":{\"name\":\"Seoul\",\"region\":\"\",\"country\":\"South Korea\",\"lat\":37.57,\"lon\":127.0,\"tz_id\":\"Asia/Seoul\",\"localtime_epoch\":1657001581,\"localtime\":\"2022-07-05 15:13\"},\"current\":{\"last_updated_epoch\":1656997200,\"last_updated\":\"2022-07-05 14:00\",\"temp_c\":32.0,\"temp_f\":89.6,\"is_day\":1,\"condition\":{\"text\":\"Partly cloudy\",\"icon\":\"//cdn.weatherapi.com/weather/64x64/day/116.png\",\"code\":1003},\"wind_mph\":2.2,\"wind_kph\":3.6,\"wind_degree\":50,\"wind_dir\":\"NE\",\"pressure_mb\":1004.0,\"pressure_in\":29.65,\"precip_mm\":0.0,\"precip_in\":0.0,\"humidity\":63,\"cloud\":75,\"feelslike_c\":36.9,\"feelslike_f\":98.3,\"vis_km\":10.0,\"vis_miles\":6.0,\"uv\":8.0,\"gust_mph\":2.2,\"gust_kph\":3.6,\"air_quality\":{\"co\":357.20001220703125,\"no2\":10.5,\"o3\":286.1000061035156,\"so2\":12.399999618530273,\"pm2_5\":68.4000015258789,\"pm10\":72.30000305175781,\"us-epa-index\":4,\"gb-defra-index\":9}}}'"
      ]
     },
     "execution_count": 8,
     "metadata": {},
     "output_type": "execute_result"
    }
   ],
   "source": [
    "response.text"
   ]
  },
  {
   "cell_type": "code",
   "execution_count": 12,
   "metadata": {},
   "outputs": [
    {
     "name": "stdout",
     "output_type": "stream",
     "text": [
      "Seoul의 날씨: Partly cloudy, 온도: 32.0\n"
     ]
    }
   ],
   "source": [
    "print(f\"{json_obj['location']['name']}의 날씨: {json_obj['current']['condition']['text']},\\\n",
    " 온도: {json_obj['current']['temp_c']}\")"
   ]
  }
 ],
 "metadata": {
  "kernelspec": {
   "display_name": "Python 3.9.7 64-bit",
   "language": "python",
   "name": "python3"
  },
  "language_info": {
   "codemirror_mode": {
    "name": "ipython",
    "version": 3
   },
   "file_extension": ".py",
   "mimetype": "text/x-python",
   "name": "python",
   "nbconvert_exporter": "python",
   "pygments_lexer": "ipython3",
   "version": "3.9.7"
  },
  "orig_nbformat": 4,
  "vscode": {
   "interpreter": {
    "hash": "b74fd8ec7b01db4657ca4d6d5d723f30a99433329ffa5e7c7f3580de1aebf363"
   }
  }
 },
 "nbformat": 4,
 "nbformat_minor": 2
}
