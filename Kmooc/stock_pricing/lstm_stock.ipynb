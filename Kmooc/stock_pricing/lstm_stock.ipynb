{
 "cells": [
  {
   "cell_type": "code",
   "execution_count": 1,
   "metadata": {},
   "outputs": [],
   "source": [
    "import pandas as pd\n",
    "import numpy as np\n",
    "import matplotlib.pyplot as plt\n",
    "import FinanceDataReader as fdr\n",
    "import seaborn as sns\n",
    "\n",
    "from sklearn.preprocessing import MinMaxScaler, StandardScaler\n",
    "from keras.models import Sequential\n",
    "from keras.layers import LSTM, Dense, Dropout\n",
    "\n",
    "from tensorflow.keras.models import Model, load_model\n",
    "from tensorflow.keras.layers import Input, Dense, LSTM, Activation, BatchNormalization, Dropout\n",
    "from tensorflow.keras import backend as K\n",
    "from tensorflow.keras import regularizers"
   ]
  },
  {
   "cell_type": "code",
   "execution_count": 2,
   "metadata": {},
   "outputs": [],
   "source": [
    "df_samsung = fdr.DataReader('005930')"
   ]
  },
  {
   "cell_type": "code",
   "execution_count": 3,
   "metadata": {},
   "outputs": [],
   "source": [
    "df_samsung.reset_index(inplace=True)"
   ]
  },
  {
   "cell_type": "code",
   "execution_count": 4,
   "metadata": {},
   "outputs": [
    {
     "data": {
      "text/html": [
       "<div>\n",
       "<style scoped>\n",
       "    .dataframe tbody tr th:only-of-type {\n",
       "        vertical-align: middle;\n",
       "    }\n",
       "\n",
       "    .dataframe tbody tr th {\n",
       "        vertical-align: top;\n",
       "    }\n",
       "\n",
       "    .dataframe thead th {\n",
       "        text-align: right;\n",
       "    }\n",
       "</style>\n",
       "<table border=\"1\" class=\"dataframe\">\n",
       "  <thead>\n",
       "    <tr style=\"text-align: right;\">\n",
       "      <th></th>\n",
       "      <th>Date</th>\n",
       "      <th>Open</th>\n",
       "      <th>High</th>\n",
       "      <th>Low</th>\n",
       "      <th>Close</th>\n",
       "      <th>Volume</th>\n",
       "      <th>Change</th>\n",
       "    </tr>\n",
       "  </thead>\n",
       "  <tbody>\n",
       "    <tr>\n",
       "      <th>0</th>\n",
       "      <td>1998-05-08</td>\n",
       "      <td>1213</td>\n",
       "      <td>1232</td>\n",
       "      <td>1200</td>\n",
       "      <td>1210</td>\n",
       "      <td>333190</td>\n",
       "      <td>NaN</td>\n",
       "    </tr>\n",
       "    <tr>\n",
       "      <th>1</th>\n",
       "      <td>1998-05-09</td>\n",
       "      <td>1210</td>\n",
       "      <td>1225</td>\n",
       "      <td>1210</td>\n",
       "      <td>1216</td>\n",
       "      <td>64040</td>\n",
       "      <td>0.004959</td>\n",
       "    </tr>\n",
       "    <tr>\n",
       "      <th>2</th>\n",
       "      <td>1998-05-11</td>\n",
       "      <td>1215</td>\n",
       "      <td>1221</td>\n",
       "      <td>1191</td>\n",
       "      <td>1192</td>\n",
       "      <td>195520</td>\n",
       "      <td>-0.019737</td>\n",
       "    </tr>\n",
       "    <tr>\n",
       "      <th>3</th>\n",
       "      <td>1998-05-12</td>\n",
       "      <td>1182</td>\n",
       "      <td>1200</td>\n",
       "      <td>1156</td>\n",
       "      <td>1177</td>\n",
       "      <td>243650</td>\n",
       "      <td>-0.012584</td>\n",
       "    </tr>\n",
       "    <tr>\n",
       "      <th>4</th>\n",
       "      <td>1998-05-13</td>\n",
       "      <td>1163</td>\n",
       "      <td>1219</td>\n",
       "      <td>1148</td>\n",
       "      <td>1205</td>\n",
       "      <td>359030</td>\n",
       "      <td>0.023789</td>\n",
       "    </tr>\n",
       "    <tr>\n",
       "      <th>...</th>\n",
       "      <td>...</td>\n",
       "      <td>...</td>\n",
       "      <td>...</td>\n",
       "      <td>...</td>\n",
       "      <td>...</td>\n",
       "      <td>...</td>\n",
       "      <td>...</td>\n",
       "    </tr>\n",
       "    <tr>\n",
       "      <th>5995</th>\n",
       "      <td>2022-07-06</td>\n",
       "      <td>57300</td>\n",
       "      <td>57300</td>\n",
       "      <td>56400</td>\n",
       "      <td>56400</td>\n",
       "      <td>16820461</td>\n",
       "      <td>-0.013986</td>\n",
       "    </tr>\n",
       "    <tr>\n",
       "      <th>5996</th>\n",
       "      <td>2022-07-07</td>\n",
       "      <td>56400</td>\n",
       "      <td>58700</td>\n",
       "      <td>56300</td>\n",
       "      <td>58200</td>\n",
       "      <td>21322833</td>\n",
       "      <td>0.031915</td>\n",
       "    </tr>\n",
       "    <tr>\n",
       "      <th>5997</th>\n",
       "      <td>2022-07-08</td>\n",
       "      <td>58600</td>\n",
       "      <td>59300</td>\n",
       "      <td>58200</td>\n",
       "      <td>58700</td>\n",
       "      <td>15339271</td>\n",
       "      <td>0.008591</td>\n",
       "    </tr>\n",
       "    <tr>\n",
       "      <th>5998</th>\n",
       "      <td>2022-07-11</td>\n",
       "      <td>59300</td>\n",
       "      <td>59600</td>\n",
       "      <td>58700</td>\n",
       "      <td>58800</td>\n",
       "      <td>13042624</td>\n",
       "      <td>0.001704</td>\n",
       "    </tr>\n",
       "    <tr>\n",
       "      <th>5999</th>\n",
       "      <td>2022-07-12</td>\n",
       "      <td>58600</td>\n",
       "      <td>58700</td>\n",
       "      <td>58100</td>\n",
       "      <td>58100</td>\n",
       "      <td>9287701</td>\n",
       "      <td>-0.011905</td>\n",
       "    </tr>\n",
       "  </tbody>\n",
       "</table>\n",
       "<p>6000 rows × 7 columns</p>\n",
       "</div>"
      ],
      "text/plain": [
       "           Date   Open   High    Low  Close    Volume    Change\n",
       "0    1998-05-08   1213   1232   1200   1210    333190       NaN\n",
       "1    1998-05-09   1210   1225   1210   1216     64040  0.004959\n",
       "2    1998-05-11   1215   1221   1191   1192    195520 -0.019737\n",
       "3    1998-05-12   1182   1200   1156   1177    243650 -0.012584\n",
       "4    1998-05-13   1163   1219   1148   1205    359030  0.023789\n",
       "...         ...    ...    ...    ...    ...       ...       ...\n",
       "5995 2022-07-06  57300  57300  56400  56400  16820461 -0.013986\n",
       "5996 2022-07-07  56400  58700  56300  58200  21322833  0.031915\n",
       "5997 2022-07-08  58600  59300  58200  58700  15339271  0.008591\n",
       "5998 2022-07-11  59300  59600  58700  58800  13042624  0.001704\n",
       "5999 2022-07-12  58600  58700  58100  58100   9287701 -0.011905\n",
       "\n",
       "[6000 rows x 7 columns]"
      ]
     },
     "execution_count": 4,
     "metadata": {},
     "output_type": "execute_result"
    }
   ],
   "source": [
    "df_samsung['Date'] = pd.to_datetime(df_samsung['Date'])\n",
    "df_samsung"
   ]
  },
  {
   "cell_type": "code",
   "execution_count": 5,
   "metadata": {},
   "outputs": [
    {
     "data": {
      "text/plain": [
       "Open     0\n",
       "High     0\n",
       "Low      0\n",
       "Close    0\n",
       "dtype: int64"
      ]
     },
     "execution_count": 5,
     "metadata": {},
     "output_type": "execute_result"
    }
   ],
   "source": [
    "cols = list(df_samsung)[1:-2]\n",
    "df_for_trainig = df_samsung[cols].astype(float)\n",
    "df_for_trainig.isna().sum()"
   ]
  },
  {
   "cell_type": "code",
   "execution_count": 6,
   "metadata": {},
   "outputs": [],
   "source": [
    "scaler = StandardScaler()\n",
    "scaler = scaler.fit(df_for_trainig)\n",
    "df_for_trainig_scaled = scaler.transform(df_for_trainig)"
   ]
  },
  {
   "cell_type": "code",
   "execution_count": 7,
   "metadata": {},
   "outputs": [
    {
     "data": {
      "text/plain": [
       "((5985, 14, 4), (5985, 1))"
      ]
     },
     "execution_count": 7,
     "metadata": {},
     "output_type": "execute_result"
    }
   ],
   "source": [
    "train_x = []\n",
    "train_y = []\n",
    "\n",
    "n_future = 1\n",
    "n_past = 14\n",
    "\n",
    "for i in range(n_past, len(df_for_trainig_scaled) - n_future):\n",
    "    train_x.append(df_for_trainig_scaled[i - n_past:i, 0:df_for_trainig.shape[1]])\n",
    "    train_y.append(df_for_trainig_scaled[i + n_future - 1:i + n_future, 0])\n",
    "\n",
    "train_x, train_y = np.array(train_x), np.array(train_y)\n",
    "train_x.shape, train_y.shape"
   ]
  },
  {
   "cell_type": "code",
   "execution_count": 26,
   "metadata": {},
   "outputs": [
    {
     "name": "stdout",
     "output_type": "stream",
     "text": [
      "Model: \"model_3\"\n",
      "_________________________________________________________________\n",
      " Layer (type)                Output Shape              Param #   \n",
      "=================================================================\n",
      " input_4 (InputLayer)        [(None, 14, 4)]           0         \n",
      "                                                                 \n",
      " lstm_19 (LSTM)              (None, 14, 200)           164000    \n",
      "                                                                 \n",
      " batch_normalization_9 (Batc  (None, 14, 200)          800       \n",
      " hNormalization)                                                 \n",
      "                                                                 \n",
      " lstm_20 (LSTM)              (None, 14, 200)           320800    \n",
      "                                                                 \n",
      " dropout_8 (Dropout)         (None, 14, 200)           0         \n",
      "                                                                 \n",
      " lstm_21 (LSTM)              (None, 14, 200)           320800    \n",
      "                                                                 \n",
      " batch_normalization_10 (Bat  (None, 14, 200)          800       \n",
      " chNormalization)                                                \n",
      "                                                                 \n",
      " lstm_22 (LSTM)              (None, 14, 200)           320800    \n",
      "                                                                 \n",
      " dropout_9 (Dropout)         (None, 14, 200)           0         \n",
      "                                                                 \n",
      " lstm_23 (LSTM)              (None, 200)               320800    \n",
      "                                                                 \n",
      " batch_normalization_11 (Bat  (None, 200)              800       \n",
      " chNormalization)                                                \n",
      "                                                                 \n",
      " dense_5 (Dense)             (None, 2)                 402       \n",
      "                                                                 \n",
      "=================================================================\n",
      "Total params: 1,450,002\n",
      "Trainable params: 1,448,802\n",
      "Non-trainable params: 1,200\n",
      "_________________________________________________________________\n"
     ]
    }
   ],
   "source": [
    "num_step = 5\n",
    "num_unit = 200\n",
    "\n",
    "input_layer = Input(batch_shape=(None, train_x.shape[1], train_x.shape[2]))\n",
    "\n",
    "layer_lstm1 = LSTM(num_unit, return_sequences=True, recurrent_regularizer=regularizers.l2(0.01))(input_layer)\n",
    "layer_lstm1 = BatchNormalization()(layer_lstm1)\n",
    "\n",
    "layer_lstm2 = LSTM(num_unit, return_sequences=True, recurrent_regularizer=regularizers.l2(0.01))(layer_lstm1)\n",
    "layer_lstm2 = Dropout(0.25)(layer_lstm2)\n",
    "\n",
    "layer_lstm3 = LSTM(num_unit, return_sequences=True, recurrent_regularizer=regularizers.l2(0.01))(layer_lstm2)\n",
    "layer_lstm3 = BatchNormalization()(layer_lstm3)\n",
    "\n",
    "layer_lstm4 = LSTM(num_unit, return_sequences=True, recurrent_regularizer=regularizers.l2(0.01))(layer_lstm3)\n",
    "layer_lstm4 = Dropout(0.25)(layer_lstm4)\n",
    "\n",
    "layer_lstm5 = LSTM(num_unit, recurrent_regularizer=regularizers.l2(0.01))(layer_lstm4)\n",
    "layer_lstm5 = BatchNormalization()(layer_lstm5)\n",
    "\n",
    "output_layer = Dense(2, activation='sigmoid')(layer_lstm5)\n",
    "\n",
    "model = Model(input_layer, output_layer)\n",
    "model.compile(loss='sparse_categorical_crossentropy', optimizer='adam', metrics=['accuracy', 'mse'])\n",
    "model.summary()"
   ]
  },
  {
   "cell_type": "code",
   "execution_count": 10,
   "metadata": {},
   "outputs": [
    {
     "name": "stdout",
     "output_type": "stream",
     "text": [
      "Model: \"sequential_2\"\n",
      "_________________________________________________________________\n",
      " Layer (type)                Output Shape              Param #   \n",
      "=================================================================\n",
      " lstm_6 (LSTM)               (None, 14, 128)           68096     \n",
      "                                                                 \n",
      " lstm_7 (LSTM)               (None, 64)                49408     \n",
      "                                                                 \n",
      " dropout (Dropout)           (None, 64)                0         \n",
      "                                                                 \n",
      " dense (Dense)               (None, 1)                 65        \n",
      "                                                                 \n",
      "=================================================================\n",
      "Total params: 117,569\n",
      "Trainable params: 117,569\n",
      "Non-trainable params: 0\n",
      "_________________________________________________________________\n"
     ]
    }
   ],
   "source": [
    "model = Sequential()\n",
    "model.add(LSTM(128, activation='relu', input_shape=(train_x.shape[1], train_x.shape[2]), return_sequences=True))\n",
    "model.add(LSTM(64, activation='relu', return_sequences=False))\n",
    "# model.add(LSTM(64, activation='relu', return_sequences=False))\n",
    "model.add(Dropout(0.2))\n",
    "model.add(Dense(train_y.shape[1]))\n",
    "\n",
    "model.compile(optimizer='adam', loss='mse')\n",
    "model.summary()"
   ]
  },
  {
   "cell_type": "code",
   "execution_count": 11,
   "metadata": {},
   "outputs": [
    {
     "name": "stdout",
     "output_type": "stream",
     "text": [
      "Epoch 1/10\n",
      "337/337 [==============================] - 6s 12ms/step - loss: 0.0280 - val_loss: 0.0795\n",
      "Epoch 2/10\n",
      "337/337 [==============================] - 4s 10ms/step - loss: 0.0152 - val_loss: 0.0276\n",
      "Epoch 3/10\n",
      "337/337 [==============================] - 4s 11ms/step - loss: 0.0138 - val_loss: 0.0801\n",
      "Epoch 4/10\n",
      "337/337 [==============================] - 4s 11ms/step - loss: 0.0121 - val_loss: 0.0613\n",
      "Epoch 5/10\n",
      "337/337 [==============================] - 4s 11ms/step - loss: 0.0124 - val_loss: 0.1527\n",
      "Epoch 6/10\n",
      "337/337 [==============================] - 4s 11ms/step - loss: 0.0120 - val_loss: 0.0969\n",
      "Epoch 7/10\n",
      "337/337 [==============================] - 4s 11ms/step - loss: 0.0114 - val_loss: 0.0052\n",
      "Epoch 8/10\n",
      "337/337 [==============================] - 4s 11ms/step - loss: 0.0111 - val_loss: 0.0928\n",
      "Epoch 9/10\n",
      "337/337 [==============================] - 4s 11ms/step - loss: 0.0113 - val_loss: 0.0173\n",
      "Epoch 10/10\n",
      "337/337 [==============================] - 3s 10ms/step - loss: 0.0105 - val_loss: 0.0217\n"
     ]
    }
   ],
   "source": [
    "history = model.fit(train_x, train_y, epochs=10, batch_size=16, validation_split=0.1, verbose=1)"
   ]
  },
  {
   "cell_type": "code",
   "execution_count": 13,
   "metadata": {},
   "outputs": [],
   "source": [
    "n_future = 90\n",
    "train_dates = pd.to_datetime(df_samsung['Date'])\n",
    "\n",
    "forecast_period_dates = pd.date_range(list(train_dates)[-1], periods=n_future, freq='1d').tolist()"
   ]
  },
  {
   "cell_type": "code",
   "execution_count": 14,
   "metadata": {},
   "outputs": [
    {
     "name": "stdout",
     "output_type": "stream",
     "text": [
      "3/3 [==============================] - 0s 5ms/step\n"
     ]
    }
   ],
   "source": [
    "forecast = model.predict(train_x[-n_future:])"
   ]
  },
  {
   "cell_type": "code",
   "execution_count": 15,
   "metadata": {},
   "outputs": [],
   "source": [
    "forecast_copies = np.repeat(forecast, df_for_trainig.shape[1], axis=-1)\n",
    "y_pred_future = scaler.inverse_transform(forecast_copies)[:,0]"
   ]
  },
  {
   "cell_type": "code",
   "execution_count": 16,
   "metadata": {},
   "outputs": [],
   "source": [
    "forecast_dates = []\n",
    "\n",
    "for time_i in forecast_period_dates:\n",
    "    forecast_dates.append(time_i.date())"
   ]
  },
  {
   "cell_type": "code",
   "execution_count": 17,
   "metadata": {},
   "outputs": [],
   "source": [
    "df_forecast = pd.DataFrame({'Date':np.array(forecast_dates), 'Open':y_pred_future})\n",
    "df_forecast['Date'] = pd.to_datetime(df_forecast['Date'])"
   ]
  },
  {
   "cell_type": "code",
   "execution_count": 18,
   "metadata": {},
   "outputs": [
    {
     "name": "stderr",
     "output_type": "stream",
     "text": [
      "c:\\Users\\hoon9\\anaconda3\\envs\\main\\lib\\site-packages\\ipykernel_launcher.py:2: SettingWithCopyWarning: \n",
      "A value is trying to be set on a copy of a slice from a DataFrame.\n",
      "Try using .loc[row_indexer,col_indexer] = value instead\n",
      "\n",
      "See the caveats in the documentation: https://pandas.pydata.org/pandas-docs/stable/user_guide/indexing.html#returning-a-view-versus-a-copy\n",
      "  \n"
     ]
    }
   ],
   "source": [
    "original = df_samsung[['Date', 'Open']]\n",
    "original['Date'] = pd.to_datetime(original['Date'])\n",
    "original = original.loc[original['Date'] >= '2020-1-1']"
   ]
  },
  {
   "cell_type": "code",
   "execution_count": 19,
   "metadata": {},
   "outputs": [
    {
     "name": "stderr",
     "output_type": "stream",
     "text": [
      "C:\\Users\\hoon9\\AppData\\Roaming\\Python\\Python37\\site-packages\\seaborn\\_decorators.py:43: FutureWarning: Pass the following variables as keyword args: x, y. From version 0.12, the only valid positional argument will be `data`, and passing other arguments without an explicit keyword will result in an error or misinterpretation.\n",
      "  FutureWarning\n",
      "C:\\Users\\hoon9\\AppData\\Roaming\\Python\\Python37\\site-packages\\seaborn\\_decorators.py:43: FutureWarning: Pass the following variables as keyword args: x, y. From version 0.12, the only valid positional argument will be `data`, and passing other arguments without an explicit keyword will result in an error or misinterpretation.\n",
      "  FutureWarning\n"
     ]
    },
    {
     "data": {
      "text/plain": [
       "<AxesSubplot:xlabel='Date', ylabel='Open'>"
      ]
     },
     "execution_count": 19,
     "metadata": {},
     "output_type": "execute_result"
    },
    {
     "data": {
      "image/png": "[encoded data removed]",
      "text/plain": [
       "<Figure size 432x288 with 1 Axes>"
      ]
     },
     "metadata": {
      "needs_background": "light"
     },
     "output_type": "display_data"
    }
   ],
   "source": [
    "sns.lineplot(original['Date'], original['Open'])\n",
    "sns.lineplot(df_forecast['Date'], df_forecast['Open'])"
   ]
  },
  {
   "cell_type": "code",
   "execution_count": null,
   "metadata": {},
   "outputs": [],
   "source": []
  }
 ],
 "metadata": {
  "kernelspec": {
   "display_name": "Python 3.7.13 ('main')",
   "language": "python",
   "name": "python3"
  },
  "language_info": {
   "codemirror_mode": {
    "name": "ipython",
    "version": 3
   },
   "file_extension": ".py",
   "mimetype": "text/x-python",
   "name": "python",
   "nbconvert_exporter": "python",
   "pygments_lexer": "ipython3",
   "version": "3.7.13"
  },
  "orig_nbformat": 4,
  "vscode": {
   "interpreter": {
    "hash": "bc49fd5d2731a4d8199d7dc100ecc1111b870a573094f789c9614f064b8f1eb2"
   }
  }
 },
 "nbformat": 4,
 "nbformat_minor": 2
}
