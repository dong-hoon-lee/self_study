{
 "cells": [
  {
   "cell_type": "code",
   "execution_count": 18,
   "metadata": {},
   "outputs": [],
   "source": [
    "import tensorflow\n",
    "import pandas as pd\n",
    "import numpy as np\n",
    "import matplotlib.pyplot as plt\n",
    "import os\n",
    "import pickle\n",
    "import seaborn as sns"
   ]
  },
  {
   "cell_type": "code",
   "execution_count": 7,
   "metadata": {},
   "outputs": [],
   "source": [
    "def fetch_cos_value(seq_len, freq=0.01, noise=0.1):\n",
    "    np.random.seed(101)\n",
    "    x = np.arange(0.0, seq_len, 1.0)\n",
    "    return np.cos(2 * np.pi * freq * x) + np.random.uniform(low=noise, high=noise, size=seq_len)"
   ]
  },
  {
   "cell_type": "code",
   "execution_count": 8,
   "metadata": {},
   "outputs": [
    {
     "name": "stdout",
     "output_type": "stream",
     "text": [
      "[ 1.1         0.90901699  0.40901699 -0.20901699 -0.70901699 -0.9\n",
      " -0.70901699 -0.20901699  0.40901699  0.90901699]\n"
     ]
    }
   ],
   "source": [
    "print(fetch_cos_value(10, freq=0.1))"
   ]
  },
  {
   "cell_type": "code",
   "execution_count": 10,
   "metadata": {},
   "outputs": [
    {
     "data": {
      "text/html": [
       "<div>\n",
       "<style scoped>\n",
       "    .dataframe tbody tr th:only-of-type {\n",
       "        vertical-align: middle;\n",
       "    }\n",
       "\n",
       "    .dataframe tbody tr th {\n",
       "        vertical-align: top;\n",
       "    }\n",
       "\n",
       "    .dataframe thead th {\n",
       "        text-align: right;\n",
       "    }\n",
       "</style>\n",
       "<table border=\"1\" class=\"dataframe\">\n",
       "  <thead>\n",
       "    <tr style=\"text-align: right;\">\n",
       "      <th></th>\n",
       "      <th>Open</th>\n",
       "      <th>High</th>\n",
       "      <th>Low</th>\n",
       "      <th>Close</th>\n",
       "      <th>Volume</th>\n",
       "      <th>Change</th>\n",
       "    </tr>\n",
       "    <tr>\n",
       "      <th>Date</th>\n",
       "      <th></th>\n",
       "      <th></th>\n",
       "      <th></th>\n",
       "      <th></th>\n",
       "      <th></th>\n",
       "      <th></th>\n",
       "    </tr>\n",
       "  </thead>\n",
       "  <tbody>\n",
       "    <tr>\n",
       "      <th>1998-05-02</th>\n",
       "      <td>1340</td>\n",
       "      <td>1359</td>\n",
       "      <td>1284</td>\n",
       "      <td>1285</td>\n",
       "      <td>236600</td>\n",
       "      <td>NaN</td>\n",
       "    </tr>\n",
       "    <tr>\n",
       "      <th>1998-05-04</th>\n",
       "      <td>1266</td>\n",
       "      <td>1275</td>\n",
       "      <td>1230</td>\n",
       "      <td>1240</td>\n",
       "      <td>274250</td>\n",
       "      <td>-0.035019</td>\n",
       "    </tr>\n",
       "    <tr>\n",
       "      <th>1998-05-06</th>\n",
       "      <td>1219</td>\n",
       "      <td>1239</td>\n",
       "      <td>1204</td>\n",
       "      <td>1210</td>\n",
       "      <td>312220</td>\n",
       "      <td>-0.024194</td>\n",
       "    </tr>\n",
       "    <tr>\n",
       "      <th>1998-05-07</th>\n",
       "      <td>1213</td>\n",
       "      <td>1245</td>\n",
       "      <td>1210</td>\n",
       "      <td>1233</td>\n",
       "      <td>316361</td>\n",
       "      <td>0.019008</td>\n",
       "    </tr>\n",
       "    <tr>\n",
       "      <th>1998-05-08</th>\n",
       "      <td>1213</td>\n",
       "      <td>1232</td>\n",
       "      <td>1200</td>\n",
       "      <td>1210</td>\n",
       "      <td>333190</td>\n",
       "      <td>-0.018654</td>\n",
       "    </tr>\n",
       "    <tr>\n",
       "      <th>...</th>\n",
       "      <td>...</td>\n",
       "      <td>...</td>\n",
       "      <td>...</td>\n",
       "      <td>...</td>\n",
       "      <td>...</td>\n",
       "      <td>...</td>\n",
       "    </tr>\n",
       "    <tr>\n",
       "      <th>2022-06-30</th>\n",
       "      <td>57200</td>\n",
       "      <td>57600</td>\n",
       "      <td>57000</td>\n",
       "      <td>57000</td>\n",
       "      <td>18915142</td>\n",
       "      <td>-0.017241</td>\n",
       "    </tr>\n",
       "    <tr>\n",
       "      <th>2022-07-01</th>\n",
       "      <td>56900</td>\n",
       "      <td>57500</td>\n",
       "      <td>55900</td>\n",
       "      <td>56200</td>\n",
       "      <td>24982097</td>\n",
       "      <td>-0.014035</td>\n",
       "    </tr>\n",
       "    <tr>\n",
       "      <th>2022-07-04</th>\n",
       "      <td>56100</td>\n",
       "      <td>57400</td>\n",
       "      <td>55700</td>\n",
       "      <td>57100</td>\n",
       "      <td>17807126</td>\n",
       "      <td>0.016014</td>\n",
       "    </tr>\n",
       "    <tr>\n",
       "      <th>2022-07-05</th>\n",
       "      <td>57600</td>\n",
       "      <td>58200</td>\n",
       "      <td>57200</td>\n",
       "      <td>57200</td>\n",
       "      <td>14216539</td>\n",
       "      <td>0.001751</td>\n",
       "    </tr>\n",
       "    <tr>\n",
       "      <th>2022-07-06</th>\n",
       "      <td>57300</td>\n",
       "      <td>57300</td>\n",
       "      <td>56600</td>\n",
       "      <td>57000</td>\n",
       "      <td>9598126</td>\n",
       "      <td>-0.003497</td>\n",
       "    </tr>\n",
       "  </tbody>\n",
       "</table>\n",
       "<p>6000 rows × 6 columns</p>\n",
       "</div>"
      ],
      "text/plain": [
       "             Open   High    Low  Close    Volume    Change\n",
       "Date                                                      \n",
       "1998-05-02   1340   1359   1284   1285    236600       NaN\n",
       "1998-05-04   1266   1275   1230   1240    274250 -0.035019\n",
       "1998-05-06   1219   1239   1204   1210    312220 -0.024194\n",
       "1998-05-07   1213   1245   1210   1233    316361  0.019008\n",
       "1998-05-08   1213   1232   1200   1210    333190 -0.018654\n",
       "...           ...    ...    ...    ...       ...       ...\n",
       "2022-06-30  57200  57600  57000  57000  18915142 -0.017241\n",
       "2022-07-01  56900  57500  55900  56200  24982097 -0.014035\n",
       "2022-07-04  56100  57400  55700  57100  17807126  0.016014\n",
       "2022-07-05  57600  58200  57200  57200  14216539  0.001751\n",
       "2022-07-06  57300  57300  56600  57000   9598126 -0.003497\n",
       "\n",
       "[6000 rows x 6 columns]"
      ]
     },
     "execution_count": 10,
     "metadata": {},
     "output_type": "execute_result"
    }
   ],
   "source": [
    "# 데이터 불러오기\n",
    "\n",
    "import FinanceDataReader as fdr\n",
    "df_samsung = fdr.DataReader('005930')\n",
    "df_samsung"
   ]
  },
  {
   "cell_type": "code",
   "execution_count": 13,
   "metadata": {},
   "outputs": [],
   "source": [
    "def date_obj_to_str(date_obj):\n",
    "    return date_obj.strftime('%Y-%m-%d')\n",
    "\n",
    "def save_pickle(something, path):\n",
    "    if not os.path.exists(os.path.dirname(path)):\n",
    "        os.makedirs(os.path.dirname(path))\n",
    "\n",
    "    with open(path, 'wb') as fh:\n",
    "        pickle.dump(something, fh, pickle.DEFAULT_PROTOCOL)\n",
    "\n",
    "def load_pickle(path):\n",
    "    with open(path, 'rb') as fh:\n",
    "        return pickle.load(fh)\n",
    "\n",
    "def call_stock_price(symbol, from_date, to_date, cache_path=\"./tmp/prices/\"):\n",
    "    assert(from_date <= to_date)\n",
    "    filename = \"{}_{}_{}.pk\".format(symbol, str(from_date), str(to_date))\n",
    "    price_filepath = os.path.join(cache_path, filename)\n",
    "\n",
    "    try:\n",
    "        prices = load_pickle(price_filepath)\n",
    "        print('loaded from', price_filepath)\n",
    "    except IOError:\n",
    "        historic = fdr.DataReader(symbol, start=date_obj_to_str(from_date), end=date_obj_to_str(to_date))\n",
    "        prices = historic['Close'].tolist()\n",
    "        save_pickle(prices, price_filepath)\n",
    "        print('save into', price_filepath)\n",
    "\n",
    "    return prices"
   ]
  },
  {
   "cell_type": "code",
   "execution_count": 15,
   "metadata": {},
   "outputs": [
    {
     "name": "stdout",
     "output_type": "stream",
     "text": [
      "save into ./tmp/prices/GOOG_2020-06-01_2020-06-30.pk\n",
      "[1431.82, 1439.22, 1436.38, 1412.18, 1438.39, 1446.61, 1456.16, 1465.85, 1403.84, 1413.18, 1419.85, 1442.72, 1451.12, 1435.96, 1431.72, 1451.86, 1464.41, 1431.97, 1441.33, 1359.9, 1394.97, 1413.61]\n"
     ]
    }
   ],
   "source": [
    "import datetime\n",
    "\n",
    "print(call_stock_price('GOOG', datetime.date(2020, 6, 1), datetime.date(2020, 6, 30)))"
   ]
  },
  {
   "cell_type": "code",
   "execution_count": 16,
   "metadata": {},
   "outputs": [],
   "source": [
    "def format_dataset(values, temporal_features):\n",
    "    feat_splits = [values[i: i+temporal_features] for i in range(len(values) - temporal_features)]\n",
    "    features = np.vstack(feat_splits)\n",
    "    labels = np.array(values[temporal_features:])\n",
    "\n",
    "    return features, labels"
   ]
  },
  {
   "cell_type": "code",
   "execution_count": 23,
   "metadata": {},
   "outputs": [
    {
     "data": {
      "text/plain": [
       "[<matplotlib.lines.Line2D at 0x1acfe0784c0>]"
      ]
     },
     "execution_count": 23,
     "metadata": {},
     "output_type": "execute_result"
    },
    {
     "data": {
      "image/png": "[encoded data removed]",
      "text/plain": [
       "<Figure size 432x288 with 1 Axes>"
      ]
     },
     "metadata": {
      "needs_background": "light"
     },
     "output_type": "display_data"
    }
   ],
   "source": [
    "np.set_printoptions(precision=2)\n",
    "\n",
    "cos_values = fetch_cos_value(20, freq=0.1)\n",
    "plt.plot(cos_values)"
   ]
  },
  {
   "cell_type": "code",
   "execution_count": 27,
   "metadata": {},
   "outputs": [
    {
     "name": "stdout",
     "output_type": "stream",
     "text": [
      "minibatch_cos_x shape=\n",
      " (15, 5) \n",
      "\n",
      "minibatch_cos_y shape=\n",
      " (15,)\n"
     ]
    }
   ],
   "source": [
    "feature_size = 5\n",
    "minibatch_cos_x, minibatch_cos_y = format_dataset(cos_values, feature_size)\n",
    "print('minibatch_cos_x shape=\\n', minibatch_cos_x.shape,'\\n')\n",
    "print('minibatch_cos_y shape=\\n',minibatch_cos_y.shape)"
   ]
  },
  {
   "cell_type": "code",
   "execution_count": 26,
   "metadata": {},
   "outputs": [
    {
     "data": {
      "text/plain": [
       "array([ 1.1 ,  0.91,  0.41, -0.21, -0.71])"
      ]
     },
     "execution_count": 26,
     "metadata": {},
     "output_type": "execute_result"
    }
   ],
   "source": [
    "minibatch_cos_x[0]"
   ]
  },
  {
   "cell_type": "code",
   "execution_count": 28,
   "metadata": {},
   "outputs": [
    {
     "name": "stdout",
     "output_type": "stream",
     "text": [
      "Observation 0: x=[ 1.1   0.91  0.41 -0.21 -0.71], y=-0.9\n",
      "Observation 1: x=[ 0.91  0.41 -0.21 -0.71 -0.9 ], y=-0.7090169943749475\n",
      "Observation 2: x=[ 0.41 -0.21 -0.71 -0.9  -0.71], y=-0.20901699437494756\n",
      "Observation 3: x=[-0.21 -0.71 -0.9  -0.71 -0.21], y=0.4090169943749472\n",
      "Observation 4: x=[-0.71 -0.9  -0.71 -0.21  0.41], y=0.9090169943749473\n"
     ]
    },
    {
     "data": {
      "image/png": "[encoded data removed]",
      "text/plain": [
       "<Figure size 432x288 with 5 Axes>"
      ]
     },
     "metadata": {
      "needs_background": "light"
     },
     "output_type": "display_data"
    }
   ],
   "source": [
    "samples_to_plot = 5\n",
    "f, axarr = plt.subplots(samples_to_plot, sharex=True)\n",
    "\n",
    "for i in range(samples_to_plot):\n",
    "    features = minibatch_cos_x[i, :]\n",
    "    label = minibatch_cos_y[i]\n",
    "    print(f'Observation {i}: x={features}, y={label}')\n",
    "    plt.subplot(samples_to_plot, 1, i+1)\n",
    "    axarr[i].plot(range(i, feature_size+i), features, '--o')\n",
    "    axarr[i].plot([feature_size+i], label, 'rx')\n",
    "    axarr[i].set_ylim([-1.1, 1.1])\n",
    "\n",
    "plt.xlabel('Days since start of the experiment')\n",
    "axarr[2].set_ylabel('Value of the cos function')\n",
    "axarr[0].set_title('Visualization of some observations: Features(blue) Labels(red)')\n",
    "plt.show()"
   ]
  },
  {
   "cell_type": "code",
   "execution_count": 40,
   "metadata": {},
   "outputs": [
    {
     "name": "stdout",
     "output_type": "stream",
     "text": [
      "loaded from ./tmp/prices/005930_2008-01-01_2022-06-30.pk\n",
      "loaded from ./tmp/prices/000660_2008-01-01_2022-06-30.pk\n",
      "loaded from ./tmp/prices/035420_2008-01-01_2022-06-30.pk\n",
      "loaded from ./tmp/prices/035720_2008-01-01_2022-06-30.pk\n",
      "loaded from ./tmp/prices/105560_2008-01-01_2022-06-30.pk\n"
     ]
    },
    {
     "data": {
      "image/png": "[encoded data removed]",
      "text/plain": [
       "<Figure size 432x288 with 1 Axes>"
      ]
     },
     "metadata": {
      "needs_background": "light"
     },
     "output_type": "display_data"
    }
   ],
   "source": [
    "symbols = {'005930':'삼성전자',\n",
    "           '000660':'SK하이닉스',\n",
    "           '035420':'NAVER',\n",
    "           '035720':'카카오',\n",
    "           '105560':'KB금융'}\n",
    "symbol_list = list(symbols.keys())\n",
    "symbol_name = list(symbols.values())\n",
    "\n",
    "start_date = datetime.date(2008,1,1)\n",
    "end_date = datetime.date(2022,6,30)\n",
    "\n",
    "ax = plt.subplot(1,1,1)\n",
    "for sym in symbol_list:\n",
    "    prices = call_stock_price(sym, start_date, end_date)\n",
    "    ax.plot(range(len(prices)), prices, label=sym)\n",
    "\n",
    "handles, labels = ax.get_legend_handles_labels()\n",
    "ax.legend(handles, labels)\n",
    "plt.xlabel(f'Trading days since {date_obj_to_str(start_date)}')\n",
    "plt.ylabel('Stock price')\n",
    "plt.title('Prices of some stocks')\n",
    "plt.show()"
   ]
  },
  {
   "cell_type": "code",
   "execution_count": 41,
   "metadata": {},
   "outputs": [],
   "source": [
    "def matrix_to_array(m):\n",
    "    return np.asarray(m).reshape(-1)"
   ]
  },
  {
   "cell_type": "code",
   "execution_count": 42,
   "metadata": {},
   "outputs": [],
   "source": [
    "def evaluate_ts(features, y_true, y_pred):\n",
    "    print('Evaluation of predictions:')\n",
    "    print('MSE:', np.mean(np.square(y_true-y_pred)))\n",
    "    print('MAE:', np.mean(np.abs(y_true - y_pred)))\n",
    "\n",
    "    print('Benchmark: if prediction == last feature')\n",
    "    print('MSE:', np.mean(np.square(features[:, -1] - y_true)))\n",
    "    print('MAE', np.mean(np.abs[features[:, -1] - y_true]))\n",
    "\n",
    "    plt.plot(matrix_to_array(y_true), 'b')\n",
    "    plt.plot(matrix_to_array(y_pred), 'r--')\n",
    "    plt.xlabel('Days')\n",
    "    plt.ylabel('Predicted, True values')\n",
    "    plt.title('Real(blue) VS Predicted(red)')\n",
    "    plt.show()\n",
    "\n",
    "    error = np.abs(matrix_to_array(y_pred) - matrix_to_array(y_true))\n",
    "    plt.plot(error, 'r')\n",
    "    fit = np.polyfit(range(len(error)), error, deg=1)\n",
    "    plt.plot(fit[0] * range(len(error)) + fit[1], '--')\n",
    "    plt.xlabel('Days')\n",
    "    plt.ylabel('Prediction error L1 norm')\n",
    "    plt.title('Prediction error')\n",
    "    plt.show()"
   ]
  },
  {
   "cell_type": "code",
   "execution_count": 43,
   "metadata": {},
   "outputs": [],
   "source": [
    "# tensorflow version == 2\n",
    "# tf.compat.v1: version 1과 호환되게 해줌\n",
    "\n",
    "import tensorflow as tf\n",
    "from tensorflow_addons import rnn\n",
    "\n",
    "# 기존 그래프를 삭제하고 reset 시켜 중복되는 것을 방지\n",
    "# tf.compat.v1.reset_default_graph()\n",
    "tf.compat.v1.set_random_seed(101)"
   ]
  },
  {
   "cell_type": "code",
   "execution_count": 44,
   "metadata": {},
   "outputs": [],
   "source": [
    "feat_dimension = 20\n",
    "train_size = 250\n",
    "test_size = 250\n",
    "lr = 0.01\n",
    "optimizer = tf.compat.v1.train.AdamOptimizer\n",
    "n_epocs = 10"
   ]
  },
  {
   "cell_type": "code",
   "execution_count": 46,
   "metadata": {},
   "outputs": [],
   "source": [
    "cos_values = fetch_cos_value(train_size + test_size + feat_dimension)\n",
    "minibatch_cos_x, minibatch_cos_y = format_dataset(cos_values, feat_dimension)\n",
    "train_x = minibatch_cos_x[:train_size, :].astype(np.float32)\n",
    "train_y = minibatch_cos_y[:train_size].reshape((-1, 1)).astype(np.float32)\n",
    "test_x = minibatch_cos_x[train_size:, :].astype(np.float32)\n",
    "test_y = minibatch_cos_y[train_size:].reshape((-1, 1)).astype(np.float32)\n",
    "\n",
    "tf.compat.v1.disable_eager_execution()\n",
    "X_tf = tf.compat.v1.placeholder('float', shape=(None, feat_dimension), name='X')\n",
    "y_tf = tf.compat.v1.placeholder('float', shape=(None, 1), name='y')"
   ]
  },
  {
   "cell_type": "code",
   "execution_count": 47,
   "metadata": {},
   "outputs": [],
   "source": [
    "def regression_ANN(x, weights, biases):\n",
    "    return tf.add(biases, tf.matmul(x, weights))"
   ]
  },
  {
   "cell_type": "code",
   "execution_count": 52,
   "metadata": {},
   "outputs": [],
   "source": [
    "weights = tf.Variable(tf.compat.v1.truncated_normal([feat_dimension, 1], mean=0.0, stddev=1.0), name='weights')\n",
    "biases = tf.Variable(tf.zeros([1,1]), name='biases')\n",
    "\n",
    "y_pred = regression_ANN(X_tf, weights, biases)\n",
    "cost = tf.reduce_mean(tf.square(y_tf - y_pred))\n",
    "train_op = optimizer(lr).minimize(cost)"
   ]
  },
  {
   "cell_type": "code",
   "execution_count": 53,
   "metadata": {},
   "outputs": [
    {
     "data": {
      "text/plain": [
       "<tf.Operation 'Adam_1' type=NoOp>"
      ]
     },
     "execution_count": 53,
     "metadata": {},
     "output_type": "execute_result"
    }
   ],
   "source": [
    "train_op"
   ]
  },
  {
   "cell_type": "code",
   "execution_count": null,
   "metadata": {},
   "outputs": [],
   "source": [
    "with tf.compat.v1.Session() as sess:\n",
    "    sess.run(tf.compat.v1.global_variables_initializer())\n",
    "\n",
    "    for i in range(n_epocs):\n",
    "        train_cost, _ = sess.run([cost, train_op], feed_dict={X_tf: train_x, y_tf})"
   ]
  }
 ],
 "metadata": {
  "kernelspec": {
   "display_name": "Python 3.9.12 ('base')",
   "language": "python",
   "name": "python3"
  },
  "language_info": {
   "codemirror_mode": {
    "name": "ipython",
    "version": 3
   },
   "file_extension": ".py",
   "mimetype": "text/x-python",
   "name": "python",
   "nbconvert_exporter": "python",
   "pygments_lexer": "ipython3",
   "version": "3.9.12"
  },
  "orig_nbformat": 4,
  "vscode": {
   "interpreter": {
    "hash": "b056a34cece55d9706afe7f10f5b4af528272ecab14d2afe7617637df68c8794"
   }
  }
 },
 "nbformat": 4,
 "nbformat_minor": 2
}
