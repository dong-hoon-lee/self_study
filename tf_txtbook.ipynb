{
 "cells": [
  {
   "cell_type": "code",
   "execution_count": 1,
   "metadata": {},
   "outputs": [],
   "source": [
    "import tensorflow as tf\n",
    "import matplotlib.pyplot as plt\n",
    "import numpy as np\n",
    "import keras\n",
    "from sklearn.metrics import roc_auc_score"
   ]
  },
  {
   "cell_type": "code",
   "execution_count": 2,
   "metadata": {},
   "outputs": [],
   "source": [
    "model = keras.Sequential([keras.layers.Dense(units=1, input_shape=[1])])\n",
    "model.compile(optimizer='sgd', loss='mean_squared_error')"
   ]
  },
  {
   "cell_type": "code",
   "execution_count": 3,
   "metadata": {},
   "outputs": [
    {
     "name": "stdout",
     "output_type": "stream",
     "text": [
      "Epoch 1/300\n",
      "1/1 [==============================] - 0s 400ms/step - loss: 13.4164\n",
      "Epoch 2/300\n",
      "1/1 [==============================] - 0s 8ms/step - loss: 10.7867\n",
      "Epoch 3/300\n",
      "1/1 [==============================] - 0s 0s/step - loss: 8.7130\n",
      "Epoch 4/300\n",
      "1/1 [==============================] - 0s 8ms/step - loss: 7.0769\n",
      "Epoch 5/300\n",
      "1/1 [==============================] - 0s 0s/step - loss: 5.7852\n",
      "Epoch 6/300\n",
      "1/1 [==============================] - 0s 8ms/step - loss: 4.7644\n",
      "Epoch 7/300\n",
      "1/1 [==============================] - 0s 8ms/step - loss: 3.9569\n",
      "Epoch 8/300\n",
      "1/1 [==============================] - 0s 8ms/step - loss: 3.3174\n",
      "Epoch 9/300\n",
      "1/1 [==============================] - 0s 0s/step - loss: 2.8100\n",
      "Epoch 10/300\n",
      "1/1 [==============================] - 0s 0s/step - loss: 2.4067\n",
      "Epoch 11/300\n",
      "1/1 [==============================] - 0s 8ms/step - loss: 2.0854\n",
      "Epoch 12/300\n",
      "1/1 [==============================] - 0s 8ms/step - loss: 1.8287\n",
      "Epoch 13/300\n",
      "1/1 [==============================] - 0s 8ms/step - loss: 1.6228\n",
      "Epoch 14/300\n",
      "1/1 [==============================] - 0s 8ms/step - loss: 1.4571\n",
      "Epoch 15/300\n",
      "1/1 [==============================] - 0s 8ms/step - loss: 1.3230\n",
      "Epoch 16/300\n",
      "1/1 [==============================] - 0s 0s/step - loss: 1.2139\n",
      "Epoch 17/300\n",
      "1/1 [==============================] - 0s 8ms/step - loss: 1.1245\n",
      "Epoch 18/300\n",
      "1/1 [==============================] - 0s 8ms/step - loss: 1.0506\n",
      "Epoch 19/300\n",
      "1/1 [==============================] - 0s 0s/step - loss: 0.9891\n",
      "Epoch 20/300\n",
      "1/1 [==============================] - 0s 0s/step - loss: 0.9374\n",
      "Epoch 21/300\n",
      "1/1 [==============================] - 0s 0s/step - loss: 0.8935\n",
      "Epoch 22/300\n",
      "1/1 [==============================] - 0s 8ms/step - loss: 0.8557\n",
      "Epoch 23/300\n",
      "1/1 [==============================] - 0s 8ms/step - loss: 0.8228\n",
      "Epoch 24/300\n",
      "1/1 [==============================] - 0s 0s/step - loss: 0.7939\n",
      "Epoch 25/300\n",
      "1/1 [==============================] - 0s 0s/step - loss: 0.7681\n",
      "Epoch 26/300\n",
      "1/1 [==============================] - 0s 8ms/step - loss: 0.7449\n",
      "Epoch 27/300\n",
      "1/1 [==============================] - 0s 8ms/step - loss: 0.7237\n",
      "Epoch 28/300\n",
      "1/1 [==============================] - 0s 8ms/step - loss: 0.7043\n",
      "Epoch 29/300\n",
      "1/1 [==============================] - 0s 0s/step - loss: 0.6862\n",
      "Epoch 30/300\n",
      "1/1 [==============================] - 0s 8ms/step - loss: 0.6692\n",
      "Epoch 31/300\n",
      "1/1 [==============================] - 0s 8ms/step - loss: 0.6532\n",
      "Epoch 32/300\n",
      "1/1 [==============================] - 0s 8ms/step - loss: 0.6380\n",
      "Epoch 33/300\n",
      "1/1 [==============================] - 0s 8ms/step - loss: 0.6235\n",
      "Epoch 34/300\n",
      "1/1 [==============================] - 0s 0s/step - loss: 0.6096\n",
      "Epoch 35/300\n",
      "1/1 [==============================] - 0s 8ms/step - loss: 0.5963\n",
      "Epoch 36/300\n",
      "1/1 [==============================] - 0s 8ms/step - loss: 0.5833\n",
      "Epoch 37/300\n",
      "1/1 [==============================] - 0s 0s/step - loss: 0.5708\n",
      "Epoch 38/300\n",
      "1/1 [==============================] - 0s 0s/step - loss: 0.5587\n",
      "Epoch 39/300\n",
      "1/1 [==============================] - 0s 8ms/step - loss: 0.5469\n",
      "Epoch 40/300\n",
      "1/1 [==============================] - 0s 8ms/step - loss: 0.5354\n",
      "Epoch 41/300\n",
      "1/1 [==============================] - 0s 8ms/step - loss: 0.5242\n",
      "Epoch 42/300\n",
      "1/1 [==============================] - 0s 0s/step - loss: 0.5133\n",
      "Epoch 43/300\n",
      "1/1 [==============================] - 0s 8ms/step - loss: 0.5026\n",
      "Epoch 44/300\n",
      "1/1 [==============================] - 0s 8ms/step - loss: 0.4922\n",
      "Epoch 45/300\n",
      "1/1 [==============================] - 0s 8ms/step - loss: 0.4820\n",
      "Epoch 46/300\n",
      "1/1 [==============================] - 0s 8ms/step - loss: 0.4720\n",
      "Epoch 47/300\n",
      "1/1 [==============================] - 0s 8ms/step - loss: 0.4623\n",
      "Epoch 48/300\n",
      "1/1 [==============================] - 0s 8ms/step - loss: 0.4527\n",
      "Epoch 49/300\n",
      "1/1 [==============================] - 0s 0s/step - loss: 0.4434\n",
      "Epoch 50/300\n",
      "1/1 [==============================] - 0s 8ms/step - loss: 0.4343\n",
      "Epoch 51/300\n",
      "1/1 [==============================] - 0s 8ms/step - loss: 0.4253\n",
      "Epoch 52/300\n",
      "1/1 [==============================] - 0s 0s/step - loss: 0.4166\n",
      "Epoch 53/300\n",
      "1/1 [==============================] - 0s 0s/step - loss: 0.4080\n",
      "Epoch 54/300\n",
      "1/1 [==============================] - 0s 8ms/step - loss: 0.3996\n",
      "Epoch 55/300\n",
      "1/1 [==============================] - 0s 8ms/step - loss: 0.3914\n",
      "Epoch 56/300\n",
      "1/1 [==============================] - 0s 0s/step - loss: 0.3834\n",
      "Epoch 57/300\n",
      "1/1 [==============================] - 0s 8ms/step - loss: 0.3755\n",
      "Epoch 58/300\n",
      "1/1 [==============================] - 0s 0s/step - loss: 0.3678\n",
      "Epoch 59/300\n",
      "1/1 [==============================] - 0s 0s/step - loss: 0.3602\n",
      "Epoch 60/300\n",
      "1/1 [==============================] - 0s 8ms/step - loss: 0.3528\n",
      "Epoch 61/300\n",
      "1/1 [==============================] - 0s 16ms/step - loss: 0.3456\n",
      "Epoch 62/300\n",
      "1/1 [==============================] - 0s 8ms/step - loss: 0.3385\n",
      "Epoch 63/300\n",
      "1/1 [==============================] - 0s 0s/step - loss: 0.3315\n",
      "Epoch 64/300\n",
      "1/1 [==============================] - 0s 0s/step - loss: 0.3247\n",
      "Epoch 65/300\n",
      "1/1 [==============================] - 0s 0s/step - loss: 0.3180\n",
      "Epoch 66/300\n",
      "1/1 [==============================] - 0s 8ms/step - loss: 0.3115\n",
      "Epoch 67/300\n",
      "1/1 [==============================] - 0s 8ms/step - loss: 0.3051\n",
      "Epoch 68/300\n",
      "1/1 [==============================] - 0s 0s/step - loss: 0.2988\n",
      "Epoch 69/300\n",
      "1/1 [==============================] - 0s 0s/step - loss: 0.2927\n",
      "Epoch 70/300\n",
      "1/1 [==============================] - 0s 8ms/step - loss: 0.2867\n",
      "Epoch 71/300\n",
      "1/1 [==============================] - 0s 8ms/step - loss: 0.2808\n",
      "Epoch 72/300\n",
      "1/1 [==============================] - 0s 8ms/step - loss: 0.2750\n",
      "Epoch 73/300\n",
      "1/1 [==============================] - 0s 8ms/step - loss: 0.2694\n",
      "Epoch 74/300\n",
      "1/1 [==============================] - 0s 8ms/step - loss: 0.2638\n",
      "Epoch 75/300\n",
      "1/1 [==============================] - 0s 8ms/step - loss: 0.2584\n",
      "Epoch 76/300\n",
      "1/1 [==============================] - 0s 0s/step - loss: 0.2531\n",
      "Epoch 77/300\n",
      "1/1 [==============================] - 0s 8ms/step - loss: 0.2479\n",
      "Epoch 78/300\n",
      "1/1 [==============================] - 0s 8ms/step - loss: 0.2428\n",
      "Epoch 79/300\n",
      "1/1 [==============================] - 0s 0s/step - loss: 0.2378\n",
      "Epoch 80/300\n",
      "1/1 [==============================] - 0s 0s/step - loss: 0.2329\n",
      "Epoch 81/300\n",
      "1/1 [==============================] - 0s 8ms/step - loss: 0.2282\n",
      "Epoch 82/300\n",
      "1/1 [==============================] - 0s 0s/step - loss: 0.2235\n",
      "Epoch 83/300\n",
      "1/1 [==============================] - 0s 0s/step - loss: 0.2189\n",
      "Epoch 84/300\n",
      "1/1 [==============================] - 0s 0s/step - loss: 0.2144\n",
      "Epoch 85/300\n",
      "1/1 [==============================] - 0s 8ms/step - loss: 0.2100\n",
      "Epoch 86/300\n",
      "1/1 [==============================] - 0s 16ms/step - loss: 0.2057\n",
      "Epoch 87/300\n",
      "1/1 [==============================] - 0s 8ms/step - loss: 0.2015\n",
      "Epoch 88/300\n",
      "1/1 [==============================] - 0s 0s/step - loss: 0.1973\n",
      "Epoch 89/300\n",
      "1/1 [==============================] - 0s 0s/step - loss: 0.1933\n",
      "Epoch 90/300\n",
      "1/1 [==============================] - 0s 8ms/step - loss: 0.1893\n",
      "Epoch 91/300\n",
      "1/1 [==============================] - 0s 8ms/step - loss: 0.1854\n",
      "Epoch 92/300\n",
      "1/1 [==============================] - 0s 8ms/step - loss: 0.1816\n",
      "Epoch 93/300\n",
      "1/1 [==============================] - 0s 8ms/step - loss: 0.1779\n",
      "Epoch 94/300\n",
      "1/1 [==============================] - 0s 8ms/step - loss: 0.1742\n",
      "Epoch 95/300\n",
      "1/1 [==============================] - 0s 8ms/step - loss: 0.1706\n",
      "Epoch 96/300\n",
      "1/1 [==============================] - 0s 0s/step - loss: 0.1671\n",
      "Epoch 97/300\n",
      "1/1 [==============================] - 0s 0s/step - loss: 0.1637\n",
      "Epoch 98/300\n",
      "1/1 [==============================] - 0s 8ms/step - loss: 0.1603\n",
      "Epoch 99/300\n",
      "1/1 [==============================] - 0s 0s/step - loss: 0.1570\n",
      "Epoch 100/300\n",
      "1/1 [==============================] - 0s 0s/step - loss: 0.1538\n",
      "Epoch 101/300\n",
      "1/1 [==============================] - 0s 0s/step - loss: 0.1507\n",
      "Epoch 102/300\n",
      "1/1 [==============================] - 0s 0s/step - loss: 0.1476\n",
      "Epoch 103/300\n",
      "1/1 [==============================] - 0s 8ms/step - loss: 0.1445\n",
      "Epoch 104/300\n",
      "1/1 [==============================] - 0s 8ms/step - loss: 0.1416\n",
      "Epoch 105/300\n",
      "1/1 [==============================] - 0s 8ms/step - loss: 0.1387\n",
      "Epoch 106/300\n",
      "1/1 [==============================] - 0s 0s/step - loss: 0.1358\n",
      "Epoch 107/300\n",
      "1/1 [==============================] - 0s 0s/step - loss: 0.1330\n",
      "Epoch 108/300\n",
      "1/1 [==============================] - 0s 8ms/step - loss: 0.1303\n",
      "Epoch 109/300\n",
      "1/1 [==============================] - 0s 8ms/step - loss: 0.1276\n",
      "Epoch 110/300\n",
      "1/1 [==============================] - 0s 0s/step - loss: 0.1250\n",
      "Epoch 111/300\n",
      "1/1 [==============================] - 0s 0s/step - loss: 0.1224\n",
      "Epoch 112/300\n",
      "1/1 [==============================] - 0s 8ms/step - loss: 0.1199\n",
      "Epoch 113/300\n",
      "1/1 [==============================] - 0s 0s/step - loss: 0.1174\n",
      "Epoch 114/300\n",
      "1/1 [==============================] - 0s 0s/step - loss: 0.1150\n",
      "Epoch 115/300\n",
      "1/1 [==============================] - 0s 0s/step - loss: 0.1127\n",
      "Epoch 116/300\n",
      "1/1 [==============================] - 0s 8ms/step - loss: 0.1104\n",
      "Epoch 117/300\n",
      "1/1 [==============================] - 0s 0s/step - loss: 0.1081\n",
      "Epoch 118/300\n",
      "1/1 [==============================] - 0s 8ms/step - loss: 0.1059\n",
      "Epoch 119/300\n",
      "1/1 [==============================] - 0s 8ms/step - loss: 0.1037\n",
      "Epoch 120/300\n",
      "1/1 [==============================] - 0s 0s/step - loss: 0.1016\n",
      "Epoch 121/300\n",
      "1/1 [==============================] - 0s 8ms/step - loss: 0.0995\n",
      "Epoch 122/300\n",
      "1/1 [==============================] - 0s 8ms/step - loss: 0.0974\n",
      "Epoch 123/300\n",
      "1/1 [==============================] - 0s 0s/step - loss: 0.0954\n",
      "Epoch 124/300\n",
      "1/1 [==============================] - 0s 8ms/step - loss: 0.0935\n",
      "Epoch 125/300\n",
      "1/1 [==============================] - 0s 0s/step - loss: 0.0915\n",
      "Epoch 126/300\n",
      "1/1 [==============================] - 0s 0s/step - loss: 0.0897\n",
      "Epoch 127/300\n",
      "1/1 [==============================] - 0s 8ms/step - loss: 0.0878\n",
      "Epoch 128/300\n",
      "1/1 [==============================] - 0s 0s/step - loss: 0.0860\n",
      "Epoch 129/300\n",
      "1/1 [==============================] - 0s 0s/step - loss: 0.0843\n",
      "Epoch 130/300\n",
      "1/1 [==============================] - 0s 8ms/step - loss: 0.0825\n",
      "Epoch 131/300\n",
      "1/1 [==============================] - 0s 0s/step - loss: 0.0808\n",
      "Epoch 132/300\n",
      "1/1 [==============================] - 0s 8ms/step - loss: 0.0792\n",
      "Epoch 133/300\n",
      "1/1 [==============================] - 0s 8ms/step - loss: 0.0775\n",
      "Epoch 134/300\n",
      "1/1 [==============================] - 0s 8ms/step - loss: 0.0760\n",
      "Epoch 135/300\n",
      "1/1 [==============================] - 0s 0s/step - loss: 0.0744\n",
      "Epoch 136/300\n",
      "1/1 [==============================] - 0s 0s/step - loss: 0.0729\n",
      "Epoch 137/300\n",
      "1/1 [==============================] - 0s 8ms/step - loss: 0.0714\n",
      "Epoch 138/300\n",
      "1/1 [==============================] - 0s 8ms/step - loss: 0.0699\n",
      "Epoch 139/300\n",
      "1/1 [==============================] - 0s 8ms/step - loss: 0.0685\n",
      "Epoch 140/300\n",
      "1/1 [==============================] - 0s 32ms/step - loss: 0.0671\n",
      "Epoch 141/300\n",
      "1/1 [==============================] - 0s 8ms/step - loss: 0.0657\n",
      "Epoch 142/300\n",
      "1/1 [==============================] - 0s 8ms/step - loss: 0.0643\n",
      "Epoch 143/300\n",
      "1/1 [==============================] - 0s 8ms/step - loss: 0.0630\n",
      "Epoch 144/300\n",
      "1/1 [==============================] - 0s 8ms/step - loss: 0.0617\n",
      "Epoch 145/300\n",
      "1/1 [==============================] - 0s 8ms/step - loss: 0.0604\n",
      "Epoch 146/300\n",
      "1/1 [==============================] - 0s 8ms/step - loss: 0.0592\n",
      "Epoch 147/300\n",
      "1/1 [==============================] - 0s 8ms/step - loss: 0.0580\n",
      "Epoch 148/300\n",
      "1/1 [==============================] - 0s 8ms/step - loss: 0.0568\n",
      "Epoch 149/300\n",
      "1/1 [==============================] - 0s 0s/step - loss: 0.0556\n",
      "Epoch 150/300\n",
      "1/1 [==============================] - 0s 0s/step - loss: 0.0545\n",
      "Epoch 151/300\n",
      "1/1 [==============================] - 0s 8ms/step - loss: 0.0534\n",
      "Epoch 152/300\n",
      "1/1 [==============================] - 0s 8ms/step - loss: 0.0523\n",
      "Epoch 153/300\n",
      "1/1 [==============================] - 0s 8ms/step - loss: 0.0512\n",
      "Epoch 154/300\n",
      "1/1 [==============================] - 0s 16ms/step - loss: 0.0501\n",
      "Epoch 155/300\n",
      "1/1 [==============================] - 0s 8ms/step - loss: 0.0491\n",
      "Epoch 156/300\n",
      "1/1 [==============================] - 0s 16ms/step - loss: 0.0481\n",
      "Epoch 157/300\n",
      "1/1 [==============================] - 0s 8ms/step - loss: 0.0471\n",
      "Epoch 158/300\n",
      "1/1 [==============================] - 0s 8ms/step - loss: 0.0462\n",
      "Epoch 159/300\n",
      "1/1 [==============================] - 0s 8ms/step - loss: 0.0452\n",
      "Epoch 160/300\n",
      "1/1 [==============================] - 0s 8ms/step - loss: 0.0443\n",
      "Epoch 161/300\n",
      "1/1 [==============================] - 0s 8ms/step - loss: 0.0434\n",
      "Epoch 162/300\n",
      "1/1 [==============================] - 0s 8ms/step - loss: 0.0425\n",
      "Epoch 163/300\n",
      "1/1 [==============================] - 0s 8ms/step - loss: 0.0416\n",
      "Epoch 164/300\n",
      "1/1 [==============================] - 0s 8ms/step - loss: 0.0407\n",
      "Epoch 165/300\n",
      "1/1 [==============================] - 0s 0s/step - loss: 0.0399\n",
      "Epoch 166/300\n",
      "1/1 [==============================] - 0s 8ms/step - loss: 0.0391\n",
      "Epoch 167/300\n",
      "1/1 [==============================] - 0s 8ms/step - loss: 0.0383\n",
      "Epoch 168/300\n",
      "1/1 [==============================] - 0s 0s/step - loss: 0.0375\n",
      "Epoch 169/300\n",
      "1/1 [==============================] - 0s 0s/step - loss: 0.0367\n",
      "Epoch 170/300\n",
      "1/1 [==============================] - 0s 8ms/step - loss: 0.0360\n",
      "Epoch 171/300\n",
      "1/1 [==============================] - 0s 8ms/step - loss: 0.0352\n",
      "Epoch 172/300\n",
      "1/1 [==============================] - 0s 8ms/step - loss: 0.0345\n",
      "Epoch 173/300\n",
      "1/1 [==============================] - 0s 8ms/step - loss: 0.0338\n",
      "Epoch 174/300\n",
      "1/1 [==============================] - 0s 0s/step - loss: 0.0331\n",
      "Epoch 175/300\n",
      "1/1 [==============================] - 0s 0s/step - loss: 0.0324\n",
      "Epoch 176/300\n",
      "1/1 [==============================] - 0s 8ms/step - loss: 0.0318\n",
      "Epoch 177/300\n",
      "1/1 [==============================] - 0s 8ms/step - loss: 0.0311\n",
      "Epoch 178/300\n",
      "1/1 [==============================] - 0s 8ms/step - loss: 0.0305\n",
      "Epoch 179/300\n",
      "1/1 [==============================] - 0s 8ms/step - loss: 0.0298\n",
      "Epoch 180/300\n",
      "1/1 [==============================] - 0s 0s/step - loss: 0.0292\n",
      "Epoch 181/300\n",
      "1/1 [==============================] - 0s 8ms/step - loss: 0.0286\n",
      "Epoch 182/300\n",
      "1/1 [==============================] - 0s 8ms/step - loss: 0.0280\n",
      "Epoch 183/300\n",
      "1/1 [==============================] - 0s 8ms/step - loss: 0.0275\n",
      "Epoch 184/300\n",
      "1/1 [==============================] - 0s 8ms/step - loss: 0.0269\n",
      "Epoch 185/300\n",
      "1/1 [==============================] - 0s 8ms/step - loss: 0.0264\n",
      "Epoch 186/300\n",
      "1/1 [==============================] - 0s 0s/step - loss: 0.0258\n",
      "Epoch 187/300\n",
      "1/1 [==============================] - 0s 0s/step - loss: 0.0253\n",
      "Epoch 188/300\n",
      "1/1 [==============================] - 0s 8ms/step - loss: 0.0248\n",
      "Epoch 189/300\n",
      "1/1 [==============================] - 0s 8ms/step - loss: 0.0243\n",
      "Epoch 190/300\n",
      "1/1 [==============================] - 0s 0s/step - loss: 0.0238\n",
      "Epoch 191/300\n",
      "1/1 [==============================] - 0s 0s/step - loss: 0.0233\n",
      "Epoch 192/300\n",
      "1/1 [==============================] - 0s 8ms/step - loss: 0.0228\n",
      "Epoch 193/300\n",
      "1/1 [==============================] - 0s 8ms/step - loss: 0.0223\n",
      "Epoch 194/300\n",
      "1/1 [==============================] - 0s 8ms/step - loss: 0.0219\n",
      "Epoch 195/300\n",
      "1/1 [==============================] - 0s 8ms/step - loss: 0.0214\n",
      "Epoch 196/300\n",
      "1/1 [==============================] - 0s 8ms/step - loss: 0.0210\n",
      "Epoch 197/300\n",
      "1/1 [==============================] - 0s 8ms/step - loss: 0.0205\n",
      "Epoch 198/300\n",
      "1/1 [==============================] - 0s 0s/step - loss: 0.0201\n",
      "Epoch 199/300\n",
      "1/1 [==============================] - 0s 8ms/step - loss: 0.0197\n",
      "Epoch 200/300\n",
      "1/1 [==============================] - 0s 8ms/step - loss: 0.0193\n",
      "Epoch 201/300\n",
      "1/1 [==============================] - 0s 8ms/step - loss: 0.0189\n",
      "Epoch 202/300\n",
      "1/1 [==============================] - 0s 8ms/step - loss: 0.0185\n",
      "Epoch 203/300\n",
      "1/1 [==============================] - 0s 0s/step - loss: 0.0181\n",
      "Epoch 204/300\n",
      "1/1 [==============================] - 0s 8ms/step - loss: 0.0178\n",
      "Epoch 205/300\n",
      "1/1 [==============================] - 0s 8ms/step - loss: 0.0174\n",
      "Epoch 206/300\n",
      "1/1 [==============================] - 0s 0s/step - loss: 0.0170\n",
      "Epoch 207/300\n",
      "1/1 [==============================] - 0s 8ms/step - loss: 0.0167\n",
      "Epoch 208/300\n",
      "1/1 [==============================] - 0s 8ms/step - loss: 0.0164\n",
      "Epoch 209/300\n",
      "1/1 [==============================] - 0s 8ms/step - loss: 0.0160\n",
      "Epoch 210/300\n",
      "1/1 [==============================] - 0s 0s/step - loss: 0.0157\n",
      "Epoch 211/300\n",
      "1/1 [==============================] - 0s 8ms/step - loss: 0.0154\n",
      "Epoch 212/300\n",
      "1/1 [==============================] - 0s 8ms/step - loss: 0.0150\n",
      "Epoch 213/300\n",
      "1/1 [==============================] - 0s 8ms/step - loss: 0.0147\n",
      "Epoch 214/300\n",
      "1/1 [==============================] - 0s 8ms/step - loss: 0.0144\n",
      "Epoch 215/300\n",
      "1/1 [==============================] - 0s 0s/step - loss: 0.0141\n",
      "Epoch 216/300\n",
      "1/1 [==============================] - 0s 0s/step - loss: 0.0138\n",
      "Epoch 217/300\n",
      "1/1 [==============================] - 0s 0s/step - loss: 0.0136\n",
      "Epoch 218/300\n",
      "1/1 [==============================] - 0s 8ms/step - loss: 0.0133\n",
      "Epoch 219/300\n",
      "1/1 [==============================] - 0s 8ms/step - loss: 0.0130\n",
      "Epoch 220/300\n",
      "1/1 [==============================] - 0s 0s/step - loss: 0.0127\n",
      "Epoch 221/300\n",
      "1/1 [==============================] - 0s 16ms/step - loss: 0.0125\n",
      "Epoch 222/300\n",
      "1/1 [==============================] - 0s 8ms/step - loss: 0.0122\n",
      "Epoch 223/300\n",
      "1/1 [==============================] - 0s 8ms/step - loss: 0.0120\n",
      "Epoch 224/300\n",
      "1/1 [==============================] - 0s 8ms/step - loss: 0.0117\n",
      "Epoch 225/300\n",
      "1/1 [==============================] - 0s 16ms/step - loss: 0.0115\n",
      "Epoch 226/300\n",
      "1/1 [==============================] - 0s 8ms/step - loss: 0.0113\n",
      "Epoch 227/300\n",
      "1/1 [==============================] - 0s 8ms/step - loss: 0.0110\n",
      "Epoch 228/300\n",
      "1/1 [==============================] - 0s 0s/step - loss: 0.0108\n",
      "Epoch 229/300\n",
      "1/1 [==============================] - 0s 8ms/step - loss: 0.0106\n",
      "Epoch 230/300\n",
      "1/1 [==============================] - 0s 8ms/step - loss: 0.0104\n",
      "Epoch 231/300\n",
      "1/1 [==============================] - 0s 8ms/step - loss: 0.0101\n",
      "Epoch 232/300\n",
      "1/1 [==============================] - 0s 8ms/step - loss: 0.0099\n",
      "Epoch 233/300\n",
      "1/1 [==============================] - 0s 7ms/step - loss: 0.0097\n",
      "Epoch 234/300\n",
      "1/1 [==============================] - 0s 8ms/step - loss: 0.0095\n",
      "Epoch 235/300\n",
      "1/1 [==============================] - 0s 0s/step - loss: 0.0093\n",
      "Epoch 236/300\n",
      "1/1 [==============================] - 0s 16ms/step - loss: 0.0091\n",
      "Epoch 237/300\n",
      "1/1 [==============================] - 0s 0s/step - loss: 0.0090\n",
      "Epoch 238/300\n",
      "1/1 [==============================] - 0s 8ms/step - loss: 0.0088\n",
      "Epoch 239/300\n",
      "1/1 [==============================] - 0s 0s/step - loss: 0.0086\n",
      "Epoch 240/300\n",
      "1/1 [==============================] - 0s 8ms/step - loss: 0.0084\n",
      "Epoch 241/300\n",
      "1/1 [==============================] - 0s 8ms/step - loss: 0.0082\n",
      "Epoch 242/300\n",
      "1/1 [==============================] - 0s 0s/step - loss: 0.0081\n",
      "Epoch 243/300\n",
      "1/1 [==============================] - 0s 0s/step - loss: 0.0079\n",
      "Epoch 244/300\n",
      "1/1 [==============================] - 0s 8ms/step - loss: 0.0077\n",
      "Epoch 245/300\n",
      "1/1 [==============================] - 0s 8ms/step - loss: 0.0076\n",
      "Epoch 246/300\n",
      "1/1 [==============================] - 0s 8ms/step - loss: 0.0074\n",
      "Epoch 247/300\n",
      "1/1 [==============================] - 0s 8ms/step - loss: 0.0073\n",
      "Epoch 248/300\n",
      "1/1 [==============================] - 0s 8ms/step - loss: 0.0071\n",
      "Epoch 249/300\n",
      "1/1 [==============================] - 0s 8ms/step - loss: 0.0070\n",
      "Epoch 250/300\n",
      "1/1 [==============================] - 0s 0s/step - loss: 0.0068\n",
      "Epoch 251/300\n",
      "1/1 [==============================] - 0s 8ms/step - loss: 0.0067\n",
      "Epoch 252/300\n",
      "1/1 [==============================] - 0s 0s/step - loss: 0.0066\n",
      "Epoch 253/300\n",
      "1/1 [==============================] - 0s 0s/step - loss: 0.0064\n",
      "Epoch 254/300\n",
      "1/1 [==============================] - 0s 0s/step - loss: 0.0063\n",
      "Epoch 255/300\n",
      "1/1 [==============================] - 0s 8ms/step - loss: 0.0062\n",
      "Epoch 256/300\n",
      "1/1 [==============================] - 0s 8ms/step - loss: 0.0060\n",
      "Epoch 257/300\n",
      "1/1 [==============================] - 0s 8ms/step - loss: 0.0059\n",
      "Epoch 258/300\n",
      "1/1 [==============================] - 0s 9ms/step - loss: 0.0058\n",
      "Epoch 259/300\n",
      "1/1 [==============================] - 0s 0s/step - loss: 0.0057\n",
      "Epoch 260/300\n",
      "1/1 [==============================] - 0s 0s/step - loss: 0.0056\n",
      "Epoch 261/300\n",
      "1/1 [==============================] - 0s 8ms/step - loss: 0.0054\n",
      "Epoch 262/300\n",
      "1/1 [==============================] - 0s 8ms/step - loss: 0.0053\n",
      "Epoch 263/300\n",
      "1/1 [==============================] - 0s 0s/step - loss: 0.0052\n",
      "Epoch 264/300\n",
      "1/1 [==============================] - 0s 8ms/step - loss: 0.0051\n",
      "Epoch 265/300\n",
      "1/1 [==============================] - 0s 0s/step - loss: 0.0050\n",
      "Epoch 266/300\n",
      "1/1 [==============================] - 0s 0s/step - loss: 0.0049\n",
      "Epoch 267/300\n",
      "1/1 [==============================] - 0s 8ms/step - loss: 0.0048\n",
      "Epoch 268/300\n",
      "1/1 [==============================] - 0s 8ms/step - loss: 0.0047\n",
      "Epoch 269/300\n",
      "1/1 [==============================] - 0s 8ms/step - loss: 0.0046\n",
      "Epoch 270/300\n",
      "1/1 [==============================] - 0s 8ms/step - loss: 0.0045\n",
      "Epoch 271/300\n",
      "1/1 [==============================] - 0s 8ms/step - loss: 0.0044\n",
      "Epoch 272/300\n",
      "1/1 [==============================] - 0s 8ms/step - loss: 0.0043\n",
      "Epoch 273/300\n",
      "1/1 [==============================] - 0s 8ms/step - loss: 0.0042\n",
      "Epoch 274/300\n",
      "1/1 [==============================] - 0s 16ms/step - loss: 0.0042\n",
      "Epoch 275/300\n",
      "1/1 [==============================] - 0s 8ms/step - loss: 0.0041\n",
      "Epoch 276/300\n",
      "1/1 [==============================] - 0s 8ms/step - loss: 0.0040\n",
      "Epoch 277/300\n",
      "1/1 [==============================] - 0s 8ms/step - loss: 0.0039\n",
      "Epoch 278/300\n",
      "1/1 [==============================] - 0s 8ms/step - loss: 0.0038\n",
      "Epoch 279/300\n",
      "1/1 [==============================] - 0s 8ms/step - loss: 0.0037\n",
      "Epoch 280/300\n",
      "1/1 [==============================] - 0s 8ms/step - loss: 0.0037\n",
      "Epoch 281/300\n",
      "1/1 [==============================] - 0s 24ms/step - loss: 0.0036\n",
      "Epoch 282/300\n",
      "1/1 [==============================] - 0s 8ms/step - loss: 0.0035\n",
      "Epoch 283/300\n",
      "1/1 [==============================] - 0s 0s/step - loss: 0.0034\n",
      "Epoch 284/300\n",
      "1/1 [==============================] - 0s 0s/step - loss: 0.0034\n",
      "Epoch 285/300\n",
      "1/1 [==============================] - 0s 0s/step - loss: 0.0033\n",
      "Epoch 286/300\n",
      "1/1 [==============================] - 0s 8ms/step - loss: 0.0032\n",
      "Epoch 287/300\n",
      "1/1 [==============================] - 0s 16ms/step - loss: 0.0032\n",
      "Epoch 288/300\n",
      "1/1 [==============================] - 0s 8ms/step - loss: 0.0031\n",
      "Epoch 289/300\n",
      "1/1 [==============================] - 0s 0s/step - loss: 0.0030\n",
      "Epoch 290/300\n",
      "1/1 [==============================] - 0s 0s/step - loss: 0.0030\n",
      "Epoch 291/300\n",
      "1/1 [==============================] - 0s 8ms/step - loss: 0.0029\n",
      "Epoch 292/300\n",
      "1/1 [==============================] - 0s 8ms/step - loss: 0.0029\n",
      "Epoch 293/300\n",
      "1/1 [==============================] - 0s 8ms/step - loss: 0.0028\n",
      "Epoch 294/300\n",
      "1/1 [==============================] - 0s 8ms/step - loss: 0.0027\n",
      "Epoch 295/300\n",
      "1/1 [==============================] - 0s 0s/step - loss: 0.0027\n",
      "Epoch 296/300\n",
      "1/1 [==============================] - 0s 8ms/step - loss: 0.0026\n",
      "Epoch 297/300\n",
      "1/1 [==============================] - 0s 8ms/step - loss: 0.0026\n",
      "Epoch 298/300\n",
      "1/1 [==============================] - 0s 8ms/step - loss: 0.0025\n",
      "Epoch 299/300\n",
      "1/1 [==============================] - 0s 8ms/step - loss: 0.0025\n",
      "Epoch 300/300\n",
      "1/1 [==============================] - 0s 8ms/step - loss: 0.0024\n"
     ]
    },
    {
     "data": {
      "text/plain": [
       "<keras.callbacks.History at 0x22da28c3580>"
      ]
     },
     "execution_count": 3,
     "metadata": {},
     "output_type": "execute_result"
    }
   ],
   "source": [
    "x = np.array([-1.0, 0.0, 1.0, 2.0, 3.0, 4.0])\n",
    "y = np.array([-3.0, -1.0, 1.0, 3.0, 5.0, 7.0])\n",
    "\n",
    "model.fit(x, y, epochs=300)"
   ]
  },
  {
   "cell_type": "code",
   "execution_count": 4,
   "metadata": {},
   "outputs": [
    {
     "name": "stdout",
     "output_type": "stream",
     "text": [
      "1/1 [==============================] - 0s 290ms/step\n"
     ]
    },
    {
     "data": {
      "text/plain": [
       "array([[18.856396]], dtype=float32)"
      ]
     },
     "execution_count": 4,
     "metadata": {},
     "output_type": "execute_result"
    }
   ],
   "source": [
    "model.predict([10.0])"
   ]
  },
  {
   "cell_type": "code",
   "execution_count": 5,
   "metadata": {},
   "outputs": [],
   "source": [
    "fashion_mnist = tf.keras.datasets.fashion_mnist\n",
    "(train_img, train_label), (test_img, test_label) = fashion_mnist.load_data()"
   ]
  },
  {
   "cell_type": "code",
   "execution_count": 6,
   "metadata": {},
   "outputs": [
    {
     "data": {
      "text/plain": [
       "(array([9, 0, 0, ..., 3, 0, 5], dtype=uint8),\n",
       " array([9, 2, 1, ..., 8, 1, 5], dtype=uint8))"
      ]
     },
     "execution_count": 6,
     "metadata": {},
     "output_type": "execute_result"
    }
   ],
   "source": [
    "train_label, test_label"
   ]
  },
  {
   "cell_type": "code",
   "execution_count": 7,
   "metadata": {},
   "outputs": [
    {
     "data": {
      "text/plain": [
       "<matplotlib.image.AxesImage at 0x22da9c194e0>"
      ]
     },
     "execution_count": 7,
     "metadata": {},
     "output_type": "execute_result"
    },
    {
     "data": {
      "image/png": "[encoded data removed]",
      "text/plain": [
       "<Figure size 432x288 with 1 Axes>"
      ]
     },
     "metadata": {
      "needs_background": "light"
     },
     "output_type": "display_data"
    }
   ],
   "source": [
    "plt.imshow(train_img[1])"
   ]
  },
  {
   "cell_type": "code",
   "execution_count": 8,
   "metadata": {},
   "outputs": [],
   "source": [
    "model = keras.Sequential([\n",
    "    keras.layers.Flatten(input_shape=(28, 28)),\n",
    "    keras.layers.Dense(128, activation=tf.nn.relu),\n",
    "    keras.layers.Dense(10, activation=tf.nn.softmax)\n",
    "])"
   ]
  },
  {
   "cell_type": "code",
   "execution_count": 9,
   "metadata": {},
   "outputs": [
    {
     "name": "stdout",
     "output_type": "stream",
     "text": [
      "input to softmax function: [[1. 3. 4. 2.]]\n",
      "output of softmax function: [[0.0320586  0.23688282 0.64391426 0.08714432]]\n",
      "sum of outputs: 1.0\n",
      "class with highest probability: 2\n"
     ]
    }
   ],
   "source": [
    "inputs = np.array([[1.0, 3.0, 4.0, 2.0]])\n",
    "inputs = tf.convert_to_tensor(inputs)\n",
    "print(f'input to softmax function: {inputs.numpy()}')\n",
    "\n",
    "outputs = tf.keras.activations.softmax(inputs)\n",
    "print(f'output of softmax function: {outputs.numpy()}')\n",
    "\n",
    "sum = tf.reduce_sum(outputs)\n",
    "print(f'sum of outputs: {sum}')\n",
    "\n",
    "pred = np.argmax(outputs)\n",
    "print(f'class with highest probability: {pred}')"
   ]
  },
  {
   "cell_type": "code",
   "execution_count": 10,
   "metadata": {},
   "outputs": [
    {
     "name": "stdout",
     "output_type": "stream",
     "text": [
      "Epoch 1/5\n",
      "1875/1875 [==============================] - 5s 2ms/step - loss: 4.2162 - accuracy: 0.6813\n",
      "Epoch 2/5\n",
      "1875/1875 [==============================] - 6s 3ms/step - loss: 0.7371 - accuracy: 0.7153\n",
      "Epoch 3/5\n",
      "1875/1875 [==============================] - 6s 3ms/step - loss: 0.6344 - accuracy: 0.7443\n",
      "Epoch 4/5\n",
      "1875/1875 [==============================] - 5s 3ms/step - loss: 0.5904 - accuracy: 0.7733\n",
      "Epoch 5/5\n",
      "1875/1875 [==============================] - 4s 2ms/step - loss: 0.5260 - accuracy: 0.8127\n"
     ]
    },
    {
     "data": {
      "text/plain": [
       "<keras.callbacks.History at 0x22db2131600>"
      ]
     },
     "execution_count": 10,
     "metadata": {},
     "output_type": "execute_result"
    }
   ],
   "source": [
    "model.compile(\n",
    "    optimizer=tf.optimizers.Adam(),\n",
    "    loss='sparse_categorical_crossentropy',\n",
    "    metrics=['accuracy']\n",
    ")\n",
    "\n",
    "model.fit(train_img, train_label, epochs=5)"
   ]
  },
  {
   "cell_type": "code",
   "execution_count": 11,
   "metadata": {},
   "outputs": [
    {
     "name": "stdout",
     "output_type": "stream",
     "text": [
      "313/313 [==============================] - 1s 2ms/step - loss: 0.5552 - accuracy: 0.8112\n"
     ]
    },
    {
     "data": {
      "text/plain": [
       "[0.5552379488945007, 0.8112000226974487]"
      ]
     },
     "execution_count": 11,
     "metadata": {},
     "output_type": "execute_result"
    }
   ],
   "source": [
    "model.evaluate(test_img, test_label)"
   ]
  },
  {
   "cell_type": "code",
   "execution_count": 14,
   "metadata": {},
   "outputs": [
    {
     "name": "stdout",
     "output_type": "stream",
     "text": [
      "Epoch 1/5\n",
      "1875/1875 [==============================] - 11s 6ms/step - loss: 0.8850\n",
      "Epoch 2/5\n",
      "1875/1875 [==============================] - 11s 6ms/step - loss: 0.5493\n",
      "Epoch 3/5\n",
      "1875/1875 [==============================] - 11s 6ms/step - loss: 0.4895\n",
      "Epoch 4/5\n",
      "1875/1875 [==============================] - 11s 6ms/step - loss: 0.4566\n",
      "Epoch 5/5\n",
      "1875/1875 [==============================] - 10s 5ms/step - loss: 0.4364\n"
     ]
    },
    {
     "data": {
      "text/plain": [
       "<keras.callbacks.History at 0x22da9bc2440>"
      ]
     },
     "execution_count": 14,
     "metadata": {},
     "output_type": "execute_result"
    }
   ],
   "source": [
    "train_img = train_img/255.0\n",
    "test_img = test_img/255.0\n",
    "\n",
    "# callback class 실행\n",
    "callbacks = myCallback()\n",
    "\n",
    "model = tf.keras.models.Sequential([\n",
    "    tf.keras.layers.Flatten(),\n",
    "    tf.keras.layers.Dense(512, activation=tf.nn.relu),\n",
    "    tf.keras.layers.Dense(10, activation=tf.nn.softmax)\n",
    "])\n",
    "\n",
    "model.compile(optimizer='adam', loss='sparse_categorical_crossentropy')\n",
    "model.fit(train_img, train_label, epochs=5, callbacks=[callbacks])"
   ]
  },
  {
   "cell_type": "code",
   "execution_count": 13,
   "metadata": {},
   "outputs": [],
   "source": [
    "class myCallback(tf.keras.callbacks.Callback):\n",
    "    def on_epoch_enc(self, epoch, logs={}):\n",
    "        if(logs.get('loss')<0.4):\n",
    "            print('\\nLoss is low so cancelling training!')\n",
    "            self.model.stop_training=True"
   ]
  },
  {
   "cell_type": "code",
   "execution_count": null,
   "metadata": {},
   "outputs": [],
   "source": [
    "model = tf.keras.models.Sequential([\n",
    "    tf.keras.layers.Conv2D(64, (3,3), activation='relu', input_shape=(28, 28, 1)),      # (64, (3,3)): 64 filters size of 3*3\n",
    "    tf.keras.layers.MaxPool2D(2,2),\n",
    "    tf.keras.layers.Conv2D(64, (3,3), activation='relu'),\n",
    "    tf.keras.layers.MaxPool2D(2,2),\n",
    "    tf.keras.layers.Flatten(),\n",
    "    tf.keras.layers.Dense(128, activation='relu'),      # dense layer: connects input and output\n",
    "    tf.keras.layers.Dense(10, activation='softmax')\n",
    "])"
   ]
  },
  {
   "cell_type": "code",
   "execution_count": 15,
   "metadata": {},
   "outputs": [
    {
     "name": "stdout",
     "output_type": "stream",
     "text": [
      "Model: \"sequential_2\"\n",
      "_________________________________________________________________\n",
      " Layer (type)                Output Shape              Param #   \n",
      "=================================================================\n",
      " flatten_1 (Flatten)         (32, 784)                 0         \n",
      "                                                                 \n",
      " dense_3 (Dense)             (32, 512)                 401920    \n",
      "                                                                 \n",
      " dense_4 (Dense)             (32, 10)                  5130      \n",
      "                                                                 \n",
      "=================================================================\n",
      "Total params: 407,050\n",
      "Trainable params: 407,050\n",
      "Non-trainable params: 0\n",
      "_________________________________________________________________\n"
     ]
    }
   ],
   "source": [
    "model.summary()\n",
    "\n",
    "# it is important to look at 'Output Shape' column\n",
    "# 4th line, (None, 5, 5, 64): 64 images size of 5*5"
   ]
  },
  {
   "cell_type": "code",
   "execution_count": 16,
   "metadata": {},
   "outputs": [
    {
     "data": {
      "text/plain": [
       "array([9, 2, 1, 1, 6, 1, 4, 6, 5, 7, 4, 5, 7, 3, 4, 1, 2, 4, 8, 0, 2, 5,\n",
       "       7, 9, 1, 4, 6, 0, 9, 3, 8, 8, 3, 3, 8, 0, 7, 5, 7, 9, 6, 1, 3, 7,\n",
       "       6, 7, 2, 1, 2, 2, 4, 4, 5, 8, 2, 2, 8, 4, 8, 0, 7, 7, 8, 5, 1, 1,\n",
       "       2, 3, 9, 8, 7, 0, 2, 6, 2, 3, 1, 2, 8, 4, 1, 8, 5, 9, 5, 0, 3, 2,\n",
       "       0, 6, 5, 3, 6, 7, 1, 8, 0, 1, 4, 2], dtype=uint8)"
      ]
     },
     "execution_count": 16,
     "metadata": {},
     "output_type": "execute_result"
    }
   ],
   "source": [
    "test_label[:100]"
   ]
  },
  {
   "cell_type": "code",
   "execution_count": null,
   "metadata": {},
   "outputs": [
    {
     "name": "stdout",
     "output_type": "stream",
     "text": [
      "1/1 [==============================] - 0s 47ms/step\n",
      "1/1 [==============================] - 0s 13ms/step\n",
      "1/1 [==============================] - 0s 15ms/step\n",
      "1/1 [==============================] - 0s 13ms/step\n",
      "1/1 [==============================] - 0s 14ms/step\n",
      "1/1 [==============================] - 0s 13ms/step\n",
      "1/1 [==============================] - 0s 13ms/step\n",
      "1/1 [==============================] - 0s 13ms/step\n",
      "1/1 [==============================] - 0s 13ms/step\n",
      "1/1 [==============================] - 0s 12ms/step\n",
      "1/1 [==============================] - 0s 12ms/step\n",
      "1/1 [==============================] - 0s 13ms/step\n"
     ]
    },
    {
     "data": {
      "image/png": "[encoded data removed]",
      "text/plain": [
       "<Figure size 432x288 with 12 Axes>"
      ]
     },
     "metadata": {
      "needs_background": "light"
     },
     "output_type": "display_data"
    }
   ],
   "source": [
    "import matplotlib.pyplot as plt\n",
    "from tensorflow.keras import models\n",
    "\n",
    "f, axarr = plt.subplots(3,4)\n",
    "\n",
    "first_img = 0\n",
    "second_img = 23\n",
    "third_img = 1\n",
    "conv_num = 0\n",
    "\n",
    "layer_outputs = [layer.output for layer in model.layers]\n",
    "activation_model = tf.keras.models.Model(inputs=model.input, outputs=layer_outputs)\n",
    "\n",
    "for x in range(0,4):\n",
    "    f1 = activation_model.predict(test_img[first_img].reshape(1, 28, 28, 1))[x]\n",
    "    axarr[0,x].imshow(f1[0, :, :, conv_num], cmap='inferno')\n",
    "    axarr[0,x].grid(False)\n",
    "\n",
    "    f2 = activation_model.predict(test_img[second_img].reshape(1, 28, 28, 1))[x]\n",
    "    axarr[1,x].imshow(f2[0, :, :, conv_num], cmap='inferno')\n",
    "    axarr[1,x].grid(False)\n",
    "\n",
    "    f3 = activation_model.predict(test_img[third_img].reshape(1, 28, 28, 1))[x]\n",
    "    axarr[2,x].imshow(f3[0, :, :, conv_num], cmap='inferno')\n",
    "    axarr[2,x].grid(False)"
   ]
  },
  {
   "cell_type": "code",
   "execution_count": 17,
   "metadata": {},
   "outputs": [],
   "source": [
    "from scipy import misc\n",
    "ascent_img = misc.ascent()"
   ]
  },
  {
   "cell_type": "code",
   "execution_count": 18,
   "metadata": {},
   "outputs": [
    {
     "data": {
      "image/png": "[encoded data removed]",
      "text/plain": [
       "<Figure size 432x288 with 1 Axes>"
      ]
     },
     "metadata": {
      "needs_background": "light"
     },
     "output_type": "display_data"
    }
   ],
   "source": [
    "plt.grid(False)\n",
    "plt.gray()\n",
    "plt.axis('off')\n",
    "plt.imshow(ascent_img)\n",
    "plt.show()"
   ]
  },
  {
   "cell_type": "code",
   "execution_count": 19,
   "metadata": {},
   "outputs": [],
   "source": [
    "import numpy as np\n",
    "\n",
    "img_transformed = np.copy(ascent_img)\n",
    "\n",
    "# get dimensions of img\n",
    "size_x = img_transformed.shape[0]\n",
    "size_y = img_transformed.shape[1]\n",
    "\n",
    "filter = [[0, 1, 0], [1, -4, 1], [0, 1, 0]]\n",
    "weight = 1"
   ]
  },
  {
   "cell_type": "code",
   "execution_count": 20,
   "metadata": {},
   "outputs": [],
   "source": [
    "from tensorflow.keras.preprocessing.image import ImageDataGenerator"
   ]
  },
  {
   "cell_type": "code",
   "execution_count": 28,
   "metadata": {},
   "outputs": [],
   "source": [
    "model = tf.keras.models.Sequential([\n",
    "    tf.keras.layers.Conv2D(16, (3,3), activation='relu', input_shape=(300, 300, 3)),\n",
    "    tf.keras.layers.MaxPool2D(2, 2),\n",
    "    tf.keras.layers.Conv2D(32, (3,3), activation='relu'),\n",
    "    tf.keras.layers.MaxPool2D(2,2),\n",
    "    tf.keras.layers.Conv2D(64, (3,3), activation='relu'),\n",
    "    tf.keras.layers.MaxPool2D(2,2),\n",
    "    tf.keras.layers.Flatten(),\n",
    "    tf.keras.layers.Dense(512, activation='relu'),\n",
    "    tf.keras.layers.Dense(1, activation='sigmoid')\n",
    "])"
   ]
  },
  {
   "cell_type": "code",
   "execution_count": 30,
   "metadata": {},
   "outputs": [
    {
     "name": "stdout",
     "output_type": "stream",
     "text": [
      "Model: \"sequential_3\"\n",
      "_________________________________________________________________\n",
      " Layer (type)                Output Shape              Param #   \n",
      "=================================================================\n",
      " conv2d (Conv2D)             (None, 298, 298, 16)      448       \n",
      "                                                                 \n",
      " max_pooling2d (MaxPooling2D  (None, 149, 149, 16)     0         \n",
      " )                                                               \n",
      "                                                                 \n",
      " conv2d_1 (Conv2D)           (None, 147, 147, 32)      4640      \n",
      "                                                                 \n",
      " max_pooling2d_1 (MaxPooling  (None, 73, 73, 32)       0         \n",
      " 2D)                                                             \n",
      "                                                                 \n",
      " conv2d_2 (Conv2D)           (None, 71, 71, 64)        18496     \n",
      "                                                                 \n",
      " max_pooling2d_2 (MaxPooling  (None, 35, 35, 64)       0         \n",
      " 2D)                                                             \n",
      "                                                                 \n",
      " flatten_2 (Flatten)         (None, 78400)             0         \n",
      "                                                                 \n",
      " dense_5 (Dense)             (None, 512)               40141312  \n",
      "                                                                 \n",
      " dense_6 (Dense)             (None, 1)                 513       \n",
      "                                                                 \n",
      "=================================================================\n",
      "Total params: 40,165,409\n",
      "Trainable params: 40,165,409\n",
      "Non-trainable params: 0\n",
      "_________________________________________________________________\n"
     ]
    }
   ],
   "source": [
    "model.summary()"
   ]
  },
  {
   "cell_type": "code",
   "execution_count": 31,
   "metadata": {},
   "outputs": [
    {
     "name": "stderr",
     "output_type": "stream",
     "text": [
      "c:\\Users\\hoon9\\AppData\\Local\\Programs\\Python\\Python310\\lib\\site-packages\\keras\\optimizers\\optimizer_v2\\rmsprop.py:135: UserWarning: The `lr` argument is deprecated, use `learning_rate` instead.\n",
      "  super(RMSprop, self).__init__(name, **kwargs)\n"
     ]
    }
   ],
   "source": [
    "from tensorflow.keras.optimizers import RMSprop\n",
    "\n",
    "model.compile(loss='binary_crossentropy',\n",
    "optimizer=RMSprop(lr=0.001),\n",
    "metrics=['accuracy'])"
   ]
  },
  {
   "cell_type": "markdown",
   "metadata": {},
   "source": [
    "### 이수안 컴퓨터연구소 강의"
   ]
  },
  {
   "cell_type": "markdown",
   "metadata": {},
   "source": [
    "#### datatype 정의"
   ]
  },
  {
   "cell_type": "code",
   "execution_count": 15,
   "metadata": {},
   "outputs": [
    {
     "name": "stdout",
     "output_type": "stream",
     "text": [
      "tf.Tensor(2, shape=(), dtype=int32)\n"
     ]
    }
   ],
   "source": [
    "i = tf.constant(2)\n",
    "print(i)"
   ]
  },
  {
   "cell_type": "code",
   "execution_count": 16,
   "metadata": {},
   "outputs": [
    {
     "name": "stdout",
     "output_type": "stream",
     "text": [
      "tf.Tensor(2.0, shape=(), dtype=float32)\n"
     ]
    }
   ],
   "source": [
    "f = tf.constant(2.)\n",
    "print(f)"
   ]
  },
  {
   "cell_type": "code",
   "execution_count": 17,
   "metadata": {},
   "outputs": [
    {
     "name": "stdout",
     "output_type": "stream",
     "text": [
      "tf.Tensor(2.0, shape=(), dtype=float16)\n"
     ]
    }
   ],
   "source": [
    "f16 = tf.constant(2., dtype=tf.float16)\n",
    "print(f16)"
   ]
  },
  {
   "cell_type": "code",
   "execution_count": 18,
   "metadata": {},
   "outputs": [
    {
     "name": "stdout",
     "output_type": "stream",
     "text": [
      "tf.Tensor(2.0, shape=(), dtype=float32)\n"
     ]
    }
   ],
   "source": [
    "# tf.cast: dtype 변환\n",
    "f32 = tf.cast(f16, tf.float32)\n",
    "print(f32)"
   ]
  },
  {
   "cell_type": "markdown",
   "metadata": {},
   "source": [
    "#### Dense layer\n",
    "- fully connected layer(완전연결층)\n",
    "- 노드 수(유닛 수), activation function 등 지정\n",
    "- name을 통해 레이어간 구분 가능\n",
    "- 가중치 초기화(kernel initializer)\n",
    "    - 보통 가중치의 초기값으로 0에 가까운 무작위 값 사용"
   ]
  },
  {
   "cell_type": "code",
   "execution_count": 19,
   "metadata": {},
   "outputs": [
    {
     "data": {
      "text/plain": [
       "<keras.layers.core.dense.Dense at 0x22da9b965c0>"
      ]
     },
     "execution_count": 19,
     "metadata": {},
     "output_type": "execute_result"
    }
   ],
   "source": [
    "tf.keras.layers.Dense(10, activation='softmax', name='Dense Layer')"
   ]
  },
  {
   "cell_type": "code",
   "execution_count": 20,
   "metadata": {},
   "outputs": [
    {
     "data": {
      "text/plain": [
       "<keras.layers.core.dense.Dense at 0x22da9b96f20>"
      ]
     },
     "execution_count": 20,
     "metadata": {},
     "output_type": "execute_result"
    }
   ],
   "source": [
    "tf.keras.layers.Dense(10, kernel_initializer='he_normal', name='Dense Layer')"
   ]
  },
  {
   "cell_type": "markdown",
   "metadata": {},
   "source": [
    "- Flatten: 배치 크기(or 데이터 크기)를 제외하고 데이터를 1차원으로 펼치는 작업\n",
    "    - e.g) (128, 3, 2, 2) -> (128, 12)"
   ]
  },
  {
   "cell_type": "markdown",
   "metadata": {},
   "source": [
    "- Sequential: 모델을 순차적인 구조로 진행할 때 사용"
   ]
  },
  {
   "cell_type": "code",
   "execution_count": 21,
   "metadata": {},
   "outputs": [],
   "source": [
    "from tensorflow.keras.layers import Dense, Input, Flatten\n",
    "from tensorflow.keras.models import Sequential, Model\n",
    "from tensorflow.keras.utils import plot_model"
   ]
  },
  {
   "cell_type": "code",
   "execution_count": 22,
   "metadata": {},
   "outputs": [
    {
     "name": "stdout",
     "output_type": "stream",
     "text": [
      "You must install pydot (`pip install pydot`) and install graphviz (see instructions at https://graphviz.gitlab.io/download/) for plot_model/model_to_dot to work.\n"
     ]
    }
   ],
   "source": [
    "model = Sequential([\n",
    "    Input(shape=(28, 28)),\n",
    "    Dense(300, activation='relu'),\n",
    "    Dense(100, activation='relu'),\n",
    "    Dense(10, activation='softmax')\n",
    "])\n",
    "\n",
    "plot_model(model)"
   ]
  },
  {
   "cell_type": "markdown",
   "metadata": {},
   "source": [
    "#### 함수형 API로 nn 생성"
   ]
  },
  {
   "cell_type": "code",
   "execution_count": 23,
   "metadata": {},
   "outputs": [
    {
     "name": "stdout",
     "output_type": "stream",
     "text": [
      "Model: \"model\"\n",
      "_________________________________________________________________\n",
      " Layer (type)                Output Shape              Param #   \n",
      "=================================================================\n",
      " input_2 (InputLayer)        [(None, 28, 28, 1)]       0         \n",
      "                                                                 \n",
      " flatten_2 (Flatten)         (None, 784)               0         \n",
      "                                                                 \n",
      " dense_8 (Dense)             (None, 300)               235500    \n",
      "                                                                 \n",
      " dense_9 (Dense)             (None, 100)               30100     \n",
      "                                                                 \n",
      " dense_10 (Dense)            (None, 10)                1010      \n",
      "                                                                 \n",
      "=================================================================\n",
      "Total params: 266,610\n",
      "Trainable params: 266,610\n",
      "Non-trainable params: 0\n",
      "_________________________________________________________________\n"
     ]
    }
   ],
   "source": [
    "inputs = Input(shape=(28, 28, 1))\n",
    "x = Flatten(input_shape=(28, 28, 1))(inputs)\n",
    "x = Dense(300, activation='relu')(x)\n",
    "x = Dense(100, activation='relu')(x)\n",
    "x = Dense(10, activation='softmax')(x)\n",
    "\n",
    "model = Model(inputs=inputs, outputs=x)\n",
    "model.summary()"
   ]
  },
  {
   "cell_type": "code",
   "execution_count": 24,
   "metadata": {},
   "outputs": [
    {
     "name": "stdout",
     "output_type": "stream",
     "text": [
      "You must install pydot (`pip install pydot`) and install graphviz (see instructions at https://graphviz.gitlab.io/download/) for plot_model/model_to_dot to work.\n"
     ]
    }
   ],
   "source": [
    "plot_model(model)"
   ]
  },
  {
   "cell_type": "code",
   "execution_count": 25,
   "metadata": {},
   "outputs": [
    {
     "name": "stdout",
     "output_type": "stream",
     "text": [
      "Model: \"model_1\"\n",
      "__________________________________________________________________________________________________\n",
      " Layer (type)                   Output Shape         Param #     Connected to                     \n",
      "==================================================================================================\n",
      " input_3 (InputLayer)           [(None, 10, 10)]     0           []                               \n",
      "                                                                                                  \n",
      " dense_11 (Dense)               (None, 10, 100)      1100        ['input_3[0][0]']                \n",
      "                                                                                                  \n",
      " dense_12 (Dense)               (None, 10, 10)       1010        ['dense_11[0][0]']               \n",
      "                                                                                                  \n",
      " dense_13 (Dense)               (None, 10, 1)        11          ['dense_12[0][0]']               \n",
      "                                                                                                  \n",
      " dense_14 (Dense)               (None, 10, 1)        11          ['dense_12[0][0]']               \n",
      "                                                                                                  \n",
      "==================================================================================================\n",
      "Total params: 2,132\n",
      "Trainable params: 2,132\n",
      "Non-trainable params: 0\n",
      "__________________________________________________________________________________________________\n"
     ]
    }
   ],
   "source": [
    "input = Input(shape=(10, 10))\n",
    "hidden1 = Dense(100, activation='relu')(input)\n",
    "hidden2 = Dense(10, activation='relu')(hidden1)\n",
    "output = Dense(1, activation='sigmoid')(hidden2)\n",
    "sub_out = Dense(1, )(hidden2)\n",
    "\n",
    "model = Model(inputs=[input], outputs=[output, sub_out])\n",
    "model.summary()"
   ]
  },
  {
   "cell_type": "markdown",
   "metadata": {},
   "source": [
    "### Subclassing(서브클래싱)\n",
    "- 커스터마이징에 최적화된 방법\n",
    "- Model class 상속받아 Model이 포함하는 기능 사용 가능\n",
    "    - fit(), evaluate(), predict()...\n",
    "    - save(), load()\n",
    "- 주로 call() 메소드 안에서 원하는 계산 가능\n",
    "    - for, if, 저수준 연산 등"
   ]
  },
  {
   "cell_type": "code",
   "execution_count": 26,
   "metadata": {},
   "outputs": [],
   "source": [
    "class MyModel(Model):\n",
    "    def __init__(self, units=30, activation='relu', **kwargs):\n",
    "        super(MyModel, self).__init__(**kwargs)\n",
    "        self.dense_1 = Dense(300, activation=activation)\n",
    "        self.dense_2 = Dense(100, activation=activation)\n",
    "        self.dense_3 = Dense(units, activation=activation)\n",
    "        self.output = Dense(10, activation='softmax')\n",
    "\n",
    "    def call(self, inputs):\n",
    "        x = self.dense_1(inputs)\n",
    "        x = self.dense_2(x)\n",
    "        x = self.dense_3(x)\n",
    "        x = self.output(x)\n",
    "        return x"
   ]
  },
  {
   "cell_type": "markdown",
   "metadata": {},
   "source": [
    "### 모델 가중치 확인"
   ]
  },
  {
   "cell_type": "code",
   "execution_count": 27,
   "metadata": {},
   "outputs": [
    {
     "name": "stdout",
     "output_type": "stream",
     "text": [
      "Model: \"model_2\"\n",
      "_________________________________________________________________\n",
      " Layer (type)                Output Shape              Param #   \n",
      "=================================================================\n",
      " input_4 (InputLayer)        [(None, 28, 28, 1)]       0         \n",
      "                                                                 \n",
      " flatten_3 (Flatten)         (None, 784)               0         \n",
      "                                                                 \n",
      " dense_15 (Dense)            (None, 300)               235500    \n",
      "                                                                 \n",
      " dense_16 (Dense)            (None, 100)               30100     \n",
      "                                                                 \n",
      " dense_17 (Dense)            (None, 10)                1010      \n",
      "                                                                 \n",
      "=================================================================\n",
      "Total params: 266,610\n",
      "Trainable params: 266,610\n",
      "Non-trainable params: 0\n",
      "_________________________________________________________________\n"
     ]
    }
   ],
   "source": [
    "inputs = Input(shape=(28, 28, 1))\n",
    "x = Flatten(input_shape=(28, 28, 1))(inputs)\n",
    "x = Dense(300, activation='relu')(x)\n",
    "x = Dense(100, activation='relu')(x)\n",
    "x = Dense(10, activation='softmax')(x)\n",
    "\n",
    "model = Model(inputs=inputs, outputs=x)\n",
    "model.summary()"
   ]
  },
  {
   "cell_type": "markdown",
   "metadata": {},
   "source": [
    "#### 모델 안에 있는 layer에 접근"
   ]
  },
  {
   "cell_type": "code",
   "execution_count": 28,
   "metadata": {},
   "outputs": [
    {
     "data": {
      "text/plain": [
       "[<keras.engine.input_layer.InputLayer at 0x22da9b96e60>,\n",
       " <keras.layers.reshaping.flatten.Flatten at 0x22da9b96800>,\n",
       " <keras.layers.core.dense.Dense at 0x22dacdba830>,\n",
       " <keras.layers.core.dense.Dense at 0x22dacdc2410>,\n",
       " <keras.layers.core.dense.Dense at 0x22dacdc2770>]"
      ]
     },
     "execution_count": 28,
     "metadata": {},
     "output_type": "execute_result"
    }
   ],
   "source": [
    "model.layers"
   ]
  },
  {
   "cell_type": "code",
   "execution_count": 29,
   "metadata": {},
   "outputs": [
    {
     "data": {
      "text/plain": [
       "'dense_15'"
      ]
     },
     "execution_count": 29,
     "metadata": {},
     "output_type": "execute_result"
    }
   ],
   "source": [
    "layer_2 = model.layers[2]\n",
    "layer_2.name"
   ]
  },
  {
   "cell_type": "code",
   "execution_count": 31,
   "metadata": {},
   "outputs": [
    {
     "data": {
      "text/plain": [
       "True"
      ]
     },
     "execution_count": 31,
     "metadata": {},
     "output_type": "execute_result"
    }
   ],
   "source": [
    "# layer 가져오기\n",
    "model.get_layer('dense_15') is layer_2"
   ]
  },
  {
   "cell_type": "code",
   "execution_count": 32,
   "metadata": {},
   "outputs": [
    {
     "name": "stdout",
     "output_type": "stream",
     "text": [
      "(784, 300)\n",
      "(300,)\n"
     ]
    }
   ],
   "source": [
    "weights, biases = layer_2.get_weights()\n",
    "print(weights.shape)    # (number of input weights, number of output weights)\n",
    "print(biases.shape)"
   ]
  },
  {
   "cell_type": "code",
   "execution_count": 33,
   "metadata": {},
   "outputs": [
    {
     "name": "stdout",
     "output_type": "stream",
     "text": [
      "0.008051373\n"
     ]
    }
   ],
   "source": [
    "print(weights[700,200])"
   ]
  },
  {
   "cell_type": "code",
   "execution_count": 34,
   "metadata": {},
   "outputs": [
    {
     "name": "stdout",
     "output_type": "stream",
     "text": [
      "[0. 0. 0. 0. 0. 0. 0. 0. 0. 0. 0. 0. 0. 0. 0. 0. 0. 0. 0. 0. 0. 0. 0. 0.\n",
      " 0. 0. 0. 0. 0. 0. 0. 0. 0. 0. 0. 0. 0. 0. 0. 0. 0. 0. 0. 0. 0. 0. 0. 0.\n",
      " 0. 0. 0. 0. 0. 0. 0. 0. 0. 0. 0. 0. 0. 0. 0. 0. 0. 0. 0. 0. 0. 0. 0. 0.\n",
      " 0. 0. 0. 0. 0. 0. 0. 0. 0. 0. 0. 0. 0. 0. 0. 0. 0. 0. 0. 0. 0. 0. 0. 0.\n",
      " 0. 0. 0. 0. 0. 0. 0. 0. 0. 0. 0. 0. 0. 0. 0. 0. 0. 0. 0. 0. 0. 0. 0. 0.\n",
      " 0. 0. 0. 0. 0. 0. 0. 0. 0. 0. 0. 0. 0. 0. 0. 0. 0. 0. 0. 0. 0. 0. 0. 0.\n",
      " 0. 0. 0. 0. 0. 0. 0. 0. 0. 0. 0. 0. 0. 0. 0. 0. 0. 0. 0. 0. 0. 0. 0. 0.\n",
      " 0. 0. 0. 0. 0. 0. 0. 0. 0. 0. 0. 0. 0. 0. 0. 0. 0. 0. 0. 0. 0. 0. 0. 0.\n",
      " 0. 0. 0. 0. 0. 0. 0. 0. 0. 0. 0. 0. 0. 0. 0. 0. 0. 0. 0. 0. 0. 0. 0. 0.\n",
      " 0. 0. 0. 0. 0. 0. 0. 0. 0. 0. 0. 0. 0. 0. 0. 0. 0. 0. 0. 0. 0. 0. 0. 0.\n",
      " 0. 0. 0. 0. 0. 0. 0. 0. 0. 0. 0. 0. 0. 0. 0. 0. 0. 0. 0. 0. 0. 0. 0. 0.\n",
      " 0. 0. 0. 0. 0. 0. 0. 0. 0. 0. 0. 0. 0. 0. 0. 0. 0. 0. 0. 0. 0. 0. 0. 0.\n",
      " 0. 0. 0. 0. 0. 0. 0. 0. 0. 0. 0. 0.]\n"
     ]
    }
   ],
   "source": [
    "print(biases)"
   ]
  },
  {
   "cell_type": "markdown",
   "metadata": {},
   "source": [
    "### Model Compile\n",
    "- 모델을 구상한 후, 사용할 loss function, optimizer 지정"
   ]
  },
  {
   "cell_type": "code",
   "execution_count": 35,
   "metadata": {},
   "outputs": [],
   "source": [
    "model.compile(loss='sparse_categorical_crossentropy',\n",
    "              optimizer='sgd',\n",
    "              metrics=['accuracy'])"
   ]
  },
  {
   "cell_type": "markdown",
   "metadata": {},
   "source": [
    "### Backpropagation(오차역전파)\n",
    "- forward(정방향) 연산을 통해 loss value구함\n",
    "- 각 layer별로 역전파 학습을 위해 중간값 저장\n",
    "- 최종 layer(output)부터 반대로 돌아가면서 layer별로 저장된 값을 이용해 학습 파라미터(weight, bias) 갱신"
   ]
  },
  {
   "cell_type": "code",
   "execution_count": 36,
   "metadata": {},
   "outputs": [],
   "source": [
    "import tensorflow as tf\n",
    "from tensorflow.keras.datasets.mnist import load_data\n",
    "from tensorflow.keras.models import Sequential\n",
    "from tensorflow.keras import models\n",
    "from tensorflow.keras.layers import Dense, Flatten, Input\n",
    "from tensorflow.keras.utils import to_categorical, plot_model\n",
    "\n",
    "from sklearn.model_selection import train_test_split\n",
    "import numpy as np\n",
    "import matplotlib.pyplot as plt\n",
    "\n",
    "plt.style.use('seaborn-white')"
   ]
  },
  {
   "cell_type": "code",
   "execution_count": 37,
   "metadata": {},
   "outputs": [],
   "source": [
    "tf.random.set_seed(42)\n",
    "\n",
    "(x_train_full, y_train_full), (x_test, y_test) = load_data(path='mnits.npz')\n",
    "\n",
    "x_train, x_val, y_train, y_val = train_test_split(x_train_full, y_train_full, test_size=0.3, random_state=42)"
   ]
  },
  {
   "cell_type": "code",
   "execution_count": 38,
   "metadata": {},
   "outputs": [],
   "source": [
    "num_x_train = x_train.shape[0]\n",
    "num_x_val = x_val.shape[0]\n",
    "num_x_test = x_test.shape[0]"
   ]
  },
  {
   "cell_type": "code",
   "execution_count": 39,
   "metadata": {},
   "outputs": [
    {
     "data": {
      "image/png": "[encoded data removed]",
      "text/plain": [
       "<Figure size 1080x216 with 5 Axes>"
      ]
     },
     "metadata": {},
     "output_type": "display_data"
    }
   ],
   "source": [
    "num_sample = 5\n",
    "random_idx = np.random.randint(60000, size=num_sample)\n",
    "\n",
    "plt.figure(figsize=(15,3))\n",
    "for i, idx in enumerate(random_idx):\n",
    "    img = x_train_full[idx, :]\n",
    "    label = y_train_full[idx]\n",
    "\n",
    "    plt.subplot(1, len(random_idx), i+1)\n",
    "    plt.imshow(img)\n",
    "    plt.title(f'index: {idx}, label: {label}')"
   ]
  },
  {
   "cell_type": "code",
   "execution_count": 40,
   "metadata": {},
   "outputs": [],
   "source": [
    "# normalization\n",
    "x_train = x_train/255.\n",
    "x_val = x_val/255.\n",
    "x_test = x_test/255.\n",
    "\n",
    "y_train = to_categorical(y_train)\n",
    "y_val = to_categorical(y_val)\n",
    "y_test = to_categorical(y_test)"
   ]
  },
  {
   "cell_type": "markdown",
   "metadata": {},
   "source": [
    "### 모델 구성(Sequential)"
   ]
  },
  {
   "cell_type": "code",
   "execution_count": 41,
   "metadata": {},
   "outputs": [
    {
     "name": "stdout",
     "output_type": "stream",
     "text": [
      "Model: \"sequential_4\"\n",
      "_________________________________________________________________\n",
      " Layer (type)                Output Shape              Param #   \n",
      "=================================================================\n",
      " flatten_4 (Flatten)         (None, 784)               0         \n",
      "                                                                 \n",
      " dense_18 (Dense)            (None, 100)               78500     \n",
      "                                                                 \n",
      " dense_19 (Dense)            (None, 64)                6464      \n",
      "                                                                 \n",
      " dense_20 (Dense)            (None, 32)                2080      \n",
      "                                                                 \n",
      " dense_21 (Dense)            (None, 10)                330       \n",
      "                                                                 \n",
      "=================================================================\n",
      "Total params: 87,374\n",
      "Trainable params: 87,374\n",
      "Non-trainable params: 0\n",
      "_________________________________________________________________\n"
     ]
    }
   ],
   "source": [
    "model = Sequential([\n",
    "    Input(shape=(28, 28)),\n",
    "    Flatten(input_shape=(28,28)),\n",
    "    Dense(100, activation='relu'),\n",
    "    Dense(64, activation='relu'),\n",
    "    Dense(32, activation='relu'),\n",
    "    Dense(10, activation='softmax')\n",
    "])\n",
    "\n",
    "model.summary()"
   ]
  },
  {
   "cell_type": "markdown",
   "metadata": {},
   "source": [
    "### 모델 컴파일 및 학습"
   ]
  },
  {
   "cell_type": "code",
   "execution_count": 42,
   "metadata": {},
   "outputs": [],
   "source": [
    "# metrics custom\n",
    "from sklearn.metrics import roc_auc_score\n",
    "\n",
    "def auc_score(y_true, y_pred):\n",
    "    auc_score = roc_auc_score(y_true, y_pred)\n",
    "    return auc_score"
   ]
  },
  {
   "cell_type": "code",
   "execution_count": 43,
   "metadata": {},
   "outputs": [],
   "source": [
    "model.compile(\n",
    "    loss='categorical_crossentropy',\n",
    "    optimizer='sgd',\n",
    "    metrics=[tf.keras.metrics.CategoricalAccuracy(), tf.keras.metrics.AUC()]\n",
    ")"
   ]
  },
  {
   "cell_type": "code",
   "execution_count": 44,
   "metadata": {},
   "outputs": [
    {
     "name": "stdout",
     "output_type": "stream",
     "text": [
      "Epoch 1/50\n",
      "329/329 [==============================] - 3s 5ms/step - loss: 1.7198 - categorical_accuracy: 0.5275 - auc: 0.8581 - val_loss: 0.9676 - val_categorical_accuracy: 0.7706 - val_auc: 0.9659\n",
      "Epoch 2/50\n",
      "329/329 [==============================] - 2s 5ms/step - loss: 0.6761 - categorical_accuracy: 0.8254 - auc: 0.9794 - val_loss: 0.5317 - val_categorical_accuracy: 0.8493 - val_auc: 0.9851\n",
      "Epoch 3/50\n",
      "329/329 [==============================] - 2s 5ms/step - loss: 0.4527 - categorical_accuracy: 0.8745 - auc: 0.9879 - val_loss: 0.4035 - val_categorical_accuracy: 0.8846 - val_auc: 0.9895\n",
      "Epoch 4/50\n",
      "329/329 [==============================] - 1s 5ms/step - loss: 0.3811 - categorical_accuracy: 0.8922 - auc: 0.9901 - val_loss: 0.3923 - val_categorical_accuracy: 0.8818 - val_auc: 0.9892\n",
      "Epoch 5/50\n",
      "329/329 [==============================] - 2s 5ms/step - loss: 0.3432 - categorical_accuracy: 0.9017 - auc: 0.9914 - val_loss: 0.3367 - val_categorical_accuracy: 0.9026 - val_auc: 0.9914\n",
      "Epoch 6/50\n",
      "329/329 [==============================] - 2s 5ms/step - loss: 0.3172 - categorical_accuracy: 0.9095 - auc: 0.9923 - val_loss: 0.3028 - val_categorical_accuracy: 0.9136 - val_auc: 0.9924\n",
      "Epoch 7/50\n",
      "329/329 [==============================] - 1s 4ms/step - loss: 0.2977 - categorical_accuracy: 0.9153 - auc: 0.9930 - val_loss: 0.2880 - val_categorical_accuracy: 0.9167 - val_auc: 0.9930\n",
      "Epoch 8/50\n",
      "329/329 [==============================] - 1s 4ms/step - loss: 0.2818 - categorical_accuracy: 0.9194 - auc: 0.9935 - val_loss: 0.3013 - val_categorical_accuracy: 0.9124 - val_auc: 0.9925\n",
      "Epoch 9/50\n",
      "329/329 [==============================] - 1s 4ms/step - loss: 0.2686 - categorical_accuracy: 0.9227 - auc: 0.9940 - val_loss: 0.2636 - val_categorical_accuracy: 0.9237 - val_auc: 0.9938\n",
      "Epoch 10/50\n",
      "329/329 [==============================] - 2s 5ms/step - loss: 0.2561 - categorical_accuracy: 0.9270 - auc: 0.9943 - val_loss: 0.2683 - val_categorical_accuracy: 0.9222 - val_auc: 0.9937\n",
      "Epoch 11/50\n",
      "329/329 [==============================] - 2s 5ms/step - loss: 0.2446 - categorical_accuracy: 0.9297 - auc: 0.9948 - val_loss: 0.2486 - val_categorical_accuracy: 0.9289 - val_auc: 0.9944\n",
      "Epoch 12/50\n",
      "329/329 [==============================] - 1s 4ms/step - loss: 0.2340 - categorical_accuracy: 0.9344 - auc: 0.9951 - val_loss: 0.2346 - val_categorical_accuracy: 0.9306 - val_auc: 0.9948\n",
      "Epoch 13/50\n",
      "329/329 [==============================] - 1s 4ms/step - loss: 0.2244 - categorical_accuracy: 0.9364 - auc: 0.9954 - val_loss: 0.2389 - val_categorical_accuracy: 0.9296 - val_auc: 0.9946\n",
      "Epoch 14/50\n",
      "329/329 [==============================] - 1s 4ms/step - loss: 0.2155 - categorical_accuracy: 0.9386 - auc: 0.9958 - val_loss: 0.2428 - val_categorical_accuracy: 0.9278 - val_auc: 0.9944\n",
      "Epoch 15/50\n",
      "329/329 [==============================] - 1s 4ms/step - loss: 0.2073 - categorical_accuracy: 0.9402 - auc: 0.9960 - val_loss: 0.2134 - val_categorical_accuracy: 0.9374 - val_auc: 0.9955\n",
      "Epoch 16/50\n",
      "329/329 [==============================] - 1s 5ms/step - loss: 0.1990 - categorical_accuracy: 0.9426 - auc: 0.9963 - val_loss: 0.2072 - val_categorical_accuracy: 0.9397 - val_auc: 0.9958\n",
      "Epoch 17/50\n",
      "329/329 [==============================] - 1s 4ms/step - loss: 0.1911 - categorical_accuracy: 0.9445 - auc: 0.9964 - val_loss: 0.2035 - val_categorical_accuracy: 0.9413 - val_auc: 0.9958\n",
      "Epoch 18/50\n",
      "329/329 [==============================] - 1s 4ms/step - loss: 0.1843 - categorical_accuracy: 0.9472 - auc: 0.9967 - val_loss: 0.1942 - val_categorical_accuracy: 0.9431 - val_auc: 0.9961\n",
      "Epoch 19/50\n",
      "329/329 [==============================] - 1s 4ms/step - loss: 0.1778 - categorical_accuracy: 0.9487 - auc: 0.9969 - val_loss: 0.1911 - val_categorical_accuracy: 0.9444 - val_auc: 0.9961\n",
      "Epoch 20/50\n",
      "329/329 [==============================] - 1s 4ms/step - loss: 0.1715 - categorical_accuracy: 0.9505 - auc: 0.9970 - val_loss: 0.1841 - val_categorical_accuracy: 0.9462 - val_auc: 0.9963\n",
      "Epoch 21/50\n",
      "329/329 [==============================] - 1s 4ms/step - loss: 0.1656 - categorical_accuracy: 0.9520 - auc: 0.9972 - val_loss: 0.1814 - val_categorical_accuracy: 0.9471 - val_auc: 0.9964\n",
      "Epoch 22/50\n",
      "329/329 [==============================] - 1s 4ms/step - loss: 0.1602 - categorical_accuracy: 0.9542 - auc: 0.9974 - val_loss: 0.1758 - val_categorical_accuracy: 0.9487 - val_auc: 0.9965\n",
      "Epoch 23/50\n",
      "329/329 [==============================] - 1s 4ms/step - loss: 0.1553 - categorical_accuracy: 0.9553 - auc: 0.9975 - val_loss: 0.1769 - val_categorical_accuracy: 0.9488 - val_auc: 0.9964\n",
      "Epoch 24/50\n",
      "329/329 [==============================] - 1s 4ms/step - loss: 0.1504 - categorical_accuracy: 0.9566 - auc: 0.9976 - val_loss: 0.1680 - val_categorical_accuracy: 0.9528 - val_auc: 0.9967\n",
      "Epoch 25/50\n",
      "329/329 [==============================] - 1s 4ms/step - loss: 0.1457 - categorical_accuracy: 0.9580 - auc: 0.9977 - val_loss: 0.1725 - val_categorical_accuracy: 0.9503 - val_auc: 0.9965\n",
      "Epoch 26/50\n",
      "329/329 [==============================] - 2s 5ms/step - loss: 0.1415 - categorical_accuracy: 0.9588 - auc: 0.9978 - val_loss: 0.1617 - val_categorical_accuracy: 0.9536 - val_auc: 0.9968\n",
      "Epoch 27/50\n",
      "329/329 [==============================] - 1s 4ms/step - loss: 0.1372 - categorical_accuracy: 0.9602 - auc: 0.9979 - val_loss: 0.1595 - val_categorical_accuracy: 0.9543 - val_auc: 0.9969\n",
      "Epoch 28/50\n",
      "329/329 [==============================] - 1s 4ms/step - loss: 0.1332 - categorical_accuracy: 0.9613 - auc: 0.9980 - val_loss: 0.1594 - val_categorical_accuracy: 0.9548 - val_auc: 0.9969\n",
      "Epoch 29/50\n",
      "329/329 [==============================] - 1s 4ms/step - loss: 0.1297 - categorical_accuracy: 0.9624 - auc: 0.9981 - val_loss: 0.1644 - val_categorical_accuracy: 0.9518 - val_auc: 0.9968\n",
      "Epoch 30/50\n",
      "329/329 [==============================] - 1s 4ms/step - loss: 0.1262 - categorical_accuracy: 0.9631 - auc: 0.9982 - val_loss: 0.1528 - val_categorical_accuracy: 0.9567 - val_auc: 0.9969\n",
      "Epoch 31/50\n",
      "329/329 [==============================] - 1s 4ms/step - loss: 0.1226 - categorical_accuracy: 0.9639 - auc: 0.9983 - val_loss: 0.1588 - val_categorical_accuracy: 0.9543 - val_auc: 0.9969\n",
      "Epoch 32/50\n",
      "329/329 [==============================] - 1s 4ms/step - loss: 0.1195 - categorical_accuracy: 0.9654 - auc: 0.9983 - val_loss: 0.1488 - val_categorical_accuracy: 0.9574 - val_auc: 0.9971\n",
      "Epoch 33/50\n",
      "329/329 [==============================] - 1s 4ms/step - loss: 0.1166 - categorical_accuracy: 0.9661 - auc: 0.9984 - val_loss: 0.1434 - val_categorical_accuracy: 0.9591 - val_auc: 0.9973\n",
      "Epoch 34/50\n",
      "329/329 [==============================] - 1s 4ms/step - loss: 0.1132 - categorical_accuracy: 0.9670 - auc: 0.9984 - val_loss: 0.1422 - val_categorical_accuracy: 0.9585 - val_auc: 0.9973\n",
      "Epoch 35/50\n",
      "329/329 [==============================] - 1s 4ms/step - loss: 0.1107 - categorical_accuracy: 0.9675 - auc: 0.9984 - val_loss: 0.1397 - val_categorical_accuracy: 0.9599 - val_auc: 0.9972\n",
      "Epoch 36/50\n",
      "329/329 [==============================] - 1s 4ms/step - loss: 0.1080 - categorical_accuracy: 0.9682 - auc: 0.9985 - val_loss: 0.1385 - val_categorical_accuracy: 0.9604 - val_auc: 0.9973\n",
      "Epoch 37/50\n",
      "329/329 [==============================] - 1s 4ms/step - loss: 0.1052 - categorical_accuracy: 0.9692 - auc: 0.9986 - val_loss: 0.1424 - val_categorical_accuracy: 0.9590 - val_auc: 0.9972\n",
      "Epoch 38/50\n",
      "329/329 [==============================] - 1s 4ms/step - loss: 0.1027 - categorical_accuracy: 0.9699 - auc: 0.9986 - val_loss: 0.1514 - val_categorical_accuracy: 0.9552 - val_auc: 0.9969\n",
      "Epoch 39/50\n",
      "329/329 [==============================] - 1s 4ms/step - loss: 0.1006 - categorical_accuracy: 0.9713 - auc: 0.9987 - val_loss: 0.1340 - val_categorical_accuracy: 0.9618 - val_auc: 0.9974\n",
      "Epoch 40/50\n",
      "329/329 [==============================] - 1s 4ms/step - loss: 0.0982 - categorical_accuracy: 0.9716 - auc: 0.9987 - val_loss: 0.1409 - val_categorical_accuracy: 0.9594 - val_auc: 0.9973\n",
      "Epoch 41/50\n",
      "329/329 [==============================] - 1s 4ms/step - loss: 0.0960 - categorical_accuracy: 0.9720 - auc: 0.9987 - val_loss: 0.1291 - val_categorical_accuracy: 0.9626 - val_auc: 0.9976\n",
      "Epoch 42/50\n",
      "329/329 [==============================] - 1s 4ms/step - loss: 0.0935 - categorical_accuracy: 0.9735 - auc: 0.9988 - val_loss: 0.1316 - val_categorical_accuracy: 0.9621 - val_auc: 0.9975\n",
      "Epoch 43/50\n",
      "329/329 [==============================] - 1s 4ms/step - loss: 0.0916 - categorical_accuracy: 0.9733 - auc: 0.9988 - val_loss: 0.1264 - val_categorical_accuracy: 0.9639 - val_auc: 0.9976\n",
      "Epoch 44/50\n",
      "329/329 [==============================] - 1s 4ms/step - loss: 0.0893 - categorical_accuracy: 0.9747 - auc: 0.9988 - val_loss: 0.1266 - val_categorical_accuracy: 0.9633 - val_auc: 0.9975\n",
      "Epoch 45/50\n",
      "329/329 [==============================] - 1s 4ms/step - loss: 0.0877 - categorical_accuracy: 0.9749 - auc: 0.9988 - val_loss: 0.1539 - val_categorical_accuracy: 0.9542 - val_auc: 0.9968\n",
      "Epoch 46/50\n",
      "329/329 [==============================] - 1s 4ms/step - loss: 0.0860 - categorical_accuracy: 0.9755 - auc: 0.9988 - val_loss: 0.1227 - val_categorical_accuracy: 0.9644 - val_auc: 0.9976\n",
      "Epoch 47/50\n",
      "329/329 [==============================] - 1s 5ms/step - loss: 0.0838 - categorical_accuracy: 0.9769 - auc: 0.9989 - val_loss: 0.1224 - val_categorical_accuracy: 0.9653 - val_auc: 0.9977\n",
      "Epoch 48/50\n",
      "329/329 [==============================] - 1s 4ms/step - loss: 0.0819 - categorical_accuracy: 0.9770 - auc: 0.9989 - val_loss: 0.1351 - val_categorical_accuracy: 0.9608 - val_auc: 0.9974\n",
      "Epoch 49/50\n",
      "329/329 [==============================] - 1s 4ms/step - loss: 0.0802 - categorical_accuracy: 0.9774 - auc: 0.9990 - val_loss: 0.1204 - val_categorical_accuracy: 0.9646 - val_auc: 0.9977\n",
      "Epoch 50/50\n",
      "329/329 [==============================] - 1s 4ms/step - loss: 0.0785 - categorical_accuracy: 0.9779 - auc: 0.9990 - val_loss: 0.1336 - val_categorical_accuracy: 0.9628 - val_auc: 0.9972\n"
     ]
    }
   ],
   "source": [
    "history = model.fit(x_train, y_train, epochs=50, batch_size=128, validation_data=(x_val, y_val))"
   ]
  },
  {
   "cell_type": "code",
   "execution_count": 45,
   "metadata": {},
   "outputs": [
    {
     "data": {
      "text/plain": [
       "dict_keys(['loss', 'categorical_accuracy', 'auc', 'val_loss', 'val_categorical_accuracy', 'val_auc'])"
      ]
     },
     "execution_count": 45,
     "metadata": {},
     "output_type": "execute_result"
    }
   ],
   "source": [
    "history.history.keys()"
   ]
  },
  {
   "cell_type": "code",
   "execution_count": 46,
   "metadata": {},
   "outputs": [],
   "source": [
    "history_dict = history.history\n",
    "\n",
    "loss = history_dict['loss']\n",
    "val_loss = history_dict['val_loss']\n",
    "\n",
    "auc = history_dict['auc']\n",
    "val_auc = history_dict['val_auc']"
   ]
  },
  {
   "cell_type": "code",
   "execution_count": 47,
   "metadata": {},
   "outputs": [
    {
     "data": {
      "text/plain": [
       "<matplotlib.legend.Legend at 0x22dafa4f9d0>"
      ]
     },
     "execution_count": 47,
     "metadata": {},
     "output_type": "execute_result"
    },
    {
     "data": {
      "image/png": "[encoded data removed]",
      "text/plain": [
       "<Figure size 864x360 with 2 Axes>"
      ]
     },
     "metadata": {},
     "output_type": "display_data"
    }
   ],
   "source": [
    "epochs = range(1, len(loss)+1)\n",
    "\n",
    "fig = plt.figure(figsize=(12, 5))\n",
    "\n",
    "ax1 = plt.subplot(1, 2, 1)\n",
    "ax1.plot(epochs, loss, color='blue', label='train_loss')\n",
    "ax1.plot(epochs, val_loss, color='red', label='val_loss')\n",
    "ax1.set_title('Train Valid Loss')\n",
    "ax1.set_xlabel('epochs')\n",
    "ax1.set_ylabel('Loss')\n",
    "ax1.grid()\n",
    "ax1.legend()\n",
    "\n",
    "ax2 = plt.subplot(1, 2, 2)\n",
    "ax2.plot(epochs, auc, color='blue', label='train_auc')\n",
    "ax2.plot(epochs, val_auc, color='red', label='val_auc')\n",
    "ax2.set_title('Train Valid AUC')\n",
    "ax2.set_xlabel('epochs')\n",
    "ax2.set_ylabel('Loss')\n",
    "ax2.grid()\n",
    "ax2.legend()"
   ]
  },
  {
   "cell_type": "code",
   "execution_count": 48,
   "metadata": {},
   "outputs": [
    {
     "name": "stdout",
     "output_type": "stream",
     "text": [
      "313/313 [==============================] - 1s 3ms/step - loss: 0.1237 - categorical_accuracy: 0.9633 - auc: 0.9979\n"
     ]
    },
    {
     "data": {
      "text/plain": [
       "[0.1236666589975357, 0.9632999897003174, 0.9978615045547485]"
      ]
     },
     "execution_count": 48,
     "metadata": {},
     "output_type": "execute_result"
    }
   ],
   "source": [
    "model.evaluate(x_test, y_test)"
   ]
  },
  {
   "cell_type": "code",
   "execution_count": 49,
   "metadata": {},
   "outputs": [
    {
     "name": "stdout",
     "output_type": "stream",
     "text": [
      "313/313 [==============================] - 1s 2ms/step\n"
     ]
    },
    {
     "data": {
      "text/plain": [
       "(10000, 10)"
      ]
     },
     "execution_count": 49,
     "metadata": {},
     "output_type": "execute_result"
    }
   ],
   "source": [
    "y_pred = model.predict(x_test)\n",
    "y_pred.shape"
   ]
  },
  {
   "cell_type": "code",
   "execution_count": 50,
   "metadata": {},
   "outputs": [
    {
     "data": {
      "image/png": "[encoded data removed]",
      "text/plain": [
       "<Figure size 432x288 with 1 Axes>"
      ]
     },
     "metadata": {},
     "output_type": "display_data"
    }
   ],
   "source": [
    "arg_pred_y = np.argmax(y_pred, axis=1)\n",
    "\n",
    "plt.imshow(x_test[1])\n",
    "plt.title(f'Predicted label: {arg_pred_y[1]}')\n",
    "plt.show()"
   ]
  },
  {
   "cell_type": "markdown",
   "metadata": {},
   "source": [
    "#### Confusion matrix"
   ]
  },
  {
   "cell_type": "code",
   "execution_count": 51,
   "metadata": {},
   "outputs": [
    {
     "data": {
      "image/png": "[encoded data removed]",
      "text/plain": [
       "<Figure size 576x576 with 2 Axes>"
      ]
     },
     "metadata": {},
     "output_type": "display_data"
    }
   ],
   "source": [
    "from sklearn.metrics import classification_report, confusion_matrix\n",
    "import seaborn as sns\n",
    "\n",
    "sns.set(style='white')\n",
    "plt.figure(figsize=(8,8))\n",
    "cm = confusion_matrix(np.argmax(y_test, axis=1), np.argmax(y_pred, axis=-1))\n",
    "sns.heatmap(cm, annot=True, fmt='d', cmap='Blues')\n",
    "plt.xlabel('Pred label')\n",
    "plt.ylabel('True label')\n",
    "plt.show()"
   ]
  },
  {
   "cell_type": "markdown",
   "metadata": {},
   "source": [
    "- 분류 분석"
   ]
  },
  {
   "cell_type": "code",
   "execution_count": 52,
   "metadata": {},
   "outputs": [
    {
     "name": "stdout",
     "output_type": "stream",
     "text": [
      "              precision    recall  f1-score   support\n",
      "\n",
      "           0       0.98      0.99      0.98       980\n",
      "           1       0.99      0.98      0.98      1135\n",
      "           2       0.97      0.97      0.97      1032\n",
      "           3       0.94      0.98      0.96      1010\n",
      "           4       0.97      0.95      0.96       982\n",
      "           5       0.95      0.95      0.95       892\n",
      "           6       0.99      0.94      0.97       958\n",
      "           7       0.97      0.96      0.96      1028\n",
      "           8       0.92      0.98      0.95       974\n",
      "           9       0.96      0.94      0.95      1009\n",
      "\n",
      "    accuracy                           0.96     10000\n",
      "   macro avg       0.96      0.96      0.96     10000\n",
      "weighted avg       0.96      0.96      0.96     10000\n",
      "\n"
     ]
    }
   ],
   "source": [
    "print(classification_report(np.argmax(y_test, axis=-1), np.argmax(y_pred, axis=-1)))"
   ]
  },
  {
   "cell_type": "code",
   "execution_count": 54,
   "metadata": {},
   "outputs": [],
   "source": [
    "class BaseLayer:\n",
    "    def __init__(self, name=\"\"):\n",
    "        self.name = name\n",
    "\n",
    "    def __repr__(self):\n",
    "        return f\"{self.name}Layer\"\n",
    "\n",
    "class ActivationLayer(BaseLayer):\n",
    "    def __init__(self, size):\n",
    "        super().__init__(\"Activation\")\n",
    "        self.size = size\n",
    "\n",
    "class FCLayer(BaseLayer):\n",
    "    def __init__(self, size):\n",
    "        super().__init__(\"FullyConnected\")\n",
    "        self.size = size"
   ]
  },
  {
   "cell_type": "code",
   "execution_count": 55,
   "metadata": {},
   "outputs": [
    {
     "name": "stdout",
     "output_type": "stream",
     "text": [
      "FullyConnectedLayer\n"
     ]
    }
   ],
   "source": [
    "print(FCLayer(42))"
   ]
  },
  {
   "cell_type": "markdown",
   "metadata": {},
   "source": [
    "### Callbacks\n",
    "fit() 함수의 callbacks 매개변수 사용\n",
    "- **ModelCheckpoint**\n",
    "    - tf.keras.callbacks.ModelCheckpoint\n",
    "    - 정기적으로 모델의 체크포인트를 저장하고, 문제가 발생할 때 복구하는데 사용\n",
    "- **EarlyStopping**\n",
    "    - tf.keras.callbacks.EarlyStopping\n",
    "    - 검증 성능이 한동안 개선되지 않을 경우 학습을 중단할 때 사용\n",
    "- **LearningRateScheduler**\n",
    "    - tf.keras.callbacks.LearningRateScheduler\n",
    "    - 최적화를 하는 동안 lr(학습률)을 동적으로 변경할 때 사용\n",
    "- **TensorBoard**\n",
    "    - tf.keras.callbacks.TensorBoard\n",
    "    - 모델의 경과를 모니터링 할 때 사용"
   ]
  },
  {
   "cell_type": "code",
   "execution_count": 57,
   "metadata": {},
   "outputs": [],
   "source": [
    "from tensorflow.keras.callbacks import ModelCheckpoint, EarlyStopping, LearningRateScheduler, TensorBoard"
   ]
  },
  {
   "cell_type": "code",
   "execution_count": 59,
   "metadata": {},
   "outputs": [
    {
     "data": {
      "text/plain": [
       "<keras.engine.sequential.Sequential at 0x22dafd82a70>"
      ]
     },
     "execution_count": 59,
     "metadata": {},
     "output_type": "execute_result"
    }
   ],
   "source": [
    "model"
   ]
  },
  {
   "cell_type": "code",
   "execution_count": 60,
   "metadata": {},
   "outputs": [
    {
     "name": "stdout",
     "output_type": "stream",
     "text": [
      "Epoch 1/10\n",
      "1313/1313 [==============================] - 3s 3ms/step - loss: 0.0855 - categorical_accuracy: 0.9754 - auc: 0.9989\n",
      "Epoch 2/10\n",
      "1313/1313 [==============================] - 3s 3ms/step - loss: 0.0805 - categorical_accuracy: 0.9762 - auc: 0.9990\n",
      "Epoch 3/10\n",
      "1313/1313 [==============================] - 3s 2ms/step - loss: 0.0741 - categorical_accuracy: 0.9784 - auc: 0.9990\n",
      "Epoch 4/10\n",
      "1313/1313 [==============================] - 3s 3ms/step - loss: 0.0691 - categorical_accuracy: 0.9802 - auc: 0.9991\n",
      "Epoch 5/10\n",
      "1313/1313 [==============================] - 3s 3ms/step - loss: 0.0646 - categorical_accuracy: 0.9813 - auc: 0.9992\n",
      "Epoch 6/10\n",
      "1313/1313 [==============================] - 3s 2ms/step - loss: 0.0603 - categorical_accuracy: 0.9830 - auc: 0.9993\n",
      "Epoch 7/10\n",
      "1313/1313 [==============================] - 3s 3ms/step - loss: 0.0561 - categorical_accuracy: 0.9838 - auc: 0.9995\n",
      "Epoch 8/10\n",
      "1313/1313 [==============================] - 3s 3ms/step - loss: 0.0525 - categorical_accuracy: 0.9846 - auc: 0.9995\n",
      "Epoch 9/10\n",
      "1313/1313 [==============================] - 3s 3ms/step - loss: 0.0495 - categorical_accuracy: 0.9863 - auc: 0.9995\n",
      "Epoch 10/10\n",
      "1313/1313 [==============================] - 5s 4ms/step - loss: 0.0464 - categorical_accuracy: 0.9867 - auc: 0.9996\n"
     ]
    }
   ],
   "source": [
    "# ModelCheckpoint\n",
    "\n",
    "checkpoint_cb = ModelCheckpoint('keras_mnist_model.h5')\n",
    "history = model.fit(x_train, y_train, epochs=10,\n",
    "                    callbacks=[checkpoint_cb])"
   ]
  },
  {
   "cell_type": "code",
   "execution_count": 62,
   "metadata": {},
   "outputs": [
    {
     "name": "stdout",
     "output_type": "stream",
     "text": [
      "Epoch 1/10\n",
      "1313/1313 [==============================] - 5s 3ms/step - loss: 0.0209 - categorical_accuracy: 0.9954 - auc: 0.9999 - val_loss: 0.1104 - val_categorical_accuracy: 0.9697 - val_auc: 0.9972\n",
      "Epoch 2/10\n",
      "1313/1313 [==============================] - 4s 3ms/step - loss: 0.0195 - categorical_accuracy: 0.9961 - auc: 0.9999 - val_loss: 0.1104 - val_categorical_accuracy: 0.9692 - val_auc: 0.9972\n",
      "Epoch 3/10\n",
      "1313/1313 [==============================] - 4s 3ms/step - loss: 0.0180 - categorical_accuracy: 0.9959 - auc: 0.9999 - val_loss: 0.1102 - val_categorical_accuracy: 0.9696 - val_auc: 0.9971\n",
      "Epoch 4/10\n",
      "1313/1313 [==============================] - 4s 3ms/step - loss: 0.0168 - categorical_accuracy: 0.9965 - auc: 1.0000 - val_loss: 0.1086 - val_categorical_accuracy: 0.9701 - val_auc: 0.9971\n",
      "Epoch 5/10\n",
      "1313/1313 [==============================] - 4s 3ms/step - loss: 0.0158 - categorical_accuracy: 0.9966 - auc: 1.0000 - val_loss: 0.1128 - val_categorical_accuracy: 0.9689 - val_auc: 0.9969\n",
      "Epoch 6/10\n",
      "1313/1313 [==============================] - 4s 3ms/step - loss: 0.0145 - categorical_accuracy: 0.9972 - auc: 1.0000 - val_loss: 0.1072 - val_categorical_accuracy: 0.9713 - val_auc: 0.9970\n",
      "Epoch 7/10\n",
      "1313/1313 [==============================] - 5s 4ms/step - loss: 0.0133 - categorical_accuracy: 0.9978 - auc: 1.0000 - val_loss: 0.1139 - val_categorical_accuracy: 0.9697 - val_auc: 0.9968\n",
      "Epoch 8/10\n",
      "1313/1313 [==============================] - 4s 3ms/step - loss: 0.0126 - categorical_accuracy: 0.9980 - auc: 1.0000 - val_loss: 0.1191 - val_categorical_accuracy: 0.9692 - val_auc: 0.9965\n",
      "Epoch 9/10\n",
      "1313/1313 [==============================] - 5s 3ms/step - loss: 0.0115 - categorical_accuracy: 0.9980 - auc: 1.0000 - val_loss: 0.1115 - val_categorical_accuracy: 0.9701 - val_auc: 0.9970\n",
      "Epoch 10/10\n",
      "1313/1313 [==============================] - 4s 3ms/step - loss: 0.0108 - categorical_accuracy: 0.9983 - auc: 1.0000 - val_loss: 0.1128 - val_categorical_accuracy: 0.9703 - val_auc: 0.9968\n"
     ]
    }
   ],
   "source": [
    "# save the best model only\n",
    "\n",
    "checkpoint_cb = ModelCheckpoint('keras_mnist_model.h5', save_best_only=True)\n",
    "history = model.fit(x_train, y_train, epochs=10,\n",
    "                    validation_data=(x_val, y_val),\n",
    "                    callbacks=[checkpoint_cb])"
   ]
  },
  {
   "cell_type": "markdown",
   "metadata": {},
   "source": [
    "#### EarlyStopping\n",
    "- 일정 patience 동안 검증 세트의 점수가 오르지 않으면 학습을 멈춤\n",
    "- 모델이 향상되지 않으면 학습이 자동으로 중지되므로 epoch숫자를 크게 해도 괜찮음\n",
    "- 학습이 끝난 후의 최상의 가중치를 복원하기 때문에 모델을 따로 복원할 필요 없음"
   ]
  },
  {
   "cell_type": "code",
   "execution_count": 63,
   "metadata": {},
   "outputs": [
    {
     "name": "stdout",
     "output_type": "stream",
     "text": [
      "Epoch 1/10\n",
      "1313/1313 [==============================] - 5s 3ms/step - loss: 0.0098 - categorical_accuracy: 0.9986 - auc: 1.0000 - val_loss: 0.1140 - val_categorical_accuracy: 0.9701 - val_auc: 0.9969\n",
      "Epoch 2/10\n",
      "1313/1313 [==============================] - 5s 3ms/step - loss: 0.0092 - categorical_accuracy: 0.9988 - auc: 1.0000 - val_loss: 0.1165 - val_categorical_accuracy: 0.9701 - val_auc: 0.9968\n",
      "Epoch 3/10\n",
      "1313/1313 [==============================] - 5s 3ms/step - loss: 0.0083 - categorical_accuracy: 0.9991 - auc: 1.0000 - val_loss: 0.1159 - val_categorical_accuracy: 0.9703 - val_auc: 0.9966\n",
      "Epoch 4/10\n",
      "1313/1313 [==============================] - 4s 3ms/step - loss: 0.0079 - categorical_accuracy: 0.9990 - auc: 1.0000 - val_loss: 0.1153 - val_categorical_accuracy: 0.9710 - val_auc: 0.9967\n"
     ]
    }
   ],
   "source": [
    "checkpoint_cb = ModelCheckpoint('keras_mnist_model.h5', save_best_only=True)\n",
    "earlystopping_cb = EarlyStopping(patience=3, monitor='val_loss',    # patience=3: 3번의 epoch 기회를 주고 monitor 대상 점수가 오르지 않으면 학습 멈춤\n",
    "                                 restore_best_weights=True)\n",
    "history = model.fit(x_train, y_train, epochs=10,\n",
    "                    validation_data=(x_val, y_val),\n",
    "                    callbacks=[checkpoint_cb, earlystopping_cb])"
   ]
  },
  {
   "cell_type": "markdown",
   "metadata": {},
   "source": [
    "#### LearningRateScheduler\n",
    "- 학습 중에 lr을 변경하기 위해 사용"
   ]
  },
  {
   "cell_type": "code",
   "execution_count": 64,
   "metadata": {},
   "outputs": [],
   "source": [
    "def scheduler(epoch, lr):\n",
    "    if epoch < 10:\n",
    "        return lr\n",
    "    else:\n",
    "        return lr * tf.math.exp(-0.1)"
   ]
  },
  {
   "cell_type": "code",
   "execution_count": 73,
   "metadata": {},
   "outputs": [
    {
     "data": {
      "text/plain": [
       "0.01"
      ]
     },
     "execution_count": 73,
     "metadata": {},
     "output_type": "execute_result"
    }
   ],
   "source": [
    "round(model.optimizer.lr.numpy(), 5)"
   ]
  },
  {
   "cell_type": "code",
   "execution_count": 75,
   "metadata": {},
   "outputs": [
    {
     "data": {
      "text/plain": [
       "0.00607"
      ]
     },
     "execution_count": 75,
     "metadata": {},
     "output_type": "execute_result"
    }
   ],
   "source": [
    "lr_scheduler_cb = LearningRateScheduler(scheduler)\n",
    "\n",
    "history = model.fit(x_train, y_train, epochs=15,\n",
    "                    callbacks=[lr_scheduler_cb], verbose=0)\n",
    "\n",
    "round(model.optimizer.lr.numpy(), 5)"
   ]
  },
  {
   "cell_type": "markdown",
   "metadata": {},
   "source": [
    "#### Tensorboard\n",
    "- 텐서보드를 사용해 학습과정 모니터링\n",
    "- 텐서보드 사용을 위해서는 logs폴더를 만들고 학습이 진행되는 동안 로그파일 생성"
   ]
  },
  {
   "cell_type": "code",
   "execution_count": 76,
   "metadata": {},
   "outputs": [
    {
     "name": "stdout",
     "output_type": "stream",
     "text": [
      "Epoch 1/30\n",
      "1313/1313 [==============================] - 5s 4ms/step - loss: 0.0022 - categorical_accuracy: 1.0000 - auc: 1.0000 - val_loss: 0.1277 - val_categorical_accuracy: 0.9713 - val_auc: 0.9960\n",
      "Epoch 2/30\n",
      "1313/1313 [==============================] - 6s 4ms/step - loss: 0.0022 - categorical_accuracy: 1.0000 - auc: 1.0000 - val_loss: 0.1289 - val_categorical_accuracy: 0.9710 - val_auc: 0.9960\n",
      "Epoch 3/30\n",
      "1313/1313 [==============================] - 6s 4ms/step - loss: 0.0021 - categorical_accuracy: 1.0000 - auc: 1.0000 - val_loss: 0.1292 - val_categorical_accuracy: 0.9709 - val_auc: 0.9960\n",
      "Epoch 4/30\n",
      "1313/1313 [==============================] - 5s 4ms/step - loss: 0.0021 - categorical_accuracy: 1.0000 - auc: 1.0000 - val_loss: 0.1292 - val_categorical_accuracy: 0.9710 - val_auc: 0.9960\n",
      "Epoch 5/30\n",
      "1313/1313 [==============================] - 5s 3ms/step - loss: 0.0021 - categorical_accuracy: 1.0000 - auc: 1.0000 - val_loss: 0.1298 - val_categorical_accuracy: 0.9708 - val_auc: 0.9959\n",
      "Epoch 6/30\n",
      "1313/1313 [==============================] - 5s 4ms/step - loss: 0.0020 - categorical_accuracy: 1.0000 - auc: 1.0000 - val_loss: 0.1298 - val_categorical_accuracy: 0.9711 - val_auc: 0.9959\n",
      "Epoch 7/30\n",
      "1313/1313 [==============================] - 5s 4ms/step - loss: 0.0020 - categorical_accuracy: 1.0000 - auc: 1.0000 - val_loss: 0.1302 - val_categorical_accuracy: 0.9711 - val_auc: 0.9958\n",
      "Epoch 8/30\n",
      "1313/1313 [==============================] - 5s 4ms/step - loss: 0.0019 - categorical_accuracy: 1.0000 - auc: 1.0000 - val_loss: 0.1302 - val_categorical_accuracy: 0.9712 - val_auc: 0.9959\n",
      "Epoch 9/30\n",
      "1313/1313 [==============================] - 5s 4ms/step - loss: 0.0019 - categorical_accuracy: 1.0000 - auc: 1.0000 - val_loss: 0.1310 - val_categorical_accuracy: 0.9712 - val_auc: 0.9958\n",
      "Epoch 10/30\n",
      "1313/1313 [==============================] - 5s 4ms/step - loss: 0.0018 - categorical_accuracy: 1.0000 - auc: 1.0000 - val_loss: 0.1310 - val_categorical_accuracy: 0.9709 - val_auc: 0.9959\n",
      "Epoch 11/30\n",
      "1313/1313 [==============================] - 5s 4ms/step - loss: 0.0018 - categorical_accuracy: 1.0000 - auc: 1.0000 - val_loss: 0.1312 - val_categorical_accuracy: 0.9711 - val_auc: 0.9958\n",
      "Epoch 12/30\n",
      "1313/1313 [==============================] - 5s 4ms/step - loss: 0.0018 - categorical_accuracy: 1.0000 - auc: 1.0000 - val_loss: 0.1312 - val_categorical_accuracy: 0.9713 - val_auc: 0.9959\n",
      "Epoch 13/30\n",
      "1313/1313 [==============================] - 5s 4ms/step - loss: 0.0017 - categorical_accuracy: 1.0000 - auc: 1.0000 - val_loss: 0.1318 - val_categorical_accuracy: 0.9712 - val_auc: 0.9957\n",
      "Epoch 14/30\n",
      "1313/1313 [==============================] - 5s 4ms/step - loss: 0.0017 - categorical_accuracy: 1.0000 - auc: 1.0000 - val_loss: 0.1313 - val_categorical_accuracy: 0.9714 - val_auc: 0.9959\n",
      "Epoch 15/30\n",
      "1313/1313 [==============================] - 5s 4ms/step - loss: 0.0017 - categorical_accuracy: 1.0000 - auc: 1.0000 - val_loss: 0.1321 - val_categorical_accuracy: 0.9710 - val_auc: 0.9958\n",
      "Epoch 16/30\n",
      "1313/1313 [==============================] - 5s 4ms/step - loss: 0.0017 - categorical_accuracy: 1.0000 - auc: 1.0000 - val_loss: 0.1329 - val_categorical_accuracy: 0.9710 - val_auc: 0.9957\n",
      "Epoch 17/30\n",
      "1313/1313 [==============================] - 4s 3ms/step - loss: 0.0016 - categorical_accuracy: 1.0000 - auc: 1.0000 - val_loss: 0.1334 - val_categorical_accuracy: 0.9713 - val_auc: 0.9956\n",
      "Epoch 18/30\n",
      "1313/1313 [==============================] - 5s 3ms/step - loss: 0.0016 - categorical_accuracy: 1.0000 - auc: 1.0000 - val_loss: 0.1327 - val_categorical_accuracy: 0.9711 - val_auc: 0.9957\n",
      "Epoch 19/30\n",
      "1313/1313 [==============================] - 5s 4ms/step - loss: 0.0016 - categorical_accuracy: 1.0000 - auc: 1.0000 - val_loss: 0.1330 - val_categorical_accuracy: 0.9713 - val_auc: 0.9957\n",
      "Epoch 20/30\n",
      "1313/1313 [==============================] - 4s 3ms/step - loss: 0.0015 - categorical_accuracy: 1.0000 - auc: 1.0000 - val_loss: 0.1334 - val_categorical_accuracy: 0.9713 - val_auc: 0.9957\n",
      "Epoch 21/30\n",
      "1313/1313 [==============================] - 4s 3ms/step - loss: 0.0015 - categorical_accuracy: 1.0000 - auc: 1.0000 - val_loss: 0.1338 - val_categorical_accuracy: 0.9712 - val_auc: 0.9957\n",
      "Epoch 22/30\n",
      "1313/1313 [==============================] - 5s 3ms/step - loss: 0.0015 - categorical_accuracy: 1.0000 - auc: 1.0000 - val_loss: 0.1339 - val_categorical_accuracy: 0.9711 - val_auc: 0.9958\n",
      "Epoch 23/30\n",
      "1313/1313 [==============================] - 4s 3ms/step - loss: 0.0015 - categorical_accuracy: 1.0000 - auc: 1.0000 - val_loss: 0.1338 - val_categorical_accuracy: 0.9710 - val_auc: 0.9957\n",
      "Epoch 24/30\n",
      "1313/1313 [==============================] - 5s 4ms/step - loss: 0.0014 - categorical_accuracy: 1.0000 - auc: 1.0000 - val_loss: 0.1355 - val_categorical_accuracy: 0.9706 - val_auc: 0.9956\n",
      "Epoch 25/30\n",
      "1313/1313 [==============================] - 4s 3ms/step - loss: 0.0014 - categorical_accuracy: 1.0000 - auc: 1.0000 - val_loss: 0.1346 - val_categorical_accuracy: 0.9716 - val_auc: 0.9956\n",
      "Epoch 26/30\n",
      "1313/1313 [==============================] - 4s 3ms/step - loss: 0.0014 - categorical_accuracy: 1.0000 - auc: 1.0000 - val_loss: 0.1355 - val_categorical_accuracy: 0.9711 - val_auc: 0.9956\n",
      "Epoch 27/30\n",
      "1313/1313 [==============================] - 4s 3ms/step - loss: 0.0014 - categorical_accuracy: 1.0000 - auc: 1.0000 - val_loss: 0.1355 - val_categorical_accuracy: 0.9712 - val_auc: 0.9956\n",
      "Epoch 28/30\n",
      "1313/1313 [==============================] - 5s 3ms/step - loss: 0.0014 - categorical_accuracy: 1.0000 - auc: 1.0000 - val_loss: 0.1361 - val_categorical_accuracy: 0.9708 - val_auc: 0.9957\n",
      "Epoch 29/30\n",
      "1313/1313 [==============================] - 4s 3ms/step - loss: 0.0013 - categorical_accuracy: 1.0000 - auc: 1.0000 - val_loss: 0.1356 - val_categorical_accuracy: 0.9713 - val_auc: 0.9956\n",
      "Epoch 30/30\n",
      "1313/1313 [==============================] - 5s 4ms/step - loss: 0.0013 - categorical_accuracy: 1.0000 - auc: 1.0000 - val_loss: 0.1360 - val_categorical_accuracy: 0.9713 - val_auc: 0.9956\n"
     ]
    },
    {
     "data": {
      "text/plain": [
       "<keras.callbacks.History at 0x22daccf5000>"
      ]
     },
     "execution_count": 76,
     "metadata": {},
     "output_type": "execute_result"
    }
   ],
   "source": [
    "log_dir = './logs'\n",
    "tensorboard_cb = [TensorBoard(log_dir=log_dir, histogram_freq=1,\n",
    "                              write_graph=True, write_images=True)]\n",
    "\n",
    "model.fit(x_train, y_train, batch_size=32, validation_data=(x_val, y_val),\n",
    "          epochs=30, callbacks=tensorboard_cb)"
   ]
  },
  {
   "cell_type": "code",
   "execution_count": 77,
   "metadata": {},
   "outputs": [],
   "source": [
    "%load_ext tensorboard"
   ]
  },
  {
   "cell_type": "code",
   "execution_count": 78,
   "metadata": {},
   "outputs": [
    {
     "data": {
      "text/html": [
       "\n",
       "      <iframe id=\"tensorboard-frame-f4d9e4de8b29e384\" width=\"100%\" height=\"800\" frameborder=\"0\">\n",
       "      </iframe>\n",
       "      <script>\n",
       "        (function() {\n",
       "          const frame = document.getElementById(\"tensorboard-frame-f4d9e4de8b29e384\");\n",
       "          const url = new URL(\"/\", window.location);\n",
       "          const port = 6006;\n",
       "          if (port) {\n",
       "            url.port = port;\n",
       "          }\n",
       "          frame.src = url;\n",
       "        })();\n",
       "      </script>\n",
       "    "
      ],
      "text/plain": [
       "<IPython.core.display.HTML object>"
      ]
     },
     "metadata": {},
     "output_type": "display_data"
    }
   ],
   "source": [
    "%tensorboard --logdir {log_dir}\n",
    "\n",
    "# 텐서보드 실행이 안되면 포트 번화 바꿔서 실행\n",
    "# %tensorboard --logdir {log_dir} port 8000"
   ]
  },
  {
   "cell_type": "code",
   "execution_count": null,
   "metadata": {},
   "outputs": [],
   "source": []
  }
 ],
 "metadata": {
  "interpreter": {
   "hash": "193862c4b51ce2cf91cc9aaee2c7fe13f9c87404bc6c6138ad6feb7b6375b160"
  },
  "kernelspec": {
   "display_name": "Python 3.10.4 64-bit",
   "language": "python",
   "name": "python3"
  },
  "language_info": {
   "codemirror_mode": {
    "name": "ipython",
    "version": 3
   },
   "file_extension": ".py",
   "mimetype": "text/x-python",
   "name": "python",
   "nbconvert_exporter": "python",
   "pygments_lexer": "ipython3",
   "version": "3.10.4"
  },
  "orig_nbformat": 4
 },
 "nbformat": 4,
 "nbformat_minor": 2
}
