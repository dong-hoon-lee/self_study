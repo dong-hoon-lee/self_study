{
 "cells": [
  {
   "cell_type": "code",
   "execution_count": 5,
   "metadata": {},
   "outputs": [],
   "source": [
    "import tensorflow as tf\n",
    "import matplotlib.pyplot as plt\n",
    "import numpy as np\n",
    "import keras\n",
    "from sklearn.metrics import roc_auc_score\n"
   ]
  },
  {
   "cell_type": "code",
   "execution_count": 2,
   "metadata": {},
   "outputs": [],
   "source": [
    "import pycaret"
   ]
  },
  {
   "cell_type": "code",
   "execution_count": 3,
   "metadata": {},
   "outputs": [
    {
     "data": {
      "text/plain": [
       "'1.21.6'"
      ]
     },
     "execution_count": 3,
     "metadata": {},
     "output_type": "execute_result"
    }
   ],
   "source": [
    "import numpy as np\n",
    "np.__version__"
   ]
  },
  {
   "cell_type": "code",
   "execution_count": null,
   "metadata": {},
   "outputs": [],
   "source": [
    "model = keras.Sequential([keras.layers.Dense(units=1, input_shape=[1])])\n",
    "model.compile(optimizer='sgd', loss='mean_squared_error')"
   ]
  },
  {
   "cell_type": "code",
   "execution_count": 3,
   "metadata": {},
   "outputs": [
    {
     "name": "stdout",
     "output_type": "stream",
     "text": [
      "Epoch 1/300\n",
      "1/1 [==============================] - 0s 400ms/step - loss: 13.4164\n",
      "Epoch 2/300\n",
      "1/1 [==============================] - 0s 8ms/step - loss: 10.7867\n",
      "Epoch 3/300\n",
      "1/1 [==============================] - 0s 0s/step - loss: 8.7130\n",
      "Epoch 4/300\n",
      "1/1 [==============================] - 0s 8ms/step - loss: 7.0769\n",
      "Epoch 5/300\n",
      "1/1 [==============================] - 0s 0s/step - loss: 5.7852\n",
      "Epoch 6/300\n",
      "1/1 [==============================] - 0s 8ms/step - loss: 4.7644\n",
      "Epoch 7/300\n",
      "1/1 [==============================] - 0s 8ms/step - loss: 3.9569\n",
      "Epoch 8/300\n",
      "1/1 [==============================] - 0s 8ms/step - loss: 3.3174\n",
      "Epoch 9/300\n",
      "1/1 [==============================] - 0s 0s/step - loss: 2.8100\n",
      "Epoch 10/300\n",
      "1/1 [==============================] - 0s 0s/step - loss: 2.4067\n",
      "Epoch 11/300\n",
      "1/1 [==============================] - 0s 8ms/step - loss: 2.0854\n",
      "Epoch 12/300\n",
      "1/1 [==============================] - 0s 8ms/step - loss: 1.8287\n",
      "Epoch 13/300\n",
      "1/1 [==============================] - 0s 8ms/step - loss: 1.6228\n",
      "Epoch 14/300\n",
      "1/1 [==============================] - 0s 8ms/step - loss: 1.4571\n",
      "Epoch 15/300\n",
      "1/1 [==============================] - 0s 8ms/step - loss: 1.3230\n",
      "Epoch 16/300\n",
      "1/1 [==============================] - 0s 0s/step - loss: 1.2139\n",
      "Epoch 17/300\n",
      "1/1 [==============================] - 0s 8ms/step - loss: 1.1245\n",
      "Epoch 18/300\n",
      "1/1 [==============================] - 0s 8ms/step - loss: 1.0506\n",
      "Epoch 19/300\n",
      "1/1 [==============================] - 0s 0s/step - loss: 0.9891\n",
      "Epoch 20/300\n",
      "1/1 [==============================] - 0s 0s/step - loss: 0.9374\n",
      "Epoch 21/300\n",
      "1/1 [==============================] - 0s 0s/step - loss: 0.8935\n",
      "Epoch 22/300\n",
      "1/1 [==============================] - 0s 8ms/step - loss: 0.8557\n",
      "Epoch 23/300\n",
      "1/1 [==============================] - 0s 8ms/step - loss: 0.8228\n",
      "Epoch 24/300\n",
      "1/1 [==============================] - 0s 0s/step - loss: 0.7939\n",
      "Epoch 25/300\n",
      "1/1 [==============================] - 0s 0s/step - loss: 0.7681\n",
      "Epoch 26/300\n",
      "1/1 [==============================] - 0s 8ms/step - loss: 0.7449\n",
      "Epoch 27/300\n",
      "1/1 [==============================] - 0s 8ms/step - loss: 0.7237\n",
      "Epoch 28/300\n",
      "1/1 [==============================] - 0s 8ms/step - loss: 0.7043\n",
      "Epoch 29/300\n",
      "1/1 [==============================] - 0s 0s/step - loss: 0.6862\n",
      "Epoch 30/300\n",
      "1/1 [==============================] - 0s 8ms/step - loss: 0.6692\n",
      "Epoch 31/300\n",
      "1/1 [==============================] - 0s 8ms/step - loss: 0.6532\n",
      "Epoch 32/300\n",
      "1/1 [==============================] - 0s 8ms/step - loss: 0.6380\n",
      "Epoch 33/300\n",
      "1/1 [==============================] - 0s 8ms/step - loss: 0.6235\n",
      "Epoch 34/300\n",
      "1/1 [==============================] - 0s 0s/step - loss: 0.6096\n",
      "Epoch 35/300\n",
      "1/1 [==============================] - 0s 8ms/step - loss: 0.5963\n",
      "Epoch 36/300\n",
      "1/1 [==============================] - 0s 8ms/step - loss: 0.5833\n",
      "Epoch 37/300\n",
      "1/1 [==============================] - 0s 0s/step - loss: 0.5708\n",
      "Epoch 38/300\n",
      "1/1 [==============================] - 0s 0s/step - loss: 0.5587\n",
      "Epoch 39/300\n",
      "1/1 [==============================] - 0s 8ms/step - loss: 0.5469\n",
      "Epoch 40/300\n",
      "1/1 [==============================] - 0s 8ms/step - loss: 0.5354\n",
      "Epoch 41/300\n",
      "1/1 [==============================] - 0s 8ms/step - loss: 0.5242\n",
      "Epoch 42/300\n",
      "1/1 [==============================] - 0s 0s/step - loss: 0.5133\n",
      "Epoch 43/300\n",
      "1/1 [==============================] - 0s 8ms/step - loss: 0.5026\n",
      "Epoch 44/300\n",
      "1/1 [==============================] - 0s 8ms/step - loss: 0.4922\n",
      "Epoch 45/300\n",
      "1/1 [==============================] - 0s 8ms/step - loss: 0.4820\n",
      "Epoch 46/300\n",
      "1/1 [==============================] - 0s 8ms/step - loss: 0.4720\n",
      "Epoch 47/300\n",
      "1/1 [==============================] - 0s 8ms/step - loss: 0.4623\n",
      "Epoch 48/300\n",
      "1/1 [==============================] - 0s 8ms/step - loss: 0.4527\n",
      "Epoch 49/300\n",
      "1/1 [==============================] - 0s 0s/step - loss: 0.4434\n",
      "Epoch 50/300\n",
      "1/1 [==============================] - 0s 8ms/step - loss: 0.4343\n",
      "Epoch 51/300\n",
      "1/1 [==============================] - 0s 8ms/step - loss: 0.4253\n",
      "Epoch 52/300\n",
      "1/1 [==============================] - 0s 0s/step - loss: 0.4166\n",
      "Epoch 53/300\n",
      "1/1 [==============================] - 0s 0s/step - loss: 0.4080\n",
      "Epoch 54/300\n",
      "1/1 [==============================] - 0s 8ms/step - loss: 0.3996\n",
      "Epoch 55/300\n",
      "1/1 [==============================] - 0s 8ms/step - loss: 0.3914\n",
      "Epoch 56/300\n",
      "1/1 [==============================] - 0s 0s/step - loss: 0.3834\n",
      "Epoch 57/300\n",
      "1/1 [==============================] - 0s 8ms/step - loss: 0.3755\n",
      "Epoch 58/300\n",
      "1/1 [==============================] - 0s 0s/step - loss: 0.3678\n",
      "Epoch 59/300\n",
      "1/1 [==============================] - 0s 0s/step - loss: 0.3602\n",
      "Epoch 60/300\n",
      "1/1 [==============================] - 0s 8ms/step - loss: 0.3528\n",
      "Epoch 61/300\n",
      "1/1 [==============================] - 0s 16ms/step - loss: 0.3456\n",
      "Epoch 62/300\n",
      "1/1 [==============================] - 0s 8ms/step - loss: 0.3385\n",
      "Epoch 63/300\n",
      "1/1 [==============================] - 0s 0s/step - loss: 0.3315\n",
      "Epoch 64/300\n",
      "1/1 [==============================] - 0s 0s/step - loss: 0.3247\n",
      "Epoch 65/300\n",
      "1/1 [==============================] - 0s 0s/step - loss: 0.3180\n",
      "Epoch 66/300\n",
      "1/1 [==============================] - 0s 8ms/step - loss: 0.3115\n",
      "Epoch 67/300\n",
      "1/1 [==============================] - 0s 8ms/step - loss: 0.3051\n",
      "Epoch 68/300\n",
      "1/1 [==============================] - 0s 0s/step - loss: 0.2988\n",
      "Epoch 69/300\n",
      "1/1 [==============================] - 0s 0s/step - loss: 0.2927\n",
      "Epoch 70/300\n",
      "1/1 [==============================] - 0s 8ms/step - loss: 0.2867\n",
      "Epoch 71/300\n",
      "1/1 [==============================] - 0s 8ms/step - loss: 0.2808\n",
      "Epoch 72/300\n",
      "1/1 [==============================] - 0s 8ms/step - loss: 0.2750\n",
      "Epoch 73/300\n",
      "1/1 [==============================] - 0s 8ms/step - loss: 0.2694\n",
      "Epoch 74/300\n",
      "1/1 [==============================] - 0s 8ms/step - loss: 0.2638\n",
      "Epoch 75/300\n",
      "1/1 [==============================] - 0s 8ms/step - loss: 0.2584\n",
      "Epoch 76/300\n",
      "1/1 [==============================] - 0s 0s/step - loss: 0.2531\n",
      "Epoch 77/300\n",
      "1/1 [==============================] - 0s 8ms/step - loss: 0.2479\n",
      "Epoch 78/300\n",
      "1/1 [==============================] - 0s 8ms/step - loss: 0.2428\n",
      "Epoch 79/300\n",
      "1/1 [==============================] - 0s 0s/step - loss: 0.2378\n",
      "Epoch 80/300\n",
      "1/1 [==============================] - 0s 0s/step - loss: 0.2329\n",
      "Epoch 81/300\n",
      "1/1 [==============================] - 0s 8ms/step - loss: 0.2282\n",
      "Epoch 82/300\n",
      "1/1 [==============================] - 0s 0s/step - loss: 0.2235\n",
      "Epoch 83/300\n",
      "1/1 [==============================] - 0s 0s/step - loss: 0.2189\n",
      "Epoch 84/300\n",
      "1/1 [==============================] - 0s 0s/step - loss: 0.2144\n",
      "Epoch 85/300\n",
      "1/1 [==============================] - 0s 8ms/step - loss: 0.2100\n",
      "Epoch 86/300\n",
      "1/1 [==============================] - 0s 16ms/step - loss: 0.2057\n",
      "Epoch 87/300\n",
      "1/1 [==============================] - 0s 8ms/step - loss: 0.2015\n",
      "Epoch 88/300\n",
      "1/1 [==============================] - 0s 0s/step - loss: 0.1973\n",
      "Epoch 89/300\n",
      "1/1 [==============================] - 0s 0s/step - loss: 0.1933\n",
      "Epoch 90/300\n",
      "1/1 [==============================] - 0s 8ms/step - loss: 0.1893\n",
      "Epoch 91/300\n",
      "1/1 [==============================] - 0s 8ms/step - loss: 0.1854\n",
      "Epoch 92/300\n",
      "1/1 [==============================] - 0s 8ms/step - loss: 0.1816\n",
      "Epoch 93/300\n",
      "1/1 [==============================] - 0s 8ms/step - loss: 0.1779\n",
      "Epoch 94/300\n",
      "1/1 [==============================] - 0s 8ms/step - loss: 0.1742\n",
      "Epoch 95/300\n",
      "1/1 [==============================] - 0s 8ms/step - loss: 0.1706\n",
      "Epoch 96/300\n",
      "1/1 [==============================] - 0s 0s/step - loss: 0.1671\n",
      "Epoch 97/300\n",
      "1/1 [==============================] - 0s 0s/step - loss: 0.1637\n",
      "Epoch 98/300\n",
      "1/1 [==============================] - 0s 8ms/step - loss: 0.1603\n",
      "Epoch 99/300\n",
      "1/1 [==============================] - 0s 0s/step - loss: 0.1570\n",
      "Epoch 100/300\n",
      "1/1 [==============================] - 0s 0s/step - loss: 0.1538\n",
      "Epoch 101/300\n",
      "1/1 [==============================] - 0s 0s/step - loss: 0.1507\n",
      "Epoch 102/300\n",
      "1/1 [==============================] - 0s 0s/step - loss: 0.1476\n",
      "Epoch 103/300\n",
      "1/1 [==============================] - 0s 8ms/step - loss: 0.1445\n",
      "Epoch 104/300\n",
      "1/1 [==============================] - 0s 8ms/step - loss: 0.1416\n",
      "Epoch 105/300\n",
      "1/1 [==============================] - 0s 8ms/step - loss: 0.1387\n",
      "Epoch 106/300\n",
      "1/1 [==============================] - 0s 0s/step - loss: 0.1358\n",
      "Epoch 107/300\n",
      "1/1 [==============================] - 0s 0s/step - loss: 0.1330\n",
      "Epoch 108/300\n",
      "1/1 [==============================] - 0s 8ms/step - loss: 0.1303\n",
      "Epoch 109/300\n",
      "1/1 [==============================] - 0s 8ms/step - loss: 0.1276\n",
      "Epoch 110/300\n",
      "1/1 [==============================] - 0s 0s/step - loss: 0.1250\n",
      "Epoch 111/300\n",
      "1/1 [==============================] - 0s 0s/step - loss: 0.1224\n",
      "Epoch 112/300\n",
      "1/1 [==============================] - 0s 8ms/step - loss: 0.1199\n",
      "Epoch 113/300\n",
      "1/1 [==============================] - 0s 0s/step - loss: 0.1174\n",
      "Epoch 114/300\n",
      "1/1 [==============================] - 0s 0s/step - loss: 0.1150\n",
      "Epoch 115/300\n",
      "1/1 [==============================] - 0s 0s/step - loss: 0.1127\n",
      "Epoch 116/300\n",
      "1/1 [==============================] - 0s 8ms/step - loss: 0.1104\n",
      "Epoch 117/300\n",
      "1/1 [==============================] - 0s 0s/step - loss: 0.1081\n",
      "Epoch 118/300\n",
      "1/1 [==============================] - 0s 8ms/step - loss: 0.1059\n",
      "Epoch 119/300\n",
      "1/1 [==============================] - 0s 8ms/step - loss: 0.1037\n",
      "Epoch 120/300\n",
      "1/1 [==============================] - 0s 0s/step - loss: 0.1016\n",
      "Epoch 121/300\n",
      "1/1 [==============================] - 0s 8ms/step - loss: 0.0995\n",
      "Epoch 122/300\n",
      "1/1 [==============================] - 0s 8ms/step - loss: 0.0974\n",
      "Epoch 123/300\n",
      "1/1 [==============================] - 0s 0s/step - loss: 0.0954\n",
      "Epoch 124/300\n",
      "1/1 [==============================] - 0s 8ms/step - loss: 0.0935\n",
      "Epoch 125/300\n",
      "1/1 [==============================] - 0s 0s/step - loss: 0.0915\n",
      "Epoch 126/300\n",
      "1/1 [==============================] - 0s 0s/step - loss: 0.0897\n",
      "Epoch 127/300\n",
      "1/1 [==============================] - 0s 8ms/step - loss: 0.0878\n",
      "Epoch 128/300\n",
      "1/1 [==============================] - 0s 0s/step - loss: 0.0860\n",
      "Epoch 129/300\n",
      "1/1 [==============================] - 0s 0s/step - loss: 0.0843\n",
      "Epoch 130/300\n",
      "1/1 [==============================] - 0s 8ms/step - loss: 0.0825\n",
      "Epoch 131/300\n",
      "1/1 [==============================] - 0s 0s/step - loss: 0.0808\n",
      "Epoch 132/300\n",
      "1/1 [==============================] - 0s 8ms/step - loss: 0.0792\n",
      "Epoch 133/300\n",
      "1/1 [==============================] - 0s 8ms/step - loss: 0.0775\n",
      "Epoch 134/300\n",
      "1/1 [==============================] - 0s 8ms/step - loss: 0.0760\n",
      "Epoch 135/300\n",
      "1/1 [==============================] - 0s 0s/step - loss: 0.0744\n",
      "Epoch 136/300\n",
      "1/1 [==============================] - 0s 0s/step - loss: 0.0729\n",
      "Epoch 137/300\n",
      "1/1 [==============================] - 0s 8ms/step - loss: 0.0714\n",
      "Epoch 138/300\n",
      "1/1 [==============================] - 0s 8ms/step - loss: 0.0699\n",
      "Epoch 139/300\n",
      "1/1 [==============================] - 0s 8ms/step - loss: 0.0685\n",
      "Epoch 140/300\n",
      "1/1 [==============================] - 0s 32ms/step - loss: 0.0671\n",
      "Epoch 141/300\n",
      "1/1 [==============================] - 0s 8ms/step - loss: 0.0657\n",
      "Epoch 142/300\n",
      "1/1 [==============================] - 0s 8ms/step - loss: 0.0643\n",
      "Epoch 143/300\n",
      "1/1 [==============================] - 0s 8ms/step - loss: 0.0630\n",
      "Epoch 144/300\n",
      "1/1 [==============================] - 0s 8ms/step - loss: 0.0617\n",
      "Epoch 145/300\n",
      "1/1 [==============================] - 0s 8ms/step - loss: 0.0604\n",
      "Epoch 146/300\n",
      "1/1 [==============================] - 0s 8ms/step - loss: 0.0592\n",
      "Epoch 147/300\n",
      "1/1 [==============================] - 0s 8ms/step - loss: 0.0580\n",
      "Epoch 148/300\n",
      "1/1 [==============================] - 0s 8ms/step - loss: 0.0568\n",
      "Epoch 149/300\n",
      "1/1 [==============================] - 0s 0s/step - loss: 0.0556\n",
      "Epoch 150/300\n",
      "1/1 [==============================] - 0s 0s/step - loss: 0.0545\n",
      "Epoch 151/300\n",
      "1/1 [==============================] - 0s 8ms/step - loss: 0.0534\n",
      "Epoch 152/300\n",
      "1/1 [==============================] - 0s 8ms/step - loss: 0.0523\n",
      "Epoch 153/300\n",
      "1/1 [==============================] - 0s 8ms/step - loss: 0.0512\n",
      "Epoch 154/300\n",
      "1/1 [==============================] - 0s 16ms/step - loss: 0.0501\n",
      "Epoch 155/300\n",
      "1/1 [==============================] - 0s 8ms/step - loss: 0.0491\n",
      "Epoch 156/300\n",
      "1/1 [==============================] - 0s 16ms/step - loss: 0.0481\n",
      "Epoch 157/300\n",
      "1/1 [==============================] - 0s 8ms/step - loss: 0.0471\n",
      "Epoch 158/300\n",
      "1/1 [==============================] - 0s 8ms/step - loss: 0.0462\n",
      "Epoch 159/300\n",
      "1/1 [==============================] - 0s 8ms/step - loss: 0.0452\n",
      "Epoch 160/300\n",
      "1/1 [==============================] - 0s 8ms/step - loss: 0.0443\n",
      "Epoch 161/300\n",
      "1/1 [==============================] - 0s 8ms/step - loss: 0.0434\n",
      "Epoch 162/300\n",
      "1/1 [==============================] - 0s 8ms/step - loss: 0.0425\n",
      "Epoch 163/300\n",
      "1/1 [==============================] - 0s 8ms/step - loss: 0.0416\n",
      "Epoch 164/300\n",
      "1/1 [==============================] - 0s 8ms/step - loss: 0.0407\n",
      "Epoch 165/300\n",
      "1/1 [==============================] - 0s 0s/step - loss: 0.0399\n",
      "Epoch 166/300\n",
      "1/1 [==============================] - 0s 8ms/step - loss: 0.0391\n",
      "Epoch 167/300\n",
      "1/1 [==============================] - 0s 8ms/step - loss: 0.0383\n",
      "Epoch 168/300\n",
      "1/1 [==============================] - 0s 0s/step - loss: 0.0375\n",
      "Epoch 169/300\n",
      "1/1 [==============================] - 0s 0s/step - loss: 0.0367\n",
      "Epoch 170/300\n",
      "1/1 [==============================] - 0s 8ms/step - loss: 0.0360\n",
      "Epoch 171/300\n",
      "1/1 [==============================] - 0s 8ms/step - loss: 0.0352\n",
      "Epoch 172/300\n",
      "1/1 [==============================] - 0s 8ms/step - loss: 0.0345\n",
      "Epoch 173/300\n",
      "1/1 [==============================] - 0s 8ms/step - loss: 0.0338\n",
      "Epoch 174/300\n",
      "1/1 [==============================] - 0s 0s/step - loss: 0.0331\n",
      "Epoch 175/300\n",
      "1/1 [==============================] - 0s 0s/step - loss: 0.0324\n",
      "Epoch 176/300\n",
      "1/1 [==============================] - 0s 8ms/step - loss: 0.0318\n",
      "Epoch 177/300\n",
      "1/1 [==============================] - 0s 8ms/step - loss: 0.0311\n",
      "Epoch 178/300\n",
      "1/1 [==============================] - 0s 8ms/step - loss: 0.0305\n",
      "Epoch 179/300\n",
      "1/1 [==============================] - 0s 8ms/step - loss: 0.0298\n",
      "Epoch 180/300\n",
      "1/1 [==============================] - 0s 0s/step - loss: 0.0292\n",
      "Epoch 181/300\n",
      "1/1 [==============================] - 0s 8ms/step - loss: 0.0286\n",
      "Epoch 182/300\n",
      "1/1 [==============================] - 0s 8ms/step - loss: 0.0280\n",
      "Epoch 183/300\n",
      "1/1 [==============================] - 0s 8ms/step - loss: 0.0275\n",
      "Epoch 184/300\n",
      "1/1 [==============================] - 0s 8ms/step - loss: 0.0269\n",
      "Epoch 185/300\n",
      "1/1 [==============================] - 0s 8ms/step - loss: 0.0264\n",
      "Epoch 186/300\n",
      "1/1 [==============================] - 0s 0s/step - loss: 0.0258\n",
      "Epoch 187/300\n",
      "1/1 [==============================] - 0s 0s/step - loss: 0.0253\n",
      "Epoch 188/300\n",
      "1/1 [==============================] - 0s 8ms/step - loss: 0.0248\n",
      "Epoch 189/300\n",
      "1/1 [==============================] - 0s 8ms/step - loss: 0.0243\n",
      "Epoch 190/300\n",
      "1/1 [==============================] - 0s 0s/step - loss: 0.0238\n",
      "Epoch 191/300\n",
      "1/1 [==============================] - 0s 0s/step - loss: 0.0233\n",
      "Epoch 192/300\n",
      "1/1 [==============================] - 0s 8ms/step - loss: 0.0228\n",
      "Epoch 193/300\n",
      "1/1 [==============================] - 0s 8ms/step - loss: 0.0223\n",
      "Epoch 194/300\n",
      "1/1 [==============================] - 0s 8ms/step - loss: 0.0219\n",
      "Epoch 195/300\n",
      "1/1 [==============================] - 0s 8ms/step - loss: 0.0214\n",
      "Epoch 196/300\n",
      "1/1 [==============================] - 0s 8ms/step - loss: 0.0210\n",
      "Epoch 197/300\n",
      "1/1 [==============================] - 0s 8ms/step - loss: 0.0205\n",
      "Epoch 198/300\n",
      "1/1 [==============================] - 0s 0s/step - loss: 0.0201\n",
      "Epoch 199/300\n",
      "1/1 [==============================] - 0s 8ms/step - loss: 0.0197\n",
      "Epoch 200/300\n",
      "1/1 [==============================] - 0s 8ms/step - loss: 0.0193\n",
      "Epoch 201/300\n",
      "1/1 [==============================] - 0s 8ms/step - loss: 0.0189\n",
      "Epoch 202/300\n",
      "1/1 [==============================] - 0s 8ms/step - loss: 0.0185\n",
      "Epoch 203/300\n",
      "1/1 [==============================] - 0s 0s/step - loss: 0.0181\n",
      "Epoch 204/300\n",
      "1/1 [==============================] - 0s 8ms/step - loss: 0.0178\n",
      "Epoch 205/300\n",
      "1/1 [==============================] - 0s 8ms/step - loss: 0.0174\n",
      "Epoch 206/300\n",
      "1/1 [==============================] - 0s 0s/step - loss: 0.0170\n",
      "Epoch 207/300\n",
      "1/1 [==============================] - 0s 8ms/step - loss: 0.0167\n",
      "Epoch 208/300\n",
      "1/1 [==============================] - 0s 8ms/step - loss: 0.0164\n",
      "Epoch 209/300\n",
      "1/1 [==============================] - 0s 8ms/step - loss: 0.0160\n",
      "Epoch 210/300\n",
      "1/1 [==============================] - 0s 0s/step - loss: 0.0157\n",
      "Epoch 211/300\n",
      "1/1 [==============================] - 0s 8ms/step - loss: 0.0154\n",
      "Epoch 212/300\n",
      "1/1 [==============================] - 0s 8ms/step - loss: 0.0150\n",
      "Epoch 213/300\n",
      "1/1 [==============================] - 0s 8ms/step - loss: 0.0147\n",
      "Epoch 214/300\n",
      "1/1 [==============================] - 0s 8ms/step - loss: 0.0144\n",
      "Epoch 215/300\n",
      "1/1 [==============================] - 0s 0s/step - loss: 0.0141\n",
      "Epoch 216/300\n",
      "1/1 [==============================] - 0s 0s/step - loss: 0.0138\n",
      "Epoch 217/300\n",
      "1/1 [==============================] - 0s 0s/step - loss: 0.0136\n",
      "Epoch 218/300\n",
      "1/1 [==============================] - 0s 8ms/step - loss: 0.0133\n",
      "Epoch 219/300\n",
      "1/1 [==============================] - 0s 8ms/step - loss: 0.0130\n",
      "Epoch 220/300\n",
      "1/1 [==============================] - 0s 0s/step - loss: 0.0127\n",
      "Epoch 221/300\n",
      "1/1 [==============================] - 0s 16ms/step - loss: 0.0125\n",
      "Epoch 222/300\n",
      "1/1 [==============================] - 0s 8ms/step - loss: 0.0122\n",
      "Epoch 223/300\n",
      "1/1 [==============================] - 0s 8ms/step - loss: 0.0120\n",
      "Epoch 224/300\n",
      "1/1 [==============================] - 0s 8ms/step - loss: 0.0117\n",
      "Epoch 225/300\n",
      "1/1 [==============================] - 0s 16ms/step - loss: 0.0115\n",
      "Epoch 226/300\n",
      "1/1 [==============================] - 0s 8ms/step - loss: 0.0113\n",
      "Epoch 227/300\n",
      "1/1 [==============================] - 0s 8ms/step - loss: 0.0110\n",
      "Epoch 228/300\n",
      "1/1 [==============================] - 0s 0s/step - loss: 0.0108\n",
      "Epoch 229/300\n",
      "1/1 [==============================] - 0s 8ms/step - loss: 0.0106\n",
      "Epoch 230/300\n",
      "1/1 [==============================] - 0s 8ms/step - loss: 0.0104\n",
      "Epoch 231/300\n",
      "1/1 [==============================] - 0s 8ms/step - loss: 0.0101\n",
      "Epoch 232/300\n",
      "1/1 [==============================] - 0s 8ms/step - loss: 0.0099\n",
      "Epoch 233/300\n",
      "1/1 [==============================] - 0s 7ms/step - loss: 0.0097\n",
      "Epoch 234/300\n",
      "1/1 [==============================] - 0s 8ms/step - loss: 0.0095\n",
      "Epoch 235/300\n",
      "1/1 [==============================] - 0s 0s/step - loss: 0.0093\n",
      "Epoch 236/300\n",
      "1/1 [==============================] - 0s 16ms/step - loss: 0.0091\n",
      "Epoch 237/300\n",
      "1/1 [==============================] - 0s 0s/step - loss: 0.0090\n",
      "Epoch 238/300\n",
      "1/1 [==============================] - 0s 8ms/step - loss: 0.0088\n",
      "Epoch 239/300\n",
      "1/1 [==============================] - 0s 0s/step - loss: 0.0086\n",
      "Epoch 240/300\n",
      "1/1 [==============================] - 0s 8ms/step - loss: 0.0084\n",
      "Epoch 241/300\n",
      "1/1 [==============================] - 0s 8ms/step - loss: 0.0082\n",
      "Epoch 242/300\n",
      "1/1 [==============================] - 0s 0s/step - loss: 0.0081\n",
      "Epoch 243/300\n",
      "1/1 [==============================] - 0s 0s/step - loss: 0.0079\n",
      "Epoch 244/300\n",
      "1/1 [==============================] - 0s 8ms/step - loss: 0.0077\n",
      "Epoch 245/300\n",
      "1/1 [==============================] - 0s 8ms/step - loss: 0.0076\n",
      "Epoch 246/300\n",
      "1/1 [==============================] - 0s 8ms/step - loss: 0.0074\n",
      "Epoch 247/300\n",
      "1/1 [==============================] - 0s 8ms/step - loss: 0.0073\n",
      "Epoch 248/300\n",
      "1/1 [==============================] - 0s 8ms/step - loss: 0.0071\n",
      "Epoch 249/300\n",
      "1/1 [==============================] - 0s 8ms/step - loss: 0.0070\n",
      "Epoch 250/300\n",
      "1/1 [==============================] - 0s 0s/step - loss: 0.0068\n",
      "Epoch 251/300\n",
      "1/1 [==============================] - 0s 8ms/step - loss: 0.0067\n",
      "Epoch 252/300\n",
      "1/1 [==============================] - 0s 0s/step - loss: 0.0066\n",
      "Epoch 253/300\n",
      "1/1 [==============================] - 0s 0s/step - loss: 0.0064\n",
      "Epoch 254/300\n",
      "1/1 [==============================] - 0s 0s/step - loss: 0.0063\n",
      "Epoch 255/300\n",
      "1/1 [==============================] - 0s 8ms/step - loss: 0.0062\n",
      "Epoch 256/300\n",
      "1/1 [==============================] - 0s 8ms/step - loss: 0.0060\n",
      "Epoch 257/300\n",
      "1/1 [==============================] - 0s 8ms/step - loss: 0.0059\n",
      "Epoch 258/300\n",
      "1/1 [==============================] - 0s 9ms/step - loss: 0.0058\n",
      "Epoch 259/300\n",
      "1/1 [==============================] - 0s 0s/step - loss: 0.0057\n",
      "Epoch 260/300\n",
      "1/1 [==============================] - 0s 0s/step - loss: 0.0056\n",
      "Epoch 261/300\n",
      "1/1 [==============================] - 0s 8ms/step - loss: 0.0054\n",
      "Epoch 262/300\n",
      "1/1 [==============================] - 0s 8ms/step - loss: 0.0053\n",
      "Epoch 263/300\n",
      "1/1 [==============================] - 0s 0s/step - loss: 0.0052\n",
      "Epoch 264/300\n",
      "1/1 [==============================] - 0s 8ms/step - loss: 0.0051\n",
      "Epoch 265/300\n",
      "1/1 [==============================] - 0s 0s/step - loss: 0.0050\n",
      "Epoch 266/300\n",
      "1/1 [==============================] - 0s 0s/step - loss: 0.0049\n",
      "Epoch 267/300\n",
      "1/1 [==============================] - 0s 8ms/step - loss: 0.0048\n",
      "Epoch 268/300\n",
      "1/1 [==============================] - 0s 8ms/step - loss: 0.0047\n",
      "Epoch 269/300\n",
      "1/1 [==============================] - 0s 8ms/step - loss: 0.0046\n",
      "Epoch 270/300\n",
      "1/1 [==============================] - 0s 8ms/step - loss: 0.0045\n",
      "Epoch 271/300\n",
      "1/1 [==============================] - 0s 8ms/step - loss: 0.0044\n",
      "Epoch 272/300\n",
      "1/1 [==============================] - 0s 8ms/step - loss: 0.0043\n",
      "Epoch 273/300\n",
      "1/1 [==============================] - 0s 8ms/step - loss: 0.0042\n",
      "Epoch 274/300\n",
      "1/1 [==============================] - 0s 16ms/step - loss: 0.0042\n",
      "Epoch 275/300\n",
      "1/1 [==============================] - 0s 8ms/step - loss: 0.0041\n",
      "Epoch 276/300\n",
      "1/1 [==============================] - 0s 8ms/step - loss: 0.0040\n",
      "Epoch 277/300\n",
      "1/1 [==============================] - 0s 8ms/step - loss: 0.0039\n",
      "Epoch 278/300\n",
      "1/1 [==============================] - 0s 8ms/step - loss: 0.0038\n",
      "Epoch 279/300\n",
      "1/1 [==============================] - 0s 8ms/step - loss: 0.0037\n",
      "Epoch 280/300\n",
      "1/1 [==============================] - 0s 8ms/step - loss: 0.0037\n",
      "Epoch 281/300\n",
      "1/1 [==============================] - 0s 24ms/step - loss: 0.0036\n",
      "Epoch 282/300\n",
      "1/1 [==============================] - 0s 8ms/step - loss: 0.0035\n",
      "Epoch 283/300\n",
      "1/1 [==============================] - 0s 0s/step - loss: 0.0034\n",
      "Epoch 284/300\n",
      "1/1 [==============================] - 0s 0s/step - loss: 0.0034\n",
      "Epoch 285/300\n",
      "1/1 [==============================] - 0s 0s/step - loss: 0.0033\n",
      "Epoch 286/300\n",
      "1/1 [==============================] - 0s 8ms/step - loss: 0.0032\n",
      "Epoch 287/300\n",
      "1/1 [==============================] - 0s 16ms/step - loss: 0.0032\n",
      "Epoch 288/300\n",
      "1/1 [==============================] - 0s 8ms/step - loss: 0.0031\n",
      "Epoch 289/300\n",
      "1/1 [==============================] - 0s 0s/step - loss: 0.0030\n",
      "Epoch 290/300\n",
      "1/1 [==============================] - 0s 0s/step - loss: 0.0030\n",
      "Epoch 291/300\n",
      "1/1 [==============================] - 0s 8ms/step - loss: 0.0029\n",
      "Epoch 292/300\n",
      "1/1 [==============================] - 0s 8ms/step - loss: 0.0029\n",
      "Epoch 293/300\n",
      "1/1 [==============================] - 0s 8ms/step - loss: 0.0028\n",
      "Epoch 294/300\n",
      "1/1 [==============================] - 0s 8ms/step - loss: 0.0027\n",
      "Epoch 295/300\n",
      "1/1 [==============================] - 0s 0s/step - loss: 0.0027\n",
      "Epoch 296/300\n",
      "1/1 [==============================] - 0s 8ms/step - loss: 0.0026\n",
      "Epoch 297/300\n",
      "1/1 [==============================] - 0s 8ms/step - loss: 0.0026\n",
      "Epoch 298/300\n",
      "1/1 [==============================] - 0s 8ms/step - loss: 0.0025\n",
      "Epoch 299/300\n",
      "1/1 [==============================] - 0s 8ms/step - loss: 0.0025\n",
      "Epoch 300/300\n",
      "1/1 [==============================] - 0s 8ms/step - loss: 0.0024\n"
     ]
    },
    {
     "data": {
      "text/plain": [
       "<keras.callbacks.History at 0x22da28c3580>"
      ]
     },
     "execution_count": 3,
     "metadata": {},
     "output_type": "execute_result"
    }
   ],
   "source": [
    "x = np.array([-1.0, 0.0, 1.0, 2.0, 3.0, 4.0])\n",
    "y = np.array([-3.0, -1.0, 1.0, 3.0, 5.0, 7.0])\n",
    "\n",
    "model.fit(x, y, epochs=300)"
   ]
  },
  {
   "cell_type": "code",
   "execution_count": 4,
   "metadata": {},
   "outputs": [
    {
     "name": "stdout",
     "output_type": "stream",
     "text": [
      "1/1 [==============================] - 0s 290ms/step\n"
     ]
    },
    {
     "data": {
      "text/plain": [
       "array([[18.856396]], dtype=float32)"
      ]
     },
     "execution_count": 4,
     "metadata": {},
     "output_type": "execute_result"
    }
   ],
   "source": [
    "model.predict([10.0])"
   ]
  },
  {
   "cell_type": "code",
   "execution_count": 5,
   "metadata": {},
   "outputs": [],
   "source": [
    "fashion_mnist = tf.keras.datasets.fashion_mnist\n",
    "(train_img, train_label), (test_img, test_label) = fashion_mnist.load_data()"
   ]
  },
  {
   "cell_type": "code",
   "execution_count": 6,
   "metadata": {},
   "outputs": [
    {
     "data": {
      "text/plain": [
       "(array([9, 0, 0, ..., 3, 0, 5], dtype=uint8),\n",
       " array([9, 2, 1, ..., 8, 1, 5], dtype=uint8))"
      ]
     },
     "execution_count": 6,
     "metadata": {},
     "output_type": "execute_result"
    }
   ],
   "source": [
    "train_label, test_label"
   ]
  },
  {
   "cell_type": "code",
   "execution_count": 7,
   "metadata": {},
   "outputs": [
    {
     "data": {
      "text/plain": [
       "<matplotlib.image.AxesImage at 0x22da9c194e0>"
      ]
     },
     "execution_count": 7,
     "metadata": {},
     "output_type": "execute_result"
    },
    {
     "data": {
      "image/png": "[encoded data removed]",
      "text/plain": [
       "<Figure size 432x288 with 1 Axes>"
      ]
     },
     "metadata": {
      "needs_background": "light"
     },
     "output_type": "display_data"
    }
   ],
   "source": [
    "plt.imshow(train_img[1])"
   ]
  },
  {
   "cell_type": "code",
   "execution_count": 8,
   "metadata": {},
   "outputs": [],
   "source": [
    "model = keras.Sequential([\n",
    "    keras.layers.Flatten(input_shape=(28, 28)),\n",
    "    keras.layers.Dense(128, activation=tf.nn.relu),\n",
    "    keras.layers.Dense(10, activation=tf.nn.softmax)\n",
    "])"
   ]
  },
  {
   "cell_type": "code",
   "execution_count": 9,
   "metadata": {},
   "outputs": [
    {
     "name": "stdout",
     "output_type": "stream",
     "text": [
      "input to softmax function: [[1. 3. 4. 2.]]\n",
      "output of softmax function: [[0.0320586  0.23688282 0.64391426 0.08714432]]\n",
      "sum of outputs: 1.0\n",
      "class with highest probability: 2\n"
     ]
    }
   ],
   "source": [
    "inputs = np.array([[1.0, 3.0, 4.0, 2.0]])\n",
    "inputs = tf.convert_to_tensor(inputs)\n",
    "print(f'input to softmax function: {inputs.numpy()}')\n",
    "\n",
    "outputs = tf.keras.activations.softmax(inputs)\n",
    "print(f'output of softmax function: {outputs.numpy()}')\n",
    "\n",
    "sum = tf.reduce_sum(outputs)\n",
    "print(f'sum of outputs: {sum}')\n",
    "\n",
    "pred = np.argmax(outputs)\n",
    "print(f'class with highest probability: {pred}')"
   ]
  },
  {
   "cell_type": "code",
   "execution_count": 10,
   "metadata": {},
   "outputs": [
    {
     "name": "stdout",
     "output_type": "stream",
     "text": [
      "Epoch 1/5\n",
      "1875/1875 [==============================] - 5s 2ms/step - loss: 4.2162 - accuracy: 0.6813\n",
      "Epoch 2/5\n",
      "1875/1875 [==============================] - 6s 3ms/step - loss: 0.7371 - accuracy: 0.7153\n",
      "Epoch 3/5\n",
      "1875/1875 [==============================] - 6s 3ms/step - loss: 0.6344 - accuracy: 0.7443\n",
      "Epoch 4/5\n",
      "1875/1875 [==============================] - 5s 3ms/step - loss: 0.5904 - accuracy: 0.7733\n",
      "Epoch 5/5\n",
      "1875/1875 [==============================] - 4s 2ms/step - loss: 0.5260 - accuracy: 0.8127\n"
     ]
    },
    {
     "data": {
      "text/plain": [
       "<keras.callbacks.History at 0x22db2131600>"
      ]
     },
     "execution_count": 10,
     "metadata": {},
     "output_type": "execute_result"
    }
   ],
   "source": [
    "model.compile(\n",
    "    optimizer=tf.optimizers.Adam(),\n",
    "    loss='sparse_categorical_crossentropy',\n",
    "    metrics=['accuracy']\n",
    ")\n",
    "\n",
    "model.fit(train_img, train_label, epochs=5)"
   ]
  },
  {
   "cell_type": "code",
   "execution_count": 11,
   "metadata": {},
   "outputs": [
    {
     "name": "stdout",
     "output_type": "stream",
     "text": [
      "313/313 [==============================] - 1s 2ms/step - loss: 0.5552 - accuracy: 0.8112\n"
     ]
    },
    {
     "data": {
      "text/plain": [
       "[0.5552379488945007, 0.8112000226974487]"
      ]
     },
     "execution_count": 11,
     "metadata": {},
     "output_type": "execute_result"
    }
   ],
   "source": [
    "model.evaluate(test_img, test_label)"
   ]
  },
  {
   "cell_type": "code",
   "execution_count": 14,
   "metadata": {},
   "outputs": [
    {
     "name": "stdout",
     "output_type": "stream",
     "text": [
      "Epoch 1/5\n",
      "1875/1875 [==============================] - 11s 6ms/step - loss: 0.8850\n",
      "Epoch 2/5\n",
      "1875/1875 [==============================] - 11s 6ms/step - loss: 0.5493\n",
      "Epoch 3/5\n",
      "1875/1875 [==============================] - 11s 6ms/step - loss: 0.4895\n",
      "Epoch 4/5\n",
      "1875/1875 [==============================] - 11s 6ms/step - loss: 0.4566\n",
      "Epoch 5/5\n",
      "1875/1875 [==============================] - 10s 5ms/step - loss: 0.4364\n"
     ]
    },
    {
     "data": {
      "text/plain": [
       "<keras.callbacks.History at 0x22da9bc2440>"
      ]
     },
     "execution_count": 14,
     "metadata": {},
     "output_type": "execute_result"
    }
   ],
   "source": [
    "train_img = train_img/255.0\n",
    "test_img = test_img/255.0\n",
    "\n",
    "# callback class 실행\n",
    "callbacks = myCallback()\n",
    "\n",
    "model = tf.keras.models.Sequential([\n",
    "    tf.keras.layers.Flatten(),\n",
    "    tf.keras.layers.Dense(512, activation=tf.nn.relu),\n",
    "    tf.keras.layers.Dense(10, activation=tf.nn.softmax)\n",
    "])\n",
    "\n",
    "model.compile(optimizer='adam', loss='sparse_categorical_crossentropy')\n",
    "model.fit(train_img, train_label, epochs=5, callbacks=[callbacks])"
   ]
  },
  {
   "cell_type": "code",
   "execution_count": 13,
   "metadata": {},
   "outputs": [],
   "source": [
    "class myCallback(tf.keras.callbacks.Callback):\n",
    "    def on_epoch_enc(self, epoch, logs={}):\n",
    "        if(logs.get('loss')<0.4):\n",
    "            print('\\nLoss is low so cancelling training!')\n",
    "            self.model.stop_training=True"
   ]
  },
  {
   "cell_type": "code",
   "execution_count": null,
   "metadata": {},
   "outputs": [],
   "source": [
    "model = tf.keras.models.Sequential([\n",
    "    tf.keras.layers.Conv2D(64, (3,3), activation='relu', input_shape=(28, 28, 1)),      # (64, (3,3)): 64 filters size of 3*3\n",
    "    tf.keras.layers.MaxPool2D(2,2),\n",
    "    tf.keras.layers.Conv2D(64, (3,3), activation='relu'),\n",
    "    tf.keras.layers.MaxPool2D(2,2),\n",
    "    tf.keras.layers.Flatten(),\n",
    "    tf.keras.layers.Dense(128, activation='relu'),      # dense layer: connects input and output\n",
    "    tf.keras.layers.Dense(10, activation='softmax')\n",
    "])"
   ]
  },
  {
   "cell_type": "code",
   "execution_count": 15,
   "metadata": {},
   "outputs": [
    {
     "name": "stdout",
     "output_type": "stream",
     "text": [
      "Model: \"sequential_2\"\n",
      "_________________________________________________________________\n",
      " Layer (type)                Output Shape              Param #   \n",
      "=================================================================\n",
      " flatten_1 (Flatten)         (32, 784)                 0         \n",
      "                                                                 \n",
      " dense_3 (Dense)             (32, 512)                 401920    \n",
      "                                                                 \n",
      " dense_4 (Dense)             (32, 10)                  5130      \n",
      "                                                                 \n",
      "=================================================================\n",
      "Total params: 407,050\n",
      "Trainable params: 407,050\n",
      "Non-trainable params: 0\n",
      "_________________________________________________________________\n"
     ]
    }
   ],
   "source": [
    "model.summary()\n",
    "\n",
    "# it is important to look at 'Output Shape' column\n",
    "# 4th line, (None, 5, 5, 64): 64 images size of 5*5"
   ]
  },
  {
   "cell_type": "code",
   "execution_count": 16,
   "metadata": {},
   "outputs": [
    {
     "data": {
      "text/plain": [
       "array([9, 2, 1, 1, 6, 1, 4, 6, 5, 7, 4, 5, 7, 3, 4, 1, 2, 4, 8, 0, 2, 5,\n",
       "       7, 9, 1, 4, 6, 0, 9, 3, 8, 8, 3, 3, 8, 0, 7, 5, 7, 9, 6, 1, 3, 7,\n",
       "       6, 7, 2, 1, 2, 2, 4, 4, 5, 8, 2, 2, 8, 4, 8, 0, 7, 7, 8, 5, 1, 1,\n",
       "       2, 3, 9, 8, 7, 0, 2, 6, 2, 3, 1, 2, 8, 4, 1, 8, 5, 9, 5, 0, 3, 2,\n",
       "       0, 6, 5, 3, 6, 7, 1, 8, 0, 1, 4, 2], dtype=uint8)"
      ]
     },
     "execution_count": 16,
     "metadata": {},
     "output_type": "execute_result"
    }
   ],
   "source": [
    "test_label[:100]"
   ]
  },
  {
   "cell_type": "code",
   "execution_count": null,
   "metadata": {},
   "outputs": [
    {
     "name": "stdout",
     "output_type": "stream",
     "text": [
      "1/1 [==============================] - 0s 47ms/step\n",
      "1/1 [==============================] - 0s 13ms/step\n",
      "1/1 [==============================] - 0s 15ms/step\n",
      "1/1 [==============================] - 0s 13ms/step\n",
      "1/1 [==============================] - 0s 14ms/step\n",
      "1/1 [==============================] - 0s 13ms/step\n",
      "1/1 [==============================] - 0s 13ms/step\n",
      "1/1 [==============================] - 0s 13ms/step\n",
      "1/1 [==============================] - 0s 13ms/step\n",
      "1/1 [==============================] - 0s 12ms/step\n",
      "1/1 [==============================] - 0s 12ms/step\n",
      "1/1 [==============================] - 0s 13ms/step\n"
     ]
    },
    {
     "data": {
      "image/png": "[encoded data removed]",
      "text/plain": [
       "<Figure size 432x288 with 12 Axes>"
      ]
     },
     "metadata": {
      "needs_background": "light"
     },
     "output_type": "display_data"
    }
   ],
   "source": [
    "import matplotlib.pyplot as plt\n",
    "from tensorflow.keras import models\n",
    "\n",
    "f, axarr = plt.subplots(3,4)\n",
    "\n",
    "first_img = 0\n",
    "second_img = 23\n",
    "third_img = 1\n",
    "conv_num = 0\n",
    "\n",
    "layer_outputs = [layer.output for layer in model.layers]\n",
    "activation_model = tf.keras.models.Model(inputs=model.input, outputs=layer_outputs)\n",
    "\n",
    "for x in range(0,4):\n",
    "    f1 = activation_model.predict(test_img[first_img].reshape(1, 28, 28, 1))[x]\n",
    "    axarr[0,x].imshow(f1[0, :, :, conv_num], cmap='inferno')\n",
    "    axarr[0,x].grid(False)\n",
    "\n",
    "    f2 = activation_model.predict(test_img[second_img].reshape(1, 28, 28, 1))[x]\n",
    "    axarr[1,x].imshow(f2[0, :, :, conv_num], cmap='inferno')\n",
    "    axarr[1,x].grid(False)\n",
    "\n",
    "    f3 = activation_model.predict(test_img[third_img].reshape(1, 28, 28, 1))[x]\n",
    "    axarr[2,x].imshow(f3[0, :, :, conv_num], cmap='inferno')\n",
    "    axarr[2,x].grid(False)"
   ]
  },
  {
   "cell_type": "code",
   "execution_count": 17,
   "metadata": {},
   "outputs": [],
   "source": [
    "from scipy import misc\n",
    "ascent_img = misc.ascent()"
   ]
  },
  {
   "cell_type": "code",
   "execution_count": 18,
   "metadata": {},
   "outputs": [
    {
     "data": {
      "image/png": "[encoded data removed]",
      "text/plain": [
       "<Figure size 432x288 with 1 Axes>"
      ]
     },
     "metadata": {
      "needs_background": "light"
     },
     "output_type": "display_data"
    }
   ],
   "source": [
    "plt.grid(False)\n",
    "plt.gray()\n",
    "plt.axis('off')\n",
    "plt.imshow(ascent_img)\n",
    "plt.show()"
   ]
  },
  {
   "cell_type": "code",
   "execution_count": 19,
   "metadata": {},
   "outputs": [],
   "source": [
    "import numpy as np\n",
    "\n",
    "img_transformed = np.copy(ascent_img)\n",
    "\n",
    "# get dimensions of img\n",
    "size_x = img_transformed.shape[0]\n",
    "size_y = img_transformed.shape[1]\n",
    "\n",
    "filter = [[0, 1, 0], [1, -4, 1], [0, 1, 0]]\n",
    "weight = 1"
   ]
  },
  {
   "cell_type": "code",
   "execution_count": 20,
   "metadata": {},
   "outputs": [],
   "source": [
    "from tensorflow.keras.preprocessing.image import ImageDataGenerator"
   ]
  },
  {
   "cell_type": "code",
   "execution_count": 28,
   "metadata": {},
   "outputs": [],
   "source": [
    "model = tf.keras.models.Sequential([\n",
    "    tf.keras.layers.Conv2D(16, (3,3), activation='relu', input_shape=(300, 300, 3)),\n",
    "    tf.keras.layers.MaxPool2D(2, 2),\n",
    "    tf.keras.layers.Conv2D(32, (3,3), activation='relu'),\n",
    "    tf.keras.layers.MaxPool2D(2,2),\n",
    "    tf.keras.layers.Conv2D(64, (3,3), activation='relu'),\n",
    "    tf.keras.layers.MaxPool2D(2,2),\n",
    "    tf.keras.layers.Flatten(),\n",
    "    tf.keras.layers.Dense(512, activation='relu'),\n",
    "    tf.keras.layers.Dense(1, activation='sigmoid')\n",
    "])"
   ]
  },
  {
   "cell_type": "code",
   "execution_count": 30,
   "metadata": {},
   "outputs": [
    {
     "name": "stdout",
     "output_type": "stream",
     "text": [
      "Model: \"sequential_3\"\n",
      "_________________________________________________________________\n",
      " Layer (type)                Output Shape              Param #   \n",
      "=================================================================\n",
      " conv2d (Conv2D)             (None, 298, 298, 16)      448       \n",
      "                                                                 \n",
      " max_pooling2d (MaxPooling2D  (None, 149, 149, 16)     0         \n",
      " )                                                               \n",
      "                                                                 \n",
      " conv2d_1 (Conv2D)           (None, 147, 147, 32)      4640      \n",
      "                                                                 \n",
      " max_pooling2d_1 (MaxPooling  (None, 73, 73, 32)       0         \n",
      " 2D)                                                             \n",
      "                                                                 \n",
      " conv2d_2 (Conv2D)           (None, 71, 71, 64)        18496     \n",
      "                                                                 \n",
      " max_pooling2d_2 (MaxPooling  (None, 35, 35, 64)       0         \n",
      " 2D)                                                             \n",
      "                                                                 \n",
      " flatten_2 (Flatten)         (None, 78400)             0         \n",
      "                                                                 \n",
      " dense_5 (Dense)             (None, 512)               40141312  \n",
      "                                                                 \n",
      " dense_6 (Dense)             (None, 1)                 513       \n",
      "                                                                 \n",
      "=================================================================\n",
      "Total params: 40,165,409\n",
      "Trainable params: 40,165,409\n",
      "Non-trainable params: 0\n",
      "_________________________________________________________________\n"
     ]
    }
   ],
   "source": [
    "model.summary()"
   ]
  },
  {
   "cell_type": "code",
   "execution_count": 31,
   "metadata": {},
   "outputs": [
    {
     "name": "stderr",
     "output_type": "stream",
     "text": [
      "c:\\Users\\hoon9\\AppData\\Local\\Programs\\Python\\Python310\\lib\\site-packages\\keras\\optimizers\\optimizer_v2\\rmsprop.py:135: UserWarning: The `lr` argument is deprecated, use `learning_rate` instead.\n",
      "  super(RMSprop, self).__init__(name, **kwargs)\n"
     ]
    }
   ],
   "source": [
    "from tensorflow.keras.optimizers import RMSprop\n",
    "\n",
    "model.compile(loss='binary_crossentropy',\n",
    "optimizer=RMSprop(lr=0.001),\n",
    "metrics=['accuracy'])"
   ]
  },
  {
   "cell_type": "markdown",
   "metadata": {},
   "source": [
    "### 이수안 컴퓨터연구소 강의"
   ]
  },
  {
   "cell_type": "markdown",
   "metadata": {},
   "source": [
    "#### datatype 정의"
   ]
  },
  {
   "cell_type": "code",
   "execution_count": 1,
   "metadata": {},
   "outputs": [
    {
     "ename": "NameError",
     "evalue": "name 'tf' is not defined",
     "output_type": "error",
     "traceback": [
      "\u001b[1;31m---------------------------------------------------------------------------\u001b[0m",
      "\u001b[1;31mNameError\u001b[0m                                 Traceback (most recent call last)",
      "\u001b[1;32mc:\\Users\\hoon9\\OneDrive\\바탕 화면\\hoon\\DA_masters\\self_study\\tf_txtbook.ipynb Cell 1'\u001b[0m in \u001b[0;36m<cell line: 1>\u001b[1;34m()\u001b[0m\n\u001b[1;32m----> <a href='vscode-notebook-cell:/c%3A/Users/hoon9/OneDrive/%EB%B0%94%ED%83%95%20%ED%99%94%EB%A9%B4/hoon/DA_masters/self_study/tf_txtbook.ipynb#ch0000000?line=0'>1</a>\u001b[0m i \u001b[39m=\u001b[39m tf\u001b[39m.\u001b[39mconstant(\u001b[39m2\u001b[39m)\n\u001b[0;32m      <a href='vscode-notebook-cell:/c%3A/Users/hoon9/OneDrive/%EB%B0%94%ED%83%95%20%ED%99%94%EB%A9%B4/hoon/DA_masters/self_study/tf_txtbook.ipynb#ch0000000?line=1'>2</a>\u001b[0m \u001b[39mprint\u001b[39m(i)\n",
      "\u001b[1;31mNameError\u001b[0m: name 'tf' is not defined"
     ]
    }
   ],
   "source": [
    "i = tf.constant(2)\n",
    "print(i)"
   ]
  },
  {
   "cell_type": "code",
   "execution_count": null,
   "metadata": {},
   "outputs": [
    {
     "name": "stdout",
     "output_type": "stream",
     "text": [
      "tf.Tensor(2.0, shape=(), dtype=float32)\n"
     ]
    }
   ],
   "source": [
    "f = tf.constant(2.)\n",
    "print(f)"
   ]
  },
  {
   "cell_type": "code",
   "execution_count": 6,
   "metadata": {},
   "outputs": [
    {
     "name": "stdout",
     "output_type": "stream",
     "text": [
      "tf.Tensor(2.0, shape=(), dtype=float16)\n"
     ]
    }
   ],
   "source": [
    "f16 = tf.constant(2., dtype=tf.float16)\n",
    "print(f16)"
   ]
  },
  {
   "cell_type": "code",
   "execution_count": 7,
   "metadata": {},
   "outputs": [
    {
     "name": "stdout",
     "output_type": "stream",
     "text": [
      "tf.Tensor(2.0, shape=(), dtype=float32)\n"
     ]
    }
   ],
   "source": [
    "# tf.cast: dtype 변환\n",
    "f32 = tf.cast(f16, tf.float32)\n",
    "print(f32)"
   ]
  },
  {
   "cell_type": "markdown",
   "metadata": {},
   "source": [
    "#### Dense layer\n",
    "- fully connected layer(완전연결층)\n",
    "- 노드 수(유닛 수), activation function 등 지정\n",
    "- name을 통해 레이어간 구분 가능\n",
    "- 가중치 초기화(kernel initializer)\n",
    "    - 보통 가중치의 초기값으로 0에 가까운 무작위 값 사용"
   ]
  },
  {
   "cell_type": "code",
   "execution_count": 8,
   "metadata": {},
   "outputs": [
    {
     "data": {
      "text/plain": [
       "<keras.layers.core.dense.Dense at 0x1bcf8d295d0>"
      ]
     },
     "execution_count": 8,
     "metadata": {},
     "output_type": "execute_result"
    }
   ],
   "source": [
    "tf.keras.layers.Dense(10, activation='softmax', name='Dense Layer')"
   ]
  },
  {
   "cell_type": "code",
   "execution_count": 9,
   "metadata": {},
   "outputs": [
    {
     "data": {
      "text/plain": [
       "<keras.layers.core.dense.Dense at 0x1bcf8d298d0>"
      ]
     },
     "execution_count": 9,
     "metadata": {},
     "output_type": "execute_result"
    }
   ],
   "source": [
    "tf.keras.layers.Dense(10, kernel_initializer='he_normal', name='Dense Layer')"
   ]
  },
  {
   "cell_type": "markdown",
   "metadata": {},
   "source": [
    "- Flatten: 배치 크기(or 데이터 크기)를 제외하고 데이터를 1차원으로 펼치는 작업\n",
    "    - e.g) (128, 3, 2, 2) -> (128, 12)"
   ]
  },
  {
   "cell_type": "markdown",
   "metadata": {},
   "source": [
    "- Sequential: 모델을 순차적인 구조로 진행할 때 사용"
   ]
  },
  {
   "cell_type": "code",
   "execution_count": 10,
   "metadata": {},
   "outputs": [],
   "source": [
    "from tensorflow.keras.layers import Dense, Input, Flatten\n",
    "from tensorflow.keras.models import Sequential, Model\n",
    "from tensorflow.keras.utils import plot_model"
   ]
  },
  {
   "cell_type": "code",
   "execution_count": 11,
   "metadata": {},
   "outputs": [
    {
     "name": "stdout",
     "output_type": "stream",
     "text": [
      "You must install pydot (`pip install pydot`) and install graphviz (see instructions at https://graphviz.gitlab.io/download/) for plot_model/model_to_dot to work.\n"
     ]
    }
   ],
   "source": [
    "model = Sequential([\n",
    "    Input(shape=(28, 28)),\n",
    "    Dense(300, activation='relu'),\n",
    "    Dense(100, activation='relu'),\n",
    "    Dense(10, activation='softmax')\n",
    "])\n",
    "\n",
    "plot_model(model)"
   ]
  },
  {
   "cell_type": "markdown",
   "metadata": {},
   "source": [
    "#### 함수형 API로 nn 생성"
   ]
  },
  {
   "cell_type": "code",
   "execution_count": 12,
   "metadata": {},
   "outputs": [
    {
     "name": "stdout",
     "output_type": "stream",
     "text": [
      "Model: \"model\"\n",
      "_________________________________________________________________\n",
      " Layer (type)                Output Shape              Param #   \n",
      "=================================================================\n",
      " input_2 (InputLayer)        [(None, 28, 28, 1)]       0         \n",
      "                                                                 \n",
      " flatten (Flatten)           (None, 784)               0         \n",
      "                                                                 \n",
      " dense_3 (Dense)             (None, 300)               235500    \n",
      "                                                                 \n",
      " dense_4 (Dense)             (None, 100)               30100     \n",
      "                                                                 \n",
      " dense_5 (Dense)             (None, 10)                1010      \n",
      "                                                                 \n",
      "=================================================================\n",
      "Total params: 266,610\n",
      "Trainable params: 266,610\n",
      "Non-trainable params: 0\n",
      "_________________________________________________________________\n"
     ]
    }
   ],
   "source": [
    "inputs = Input(shape=(28, 28, 1))\n",
    "x = Flatten(input_shape=(28, 28, 1))(inputs)\n",
    "x = Dense(300, activation='relu')(x)\n",
    "x = Dense(100, activation='relu')(x)\n",
    "x = Dense(10, activation='softmax')(x)\n",
    "\n",
    "model = Model(inputs=inputs, outputs=x)\n",
    "model.summary()"
   ]
  },
  {
   "cell_type": "code",
   "execution_count": 13,
   "metadata": {},
   "outputs": [
    {
     "name": "stdout",
     "output_type": "stream",
     "text": [
      "You must install pydot (`pip install pydot`) and install graphviz (see instructions at https://graphviz.gitlab.io/download/) for plot_model/model_to_dot to work.\n"
     ]
    }
   ],
   "source": [
    "plot_model(model)"
   ]
  },
  {
   "cell_type": "code",
   "execution_count": 14,
   "metadata": {},
   "outputs": [
    {
     "name": "stdout",
     "output_type": "stream",
     "text": [
      "Model: \"model_1\"\n",
      "__________________________________________________________________________________________________\n",
      " Layer (type)                   Output Shape         Param #     Connected to                     \n",
      "==================================================================================================\n",
      " input_3 (InputLayer)           [(None, 10, 10)]     0           []                               \n",
      "                                                                                                  \n",
      " dense_6 (Dense)                (None, 10, 100)      1100        ['input_3[0][0]']                \n",
      "                                                                                                  \n",
      " dense_7 (Dense)                (None, 10, 10)       1010        ['dense_6[0][0]']                \n",
      "                                                                                                  \n",
      " dense_8 (Dense)                (None, 10, 1)        11          ['dense_7[0][0]']                \n",
      "                                                                                                  \n",
      " dense_9 (Dense)                (None, 10, 1)        11          ['dense_7[0][0]']                \n",
      "                                                                                                  \n",
      "==================================================================================================\n",
      "Total params: 2,132\n",
      "Trainable params: 2,132\n",
      "Non-trainable params: 0\n",
      "__________________________________________________________________________________________________\n"
     ]
    }
   ],
   "source": [
    "input = Input(shape=(10, 10))\n",
    "hidden1 = Dense(100, activation='relu')(input)\n",
    "hidden2 = Dense(10, activation='relu')(hidden1)\n",
    "output = Dense(1, activation='sigmoid')(hidden2)\n",
    "sub_out = Dense(1, )(hidden2)\n",
    "\n",
    "model = Model(inputs=[input], outputs=[output, sub_out])\n",
    "model.summary()"
   ]
  },
  {
   "cell_type": "markdown",
   "metadata": {},
   "source": [
    "### Subclassing(서브클래싱)\n",
    "- 커스터마이징에 최적화된 방법\n",
    "- Model class 상속받아 Model이 포함하는 기능 사용 가능\n",
    "    - fit(), evaluate(), predict()...\n",
    "    - save(), load()\n",
    "- 주로 call() 메소드 안에서 원하는 계산 가능\n",
    "    - for, if, 저수준 연산 등"
   ]
  },
  {
   "cell_type": "code",
   "execution_count": 15,
   "metadata": {},
   "outputs": [],
   "source": [
    "class MyModel(Model):\n",
    "    def __init__(self, units=30, activation='relu', **kwargs):\n",
    "        super(MyModel, self).__init__(**kwargs)\n",
    "        self.dense_1 = Dense(300, activation=activation)\n",
    "        self.dense_2 = Dense(100, activation=activation)\n",
    "        self.dense_3 = Dense(units, activation=activation)\n",
    "        self.output = Dense(10, activation='softmax')\n",
    "\n",
    "    def call(self, inputs):\n",
    "        x = self.dense_1(inputs)\n",
    "        x = self.dense_2(x)\n",
    "        x = self.dense_3(x)\n",
    "        x = self.output(x)\n",
    "        return x"
   ]
  },
  {
   "cell_type": "markdown",
   "metadata": {},
   "source": [
    "### 모델 가중치 확인"
   ]
  },
  {
   "cell_type": "code",
   "execution_count": 16,
   "metadata": {},
   "outputs": [
    {
     "name": "stdout",
     "output_type": "stream",
     "text": [
      "Model: \"model_2\"\n",
      "_________________________________________________________________\n",
      " Layer (type)                Output Shape              Param #   \n",
      "=================================================================\n",
      " input_4 (InputLayer)        [(None, 28, 28, 1)]       0         \n",
      "                                                                 \n",
      " flatten_1 (Flatten)         (None, 784)               0         \n",
      "                                                                 \n",
      " dense_10 (Dense)            (None, 300)               235500    \n",
      "                                                                 \n",
      " dense_11 (Dense)            (None, 100)               30100     \n",
      "                                                                 \n",
      " dense_12 (Dense)            (None, 10)                1010      \n",
      "                                                                 \n",
      "=================================================================\n",
      "Total params: 266,610\n",
      "Trainable params: 266,610\n",
      "Non-trainable params: 0\n",
      "_________________________________________________________________\n"
     ]
    }
   ],
   "source": [
    "inputs = Input(shape=(28, 28, 1))\n",
    "x = Flatten(input_shape=(28, 28, 1))(inputs)\n",
    "x = Dense(300, activation='relu')(x)\n",
    "x = Dense(100, activation='relu')(x)\n",
    "x = Dense(10, activation='softmax')(x)\n",
    "\n",
    "model = Model(inputs=inputs, outputs=x)\n",
    "model.summary()"
   ]
  },
  {
   "cell_type": "markdown",
   "metadata": {},
   "source": [
    "#### 모델 안에 있는 layer에 접근"
   ]
  },
  {
   "cell_type": "code",
   "execution_count": 17,
   "metadata": {},
   "outputs": [
    {
     "data": {
      "text/plain": [
       "[<keras.engine.input_layer.InputLayer at 0x1bcf8ff7d30>,\n",
       " <keras.layers.reshaping.flatten.Flatten at 0x1bcf8ff7700>,\n",
       " <keras.layers.core.dense.Dense at 0x1bcf903b5e0>,\n",
       " <keras.layers.core.dense.Dense at 0x1bcf8ff74c0>,\n",
       " <keras.layers.core.dense.Dense at 0x1bcf8fa1c90>]"
      ]
     },
     "execution_count": 17,
     "metadata": {},
     "output_type": "execute_result"
    }
   ],
   "source": [
    "model.layers"
   ]
  },
  {
   "cell_type": "code",
   "execution_count": 18,
   "metadata": {},
   "outputs": [
    {
     "data": {
      "text/plain": [
       "'dense_10'"
      ]
     },
     "execution_count": 18,
     "metadata": {},
     "output_type": "execute_result"
    }
   ],
   "source": [
    "layer_2 = model.layers[2]\n",
    "layer_2.name"
   ]
  },
  {
   "cell_type": "code",
   "execution_count": 23,
   "metadata": {},
   "outputs": [
    {
     "data": {
      "text/plain": [
       "True"
      ]
     },
     "execution_count": 23,
     "metadata": {},
     "output_type": "execute_result"
    }
   ],
   "source": [
    "# layer 가져오기\n",
    "model.get_layer('dense_10') is layer_2"
   ]
  },
  {
   "cell_type": "code",
   "execution_count": 24,
   "metadata": {},
   "outputs": [
    {
     "name": "stdout",
     "output_type": "stream",
     "text": [
      "(784, 300)\n",
      "(300,)\n"
     ]
    }
   ],
   "source": [
    "weights, biases = layer_2.get_weights()\n",
    "print(weights.shape)    # (number of input weights, number of output weights)\n",
    "print(biases.shape)"
   ]
  },
  {
   "cell_type": "code",
   "execution_count": 25,
   "metadata": {},
   "outputs": [
    {
     "name": "stdout",
     "output_type": "stream",
     "text": [
      "-0.011825047\n"
     ]
    }
   ],
   "source": [
    "print(weights[700,200])"
   ]
  },
  {
   "cell_type": "code",
   "execution_count": 26,
   "metadata": {},
   "outputs": [
    {
     "name": "stdout",
     "output_type": "stream",
     "text": [
      "[0. 0. 0. 0. 0. 0. 0. 0. 0. 0. 0. 0. 0. 0. 0. 0. 0. 0. 0. 0. 0. 0. 0. 0.\n",
      " 0. 0. 0. 0. 0. 0. 0. 0. 0. 0. 0. 0. 0. 0. 0. 0. 0. 0. 0. 0. 0. 0. 0. 0.\n",
      " 0. 0. 0. 0. 0. 0. 0. 0. 0. 0. 0. 0. 0. 0. 0. 0. 0. 0. 0. 0. 0. 0. 0. 0.\n",
      " 0. 0. 0. 0. 0. 0. 0. 0. 0. 0. 0. 0. 0. 0. 0. 0. 0. 0. 0. 0. 0. 0. 0. 0.\n",
      " 0. 0. 0. 0. 0. 0. 0. 0. 0. 0. 0. 0. 0. 0. 0. 0. 0. 0. 0. 0. 0. 0. 0. 0.\n",
      " 0. 0. 0. 0. 0. 0. 0. 0. 0. 0. 0. 0. 0. 0. 0. 0. 0. 0. 0. 0. 0. 0. 0. 0.\n",
      " 0. 0. 0. 0. 0. 0. 0. 0. 0. 0. 0. 0. 0. 0. 0. 0. 0. 0. 0. 0. 0. 0. 0. 0.\n",
      " 0. 0. 0. 0. 0. 0. 0. 0. 0. 0. 0. 0. 0. 0. 0. 0. 0. 0. 0. 0. 0. 0. 0. 0.\n",
      " 0. 0. 0. 0. 0. 0. 0. 0. 0. 0. 0. 0. 0. 0. 0. 0. 0. 0. 0. 0. 0. 0. 0. 0.\n",
      " 0. 0. 0. 0. 0. 0. 0. 0. 0. 0. 0. 0. 0. 0. 0. 0. 0. 0. 0. 0. 0. 0. 0. 0.\n",
      " 0. 0. 0. 0. 0. 0. 0. 0. 0. 0. 0. 0. 0. 0. 0. 0. 0. 0. 0. 0. 0. 0. 0. 0.\n",
      " 0. 0. 0. 0. 0. 0. 0. 0. 0. 0. 0. 0. 0. 0. 0. 0. 0. 0. 0. 0. 0. 0. 0. 0.\n",
      " 0. 0. 0. 0. 0. 0. 0. 0. 0. 0. 0. 0.]\n"
     ]
    }
   ],
   "source": [
    "print(biases)"
   ]
  },
  {
   "cell_type": "markdown",
   "metadata": {},
   "source": [
    "### Model Compile\n",
    "- 모델을 구상한 후, 사용할 loss function, optimizer 지정"
   ]
  },
  {
   "cell_type": "code",
   "execution_count": 27,
   "metadata": {},
   "outputs": [],
   "source": [
    "model.compile(loss='sparse_categorical_crossentropy',\n",
    "              optimizer='sgd',\n",
    "              metrics=['accuracy'])"
   ]
  },
  {
   "cell_type": "markdown",
   "metadata": {},
   "source": [
    "### Backpropagation(오차역전파)\n",
    "- forward(정방향) 연산을 통해 loss value구함\n",
    "- 각 layer별로 역전파 학습을 위해 중간값 저장\n",
    "- 최종 layer(output)부터 반대로 돌아가면서 layer별로 저장된 값을 이용해 학습 파라미터(weight, bias) 갱신"
   ]
  },
  {
   "cell_type": "code",
   "execution_count": 28,
   "metadata": {},
   "outputs": [],
   "source": [
    "import tensorflow as tf\n",
    "from tensorflow.keras.datasets.mnist import load_data\n",
    "from tensorflow.keras.models import Sequential\n",
    "from tensorflow.keras import models\n",
    "from tensorflow.keras.layers import Dense, Flatten, Input\n",
    "from tensorflow.keras.utils import to_categorical, plot_model\n",
    "\n",
    "from sklearn.model_selection import train_test_split\n",
    "import numpy as np\n",
    "import matplotlib.pyplot as plt\n",
    "\n",
    "plt.style.use('seaborn-white')"
   ]
  },
  {
   "cell_type": "code",
   "execution_count": 29,
   "metadata": {},
   "outputs": [],
   "source": [
    "tf.random.set_seed(42)\n",
    "\n",
    "(x_train_full, y_train_full), (x_test, y_test) = load_data(path='mnits.npz')\n",
    "\n",
    "x_train, x_val, y_train, y_val = train_test_split(x_train_full, y_train_full, test_size=0.3, random_state=42)"
   ]
  },
  {
   "cell_type": "code",
   "execution_count": 30,
   "metadata": {},
   "outputs": [],
   "source": [
    "num_x_train = x_train.shape[0]\n",
    "num_x_val = x_val.shape[0]\n",
    "num_x_test = x_test.shape[0]"
   ]
  },
  {
   "cell_type": "code",
   "execution_count": 31,
   "metadata": {},
   "outputs": [
    {
     "data": {
      "image/png": "[encoded data removed]",
      "text/plain": [
       "<Figure size 1080x216 with 5 Axes>"
      ]
     },
     "metadata": {
      "needs_background": "light"
     },
     "output_type": "display_data"
    }
   ],
   "source": [
    "num_sample = 5\n",
    "random_idx = np.random.randint(60000, size=num_sample)\n",
    "\n",
    "plt.figure(figsize=(15,3))\n",
    "for i, idx in enumerate(random_idx):\n",
    "    img = x_train_full[idx, :]\n",
    "    label = y_train_full[idx]\n",
    "\n",
    "    plt.subplot(1, len(random_idx), i+1)\n",
    "    plt.imshow(img)\n",
    "    plt.title(f'index: {idx}, label: {label}')"
   ]
  },
  {
   "cell_type": "code",
   "execution_count": 32,
   "metadata": {},
   "outputs": [],
   "source": [
    "# normalization\n",
    "x_train = x_train/255.\n",
    "x_val = x_val/255.\n",
    "x_test = x_test/255.\n",
    "\n",
    "y_train = to_categorical(y_train)\n",
    "y_val = to_categorical(y_val)\n",
    "y_test = to_categorical(y_test)"
   ]
  },
  {
   "cell_type": "markdown",
   "metadata": {},
   "source": [
    "### 모델 구성(Sequential)"
   ]
  },
  {
   "cell_type": "code",
   "execution_count": 33,
   "metadata": {},
   "outputs": [
    {
     "name": "stdout",
     "output_type": "stream",
     "text": [
      "Model: \"sequential_1\"\n",
      "_________________________________________________________________\n",
      " Layer (type)                Output Shape              Param #   \n",
      "=================================================================\n",
      " flatten_2 (Flatten)         (None, 784)               0         \n",
      "                                                                 \n",
      " dense_13 (Dense)            (None, 100)               78500     \n",
      "                                                                 \n",
      " dense_14 (Dense)            (None, 64)                6464      \n",
      "                                                                 \n",
      " dense_15 (Dense)            (None, 32)                2080      \n",
      "                                                                 \n",
      " dense_16 (Dense)            (None, 10)                330       \n",
      "                                                                 \n",
      "=================================================================\n",
      "Total params: 87,374\n",
      "Trainable params: 87,374\n",
      "Non-trainable params: 0\n",
      "_________________________________________________________________\n"
     ]
    }
   ],
   "source": [
    "model = Sequential([\n",
    "    Input(shape=(28, 28)),\n",
    "    Flatten(input_shape=(28,28)),\n",
    "    Dense(100, activation='relu'),\n",
    "    Dense(64, activation='relu'),\n",
    "    Dense(32, activation='relu'),\n",
    "    Dense(10, activation='softmax')\n",
    "])\n",
    "\n",
    "model.summary()"
   ]
  },
  {
   "cell_type": "markdown",
   "metadata": {},
   "source": [
    "### 모델 컴파일 및 학습"
   ]
  },
  {
   "cell_type": "code",
   "execution_count": 34,
   "metadata": {},
   "outputs": [],
   "source": [
    "# metrics custom\n",
    "from sklearn.metrics import roc_auc_score\n",
    "\n",
    "def auc_score(y_true, y_pred):\n",
    "    auc_score = roc_auc_score(y_true, y_pred)\n",
    "    return auc_score"
   ]
  },
  {
   "cell_type": "code",
   "execution_count": 35,
   "metadata": {},
   "outputs": [],
   "source": [
    "model.compile(\n",
    "    loss='categorical_crossentropy',\n",
    "    optimizer='sgd',\n",
    "    metrics=[tf.keras.metrics.CategoricalAccuracy(), tf.keras.metrics.AUC()]\n",
    ")"
   ]
  },
  {
   "cell_type": "code",
   "execution_count": 36,
   "metadata": {},
   "outputs": [
    {
     "name": "stdout",
     "output_type": "stream",
     "text": [
      "Epoch 1/50\n",
      "329/329 [==============================] - 2s 4ms/step - loss: 1.7198 - categorical_accuracy: 0.5275 - auc: 0.8581 - val_loss: 0.9676 - val_categorical_accuracy: 0.7706 - val_auc: 0.9659\n",
      "Epoch 2/50\n",
      "329/329 [==============================] - 1s 2ms/step - loss: 0.6761 - categorical_accuracy: 0.8254 - auc: 0.9794 - val_loss: 0.5317 - val_categorical_accuracy: 0.8493 - val_auc: 0.9851\n",
      "Epoch 3/50\n",
      "329/329 [==============================] - 1s 3ms/step - loss: 0.4527 - categorical_accuracy: 0.8745 - auc: 0.9879 - val_loss: 0.4035 - val_categorical_accuracy: 0.8846 - val_auc: 0.9895\n",
      "Epoch 4/50\n",
      "329/329 [==============================] - 1s 3ms/step - loss: 0.3811 - categorical_accuracy: 0.8922 - auc: 0.9901 - val_loss: 0.3923 - val_categorical_accuracy: 0.8818 - val_auc: 0.9892\n",
      "Epoch 5/50\n",
      "329/329 [==============================] - 1s 3ms/step - loss: 0.3432 - categorical_accuracy: 0.9017 - auc: 0.9914 - val_loss: 0.3367 - val_categorical_accuracy: 0.9026 - val_auc: 0.9914\n",
      "Epoch 6/50\n",
      "329/329 [==============================] - 1s 3ms/step - loss: 0.3172 - categorical_accuracy: 0.9095 - auc: 0.9923 - val_loss: 0.3028 - val_categorical_accuracy: 0.9136 - val_auc: 0.9924\n",
      "Epoch 7/50\n",
      "329/329 [==============================] - 1s 3ms/step - loss: 0.2977 - categorical_accuracy: 0.9153 - auc: 0.9930 - val_loss: 0.2880 - val_categorical_accuracy: 0.9167 - val_auc: 0.9930\n",
      "Epoch 8/50\n",
      "329/329 [==============================] - 1s 3ms/step - loss: 0.2818 - categorical_accuracy: 0.9194 - auc: 0.9935 - val_loss: 0.3013 - val_categorical_accuracy: 0.9124 - val_auc: 0.9925\n",
      "Epoch 9/50\n",
      "329/329 [==============================] - 1s 3ms/step - loss: 0.2686 - categorical_accuracy: 0.9227 - auc: 0.9940 - val_loss: 0.2636 - val_categorical_accuracy: 0.9237 - val_auc: 0.9938\n",
      "Epoch 10/50\n",
      "329/329 [==============================] - 1s 3ms/step - loss: 0.2561 - categorical_accuracy: 0.9270 - auc: 0.9943 - val_loss: 0.2683 - val_categorical_accuracy: 0.9222 - val_auc: 0.9937\n",
      "Epoch 11/50\n",
      "329/329 [==============================] - 1s 3ms/step - loss: 0.2446 - categorical_accuracy: 0.9297 - auc: 0.9948 - val_loss: 0.2486 - val_categorical_accuracy: 0.9289 - val_auc: 0.9944\n",
      "Epoch 12/50\n",
      "329/329 [==============================] - 1s 3ms/step - loss: 0.2340 - categorical_accuracy: 0.9344 - auc: 0.9951 - val_loss: 0.2346 - val_categorical_accuracy: 0.9306 - val_auc: 0.9948\n",
      "Epoch 13/50\n",
      "329/329 [==============================] - 1s 3ms/step - loss: 0.2244 - categorical_accuracy: 0.9364 - auc: 0.9954 - val_loss: 0.2389 - val_categorical_accuracy: 0.9296 - val_auc: 0.9946\n",
      "Epoch 14/50\n",
      "329/329 [==============================] - 1s 3ms/step - loss: 0.2155 - categorical_accuracy: 0.9386 - auc: 0.9958 - val_loss: 0.2428 - val_categorical_accuracy: 0.9278 - val_auc: 0.9944\n",
      "Epoch 15/50\n",
      "329/329 [==============================] - 1s 3ms/step - loss: 0.2073 - categorical_accuracy: 0.9402 - auc: 0.9960 - val_loss: 0.2134 - val_categorical_accuracy: 0.9374 - val_auc: 0.9955\n",
      "Epoch 16/50\n",
      "329/329 [==============================] - 1s 3ms/step - loss: 0.1990 - categorical_accuracy: 0.9426 - auc: 0.9963 - val_loss: 0.2072 - val_categorical_accuracy: 0.9397 - val_auc: 0.9958\n",
      "Epoch 17/50\n",
      "329/329 [==============================] - 1s 3ms/step - loss: 0.1911 - categorical_accuracy: 0.9445 - auc: 0.9964 - val_loss: 0.2035 - val_categorical_accuracy: 0.9413 - val_auc: 0.9958\n",
      "Epoch 18/50\n",
      "329/329 [==============================] - 1s 3ms/step - loss: 0.1843 - categorical_accuracy: 0.9472 - auc: 0.9967 - val_loss: 0.1942 - val_categorical_accuracy: 0.9431 - val_auc: 0.9961\n",
      "Epoch 19/50\n",
      "329/329 [==============================] - 1s 3ms/step - loss: 0.1778 - categorical_accuracy: 0.9487 - auc: 0.9969 - val_loss: 0.1911 - val_categorical_accuracy: 0.9444 - val_auc: 0.9961\n",
      "Epoch 20/50\n",
      "329/329 [==============================] - 1s 3ms/step - loss: 0.1715 - categorical_accuracy: 0.9505 - auc: 0.9970 - val_loss: 0.1841 - val_categorical_accuracy: 0.9462 - val_auc: 0.9963\n",
      "Epoch 21/50\n",
      "329/329 [==============================] - 1s 3ms/step - loss: 0.1656 - categorical_accuracy: 0.9520 - auc: 0.9972 - val_loss: 0.1814 - val_categorical_accuracy: 0.9471 - val_auc: 0.9964\n",
      "Epoch 22/50\n",
      "329/329 [==============================] - 1s 3ms/step - loss: 0.1602 - categorical_accuracy: 0.9542 - auc: 0.9974 - val_loss: 0.1758 - val_categorical_accuracy: 0.9487 - val_auc: 0.9965\n",
      "Epoch 23/50\n",
      "329/329 [==============================] - 1s 3ms/step - loss: 0.1553 - categorical_accuracy: 0.9553 - auc: 0.9975 - val_loss: 0.1769 - val_categorical_accuracy: 0.9488 - val_auc: 0.9964\n",
      "Epoch 24/50\n",
      "329/329 [==============================] - 1s 3ms/step - loss: 0.1504 - categorical_accuracy: 0.9566 - auc: 0.9976 - val_loss: 0.1680 - val_categorical_accuracy: 0.9528 - val_auc: 0.9967\n",
      "Epoch 25/50\n",
      "329/329 [==============================] - 1s 3ms/step - loss: 0.1457 - categorical_accuracy: 0.9580 - auc: 0.9977 - val_loss: 0.1725 - val_categorical_accuracy: 0.9503 - val_auc: 0.9965\n",
      "Epoch 26/50\n",
      "329/329 [==============================] - 1s 3ms/step - loss: 0.1415 - categorical_accuracy: 0.9588 - auc: 0.9978 - val_loss: 0.1617 - val_categorical_accuracy: 0.9536 - val_auc: 0.9968\n",
      "Epoch 27/50\n",
      "329/329 [==============================] - 1s 3ms/step - loss: 0.1372 - categorical_accuracy: 0.9602 - auc: 0.9979 - val_loss: 0.1595 - val_categorical_accuracy: 0.9543 - val_auc: 0.9969\n",
      "Epoch 28/50\n",
      "329/329 [==============================] - 1s 3ms/step - loss: 0.1332 - categorical_accuracy: 0.9613 - auc: 0.9980 - val_loss: 0.1594 - val_categorical_accuracy: 0.9548 - val_auc: 0.9969\n",
      "Epoch 29/50\n",
      "329/329 [==============================] - 1s 3ms/step - loss: 0.1297 - categorical_accuracy: 0.9624 - auc: 0.9981 - val_loss: 0.1644 - val_categorical_accuracy: 0.9518 - val_auc: 0.9968\n",
      "Epoch 30/50\n",
      "329/329 [==============================] - 1s 3ms/step - loss: 0.1262 - categorical_accuracy: 0.9631 - auc: 0.9982 - val_loss: 0.1528 - val_categorical_accuracy: 0.9567 - val_auc: 0.9969\n",
      "Epoch 31/50\n",
      "329/329 [==============================] - 1s 3ms/step - loss: 0.1226 - categorical_accuracy: 0.9639 - auc: 0.9983 - val_loss: 0.1588 - val_categorical_accuracy: 0.9543 - val_auc: 0.9969\n",
      "Epoch 32/50\n",
      "329/329 [==============================] - 1s 3ms/step - loss: 0.1195 - categorical_accuracy: 0.9654 - auc: 0.9983 - val_loss: 0.1488 - val_categorical_accuracy: 0.9574 - val_auc: 0.9971\n",
      "Epoch 33/50\n",
      "329/329 [==============================] - 1s 3ms/step - loss: 0.1166 - categorical_accuracy: 0.9661 - auc: 0.9984 - val_loss: 0.1434 - val_categorical_accuracy: 0.9591 - val_auc: 0.9973\n",
      "Epoch 34/50\n",
      "329/329 [==============================] - 1s 3ms/step - loss: 0.1132 - categorical_accuracy: 0.9670 - auc: 0.9984 - val_loss: 0.1422 - val_categorical_accuracy: 0.9585 - val_auc: 0.9973\n",
      "Epoch 35/50\n",
      "329/329 [==============================] - 1s 3ms/step - loss: 0.1107 - categorical_accuracy: 0.9675 - auc: 0.9984 - val_loss: 0.1397 - val_categorical_accuracy: 0.9599 - val_auc: 0.9972\n",
      "Epoch 36/50\n",
      "329/329 [==============================] - 1s 3ms/step - loss: 0.1080 - categorical_accuracy: 0.9682 - auc: 0.9985 - val_loss: 0.1385 - val_categorical_accuracy: 0.9604 - val_auc: 0.9973\n",
      "Epoch 37/50\n",
      "329/329 [==============================] - 1s 3ms/step - loss: 0.1052 - categorical_accuracy: 0.9692 - auc: 0.9986 - val_loss: 0.1424 - val_categorical_accuracy: 0.9590 - val_auc: 0.9972\n",
      "Epoch 38/50\n",
      "329/329 [==============================] - 1s 3ms/step - loss: 0.1027 - categorical_accuracy: 0.9699 - auc: 0.9986 - val_loss: 0.1514 - val_categorical_accuracy: 0.9552 - val_auc: 0.9969\n",
      "Epoch 39/50\n",
      "329/329 [==============================] - 1s 3ms/step - loss: 0.1006 - categorical_accuracy: 0.9713 - auc: 0.9987 - val_loss: 0.1340 - val_categorical_accuracy: 0.9618 - val_auc: 0.9974\n",
      "Epoch 40/50\n",
      "329/329 [==============================] - 1s 3ms/step - loss: 0.0982 - categorical_accuracy: 0.9716 - auc: 0.9987 - val_loss: 0.1409 - val_categorical_accuracy: 0.9594 - val_auc: 0.9973\n",
      "Epoch 41/50\n",
      "329/329 [==============================] - 1s 3ms/step - loss: 0.0960 - categorical_accuracy: 0.9720 - auc: 0.9987 - val_loss: 0.1291 - val_categorical_accuracy: 0.9626 - val_auc: 0.9976\n",
      "Epoch 42/50\n",
      "329/329 [==============================] - 1s 3ms/step - loss: 0.0935 - categorical_accuracy: 0.9735 - auc: 0.9988 - val_loss: 0.1316 - val_categorical_accuracy: 0.9621 - val_auc: 0.9975\n",
      "Epoch 43/50\n",
      "329/329 [==============================] - 1s 3ms/step - loss: 0.0916 - categorical_accuracy: 0.9733 - auc: 0.9988 - val_loss: 0.1264 - val_categorical_accuracy: 0.9639 - val_auc: 0.9976\n",
      "Epoch 44/50\n",
      "329/329 [==============================] - 1s 3ms/step - loss: 0.0893 - categorical_accuracy: 0.9747 - auc: 0.9988 - val_loss: 0.1266 - val_categorical_accuracy: 0.9633 - val_auc: 0.9975\n",
      "Epoch 45/50\n",
      "329/329 [==============================] - 1s 3ms/step - loss: 0.0877 - categorical_accuracy: 0.9749 - auc: 0.9988 - val_loss: 0.1539 - val_categorical_accuracy: 0.9542 - val_auc: 0.9968\n",
      "Epoch 46/50\n",
      "329/329 [==============================] - 1s 3ms/step - loss: 0.0860 - categorical_accuracy: 0.9755 - auc: 0.9988 - val_loss: 0.1227 - val_categorical_accuracy: 0.9644 - val_auc: 0.9976\n",
      "Epoch 47/50\n",
      "329/329 [==============================] - 1s 3ms/step - loss: 0.0838 - categorical_accuracy: 0.9769 - auc: 0.9989 - val_loss: 0.1224 - val_categorical_accuracy: 0.9653 - val_auc: 0.9977\n",
      "Epoch 48/50\n",
      "329/329 [==============================] - 1s 3ms/step - loss: 0.0819 - categorical_accuracy: 0.9770 - auc: 0.9989 - val_loss: 0.1351 - val_categorical_accuracy: 0.9608 - val_auc: 0.9974\n",
      "Epoch 49/50\n",
      "329/329 [==============================] - 1s 3ms/step - loss: 0.0802 - categorical_accuracy: 0.9774 - auc: 0.9990 - val_loss: 0.1204 - val_categorical_accuracy: 0.9646 - val_auc: 0.9977\n",
      "Epoch 50/50\n",
      "329/329 [==============================] - 1s 3ms/step - loss: 0.0785 - categorical_accuracy: 0.9779 - auc: 0.9990 - val_loss: 0.1336 - val_categorical_accuracy: 0.9628 - val_auc: 0.9972\n"
     ]
    }
   ],
   "source": [
    "history = model.fit(x_train, y_train, epochs=50, batch_size=128, validation_data=(x_val, y_val))"
   ]
  },
  {
   "cell_type": "code",
   "execution_count": 37,
   "metadata": {},
   "outputs": [
    {
     "data": {
      "text/plain": [
       "dict_keys(['loss', 'categorical_accuracy', 'auc', 'val_loss', 'val_categorical_accuracy', 'val_auc'])"
      ]
     },
     "execution_count": 37,
     "metadata": {},
     "output_type": "execute_result"
    }
   ],
   "source": [
    "history.history.keys()"
   ]
  },
  {
   "cell_type": "code",
   "execution_count": 38,
   "metadata": {},
   "outputs": [],
   "source": [
    "history_dict = history.history\n",
    "\n",
    "loss = history_dict['loss']\n",
    "val_loss = history_dict['val_loss']\n",
    "\n",
    "auc = history_dict['auc']\n",
    "val_auc = history_dict['val_auc']"
   ]
  },
  {
   "cell_type": "code",
   "execution_count": 39,
   "metadata": {},
   "outputs": [
    {
     "data": {
      "text/plain": [
       "<matplotlib.legend.Legend at 0x1bc864ffb20>"
      ]
     },
     "execution_count": 39,
     "metadata": {},
     "output_type": "execute_result"
    },
    {
     "data": {
      "image/png": "[encoded data removed]",
      "text/plain": [
       "<Figure size 864x360 with 2 Axes>"
      ]
     },
     "metadata": {
      "needs_background": "light"
     },
     "output_type": "display_data"
    }
   ],
   "source": [
    "epochs = range(1, len(loss)+1)\n",
    "\n",
    "fig = plt.figure(figsize=(12, 5))\n",
    "\n",
    "ax1 = plt.subplot(1, 2, 1)\n",
    "ax1.plot(epochs, loss, color='blue', label='train_loss')\n",
    "ax1.plot(epochs, val_loss, color='red', label='val_loss')\n",
    "ax1.set_title('Train Valid Loss')\n",
    "ax1.set_xlabel('epochs')\n",
    "ax1.set_ylabel('Loss')\n",
    "ax1.grid()\n",
    "ax1.legend()\n",
    "\n",
    "ax2 = plt.subplot(1, 2, 2)\n",
    "ax2.plot(epochs, auc, color='blue', label='train_auc')\n",
    "ax2.plot(epochs, val_auc, color='red', label='val_auc')\n",
    "ax2.set_title('Train Valid AUC')\n",
    "ax2.set_xlabel('epochs')\n",
    "ax2.set_ylabel('Loss')\n",
    "ax2.grid()\n",
    "ax2.legend()"
   ]
  },
  {
   "cell_type": "code",
   "execution_count": 40,
   "metadata": {},
   "outputs": [
    {
     "name": "stdout",
     "output_type": "stream",
     "text": [
      "313/313 [==============================] - 0s 1ms/step - loss: 0.1237 - categorical_accuracy: 0.9633 - auc: 0.9979\n"
     ]
    },
    {
     "data": {
      "text/plain": [
       "[0.1236666589975357, 0.9632999897003174, 0.9978615045547485]"
      ]
     },
     "execution_count": 40,
     "metadata": {},
     "output_type": "execute_result"
    }
   ],
   "source": [
    "model.evaluate(x_test, y_test)"
   ]
  },
  {
   "cell_type": "code",
   "execution_count": 41,
   "metadata": {},
   "outputs": [
    {
     "name": "stdout",
     "output_type": "stream",
     "text": [
      "313/313 [==============================] - 0s 1ms/step\n"
     ]
    },
    {
     "data": {
      "text/plain": [
       "(10000, 10)"
      ]
     },
     "execution_count": 41,
     "metadata": {},
     "output_type": "execute_result"
    }
   ],
   "source": [
    "y_pred = model.predict(x_test)\n",
    "y_pred.shape"
   ]
  },
  {
   "cell_type": "code",
   "execution_count": 42,
   "metadata": {},
   "outputs": [
    {
     "data": {
      "image/png": "[encoded data removed]",
      "text/plain": [
       "<Figure size 432x288 with 1 Axes>"
      ]
     },
     "metadata": {
      "needs_background": "light"
     },
     "output_type": "display_data"
    }
   ],
   "source": [
    "arg_pred_y = np.argmax(y_pred, axis=1)\n",
    "\n",
    "plt.imshow(x_test[1])\n",
    "plt.title(f'Predicted label: {arg_pred_y[1]}')\n",
    "plt.show()"
   ]
  },
  {
   "cell_type": "markdown",
   "metadata": {},
   "source": [
    "#### Confusion matrix"
   ]
  },
  {
   "cell_type": "code",
   "execution_count": 43,
   "metadata": {},
   "outputs": [
    {
     "data": {
      "image/png": "[encoded data removed]",
      "text/plain": [
       "<Figure size 576x576 with 2 Axes>"
      ]
     },
     "metadata": {},
     "output_type": "display_data"
    }
   ],
   "source": [
    "from sklearn.metrics import classification_report, confusion_matrix\n",
    "import seaborn as sns\n",
    "\n",
    "sns.set(style='white')\n",
    "plt.figure(figsize=(8,8))\n",
    "cm = confusion_matrix(np.argmax(y_test, axis=1), np.argmax(y_pred, axis=-1))\n",
    "sns.heatmap(cm, annot=True, fmt='d', cmap='Blues')\n",
    "plt.xlabel('Pred label')\n",
    "plt.ylabel('True label')\n",
    "plt.show()"
   ]
  },
  {
   "cell_type": "markdown",
   "metadata": {},
   "source": [
    "- 분류 분석"
   ]
  },
  {
   "cell_type": "code",
   "execution_count": 44,
   "metadata": {},
   "outputs": [
    {
     "name": "stdout",
     "output_type": "stream",
     "text": [
      "              precision    recall  f1-score   support\n",
      "\n",
      "           0       0.98      0.99      0.98       980\n",
      "           1       0.99      0.98      0.98      1135\n",
      "           2       0.97      0.97      0.97      1032\n",
      "           3       0.94      0.98      0.96      1010\n",
      "           4       0.97      0.95      0.96       982\n",
      "           5       0.95      0.95      0.95       892\n",
      "           6       0.99      0.94      0.97       958\n",
      "           7       0.97      0.96      0.96      1028\n",
      "           8       0.92      0.98      0.95       974\n",
      "           9       0.96      0.94      0.95      1009\n",
      "\n",
      "    accuracy                           0.96     10000\n",
      "   macro avg       0.96      0.96      0.96     10000\n",
      "weighted avg       0.96      0.96      0.96     10000\n",
      "\n"
     ]
    }
   ],
   "source": [
    "print(classification_report(np.argmax(y_test, axis=-1), np.argmax(y_pred, axis=-1)))"
   ]
  },
  {
   "cell_type": "code",
   "execution_count": 45,
   "metadata": {},
   "outputs": [],
   "source": [
    "class BaseLayer:\n",
    "    def __init__(self, name=\"\"):\n",
    "        self.name = name\n",
    "\n",
    "    def __repr__(self):\n",
    "        return f\"{self.name}Layer\"\n",
    "\n",
    "class ActivationLayer(BaseLayer):\n",
    "    def __init__(self, size):\n",
    "        super().__init__(\"Activation\")\n",
    "        self.size = size\n",
    "\n",
    "class FCLayer(BaseLayer):\n",
    "    def __init__(self, size):\n",
    "        super().__init__(\"FullyConnected\")\n",
    "        self.size = size"
   ]
  },
  {
   "cell_type": "code",
   "execution_count": 46,
   "metadata": {},
   "outputs": [
    {
     "name": "stdout",
     "output_type": "stream",
     "text": [
      "FullyConnectedLayer\n"
     ]
    }
   ],
   "source": [
    "print(FCLayer(42))"
   ]
  },
  {
   "cell_type": "markdown",
   "metadata": {},
   "source": [
    "### Callbacks\n",
    "fit() 함수의 callbacks 매개변수 사용\n",
    "- **ModelCheckpoint**\n",
    "    - tf.keras.callbacks.ModelCheckpoint\n",
    "    - 정기적으로 모델의 체크포인트를 저장하고, 문제가 발생할 때 복구하는데 사용\n",
    "- **EarlyStopping**\n",
    "    - tf.keras.callbacks.EarlyStopping\n",
    "    - 검증 성능이 한동안 개선되지 않을 경우 학습을 중단할 때 사용\n",
    "- **LearningRateScheduler**\n",
    "    - tf.keras.callbacks.LearningRateScheduler\n",
    "    - 최적화를 하는 동안 lr(학습률)을 동적으로 변경할 때 사용\n",
    "- **TensorBoard**\n",
    "    - tf.keras.callbacks.TensorBoard\n",
    "    - 모델의 경과를 모니터링 할 때 사용"
   ]
  },
  {
   "cell_type": "code",
   "execution_count": 47,
   "metadata": {},
   "outputs": [],
   "source": [
    "from tensorflow.keras.callbacks import ModelCheckpoint, EarlyStopping, LearningRateScheduler, TensorBoard"
   ]
  },
  {
   "cell_type": "code",
   "execution_count": 48,
   "metadata": {},
   "outputs": [
    {
     "data": {
      "text/plain": [
       "<keras.engine.sequential.Sequential at 0x1bc88dfc4c0>"
      ]
     },
     "execution_count": 48,
     "metadata": {},
     "output_type": "execute_result"
    }
   ],
   "source": [
    "model"
   ]
  },
  {
   "cell_type": "code",
   "execution_count": 49,
   "metadata": {},
   "outputs": [
    {
     "name": "stdout",
     "output_type": "stream",
     "text": [
      "Epoch 1/10\n",
      "1313/1313 [==============================] - 2s 2ms/step - loss: 0.0855 - categorical_accuracy: 0.9754 - auc: 0.9989\n",
      "Epoch 2/10\n",
      "1313/1313 [==============================] - 2s 2ms/step - loss: 0.0805 - categorical_accuracy: 0.9762 - auc: 0.9990\n",
      "Epoch 3/10\n",
      "1313/1313 [==============================] - 2s 2ms/step - loss: 0.0741 - categorical_accuracy: 0.9784 - auc: 0.9990\n",
      "Epoch 4/10\n",
      "1313/1313 [==============================] - 2s 2ms/step - loss: 0.0691 - categorical_accuracy: 0.9802 - auc: 0.9991\n",
      "Epoch 5/10\n",
      "1313/1313 [==============================] - 2s 2ms/step - loss: 0.0646 - categorical_accuracy: 0.9813 - auc: 0.9992\n",
      "Epoch 6/10\n",
      "1313/1313 [==============================] - 3s 2ms/step - loss: 0.0603 - categorical_accuracy: 0.9830 - auc: 0.9993\n",
      "Epoch 7/10\n",
      "1313/1313 [==============================] - 2s 2ms/step - loss: 0.0561 - categorical_accuracy: 0.9838 - auc: 0.9995\n",
      "Epoch 8/10\n",
      "1313/1313 [==============================] - 2s 2ms/step - loss: 0.0525 - categorical_accuracy: 0.9846 - auc: 0.9995\n",
      "Epoch 9/10\n",
      "1313/1313 [==============================] - 3s 2ms/step - loss: 0.0495 - categorical_accuracy: 0.9863 - auc: 0.9995\n",
      "Epoch 10/10\n",
      "1313/1313 [==============================] - 2s 2ms/step - loss: 0.0464 - categorical_accuracy: 0.9867 - auc: 0.9996\n"
     ]
    }
   ],
   "source": [
    "# ModelCheckpoint\n",
    "\n",
    "checkpoint_cb = ModelCheckpoint('keras_mnist_model.h5')\n",
    "history = model.fit(x_train, y_train, epochs=10,\n",
    "                    callbacks=[checkpoint_cb])"
   ]
  },
  {
   "cell_type": "code",
   "execution_count": 50,
   "metadata": {},
   "outputs": [
    {
     "name": "stdout",
     "output_type": "stream",
     "text": [
      "Epoch 1/10\n",
      "1313/1313 [==============================] - 3s 2ms/step - loss: 0.0427 - categorical_accuracy: 0.9883 - auc: 0.9996 - val_loss: 0.1107 - val_categorical_accuracy: 0.9674 - val_auc: 0.9976\n",
      "Epoch 2/10\n",
      "1313/1313 [==============================] - 3s 2ms/step - loss: 0.0400 - categorical_accuracy: 0.9891 - auc: 0.9996 - val_loss: 0.1073 - val_categorical_accuracy: 0.9679 - val_auc: 0.9975\n",
      "Epoch 3/10\n",
      "1313/1313 [==============================] - 3s 2ms/step - loss: 0.0370 - categorical_accuracy: 0.9897 - auc: 0.9997 - val_loss: 0.1068 - val_categorical_accuracy: 0.9689 - val_auc: 0.9977\n",
      "Epoch 4/10\n",
      "1313/1313 [==============================] - 3s 2ms/step - loss: 0.0348 - categorical_accuracy: 0.9904 - auc: 0.9997 - val_loss: 0.1066 - val_categorical_accuracy: 0.9694 - val_auc: 0.9975\n",
      "Epoch 5/10\n",
      "1313/1313 [==============================] - 3s 2ms/step - loss: 0.0327 - categorical_accuracy: 0.9912 - auc: 0.9997 - val_loss: 0.1123 - val_categorical_accuracy: 0.9676 - val_auc: 0.9973\n",
      "Epoch 6/10\n",
      "1313/1313 [==============================] - 3s 2ms/step - loss: 0.0305 - categorical_accuracy: 0.9919 - auc: 0.9998 - val_loss: 0.1022 - val_categorical_accuracy: 0.9708 - val_auc: 0.9976\n",
      "Epoch 7/10\n",
      "1313/1313 [==============================] - 3s 2ms/step - loss: 0.0282 - categorical_accuracy: 0.9925 - auc: 0.9998 - val_loss: 0.1103 - val_categorical_accuracy: 0.9687 - val_auc: 0.9971\n",
      "Epoch 8/10\n",
      "1313/1313 [==============================] - 3s 2ms/step - loss: 0.0264 - categorical_accuracy: 0.9934 - auc: 0.9998 - val_loss: 0.1310 - val_categorical_accuracy: 0.9634 - val_auc: 0.9964\n",
      "Epoch 9/10\n",
      "1313/1313 [==============================] - 3s 2ms/step - loss: 0.0248 - categorical_accuracy: 0.9936 - auc: 0.9999 - val_loss: 0.1071 - val_categorical_accuracy: 0.9688 - val_auc: 0.9972\n",
      "Epoch 10/10\n",
      "1313/1313 [==============================] - 3s 2ms/step - loss: 0.0232 - categorical_accuracy: 0.9942 - auc: 0.9999 - val_loss: 0.1070 - val_categorical_accuracy: 0.9704 - val_auc: 0.9974\n"
     ]
    }
   ],
   "source": [
    "# save the best model only\n",
    "\n",
    "checkpoint_cb = ModelCheckpoint('keras_mnist_model.h5', save_best_only=True)\n",
    "history = model.fit(x_train, y_train, epochs=10,\n",
    "                    validation_data=(x_val, y_val),\n",
    "                    callbacks=[checkpoint_cb])"
   ]
  },
  {
   "cell_type": "markdown",
   "metadata": {},
   "source": [
    "#### EarlyStopping\n",
    "- 일정 patience 동안 검증 세트의 점수가 오르지 않으면 학습을 멈춤\n",
    "- 모델이 향상되지 않으면 학습이 자동으로 중지되므로 epoch숫자를 크게 해도 괜찮음\n",
    "- 학습이 끝난 후의 최상의 가중치를 복원하기 때문에 모델을 따로 복원할 필요 없음"
   ]
  },
  {
   "cell_type": "code",
   "execution_count": 51,
   "metadata": {},
   "outputs": [
    {
     "name": "stdout",
     "output_type": "stream",
     "text": [
      "Epoch 1/10\n",
      "1313/1313 [==============================] - 3s 2ms/step - loss: 0.0209 - categorical_accuracy: 0.9954 - auc: 0.9999 - val_loss: 0.1104 - val_categorical_accuracy: 0.9697 - val_auc: 0.9972\n",
      "Epoch 2/10\n",
      "1313/1313 [==============================] - 3s 2ms/step - loss: 0.0195 - categorical_accuracy: 0.9961 - auc: 0.9999 - val_loss: 0.1104 - val_categorical_accuracy: 0.9692 - val_auc: 0.9972\n",
      "Epoch 3/10\n",
      "1313/1313 [==============================] - 3s 2ms/step - loss: 0.0180 - categorical_accuracy: 0.9959 - auc: 0.9999 - val_loss: 0.1102 - val_categorical_accuracy: 0.9696 - val_auc: 0.9971\n",
      "Epoch 4/10\n",
      "1313/1313 [==============================] - 3s 2ms/step - loss: 0.0168 - categorical_accuracy: 0.9965 - auc: 1.0000 - val_loss: 0.1086 - val_categorical_accuracy: 0.9701 - val_auc: 0.9971\n",
      "Epoch 5/10\n",
      "1313/1313 [==============================] - 3s 2ms/step - loss: 0.0158 - categorical_accuracy: 0.9966 - auc: 1.0000 - val_loss: 0.1128 - val_categorical_accuracy: 0.9689 - val_auc: 0.9969\n",
      "Epoch 6/10\n",
      "1313/1313 [==============================] - 3s 2ms/step - loss: 0.0145 - categorical_accuracy: 0.9972 - auc: 1.0000 - val_loss: 0.1072 - val_categorical_accuracy: 0.9713 - val_auc: 0.9970\n",
      "Epoch 7/10\n",
      "1313/1313 [==============================] - 2s 2ms/step - loss: 0.0133 - categorical_accuracy: 0.9978 - auc: 1.0000 - val_loss: 0.1139 - val_categorical_accuracy: 0.9697 - val_auc: 0.9968\n",
      "Epoch 8/10\n",
      "1313/1313 [==============================] - 3s 2ms/step - loss: 0.0126 - categorical_accuracy: 0.9980 - auc: 1.0000 - val_loss: 0.1191 - val_categorical_accuracy: 0.9692 - val_auc: 0.9965\n",
      "Epoch 9/10\n",
      "1313/1313 [==============================] - 2s 2ms/step - loss: 0.0115 - categorical_accuracy: 0.9980 - auc: 1.0000 - val_loss: 0.1115 - val_categorical_accuracy: 0.9701 - val_auc: 0.9970\n"
     ]
    }
   ],
   "source": [
    "checkpoint_cb = ModelCheckpoint('keras_mnist_model.h5', save_best_only=True)\n",
    "earlystopping_cb = EarlyStopping(patience=3, monitor='val_loss',    # patience=3: 3번의 epoch 기회를 주고 monitor 대상 점수가 오르지 않으면 학습 멈춤\n",
    "                                 restore_best_weights=True)\n",
    "history = model.fit(x_train, y_train, epochs=10,\n",
    "                    validation_data=(x_val, y_val),\n",
    "                    callbacks=[checkpoint_cb, earlystopping_cb])"
   ]
  },
  {
   "cell_type": "markdown",
   "metadata": {},
   "source": [
    "#### LearningRateScheduler\n",
    "- 학습 중에 lr을 변경하기 위해 사용"
   ]
  },
  {
   "cell_type": "code",
   "execution_count": 52,
   "metadata": {},
   "outputs": [],
   "source": [
    "def scheduler(epoch, lr):\n",
    "    if epoch < 10:\n",
    "        return lr\n",
    "    else:\n",
    "        return lr * tf.math.exp(-0.1)"
   ]
  },
  {
   "cell_type": "code",
   "execution_count": 53,
   "metadata": {},
   "outputs": [
    {
     "data": {
      "text/plain": [
       "0.01"
      ]
     },
     "execution_count": 53,
     "metadata": {},
     "output_type": "execute_result"
    }
   ],
   "source": [
    "round(model.optimizer.lr.numpy(), 5)"
   ]
  },
  {
   "cell_type": "code",
   "execution_count": 54,
   "metadata": {},
   "outputs": [
    {
     "data": {
      "text/plain": [
       "0.00607"
      ]
     },
     "execution_count": 54,
     "metadata": {},
     "output_type": "execute_result"
    }
   ],
   "source": [
    "lr_scheduler_cb = LearningRateScheduler(scheduler)\n",
    "\n",
    "history = model.fit(x_train, y_train, epochs=15,\n",
    "                    callbacks=[lr_scheduler_cb], verbose=0)\n",
    "\n",
    "round(model.optimizer.lr.numpy(), 5)"
   ]
  },
  {
   "cell_type": "markdown",
   "metadata": {},
   "source": [
    "#### Tensorboard\n",
    "- 텐서보드를 사용해 학습과정 모니터링\n",
    "- 텐서보드 사용을 위해서는 logs폴더를 만들고 학습이 진행되는 동안 로그파일 생성"
   ]
  },
  {
   "cell_type": "code",
   "execution_count": 55,
   "metadata": {},
   "outputs": [
    {
     "name": "stdout",
     "output_type": "stream",
     "text": [
      "Epoch 1/30\n",
      "1313/1313 [==============================] - 3s 2ms/step - loss: 0.0046 - categorical_accuracy: 0.9997 - auc: 1.0000 - val_loss: 0.1184 - val_categorical_accuracy: 0.9709 - val_auc: 0.9965\n",
      "Epoch 2/30\n",
      "1313/1313 [==============================] - 3s 2ms/step - loss: 0.0044 - categorical_accuracy: 0.9998 - auc: 1.0000 - val_loss: 0.1202 - val_categorical_accuracy: 0.9707 - val_auc: 0.9965\n",
      "Epoch 3/30\n",
      "1313/1313 [==============================] - 3s 2ms/step - loss: 0.0042 - categorical_accuracy: 0.9997 - auc: 1.0000 - val_loss: 0.1202 - val_categorical_accuracy: 0.9708 - val_auc: 0.9964\n",
      "Epoch 4/30\n",
      "1313/1313 [==============================] - 3s 2ms/step - loss: 0.0041 - categorical_accuracy: 0.9999 - auc: 1.0000 - val_loss: 0.1204 - val_categorical_accuracy: 0.9709 - val_auc: 0.9964\n",
      "Epoch 5/30\n",
      "1313/1313 [==============================] - 3s 2ms/step - loss: 0.0040 - categorical_accuracy: 0.9998 - auc: 1.0000 - val_loss: 0.1210 - val_categorical_accuracy: 0.9703 - val_auc: 0.9963\n",
      "Epoch 6/30\n",
      "1313/1313 [==============================] - 3s 2ms/step - loss: 0.0039 - categorical_accuracy: 0.9998 - auc: 1.0000 - val_loss: 0.1207 - val_categorical_accuracy: 0.9712 - val_auc: 0.9963\n",
      "Epoch 7/30\n",
      "1313/1313 [==============================] - 3s 2ms/step - loss: 0.0038 - categorical_accuracy: 0.9998 - auc: 1.0000 - val_loss: 0.1217 - val_categorical_accuracy: 0.9712 - val_auc: 0.9963\n",
      "Epoch 8/30\n",
      "1313/1313 [==============================] - 3s 2ms/step - loss: 0.0036 - categorical_accuracy: 0.9999 - auc: 1.0000 - val_loss: 0.1219 - val_categorical_accuracy: 0.9708 - val_auc: 0.9962\n",
      "Epoch 9/30\n",
      "1313/1313 [==============================] - 3s 2ms/step - loss: 0.0035 - categorical_accuracy: 0.9999 - auc: 1.0000 - val_loss: 0.1226 - val_categorical_accuracy: 0.9710 - val_auc: 0.9962\n",
      "Epoch 10/30\n",
      "1313/1313 [==============================] - 3s 2ms/step - loss: 0.0034 - categorical_accuracy: 0.9999 - auc: 1.0000 - val_loss: 0.1224 - val_categorical_accuracy: 0.9709 - val_auc: 0.9961\n",
      "Epoch 11/30\n",
      "1313/1313 [==============================] - 3s 2ms/step - loss: 0.0033 - categorical_accuracy: 0.9999 - auc: 1.0000 - val_loss: 0.1228 - val_categorical_accuracy: 0.9712 - val_auc: 0.9962\n",
      "Epoch 12/30\n",
      "1313/1313 [==============================] - 3s 2ms/step - loss: 0.0032 - categorical_accuracy: 0.9999 - auc: 1.0000 - val_loss: 0.1229 - val_categorical_accuracy: 0.9711 - val_auc: 0.9962\n",
      "Epoch 13/30\n",
      "1313/1313 [==============================] - 4s 3ms/step - loss: 0.0031 - categorical_accuracy: 0.9999 - auc: 1.0000 - val_loss: 0.1237 - val_categorical_accuracy: 0.9715 - val_auc: 0.9961\n",
      "Epoch 14/30\n",
      "1313/1313 [==============================] - 3s 3ms/step - loss: 0.0030 - categorical_accuracy: 0.9999 - auc: 1.0000 - val_loss: 0.1232 - val_categorical_accuracy: 0.9715 - val_auc: 0.9961\n",
      "Epoch 15/30\n",
      "1313/1313 [==============================] - 4s 3ms/step - loss: 0.0030 - categorical_accuracy: 1.0000 - auc: 1.0000 - val_loss: 0.1240 - val_categorical_accuracy: 0.9713 - val_auc: 0.9961\n",
      "Epoch 16/30\n",
      "1313/1313 [==============================] - 4s 3ms/step - loss: 0.0029 - categorical_accuracy: 0.9999 - auc: 1.0000 - val_loss: 0.1251 - val_categorical_accuracy: 0.9707 - val_auc: 0.9960\n",
      "Epoch 17/30\n",
      "1313/1313 [==============================] - 4s 3ms/step - loss: 0.0028 - categorical_accuracy: 0.9999 - auc: 1.0000 - val_loss: 0.1255 - val_categorical_accuracy: 0.9711 - val_auc: 0.9960\n",
      "Epoch 18/30\n",
      "1313/1313 [==============================] - 5s 4ms/step - loss: 0.0027 - categorical_accuracy: 0.9999 - auc: 1.0000 - val_loss: 0.1250 - val_categorical_accuracy: 0.9711 - val_auc: 0.9961\n",
      "Epoch 19/30\n",
      "1313/1313 [==============================] - 6s 5ms/step - loss: 0.0027 - categorical_accuracy: 1.0000 - auc: 1.0000 - val_loss: 0.1253 - val_categorical_accuracy: 0.9712 - val_auc: 0.9961\n",
      "Epoch 20/30\n",
      "1313/1313 [==============================] - 5s 4ms/step - loss: 0.0026 - categorical_accuracy: 0.9999 - auc: 1.0000 - val_loss: 0.1261 - val_categorical_accuracy: 0.9710 - val_auc: 0.9960\n",
      "Epoch 21/30\n",
      "1313/1313 [==============================] - 5s 4ms/step - loss: 0.0025 - categorical_accuracy: 1.0000 - auc: 1.0000 - val_loss: 0.1263 - val_categorical_accuracy: 0.9710 - val_auc: 0.9961\n",
      "Epoch 22/30\n",
      "1313/1313 [==============================] - 5s 3ms/step - loss: 0.0025 - categorical_accuracy: 1.0000 - auc: 1.0000 - val_loss: 0.1262 - val_categorical_accuracy: 0.9710 - val_auc: 0.9960\n",
      "Epoch 23/30\n",
      "1313/1313 [==============================] - 5s 3ms/step - loss: 0.0024 - categorical_accuracy: 1.0000 - auc: 1.0000 - val_loss: 0.1263 - val_categorical_accuracy: 0.9711 - val_auc: 0.9961\n",
      "Epoch 24/30\n",
      "1313/1313 [==============================] - 4s 3ms/step - loss: 0.0024 - categorical_accuracy: 1.0000 - auc: 1.0000 - val_loss: 0.1288 - val_categorical_accuracy: 0.9704 - val_auc: 0.9960\n",
      "Epoch 25/30\n",
      "1313/1313 [==============================] - 5s 3ms/step - loss: 0.0023 - categorical_accuracy: 1.0000 - auc: 1.0000 - val_loss: 0.1274 - val_categorical_accuracy: 0.9714 - val_auc: 0.9960\n",
      "Epoch 26/30\n",
      "1313/1313 [==============================] - 4s 3ms/step - loss: 0.0023 - categorical_accuracy: 1.0000 - auc: 1.0000 - val_loss: 0.1286 - val_categorical_accuracy: 0.9713 - val_auc: 0.9958\n",
      "Epoch 27/30\n",
      "1313/1313 [==============================] - 5s 4ms/step - loss: 0.0022 - categorical_accuracy: 1.0000 - auc: 1.0000 - val_loss: 0.1286 - val_categorical_accuracy: 0.9709 - val_auc: 0.9959\n",
      "Epoch 28/30\n",
      "1313/1313 [==============================] - 4s 3ms/step - loss: 0.0022 - categorical_accuracy: 1.0000 - auc: 1.0000 - val_loss: 0.1298 - val_categorical_accuracy: 0.9705 - val_auc: 0.9960\n",
      "Epoch 29/30\n",
      "1313/1313 [==============================] - 4s 3ms/step - loss: 0.0021 - categorical_accuracy: 1.0000 - auc: 1.0000 - val_loss: 0.1286 - val_categorical_accuracy: 0.9713 - val_auc: 0.9960\n",
      "Epoch 30/30\n",
      "1313/1313 [==============================] - 4s 3ms/step - loss: 0.0021 - categorical_accuracy: 1.0000 - auc: 1.0000 - val_loss: 0.1291 - val_categorical_accuracy: 0.9714 - val_auc: 0.9959\n"
     ]
    },
    {
     "data": {
      "text/plain": [
       "<keras.callbacks.History at 0x1bc869545b0>"
      ]
     },
     "execution_count": 55,
     "metadata": {},
     "output_type": "execute_result"
    }
   ],
   "source": [
    "log_dir = './logs'\n",
    "tensorboard_cb = [TensorBoard(log_dir=log_dir, histogram_freq=1,\n",
    "                              write_graph=True, write_images=True)]\n",
    "\n",
    "model.fit(x_train, y_train, batch_size=32, validation_data=(x_val, y_val),\n",
    "          epochs=30, callbacks=tensorboard_cb)"
   ]
  },
  {
   "cell_type": "code",
   "execution_count": 56,
   "metadata": {},
   "outputs": [],
   "source": [
    "%load_ext tensorboard"
   ]
  },
  {
   "cell_type": "code",
   "execution_count": 57,
   "metadata": {},
   "outputs": [
    {
     "data": {
      "text/html": [
       "\n",
       "      <iframe id=\"tensorboard-frame-f9b985b06cd45802\" width=\"100%\" height=\"800\" frameborder=\"0\">\n",
       "      </iframe>\n",
       "      <script>\n",
       "        (function() {\n",
       "          const frame = document.getElementById(\"tensorboard-frame-f9b985b06cd45802\");\n",
       "          const url = new URL(\"/\", window.location);\n",
       "          const port = 6006;\n",
       "          if (port) {\n",
       "            url.port = port;\n",
       "          }\n",
       "          frame.src = url;\n",
       "        })();\n",
       "      </script>\n",
       "    "
      ],
      "text/plain": [
       "<IPython.core.display.HTML object>"
      ]
     },
     "metadata": {},
     "output_type": "display_data"
    }
   ],
   "source": [
    "%tensorboard --logdir {log_dir}\n",
    "\n",
    "# 텐서보드 실행이 안되면 포트 번화 바꿔서 실행\n",
    "# %tensorboard --logdir {log_dir} port 8000"
   ]
  },
  {
   "cell_type": "markdown",
   "metadata": {},
   "source": [
    "#### imdb 데이터 활용 영화 리뷰 긍부정 분석\n",
    "- imdb의 경우 이미 전처리가 되어 있기 때문에 각 단어가 숫자로 들어가 있음"
   ]
  },
  {
   "cell_type": "code",
   "execution_count": 60,
   "metadata": {},
   "outputs": [],
   "source": [
    "from tensorflow.keras.datasets import imdb\n",
    "\n",
    "(train_data, train_labels), (test_data, test_labels) = imdb.load_data(num_words=10000)   # num_words: 가장 자주 사용하는 n개 단어만 사용\n",
    "\n",
    "def vectorize_seq(seqs, dim=10000):\n",
    "    results = np.zeros((len(seqs), dim))\n",
    "\n",
    "    for i, seq in enumerate(seqs):\n",
    "        results[i, seq] = 1\n",
    "\n",
    "    return results"
   ]
  },
  {
   "cell_type": "code",
   "execution_count": 61,
   "metadata": {},
   "outputs": [],
   "source": [
    "x_train = vectorize_seq(train_data)\n",
    "x_test = vectorize_seq(test_data)\n",
    "\n",
    "y_train = np.asarray(train_labels).astype('float32')\n",
    "y_test = np.asarray(test_labels).astype('float32')"
   ]
  },
  {
   "cell_type": "code",
   "execution_count": 62,
   "metadata": {},
   "outputs": [
    {
     "data": {
      "text/plain": [
       "array([[0., 1., 1., ..., 0., 0., 0.],\n",
       "       [0., 1., 1., ..., 0., 0., 0.],\n",
       "       [0., 1., 1., ..., 0., 0., 0.],\n",
       "       ...,\n",
       "       [0., 1., 1., ..., 0., 0., 0.],\n",
       "       [0., 1., 1., ..., 0., 0., 0.],\n",
       "       [0., 1., 1., ..., 0., 0., 0.]])"
      ]
     },
     "execution_count": 62,
     "metadata": {},
     "output_type": "execute_result"
    }
   ],
   "source": [
    "x_train"
   ]
  },
  {
   "cell_type": "code",
   "execution_count": 63,
   "metadata": {},
   "outputs": [
    {
     "data": {
      "text/plain": [
       "array([list([1, 14, 22, 16, 43, 530, 973, 1622, 1385, 65, 458, 4468, 66, 3941, 4, 173, 36, 256, 5, 25, 100, 43, 838, 112, 50, 670, 2, 9, 35, 480, 284, 5, 150, 4, 172, 112, 167, 2, 336, 385, 39, 4, 172, 4536, 1111, 17, 546, 38, 13, 447, 4, 192, 50, 16, 6, 147, 2025, 19, 14, 22, 4, 1920, 4613, 469, 4, 22, 71, 87, 12, 16, 43, 530, 38, 76, 15, 13, 1247, 4, 22, 17, 515, 17, 12, 16, 626, 18, 2, 5, 62, 386, 12, 8, 316, 8, 106, 5, 4, 2223, 5244, 16, 480, 66, 3785, 33, 4, 130, 12, 16, 38, 619, 5, 25, 124, 51, 36, 135, 48, 25, 1415, 33, 6, 22, 12, 215, 28, 77, 52, 5, 14, 407, 16, 82, 2, 8, 4, 107, 117, 5952, 15, 256, 4, 2, 7, 3766, 5, 723, 36, 71, 43, 530, 476, 26, 400, 317, 46, 7, 4, 2, 1029, 13, 104, 88, 4, 381, 15, 297, 98, 32, 2071, 56, 26, 141, 6, 194, 7486, 18, 4, 226, 22, 21, 134, 476, 26, 480, 5, 144, 30, 5535, 18, 51, 36, 28, 224, 92, 25, 104, 4, 226, 65, 16, 38, 1334, 88, 12, 16, 283, 5, 16, 4472, 113, 103, 32, 15, 16, 5345, 19, 178, 32]),\n",
       "       list([1, 194, 1153, 194, 8255, 78, 228, 5, 6, 1463, 4369, 5012, 134, 26, 4, 715, 8, 118, 1634, 14, 394, 20, 13, 119, 954, 189, 102, 5, 207, 110, 3103, 21, 14, 69, 188, 8, 30, 23, 7, 4, 249, 126, 93, 4, 114, 9, 2300, 1523, 5, 647, 4, 116, 9, 35, 8163, 4, 229, 9, 340, 1322, 4, 118, 9, 4, 130, 4901, 19, 4, 1002, 5, 89, 29, 952, 46, 37, 4, 455, 9, 45, 43, 38, 1543, 1905, 398, 4, 1649, 26, 6853, 5, 163, 11, 3215, 2, 4, 1153, 9, 194, 775, 7, 8255, 2, 349, 2637, 148, 605, 2, 8003, 15, 123, 125, 68, 2, 6853, 15, 349, 165, 4362, 98, 5, 4, 228, 9, 43, 2, 1157, 15, 299, 120, 5, 120, 174, 11, 220, 175, 136, 50, 9, 4373, 228, 8255, 5, 2, 656, 245, 2350, 5, 4, 9837, 131, 152, 491, 18, 2, 32, 7464, 1212, 14, 9, 6, 371, 78, 22, 625, 64, 1382, 9, 8, 168, 145, 23, 4, 1690, 15, 16, 4, 1355, 5, 28, 6, 52, 154, 462, 33, 89, 78, 285, 16, 145, 95]),\n",
       "       list([1, 14, 47, 8, 30, 31, 7, 4, 249, 108, 7, 4, 5974, 54, 61, 369, 13, 71, 149, 14, 22, 112, 4, 2401, 311, 12, 16, 3711, 33, 75, 43, 1829, 296, 4, 86, 320, 35, 534, 19, 263, 4821, 1301, 4, 1873, 33, 89, 78, 12, 66, 16, 4, 360, 7, 4, 58, 316, 334, 11, 4, 1716, 43, 645, 662, 8, 257, 85, 1200, 42, 1228, 2578, 83, 68, 3912, 15, 36, 165, 1539, 278, 36, 69, 2, 780, 8, 106, 14, 6905, 1338, 18, 6, 22, 12, 215, 28, 610, 40, 6, 87, 326, 23, 2300, 21, 23, 22, 12, 272, 40, 57, 31, 11, 4, 22, 47, 6, 2307, 51, 9, 170, 23, 595, 116, 595, 1352, 13, 191, 79, 638, 89, 2, 14, 9, 8, 106, 607, 624, 35, 534, 6, 227, 7, 129, 113]),\n",
       "       ...,\n",
       "       list([1, 11, 6, 230, 245, 6401, 9, 6, 1225, 446, 2, 45, 2174, 84, 8322, 4007, 21, 4, 912, 84, 2, 325, 725, 134, 2, 1715, 84, 5, 36, 28, 57, 1099, 21, 8, 140, 8, 703, 5, 2, 84, 56, 18, 1644, 14, 9, 31, 7, 4, 9406, 1209, 2295, 2, 1008, 18, 6, 20, 207, 110, 563, 12, 8, 2901, 2, 8, 97, 6, 20, 53, 4767, 74, 4, 460, 364, 1273, 29, 270, 11, 960, 108, 45, 40, 29, 2961, 395, 11, 6, 4065, 500, 7, 2, 89, 364, 70, 29, 140, 4, 64, 4780, 11, 4, 2678, 26, 178, 4, 529, 443, 2, 5, 27, 710, 117, 2, 8123, 165, 47, 84, 37, 131, 818, 14, 595, 10, 10, 61, 1242, 1209, 10, 10, 288, 2260, 1702, 34, 2901, 2, 4, 65, 496, 4, 231, 7, 790, 5, 6, 320, 234, 2766, 234, 1119, 1574, 7, 496, 4, 139, 929, 2901, 2, 7750, 5, 4241, 18, 4, 8497, 2, 250, 11, 1818, 7561, 4, 4217, 5408, 747, 1115, 372, 1890, 1006, 541, 9303, 7, 4, 59, 2, 4, 3586, 2]),\n",
       "       list([1, 1446, 7079, 69, 72, 3305, 13, 610, 930, 8, 12, 582, 23, 5, 16, 484, 685, 54, 349, 11, 4120, 2959, 45, 58, 1466, 13, 197, 12, 16, 43, 23, 2, 5, 62, 30, 145, 402, 11, 4131, 51, 575, 32, 61, 369, 71, 66, 770, 12, 1054, 75, 100, 2198, 8, 4, 105, 37, 69, 147, 712, 75, 3543, 44, 257, 390, 5, 69, 263, 514, 105, 50, 286, 1814, 23, 4, 123, 13, 161, 40, 5, 421, 4, 116, 16, 897, 13, 2, 40, 319, 5872, 112, 6700, 11, 4803, 121, 25, 70, 3468, 4, 719, 3798, 13, 18, 31, 62, 40, 8, 7200, 4, 2, 7, 14, 123, 5, 942, 25, 8, 721, 12, 145, 5, 202, 12, 160, 580, 202, 12, 6, 52, 58, 2, 92, 401, 728, 12, 39, 14, 251, 8, 15, 251, 5, 2, 12, 38, 84, 80, 124, 12, 9, 23]),\n",
       "       list([1, 17, 6, 194, 337, 7, 4, 204, 22, 45, 254, 8, 106, 14, 123, 4, 2, 270, 2, 5, 2, 2, 732, 2098, 101, 405, 39, 14, 1034, 4, 1310, 9, 115, 50, 305, 12, 47, 4, 168, 5, 235, 7, 38, 111, 699, 102, 7, 4, 4039, 9245, 9, 24, 6, 78, 1099, 17, 2345, 2, 21, 27, 9685, 6139, 5, 2, 1603, 92, 1183, 4, 1310, 7, 4, 204, 42, 97, 90, 35, 221, 109, 29, 127, 27, 118, 8, 97, 12, 157, 21, 6789, 2, 9, 6, 66, 78, 1099, 4, 631, 1191, 5, 2642, 272, 191, 1070, 6, 7585, 8, 2197, 2, 2, 544, 5, 383, 1271, 848, 1468, 2, 497, 2, 8, 1597, 8778, 2, 21, 60, 27, 239, 9, 43, 8368, 209, 405, 10, 10, 12, 764, 40, 4, 248, 20, 12, 16, 5, 174, 1791, 72, 7, 51, 6, 1739, 22, 4, 204, 131, 9])],\n",
       "      dtype=object)"
      ]
     },
     "execution_count": 63,
     "metadata": {},
     "output_type": "execute_result"
    }
   ],
   "source": [
    "train_data"
   ]
  },
  {
   "cell_type": "code",
   "execution_count": 64,
   "metadata": {},
   "outputs": [
    {
     "name": "stdout",
     "output_type": "stream",
     "text": [
      "Downloading data from https://storage.googleapis.com/tensorflow/tf-keras-datasets/imdb_word_index.json\n",
      "1641221/1641221 [==============================] - 0s 0us/step\n"
     ]
    },
    {
     "data": {
      "text/plain": [
       "{'fawn': 34701,\n",
       " 'tsukino': 52006,\n",
       " 'nunnery': 52007,\n",
       " 'sonja': 16816,\n",
       " 'vani': 63951,\n",
       " 'woods': 1408,\n",
       " 'spiders': 16115,\n",
       " 'hanging': 2345,\n",
       " 'woody': 2289,\n",
       " 'trawling': 52008,\n",
       " \"hold's\": 52009,\n",
       " 'comically': 11307,\n",
       " 'localized': 40830,\n",
       " 'disobeying': 30568,\n",
       " \"'royale\": 52010,\n",
       " \"harpo's\": 40831,\n",
       " 'canet': 52011,\n",
       " 'aileen': 19313,\n",
       " 'acurately': 52012,\n",
       " \"diplomat's\": 52013,\n",
       " 'rickman': 25242,\n",
       " 'arranged': 6746,\n",
       " 'rumbustious': 52014,\n",
       " 'familiarness': 52015,\n",
       " \"spider'\": 52016,\n",
       " 'hahahah': 68804,\n",
       " \"wood'\": 52017,\n",
       " 'transvestism': 40833,\n",
       " \"hangin'\": 34702,\n",
       " 'bringing': 2338,\n",
       " 'seamier': 40834,\n",
       " 'wooded': 34703,\n",
       " 'bravora': 52018,\n",
       " 'grueling': 16817,\n",
       " 'wooden': 1636,\n",
       " 'wednesday': 16818,\n",
       " \"'prix\": 52019,\n",
       " 'altagracia': 34704,\n",
       " 'circuitry': 52020,\n",
       " 'crotch': 11585,\n",
       " 'busybody': 57766,\n",
       " \"tart'n'tangy\": 52021,\n",
       " 'burgade': 14129,\n",
       " 'thrace': 52023,\n",
       " \"tom's\": 11038,\n",
       " 'snuggles': 52025,\n",
       " 'francesco': 29114,\n",
       " 'complainers': 52027,\n",
       " 'templarios': 52125,\n",
       " '272': 40835,\n",
       " '273': 52028,\n",
       " 'zaniacs': 52130,\n",
       " '275': 34706,\n",
       " 'consenting': 27631,\n",
       " 'snuggled': 40836,\n",
       " 'inanimate': 15492,\n",
       " 'uality': 52030,\n",
       " 'bronte': 11926,\n",
       " 'errors': 4010,\n",
       " 'dialogs': 3230,\n",
       " \"yomada's\": 52031,\n",
       " \"madman's\": 34707,\n",
       " 'dialoge': 30585,\n",
       " 'usenet': 52033,\n",
       " 'videodrome': 40837,\n",
       " \"kid'\": 26338,\n",
       " 'pawed': 52034,\n",
       " \"'girlfriend'\": 30569,\n",
       " \"'pleasure\": 52035,\n",
       " \"'reloaded'\": 52036,\n",
       " \"kazakos'\": 40839,\n",
       " 'rocque': 52037,\n",
       " 'mailings': 52038,\n",
       " 'brainwashed': 11927,\n",
       " 'mcanally': 16819,\n",
       " \"tom''\": 52039,\n",
       " 'kurupt': 25243,\n",
       " 'affiliated': 21905,\n",
       " 'babaganoosh': 52040,\n",
       " \"noe's\": 40840,\n",
       " 'quart': 40841,\n",
       " 'kids': 359,\n",
       " 'uplifting': 5034,\n",
       " 'controversy': 7093,\n",
       " 'kida': 21906,\n",
       " 'kidd': 23379,\n",
       " \"error'\": 52041,\n",
       " 'neurologist': 52042,\n",
       " 'spotty': 18510,\n",
       " 'cobblers': 30570,\n",
       " 'projection': 9878,\n",
       " 'fastforwarding': 40842,\n",
       " 'sters': 52043,\n",
       " \"eggar's\": 52044,\n",
       " 'etherything': 52045,\n",
       " 'gateshead': 40843,\n",
       " 'airball': 34708,\n",
       " 'unsinkable': 25244,\n",
       " 'stern': 7180,\n",
       " \"cervi's\": 52046,\n",
       " 'dnd': 40844,\n",
       " 'dna': 11586,\n",
       " 'insecurity': 20598,\n",
       " \"'reboot'\": 52047,\n",
       " 'trelkovsky': 11037,\n",
       " 'jaekel': 52048,\n",
       " 'sidebars': 52049,\n",
       " \"sforza's\": 52050,\n",
       " 'distortions': 17633,\n",
       " 'mutinies': 52051,\n",
       " 'sermons': 30602,\n",
       " '7ft': 40846,\n",
       " 'boobage': 52052,\n",
       " \"o'bannon's\": 52053,\n",
       " 'populations': 23380,\n",
       " 'chulak': 52054,\n",
       " 'mesmerize': 27633,\n",
       " 'quinnell': 52055,\n",
       " 'yahoo': 10307,\n",
       " 'meteorologist': 52057,\n",
       " 'beswick': 42577,\n",
       " 'boorman': 15493,\n",
       " 'voicework': 40847,\n",
       " \"ster'\": 52058,\n",
       " 'blustering': 22922,\n",
       " 'hj': 52059,\n",
       " 'intake': 27634,\n",
       " 'morally': 5621,\n",
       " 'jumbling': 40849,\n",
       " 'bowersock': 52060,\n",
       " \"'porky's'\": 52061,\n",
       " 'gershon': 16821,\n",
       " 'ludicrosity': 40850,\n",
       " 'coprophilia': 52062,\n",
       " 'expressively': 40851,\n",
       " \"india's\": 19500,\n",
       " \"post's\": 34710,\n",
       " 'wana': 52063,\n",
       " 'wang': 5283,\n",
       " 'wand': 30571,\n",
       " 'wane': 25245,\n",
       " 'edgeways': 52321,\n",
       " 'titanium': 34711,\n",
       " 'pinta': 40852,\n",
       " 'want': 178,\n",
       " 'pinto': 30572,\n",
       " 'whoopdedoodles': 52065,\n",
       " 'tchaikovsky': 21908,\n",
       " 'travel': 2103,\n",
       " \"'victory'\": 52066,\n",
       " 'copious': 11928,\n",
       " 'gouge': 22433,\n",
       " \"chapters'\": 52067,\n",
       " 'barbra': 6702,\n",
       " 'uselessness': 30573,\n",
       " \"wan'\": 52068,\n",
       " 'assimilated': 27635,\n",
       " 'petiot': 16116,\n",
       " 'most\\x85and': 52069,\n",
       " 'dinosaurs': 3930,\n",
       " 'wrong': 352,\n",
       " 'seda': 52070,\n",
       " 'stollen': 52071,\n",
       " 'sentencing': 34712,\n",
       " 'ouroboros': 40853,\n",
       " 'assimilates': 40854,\n",
       " 'colorfully': 40855,\n",
       " 'glenne': 27636,\n",
       " 'dongen': 52072,\n",
       " 'subplots': 4760,\n",
       " 'kiloton': 52073,\n",
       " 'chandon': 23381,\n",
       " \"effect'\": 34713,\n",
       " 'snugly': 27637,\n",
       " 'kuei': 40856,\n",
       " 'welcomed': 9092,\n",
       " 'dishonor': 30071,\n",
       " 'concurrence': 52075,\n",
       " 'stoicism': 23382,\n",
       " \"guys'\": 14896,\n",
       " \"beroemd'\": 52077,\n",
       " 'butcher': 6703,\n",
       " \"melfi's\": 40857,\n",
       " 'aargh': 30623,\n",
       " 'playhouse': 20599,\n",
       " 'wickedly': 11308,\n",
       " 'fit': 1180,\n",
       " 'labratory': 52078,\n",
       " 'lifeline': 40859,\n",
       " 'screaming': 1927,\n",
       " 'fix': 4287,\n",
       " 'cineliterate': 52079,\n",
       " 'fic': 52080,\n",
       " 'fia': 52081,\n",
       " 'fig': 34714,\n",
       " 'fmvs': 52082,\n",
       " 'fie': 52083,\n",
       " 'reentered': 52084,\n",
       " 'fin': 30574,\n",
       " 'doctresses': 52085,\n",
       " 'fil': 52086,\n",
       " 'zucker': 12606,\n",
       " 'ached': 31931,\n",
       " 'counsil': 52088,\n",
       " 'paterfamilias': 52089,\n",
       " 'songwriter': 13885,\n",
       " 'shivam': 34715,\n",
       " 'hurting': 9654,\n",
       " 'effects': 299,\n",
       " 'slauther': 52090,\n",
       " \"'flame'\": 52091,\n",
       " 'sommerset': 52092,\n",
       " 'interwhined': 52093,\n",
       " 'whacking': 27638,\n",
       " 'bartok': 52094,\n",
       " 'barton': 8775,\n",
       " 'frewer': 21909,\n",
       " \"fi'\": 52095,\n",
       " 'ingrid': 6192,\n",
       " 'stribor': 30575,\n",
       " 'approporiately': 52096,\n",
       " 'wobblyhand': 52097,\n",
       " 'tantalisingly': 52098,\n",
       " 'ankylosaurus': 52099,\n",
       " 'parasites': 17634,\n",
       " 'childen': 52100,\n",
       " \"jenkins'\": 52101,\n",
       " 'metafiction': 52102,\n",
       " 'golem': 17635,\n",
       " 'indiscretion': 40860,\n",
       " \"reeves'\": 23383,\n",
       " \"inamorata's\": 57781,\n",
       " 'brittannica': 52104,\n",
       " 'adapt': 7916,\n",
       " \"russo's\": 30576,\n",
       " 'guitarists': 48246,\n",
       " 'abbott': 10553,\n",
       " 'abbots': 40861,\n",
       " 'lanisha': 17649,\n",
       " 'magickal': 40863,\n",
       " 'mattter': 52105,\n",
       " \"'willy\": 52106,\n",
       " 'pumpkins': 34716,\n",
       " 'stuntpeople': 52107,\n",
       " 'estimate': 30577,\n",
       " 'ugghhh': 40864,\n",
       " 'gameplay': 11309,\n",
       " \"wern't\": 52108,\n",
       " \"n'sync\": 40865,\n",
       " 'sickeningly': 16117,\n",
       " 'chiara': 40866,\n",
       " 'disturbed': 4011,\n",
       " 'portmanteau': 40867,\n",
       " 'ineffectively': 52109,\n",
       " \"duchonvey's\": 82143,\n",
       " \"nasty'\": 37519,\n",
       " 'purpose': 1285,\n",
       " 'lazers': 52112,\n",
       " 'lightened': 28105,\n",
       " 'kaliganj': 52113,\n",
       " 'popularism': 52114,\n",
       " \"damme's\": 18511,\n",
       " 'stylistics': 30578,\n",
       " 'mindgaming': 52115,\n",
       " 'spoilerish': 46449,\n",
       " \"'corny'\": 52117,\n",
       " 'boerner': 34718,\n",
       " 'olds': 6792,\n",
       " 'bakelite': 52118,\n",
       " 'renovated': 27639,\n",
       " 'forrester': 27640,\n",
       " \"lumiere's\": 52119,\n",
       " 'gaskets': 52024,\n",
       " 'needed': 884,\n",
       " 'smight': 34719,\n",
       " 'master': 1297,\n",
       " \"edie's\": 25905,\n",
       " 'seeber': 40868,\n",
       " 'hiya': 52120,\n",
       " 'fuzziness': 52121,\n",
       " 'genesis': 14897,\n",
       " 'rewards': 12607,\n",
       " 'enthrall': 30579,\n",
       " \"'about\": 40869,\n",
       " \"recollection's\": 52122,\n",
       " 'mutilated': 11039,\n",
       " 'fatherlands': 52123,\n",
       " \"fischer's\": 52124,\n",
       " 'positively': 5399,\n",
       " '270': 34705,\n",
       " 'ahmed': 34720,\n",
       " 'zatoichi': 9836,\n",
       " 'bannister': 13886,\n",
       " 'anniversaries': 52127,\n",
       " \"helm's\": 30580,\n",
       " \"'work'\": 52128,\n",
       " 'exclaimed': 34721,\n",
       " \"'unfunny'\": 52129,\n",
       " '274': 52029,\n",
       " 'feeling': 544,\n",
       " \"wanda's\": 52131,\n",
       " 'dolan': 33266,\n",
       " '278': 52133,\n",
       " 'peacoat': 52134,\n",
       " 'brawny': 40870,\n",
       " 'mishra': 40871,\n",
       " 'worlders': 40872,\n",
       " 'protags': 52135,\n",
       " 'skullcap': 52136,\n",
       " 'dastagir': 57596,\n",
       " 'affairs': 5622,\n",
       " 'wholesome': 7799,\n",
       " 'hymen': 52137,\n",
       " 'paramedics': 25246,\n",
       " 'unpersons': 52138,\n",
       " 'heavyarms': 52139,\n",
       " 'affaire': 52140,\n",
       " 'coulisses': 52141,\n",
       " 'hymer': 40873,\n",
       " 'kremlin': 52142,\n",
       " 'shipments': 30581,\n",
       " 'pixilated': 52143,\n",
       " \"'00s\": 30582,\n",
       " 'diminishing': 18512,\n",
       " 'cinematic': 1357,\n",
       " 'resonates': 14898,\n",
       " 'simplify': 40874,\n",
       " \"nature'\": 40875,\n",
       " 'temptresses': 40876,\n",
       " 'reverence': 16822,\n",
       " 'resonated': 19502,\n",
       " 'dailey': 34722,\n",
       " '2\\x85': 52144,\n",
       " 'treize': 27641,\n",
       " 'majo': 52145,\n",
       " 'kiya': 21910,\n",
       " 'woolnough': 52146,\n",
       " 'thanatos': 39797,\n",
       " 'sandoval': 35731,\n",
       " 'dorama': 40879,\n",
       " \"o'shaughnessy\": 52147,\n",
       " 'tech': 4988,\n",
       " 'fugitives': 32018,\n",
       " 'teck': 30583,\n",
       " \"'e'\": 76125,\n",
       " 'doesn’t': 40881,\n",
       " 'purged': 52149,\n",
       " 'saying': 657,\n",
       " \"martians'\": 41095,\n",
       " 'norliss': 23418,\n",
       " 'dickey': 27642,\n",
       " 'dicker': 52152,\n",
       " \"'sependipity\": 52153,\n",
       " 'padded': 8422,\n",
       " 'ordell': 57792,\n",
       " \"sturges'\": 40882,\n",
       " 'independentcritics': 52154,\n",
       " 'tempted': 5745,\n",
       " \"atkinson's\": 34724,\n",
       " 'hounded': 25247,\n",
       " 'apace': 52155,\n",
       " 'clicked': 15494,\n",
       " \"'humor'\": 30584,\n",
       " \"martino's\": 17177,\n",
       " \"'supporting\": 52156,\n",
       " 'warmongering': 52032,\n",
       " \"zemeckis's\": 34725,\n",
       " 'lube': 21911,\n",
       " 'shocky': 52157,\n",
       " 'plate': 7476,\n",
       " 'plata': 40883,\n",
       " 'sturgess': 40884,\n",
       " \"nerds'\": 40885,\n",
       " 'plato': 20600,\n",
       " 'plath': 34726,\n",
       " 'platt': 40886,\n",
       " 'mcnab': 52159,\n",
       " 'clumsiness': 27643,\n",
       " 'altogether': 3899,\n",
       " 'massacring': 42584,\n",
       " 'bicenntinial': 52160,\n",
       " 'skaal': 40887,\n",
       " 'droning': 14360,\n",
       " 'lds': 8776,\n",
       " 'jaguar': 21912,\n",
       " \"cale's\": 34727,\n",
       " 'nicely': 1777,\n",
       " 'mummy': 4588,\n",
       " \"lot's\": 18513,\n",
       " 'patch': 10086,\n",
       " 'kerkhof': 50202,\n",
       " \"leader's\": 52161,\n",
       " \"'movie\": 27644,\n",
       " 'uncomfirmed': 52162,\n",
       " 'heirloom': 40888,\n",
       " 'wrangle': 47360,\n",
       " 'emotion\\x85': 52163,\n",
       " \"'stargate'\": 52164,\n",
       " 'pinoy': 40889,\n",
       " 'conchatta': 40890,\n",
       " 'broeke': 41128,\n",
       " 'advisedly': 40891,\n",
       " \"barker's\": 17636,\n",
       " 'descours': 52166,\n",
       " 'lots': 772,\n",
       " 'lotr': 9259,\n",
       " 'irs': 9879,\n",
       " 'lott': 52167,\n",
       " 'xvi': 40892,\n",
       " 'irk': 34728,\n",
       " 'irl': 52168,\n",
       " 'ira': 6887,\n",
       " 'belzer': 21913,\n",
       " 'irc': 52169,\n",
       " 'ire': 27645,\n",
       " 'requisites': 40893,\n",
       " 'discipline': 7693,\n",
       " 'lyoko': 52961,\n",
       " 'extend': 11310,\n",
       " 'nature': 873,\n",
       " \"'dickie'\": 52170,\n",
       " 'optimist': 40894,\n",
       " 'lapping': 30586,\n",
       " 'superficial': 3900,\n",
       " 'vestment': 52171,\n",
       " 'extent': 2823,\n",
       " 'tendons': 52172,\n",
       " \"heller's\": 52173,\n",
       " 'quagmires': 52174,\n",
       " 'miyako': 52175,\n",
       " 'moocow': 20601,\n",
       " \"coles'\": 52176,\n",
       " 'lookit': 40895,\n",
       " 'ravenously': 52177,\n",
       " 'levitating': 40896,\n",
       " 'perfunctorily': 52178,\n",
       " 'lookin': 30587,\n",
       " \"lot'\": 40898,\n",
       " 'lookie': 52179,\n",
       " 'fearlessly': 34870,\n",
       " 'libyan': 52181,\n",
       " 'fondles': 40899,\n",
       " 'gopher': 35714,\n",
       " 'wearying': 40901,\n",
       " \"nz's\": 52182,\n",
       " 'minuses': 27646,\n",
       " 'puposelessly': 52183,\n",
       " 'shandling': 52184,\n",
       " 'decapitates': 31268,\n",
       " 'humming': 11929,\n",
       " \"'nother\": 40902,\n",
       " 'smackdown': 21914,\n",
       " 'underdone': 30588,\n",
       " 'frf': 40903,\n",
       " 'triviality': 52185,\n",
       " 'fro': 25248,\n",
       " 'bothers': 8777,\n",
       " \"'kensington\": 52186,\n",
       " 'much': 73,\n",
       " 'muco': 34730,\n",
       " 'wiseguy': 22615,\n",
       " \"richie's\": 27648,\n",
       " 'tonino': 40904,\n",
       " 'unleavened': 52187,\n",
       " 'fry': 11587,\n",
       " \"'tv'\": 40905,\n",
       " 'toning': 40906,\n",
       " 'obese': 14361,\n",
       " 'sensationalized': 30589,\n",
       " 'spiv': 40907,\n",
       " 'spit': 6259,\n",
       " 'arkin': 7364,\n",
       " 'charleton': 21915,\n",
       " 'jeon': 16823,\n",
       " 'boardroom': 21916,\n",
       " 'doubts': 4989,\n",
       " 'spin': 3084,\n",
       " 'hepo': 53083,\n",
       " 'wildcat': 27649,\n",
       " 'venoms': 10584,\n",
       " 'misconstrues': 52191,\n",
       " 'mesmerising': 18514,\n",
       " 'misconstrued': 40908,\n",
       " 'rescinds': 52192,\n",
       " 'prostrate': 52193,\n",
       " 'majid': 40909,\n",
       " 'climbed': 16479,\n",
       " 'canoeing': 34731,\n",
       " 'majin': 52195,\n",
       " 'animie': 57804,\n",
       " 'sylke': 40910,\n",
       " 'conditioned': 14899,\n",
       " 'waddell': 40911,\n",
       " '3\\x85': 52196,\n",
       " 'hyperdrive': 41188,\n",
       " 'conditioner': 34732,\n",
       " 'bricklayer': 53153,\n",
       " 'hong': 2576,\n",
       " 'memoriam': 52198,\n",
       " 'inventively': 30592,\n",
       " \"levant's\": 25249,\n",
       " 'portobello': 20638,\n",
       " 'remand': 52200,\n",
       " 'mummified': 19504,\n",
       " 'honk': 27650,\n",
       " 'spews': 19505,\n",
       " 'visitations': 40912,\n",
       " 'mummifies': 52201,\n",
       " 'cavanaugh': 25250,\n",
       " 'zeon': 23385,\n",
       " \"jungle's\": 40913,\n",
       " 'viertel': 34733,\n",
       " 'frenchmen': 27651,\n",
       " 'torpedoes': 52202,\n",
       " 'schlessinger': 52203,\n",
       " 'torpedoed': 34734,\n",
       " 'blister': 69876,\n",
       " 'cinefest': 52204,\n",
       " 'furlough': 34735,\n",
       " 'mainsequence': 52205,\n",
       " 'mentors': 40914,\n",
       " 'academic': 9094,\n",
       " 'stillness': 20602,\n",
       " 'academia': 40915,\n",
       " 'lonelier': 52206,\n",
       " 'nibby': 52207,\n",
       " \"losers'\": 52208,\n",
       " 'cineastes': 40916,\n",
       " 'corporate': 4449,\n",
       " 'massaging': 40917,\n",
       " 'bellow': 30593,\n",
       " 'absurdities': 19506,\n",
       " 'expetations': 53241,\n",
       " 'nyfiken': 40918,\n",
       " 'mehras': 75638,\n",
       " 'lasse': 52209,\n",
       " 'visability': 52210,\n",
       " 'militarily': 33946,\n",
       " \"elder'\": 52211,\n",
       " 'gainsbourg': 19023,\n",
       " 'hah': 20603,\n",
       " 'hai': 13420,\n",
       " 'haj': 34736,\n",
       " 'hak': 25251,\n",
       " 'hal': 4311,\n",
       " 'ham': 4892,\n",
       " 'duffer': 53259,\n",
       " 'haa': 52213,\n",
       " 'had': 66,\n",
       " 'advancement': 11930,\n",
       " 'hag': 16825,\n",
       " \"hand'\": 25252,\n",
       " 'hay': 13421,\n",
       " 'mcnamara': 20604,\n",
       " \"mozart's\": 52214,\n",
       " 'duffel': 30731,\n",
       " 'haq': 30594,\n",
       " 'har': 13887,\n",
       " 'has': 44,\n",
       " 'hat': 2401,\n",
       " 'hav': 40919,\n",
       " 'haw': 30595,\n",
       " 'figtings': 52215,\n",
       " 'elders': 15495,\n",
       " 'underpanted': 52216,\n",
       " 'pninson': 52217,\n",
       " 'unequivocally': 27652,\n",
       " \"barbara's\": 23673,\n",
       " \"bello'\": 52219,\n",
       " 'indicative': 12997,\n",
       " 'yawnfest': 40920,\n",
       " 'hexploitation': 52220,\n",
       " \"loder's\": 52221,\n",
       " 'sleuthing': 27653,\n",
       " \"justin's\": 32622,\n",
       " \"'ball\": 52222,\n",
       " \"'summer\": 52223,\n",
       " \"'demons'\": 34935,\n",
       " \"mormon's\": 52225,\n",
       " \"laughton's\": 34737,\n",
       " 'debell': 52226,\n",
       " 'shipyard': 39724,\n",
       " 'unabashedly': 30597,\n",
       " 'disks': 40401,\n",
       " 'crowd': 2290,\n",
       " 'crowe': 10087,\n",
       " \"vancouver's\": 56434,\n",
       " 'mosques': 34738,\n",
       " 'crown': 6627,\n",
       " 'culpas': 52227,\n",
       " 'crows': 27654,\n",
       " 'surrell': 53344,\n",
       " 'flowless': 52229,\n",
       " 'sheirk': 52230,\n",
       " \"'three\": 40923,\n",
       " \"peterson'\": 52231,\n",
       " 'ooverall': 52232,\n",
       " 'perchance': 40924,\n",
       " 'bottom': 1321,\n",
       " 'chabert': 53363,\n",
       " 'sneha': 52233,\n",
       " 'inhuman': 13888,\n",
       " 'ichii': 52234,\n",
       " 'ursla': 52235,\n",
       " 'completly': 30598,\n",
       " 'moviedom': 40925,\n",
       " 'raddick': 52236,\n",
       " 'brundage': 51995,\n",
       " 'brigades': 40926,\n",
       " 'starring': 1181,\n",
       " \"'goal'\": 52237,\n",
       " 'caskets': 52238,\n",
       " 'willcock': 52239,\n",
       " \"threesome's\": 52240,\n",
       " \"mosque'\": 52241,\n",
       " \"cover's\": 52242,\n",
       " 'spaceships': 17637,\n",
       " 'anomalous': 40927,\n",
       " 'ptsd': 27655,\n",
       " 'shirdan': 52243,\n",
       " 'obscenity': 21962,\n",
       " 'lemmings': 30599,\n",
       " 'duccio': 30600,\n",
       " \"levene's\": 52244,\n",
       " \"'gorby'\": 52245,\n",
       " \"teenager's\": 25255,\n",
       " 'marshall': 5340,\n",
       " 'honeymoon': 9095,\n",
       " 'shoots': 3231,\n",
       " 'despised': 12258,\n",
       " 'okabasho': 52246,\n",
       " 'fabric': 8289,\n",
       " 'cannavale': 18515,\n",
       " 'raped': 3537,\n",
       " \"tutt's\": 52247,\n",
       " 'grasping': 17638,\n",
       " 'despises': 18516,\n",
       " \"thief's\": 40928,\n",
       " 'rapes': 8926,\n",
       " 'raper': 52248,\n",
       " \"eyre'\": 27656,\n",
       " 'walchek': 52249,\n",
       " \"elmo's\": 23386,\n",
       " 'perfumes': 40929,\n",
       " 'spurting': 21918,\n",
       " \"exposition'\\x85\": 52250,\n",
       " 'denoting': 52251,\n",
       " 'thesaurus': 34740,\n",
       " \"shoot'\": 40930,\n",
       " 'bonejack': 49759,\n",
       " 'simpsonian': 52253,\n",
       " 'hebetude': 30601,\n",
       " \"hallow's\": 34741,\n",
       " 'desperation\\x85': 52254,\n",
       " 'incinerator': 34742,\n",
       " 'congratulations': 10308,\n",
       " 'humbled': 52255,\n",
       " \"else's\": 5924,\n",
       " 'trelkovski': 40845,\n",
       " \"rape'\": 52256,\n",
       " \"'chapters'\": 59386,\n",
       " '1600s': 52257,\n",
       " 'martian': 7253,\n",
       " 'nicest': 25256,\n",
       " 'eyred': 52259,\n",
       " 'passenger': 9457,\n",
       " 'disgrace': 6041,\n",
       " 'moderne': 52260,\n",
       " 'barrymore': 5120,\n",
       " 'yankovich': 52261,\n",
       " 'moderns': 40931,\n",
       " 'studliest': 52262,\n",
       " 'bedsheet': 52263,\n",
       " 'decapitation': 14900,\n",
       " 'slurring': 52264,\n",
       " \"'nunsploitation'\": 52265,\n",
       " \"'character'\": 34743,\n",
       " 'cambodia': 9880,\n",
       " 'rebelious': 52266,\n",
       " 'pasadena': 27657,\n",
       " 'crowne': 40932,\n",
       " \"'bedchamber\": 52267,\n",
       " 'conjectural': 52268,\n",
       " 'appologize': 52269,\n",
       " 'halfassing': 52270,\n",
       " 'paycheque': 57816,\n",
       " 'palms': 20606,\n",
       " \"'islands\": 52271,\n",
       " 'hawked': 40933,\n",
       " 'palme': 21919,\n",
       " 'conservatively': 40934,\n",
       " 'larp': 64007,\n",
       " 'palma': 5558,\n",
       " 'smelling': 21920,\n",
       " 'aragorn': 12998,\n",
       " 'hawker': 52272,\n",
       " 'hawkes': 52273,\n",
       " 'explosions': 3975,\n",
       " 'loren': 8059,\n",
       " \"pyle's\": 52274,\n",
       " 'shootout': 6704,\n",
       " \"mike's\": 18517,\n",
       " \"driscoll's\": 52275,\n",
       " 'cogsworth': 40935,\n",
       " \"britian's\": 52276,\n",
       " 'childs': 34744,\n",
       " \"portrait's\": 52277,\n",
       " 'chain': 3626,\n",
       " 'whoever': 2497,\n",
       " 'puttered': 52278,\n",
       " 'childe': 52279,\n",
       " 'maywether': 52280,\n",
       " 'chair': 3036,\n",
       " \"rance's\": 52281,\n",
       " 'machu': 34745,\n",
       " 'ballet': 4517,\n",
       " 'grapples': 34746,\n",
       " 'summerize': 76152,\n",
       " 'freelance': 30603,\n",
       " \"andrea's\": 52283,\n",
       " '\\x91very': 52284,\n",
       " 'coolidge': 45879,\n",
       " 'mache': 18518,\n",
       " 'balled': 52285,\n",
       " 'grappled': 40937,\n",
       " 'macha': 18519,\n",
       " 'underlining': 21921,\n",
       " 'macho': 5623,\n",
       " 'oversight': 19507,\n",
       " 'machi': 25257,\n",
       " 'verbally': 11311,\n",
       " 'tenacious': 21922,\n",
       " 'windshields': 40938,\n",
       " 'paychecks': 18557,\n",
       " 'jerk': 3396,\n",
       " \"good'\": 11931,\n",
       " 'prancer': 34748,\n",
       " 'prances': 21923,\n",
       " 'olympus': 52286,\n",
       " 'lark': 21924,\n",
       " 'embark': 10785,\n",
       " 'gloomy': 7365,\n",
       " 'jehaan': 52287,\n",
       " 'turaqui': 52288,\n",
       " \"child'\": 20607,\n",
       " 'locked': 2894,\n",
       " 'pranced': 52289,\n",
       " 'exact': 2588,\n",
       " 'unattuned': 52290,\n",
       " 'minute': 783,\n",
       " 'skewed': 16118,\n",
       " 'hodgins': 40940,\n",
       " 'skewer': 34749,\n",
       " 'think\\x85': 52291,\n",
       " 'rosenstein': 38765,\n",
       " 'helmit': 52292,\n",
       " 'wrestlemanias': 34750,\n",
       " 'hindered': 16826,\n",
       " \"martha's\": 30604,\n",
       " 'cheree': 52293,\n",
       " \"pluckin'\": 52294,\n",
       " 'ogles': 40941,\n",
       " 'heavyweight': 11932,\n",
       " 'aada': 82190,\n",
       " 'chopping': 11312,\n",
       " 'strongboy': 61534,\n",
       " 'hegemonic': 41342,\n",
       " 'adorns': 40942,\n",
       " 'xxth': 41346,\n",
       " 'nobuhiro': 34751,\n",
       " 'capitães': 52298,\n",
       " 'kavogianni': 52299,\n",
       " 'antwerp': 13422,\n",
       " 'celebrated': 6538,\n",
       " 'roarke': 52300,\n",
       " 'baggins': 40943,\n",
       " 'cheeseburgers': 31270,\n",
       " 'matras': 52301,\n",
       " \"nineties'\": 52302,\n",
       " \"'craig'\": 52303,\n",
       " 'celebrates': 12999,\n",
       " 'unintentionally': 3383,\n",
       " 'drafted': 14362,\n",
       " 'climby': 52304,\n",
       " '303': 52305,\n",
       " 'oldies': 18520,\n",
       " 'climbs': 9096,\n",
       " 'honour': 9655,\n",
       " 'plucking': 34752,\n",
       " '305': 30074,\n",
       " 'address': 5514,\n",
       " 'menjou': 40944,\n",
       " \"'freak'\": 42592,\n",
       " 'dwindling': 19508,\n",
       " 'benson': 9458,\n",
       " 'white’s': 52307,\n",
       " 'shamelessness': 40945,\n",
       " 'impacted': 21925,\n",
       " 'upatz': 52308,\n",
       " 'cusack': 3840,\n",
       " \"flavia's\": 37567,\n",
       " 'effette': 52309,\n",
       " 'influx': 34753,\n",
       " 'boooooooo': 52310,\n",
       " 'dimitrova': 52311,\n",
       " 'houseman': 13423,\n",
       " 'bigas': 25259,\n",
       " 'boylen': 52312,\n",
       " 'phillipenes': 52313,\n",
       " 'fakery': 40946,\n",
       " \"grandpa's\": 27658,\n",
       " 'darnell': 27659,\n",
       " 'undergone': 19509,\n",
       " 'handbags': 52315,\n",
       " 'perished': 21926,\n",
       " 'pooped': 37778,\n",
       " 'vigour': 27660,\n",
       " 'opposed': 3627,\n",
       " 'etude': 52316,\n",
       " \"caine's\": 11799,\n",
       " 'doozers': 52317,\n",
       " 'photojournals': 34754,\n",
       " 'perishes': 52318,\n",
       " 'constrains': 34755,\n",
       " 'migenes': 40948,\n",
       " 'consoled': 30605,\n",
       " 'alastair': 16827,\n",
       " 'wvs': 52319,\n",
       " 'ooooooh': 52320,\n",
       " 'approving': 34756,\n",
       " 'consoles': 40949,\n",
       " 'disparagement': 52064,\n",
       " 'futureistic': 52322,\n",
       " 'rebounding': 52323,\n",
       " \"'date\": 52324,\n",
       " 'gregoire': 52325,\n",
       " 'rutherford': 21927,\n",
       " 'americanised': 34757,\n",
       " 'novikov': 82196,\n",
       " 'following': 1042,\n",
       " 'munroe': 34758,\n",
       " \"morita'\": 52326,\n",
       " 'christenssen': 52327,\n",
       " 'oatmeal': 23106,\n",
       " 'fossey': 25260,\n",
       " 'livered': 40950,\n",
       " 'listens': 13000,\n",
       " \"'marci\": 76164,\n",
       " \"otis's\": 52330,\n",
       " 'thanking': 23387,\n",
       " 'maude': 16019,\n",
       " 'extensions': 34759,\n",
       " 'ameteurish': 52332,\n",
       " \"commender's\": 52333,\n",
       " 'agricultural': 27661,\n",
       " 'convincingly': 4518,\n",
       " 'fueled': 17639,\n",
       " 'mahattan': 54014,\n",
       " \"paris's\": 40952,\n",
       " 'vulkan': 52336,\n",
       " 'stapes': 52337,\n",
       " 'odysessy': 52338,\n",
       " 'harmon': 12259,\n",
       " 'surfing': 4252,\n",
       " 'halloran': 23494,\n",
       " 'unbelieveably': 49580,\n",
       " \"'offed'\": 52339,\n",
       " 'quadrant': 30607,\n",
       " 'inhabiting': 19510,\n",
       " 'nebbish': 34760,\n",
       " 'forebears': 40953,\n",
       " 'skirmish': 34761,\n",
       " 'ocassionally': 52340,\n",
       " \"'resist\": 52341,\n",
       " 'impactful': 21928,\n",
       " 'spicier': 52342,\n",
       " 'touristy': 40954,\n",
       " \"'football'\": 52343,\n",
       " 'webpage': 40955,\n",
       " 'exurbia': 52345,\n",
       " 'jucier': 52346,\n",
       " 'professors': 14901,\n",
       " 'structuring': 34762,\n",
       " 'jig': 30608,\n",
       " 'overlord': 40956,\n",
       " 'disconnect': 25261,\n",
       " 'sniffle': 82201,\n",
       " 'slimeball': 40957,\n",
       " 'jia': 40958,\n",
       " 'milked': 16828,\n",
       " 'banjoes': 40959,\n",
       " 'jim': 1237,\n",
       " 'workforces': 52348,\n",
       " 'jip': 52349,\n",
       " 'rotweiller': 52350,\n",
       " 'mundaneness': 34763,\n",
       " \"'ninja'\": 52351,\n",
       " \"dead'\": 11040,\n",
       " \"cipriani's\": 40960,\n",
       " 'modestly': 20608,\n",
       " \"professor'\": 52352,\n",
       " 'shacked': 40961,\n",
       " 'bashful': 34764,\n",
       " 'sorter': 23388,\n",
       " 'overpowering': 16120,\n",
       " 'workmanlike': 18521,\n",
       " 'henpecked': 27662,\n",
       " 'sorted': 18522,\n",
       " \"jōb's\": 52354,\n",
       " \"'always\": 52355,\n",
       " \"'baptists\": 34765,\n",
       " 'dreamcatchers': 52356,\n",
       " \"'silence'\": 52357,\n",
       " 'hickory': 21929,\n",
       " 'fun\\x97yet': 52358,\n",
       " 'breakumentary': 52359,\n",
       " 'didn': 15496,\n",
       " 'didi': 52360,\n",
       " 'pealing': 52361,\n",
       " 'dispite': 40962,\n",
       " \"italy's\": 25262,\n",
       " 'instability': 21930,\n",
       " 'quarter': 6539,\n",
       " 'quartet': 12608,\n",
       " 'padmé': 52362,\n",
       " \"'bleedmedry\": 52363,\n",
       " 'pahalniuk': 52364,\n",
       " 'honduras': 52365,\n",
       " 'bursting': 10786,\n",
       " \"pablo's\": 41465,\n",
       " 'irremediably': 52367,\n",
       " 'presages': 40963,\n",
       " 'bowlegged': 57832,\n",
       " 'dalip': 65183,\n",
       " 'entering': 6260,\n",
       " 'newsradio': 76172,\n",
       " 'presaged': 54150,\n",
       " \"giallo's\": 27663,\n",
       " 'bouyant': 40964,\n",
       " 'amerterish': 52368,\n",
       " 'rajni': 18523,\n",
       " 'leeves': 30610,\n",
       " 'macauley': 34767,\n",
       " 'seriously': 612,\n",
       " 'sugercoma': 52369,\n",
       " 'grimstead': 52370,\n",
       " \"'fairy'\": 52371,\n",
       " 'zenda': 30611,\n",
       " \"'twins'\": 52372,\n",
       " 'realisation': 17640,\n",
       " 'highsmith': 27664,\n",
       " 'raunchy': 7817,\n",
       " 'incentives': 40965,\n",
       " 'flatson': 52374,\n",
       " 'snooker': 35097,\n",
       " 'crazies': 16829,\n",
       " 'crazier': 14902,\n",
       " 'grandma': 7094,\n",
       " 'napunsaktha': 52375,\n",
       " 'workmanship': 30612,\n",
       " 'reisner': 52376,\n",
       " \"sanford's\": 61306,\n",
       " '\\x91doña': 52377,\n",
       " 'modest': 6108,\n",
       " \"everything's\": 19153,\n",
       " 'hamer': 40966,\n",
       " \"couldn't'\": 52379,\n",
       " 'quibble': 13001,\n",
       " 'socking': 52380,\n",
       " 'tingler': 21931,\n",
       " 'gutman': 52381,\n",
       " 'lachlan': 40967,\n",
       " 'tableaus': 52382,\n",
       " 'headbanger': 52383,\n",
       " 'spoken': 2847,\n",
       " 'cerebrally': 34768,\n",
       " \"'road\": 23490,\n",
       " 'tableaux': 21932,\n",
       " \"proust's\": 40968,\n",
       " 'periodical': 40969,\n",
       " \"shoveller's\": 52385,\n",
       " 'tamara': 25263,\n",
       " 'affords': 17641,\n",
       " 'concert': 3249,\n",
       " \"yara's\": 87955,\n",
       " 'someome': 52386,\n",
       " 'lingering': 8424,\n",
       " \"abraham's\": 41511,\n",
       " 'beesley': 34769,\n",
       " 'cherbourg': 34770,\n",
       " 'kagan': 28624,\n",
       " 'snatch': 9097,\n",
       " \"miyazaki's\": 9260,\n",
       " 'absorbs': 25264,\n",
       " \"koltai's\": 40970,\n",
       " 'tingled': 64027,\n",
       " 'crossroads': 19511,\n",
       " 'rehab': 16121,\n",
       " 'falworth': 52389,\n",
       " 'sequals': 52390,\n",
       " ...}"
      ]
     },
     "execution_count": 64,
     "metadata": {},
     "output_type": "execute_result"
    }
   ],
   "source": [
    "word_idx = imdb.get_word_index()\n",
    "reverse_word_idx = dict(\n",
    "    [(value, key) for (value, key) in word_idx.items()]\n",
    ")\n",
    "reverse_word_idx"
   ]
  },
  {
   "cell_type": "code",
   "execution_count": 66,
   "metadata": {},
   "outputs": [
    {
     "name": "stdout",
     "output_type": "stream",
     "text": [
      "Model: \"sequential_3\"\n",
      "_________________________________________________________________\n",
      " Layer (type)                Output Shape              Param #   \n",
      "=================================================================\n",
      " input (Dense)               (None, 16)                160016    \n",
      "                                                                 \n",
      " hidden (Dense)              (None, 16)                272       \n",
      "                                                                 \n",
      " output (Dense)              (None, 1)                 17        \n",
      "                                                                 \n",
      "=================================================================\n",
      "Total params: 160,305\n",
      "Trainable params: 160,305\n",
      "Non-trainable params: 0\n",
      "_________________________________________________________________\n"
     ]
    }
   ],
   "source": [
    "model = Sequential([\n",
    "    Dense(16, activation='relu', input_shape=(10000, ), name='input'),\n",
    "    Dense(16, activation='relu', name='hidden'),\n",
    "    Dense(1, activation='sigmoid', name='output')\n",
    "])\n",
    "\n",
    "model.compile(optimizer='rmsprop',\n",
    "              loss='binary_crossentropy',\n",
    "              metrics=['acc'])\n",
    "\n",
    "model.summary()"
   ]
  },
  {
   "cell_type": "code",
   "execution_count": 67,
   "metadata": {},
   "outputs": [
    {
     "name": "stdout",
     "output_type": "stream",
     "text": [
      "Epoch 1/20\n",
      "49/49 [==============================] - 11s 204ms/step - loss: 0.4500 - acc: 0.8160 - val_loss: 0.3370 - val_acc: 0.8764\n",
      "Epoch 2/20\n",
      "49/49 [==============================] - 2s 51ms/step - loss: 0.2568 - acc: 0.9110 - val_loss: 0.2835 - val_acc: 0.8910\n",
      "Epoch 3/20\n",
      "49/49 [==============================] - 2s 47ms/step - loss: 0.2014 - acc: 0.9275 - val_loss: 0.2919 - val_acc: 0.8829\n",
      "Epoch 4/20\n",
      "49/49 [==============================] - 2s 37ms/step - loss: 0.1664 - acc: 0.9409 - val_loss: 0.3028 - val_acc: 0.8808\n",
      "Epoch 5/20\n",
      "49/49 [==============================] - 2s 35ms/step - loss: 0.1422 - acc: 0.9508 - val_loss: 0.3346 - val_acc: 0.8734\n",
      "Epoch 6/20\n",
      "49/49 [==============================] - 2s 34ms/step - loss: 0.1270 - acc: 0.9560 - val_loss: 0.3413 - val_acc: 0.8733\n",
      "Epoch 7/20\n",
      "49/49 [==============================] - 2s 34ms/step - loss: 0.1107 - acc: 0.9623 - val_loss: 0.3970 - val_acc: 0.8627\n",
      "Epoch 8/20\n",
      "49/49 [==============================] - 2s 32ms/step - loss: 0.0969 - acc: 0.9664 - val_loss: 0.3793 - val_acc: 0.8709\n",
      "Epoch 9/20\n",
      "49/49 [==============================] - 2s 32ms/step - loss: 0.0863 - acc: 0.9720 - val_loss: 0.4066 - val_acc: 0.8668\n",
      "Epoch 10/20\n",
      "49/49 [==============================] - 2s 36ms/step - loss: 0.0773 - acc: 0.9742 - val_loss: 0.4381 - val_acc: 0.8650\n",
      "Epoch 11/20\n",
      "49/49 [==============================] - 2s 40ms/step - loss: 0.0675 - acc: 0.9791 - val_loss: 0.4613 - val_acc: 0.8639\n",
      "Epoch 12/20\n",
      "49/49 [==============================] - 2s 33ms/step - loss: 0.0561 - acc: 0.9827 - val_loss: 0.5253 - val_acc: 0.8536\n",
      "Epoch 13/20\n",
      "49/49 [==============================] - 2s 34ms/step - loss: 0.0507 - acc: 0.9844 - val_loss: 0.5251 - val_acc: 0.8582\n",
      "Epoch 14/20\n",
      "49/49 [==============================] - 2s 31ms/step - loss: 0.0453 - acc: 0.9874 - val_loss: 0.5566 - val_acc: 0.8555\n",
      "Epoch 15/20\n",
      "49/49 [==============================] - 2s 31ms/step - loss: 0.0381 - acc: 0.9893 - val_loss: 0.5932 - val_acc: 0.8544\n",
      "Epoch 16/20\n",
      "49/49 [==============================] - 2s 41ms/step - loss: 0.0304 - acc: 0.9921 - val_loss: 0.6175 - val_acc: 0.8549\n",
      "Epoch 17/20\n",
      "49/49 [==============================] - 2s 36ms/step - loss: 0.0277 - acc: 0.9928 - val_loss: 0.6483 - val_acc: 0.8543\n",
      "Epoch 18/20\n",
      "49/49 [==============================] - 2s 36ms/step - loss: 0.0217 - acc: 0.9943 - val_loss: 0.7187 - val_acc: 0.8471\n",
      "Epoch 19/20\n",
      "49/49 [==============================] - 2s 34ms/step - loss: 0.0195 - acc: 0.9952 - val_loss: 0.7345 - val_acc: 0.8520\n",
      "Epoch 20/20\n",
      "49/49 [==============================] - 2s 34ms/step - loss: 0.0152 - acc: 0.9966 - val_loss: 0.7767 - val_acc: 0.8478\n"
     ]
    }
   ],
   "source": [
    "# model train\n",
    "\n",
    "model_hist = model.fit(x_train, y_train,\n",
    "                       epochs=20,\n",
    "                       batch_size=512,\n",
    "                       validation_data=(x_test, y_test))"
   ]
  },
  {
   "cell_type": "markdown",
   "metadata": {},
   "source": [
    "val_loss가 epoch이 지날수록 증가함\n",
    "- 즉, overfitting 발생"
   ]
  },
  {
   "cell_type": "code",
   "execution_count": 75,
   "metadata": {},
   "outputs": [
    {
     "data": {
      "image/png": "[encoded data removed]",
      "text/plain": [
       "<Figure size 432x288 with 1 Axes>"
      ]
     },
     "metadata": {},
     "output_type": "display_data"
    }
   ],
   "source": [
    "plt.style.use('seaborn-white')\n",
    "\n",
    "epochs = range(1, 21)\n",
    "model_val_loss = model_hist.history['val_loss']   # model.history에서 특정한 수치만 가져올 수 있음\n",
    "\n",
    "plt.plot(epochs, model_val_loss, 'r+', label='Model')\n",
    "plt.xlabel('epochs')\n",
    "plt.ylabel('Val Loss')\n",
    "plt.legend()\n",
    "plt.grid()\n",
    "plt.show()"
   ]
  },
  {
   "cell_type": "code",
   "execution_count": 72,
   "metadata": {},
   "outputs": [
    {
     "name": "stdout",
     "output_type": "stream",
     "text": [
      "Model: \"sequential_4\"\n",
      "_________________________________________________________________\n",
      " Layer (type)                Output Shape              Param #   \n",
      "=================================================================\n",
      " input (Dense)               (None, 8)                 80008     \n",
      "                                                                 \n",
      " hidden (Dense)              (None, 8)                 72        \n",
      "                                                                 \n",
      " output (Dense)              (None, 1)                 9         \n",
      "                                                                 \n",
      "=================================================================\n",
      "Total params: 80,089\n",
      "Trainable params: 80,089\n",
      "Non-trainable params: 0\n",
      "_________________________________________________________________\n"
     ]
    }
   ],
   "source": [
    "model_s = Sequential([\n",
    "    Dense(8, activation='relu', input_shape=(10000, ), name='input'),\n",
    "    Dense(8, activation='relu', name='hidden'),\n",
    "    Dense(1, activation='sigmoid', name='output')\n",
    "])\n",
    "\n",
    "model_s.compile(optimizer='rmsprop',\n",
    "              loss='binary_crossentropy',\n",
    "              metrics=['acc'])\n",
    "\n",
    "model_s.summary()"
   ]
  },
  {
   "cell_type": "code",
   "execution_count": 73,
   "metadata": {},
   "outputs": [
    {
     "name": "stdout",
     "output_type": "stream",
     "text": [
      "Epoch 1/20\n",
      "49/49 [==============================] - 12s 222ms/step - loss: 0.4760 - acc: 0.8276 - val_loss: 0.3752 - val_acc: 0.8717\n",
      "Epoch 2/20\n",
      "49/49 [==============================] - 2s 38ms/step - loss: 0.2952 - acc: 0.9023 - val_loss: 0.3006 - val_acc: 0.8880\n",
      "Epoch 3/20\n",
      "49/49 [==============================] - 1s 31ms/step - loss: 0.2265 - acc: 0.9206 - val_loss: 0.2833 - val_acc: 0.8888\n",
      "Epoch 4/20\n",
      "49/49 [==============================] - 1s 28ms/step - loss: 0.1882 - acc: 0.9346 - val_loss: 0.2824 - val_acc: 0.8883\n",
      "Epoch 5/20\n",
      "49/49 [==============================] - 2s 32ms/step - loss: 0.1640 - acc: 0.9434 - val_loss: 0.2971 - val_acc: 0.8828\n",
      "Epoch 6/20\n",
      "49/49 [==============================] - 2s 32ms/step - loss: 0.1451 - acc: 0.9506 - val_loss: 0.3027 - val_acc: 0.8817\n",
      "Epoch 7/20\n",
      "49/49 [==============================] - 1s 30ms/step - loss: 0.1304 - acc: 0.9558 - val_loss: 0.3156 - val_acc: 0.8794\n",
      "Epoch 8/20\n",
      "49/49 [==============================] - 2s 32ms/step - loss: 0.1172 - acc: 0.9607 - val_loss: 0.3295 - val_acc: 0.8779\n",
      "Epoch 9/20\n",
      "49/49 [==============================] - 2s 32ms/step - loss: 0.1064 - acc: 0.9647 - val_loss: 0.3498 - val_acc: 0.8736\n",
      "Epoch 10/20\n",
      "49/49 [==============================] - 1s 31ms/step - loss: 0.0968 - acc: 0.9683 - val_loss: 0.3724 - val_acc: 0.8718\n",
      "Epoch 11/20\n",
      "49/49 [==============================] - 2s 32ms/step - loss: 0.0875 - acc: 0.9716 - val_loss: 0.3924 - val_acc: 0.8682\n",
      "Epoch 12/20\n",
      "49/49 [==============================] - 2s 31ms/step - loss: 0.0800 - acc: 0.9751 - val_loss: 0.4219 - val_acc: 0.8644\n",
      "Epoch 13/20\n",
      "49/49 [==============================] - 1s 30ms/step - loss: 0.0730 - acc: 0.9782 - val_loss: 0.4387 - val_acc: 0.8652\n",
      "Epoch 14/20\n",
      "49/49 [==============================] - 1s 29ms/step - loss: 0.0668 - acc: 0.9802 - val_loss: 0.4661 - val_acc: 0.8604\n",
      "Epoch 15/20\n",
      "49/49 [==============================] - 1s 30ms/step - loss: 0.0603 - acc: 0.9824 - val_loss: 0.4869 - val_acc: 0.8595\n",
      "Epoch 16/20\n",
      "49/49 [==============================] - 2s 31ms/step - loss: 0.0540 - acc: 0.9854 - val_loss: 0.5167 - val_acc: 0.8566\n",
      "Epoch 17/20\n",
      "49/49 [==============================] - 1s 30ms/step - loss: 0.0492 - acc: 0.9868 - val_loss: 0.5383 - val_acc: 0.8577\n",
      "Epoch 18/20\n",
      "49/49 [==============================] - 1s 30ms/step - loss: 0.0436 - acc: 0.9882 - val_loss: 0.5705 - val_acc: 0.8544\n",
      "Epoch 19/20\n",
      "49/49 [==============================] - 2s 41ms/step - loss: 0.0399 - acc: 0.9892 - val_loss: 0.5998 - val_acc: 0.8549\n",
      "Epoch 20/20\n",
      "49/49 [==============================] - 2s 49ms/step - loss: 0.0346 - acc: 0.9908 - val_loss: 0.6329 - val_acc: 0.8530\n"
     ]
    }
   ],
   "source": [
    "model_s_hist = model_s.fit(x_train, y_train, epochs=20, batch_size=512, validation_data=(x_test, y_test))"
   ]
  },
  {
   "cell_type": "code",
   "execution_count": 76,
   "metadata": {},
   "outputs": [
    {
     "data": {
      "image/png": "[encoded data removed]",
      "text/plain": [
       "<Figure size 432x288 with 1 Axes>"
      ]
     },
     "metadata": {},
     "output_type": "display_data"
    }
   ],
   "source": [
    "model_s_val_loss = model_s_hist.history['val_loss']   # model.history에서 특정한 수치만 가져올 수 있음\n",
    "\n",
    "plt.plot(epochs, model_val_loss, 'r+', label='Model')\n",
    "plt.plot(epochs, model_s_val_loss, 'bo', label='Model(small)')\n",
    "plt.xlabel('epochs')\n",
    "plt.ylabel('Val Loss')\n",
    "plt.legend()\n",
    "plt.grid()\n",
    "plt.show()"
   ]
  },
  {
   "cell_type": "code",
   "execution_count": 78,
   "metadata": {},
   "outputs": [
    {
     "name": "stdout",
     "output_type": "stream",
     "text": [
      "Model: \"sequential_6\"\n",
      "_________________________________________________________________\n",
      " Layer (type)                Output Shape              Param #   \n",
      "=================================================================\n",
      " input (Dense)               (None, 1024)              10241024  \n",
      "                                                                 \n",
      " hidden (Dense)              (None, 1024)              1049600   \n",
      "                                                                 \n",
      " output (Dense)              (None, 1)                 1025      \n",
      "                                                                 \n",
      "=================================================================\n",
      "Total params: 11,291,649\n",
      "Trainable params: 11,291,649\n",
      "Non-trainable params: 0\n",
      "_________________________________________________________________\n"
     ]
    }
   ],
   "source": [
    "model_b = Sequential([\n",
    "    Dense(1024, activation='relu', input_shape=(10000, ), name='input'),\n",
    "    Dense(1024, activation='relu', name='hidden'),\n",
    "    Dense(1, activation='sigmoid', name='output')\n",
    "])\n",
    "\n",
    "model_b.compile(optimizer='rmsprop',\n",
    "              loss='binary_crossentropy',\n",
    "              metrics=['acc'])\n",
    "\n",
    "model_b.summary()"
   ]
  },
  {
   "cell_type": "code",
   "execution_count": 79,
   "metadata": {},
   "outputs": [
    {
     "name": "stdout",
     "output_type": "stream",
     "text": [
      "Epoch 1/20\n",
      "49/49 [==============================] - 27s 523ms/step - loss: 0.5391 - acc: 0.7826 - val_loss: 0.2916 - val_acc: 0.8862\n",
      "Epoch 2/20\n",
      "49/49 [==============================] - 17s 342ms/step - loss: 0.2171 - acc: 0.9152 - val_loss: 0.5619 - val_acc: 0.7924\n",
      "Epoch 3/20\n",
      "49/49 [==============================] - 15s 313ms/step - loss: 0.1197 - acc: 0.9550 - val_loss: 0.4126 - val_acc: 0.8630\n",
      "Epoch 4/20\n",
      "49/49 [==============================] - 15s 308ms/step - loss: 0.0651 - acc: 0.9834 - val_loss: 1.0574 - val_acc: 0.7752\n",
      "Epoch 5/20\n",
      "49/49 [==============================] - 15s 309ms/step - loss: 0.0922 - acc: 0.9868 - val_loss: 0.4523 - val_acc: 0.8811\n",
      "Epoch 6/20\n",
      "49/49 [==============================] - 15s 313ms/step - loss: 9.3173e-04 - acc: 1.0000 - val_loss: 0.6740 - val_acc: 0.8836\n",
      "Epoch 7/20\n",
      "49/49 [==============================] - 15s 310ms/step - loss: 0.1735 - acc: 0.9863 - val_loss: 0.7792 - val_acc: 0.8222\n",
      "Epoch 8/20\n",
      "49/49 [==============================] - 20s 406ms/step - loss: 0.0017 - acc: 0.9997 - val_loss: 0.6795 - val_acc: 0.8792\n",
      "Epoch 9/20\n",
      "49/49 [==============================] - 15s 300ms/step - loss: 3.9549e-05 - acc: 1.0000 - val_loss: 0.8031 - val_acc: 0.8792\n",
      "Epoch 10/20\n",
      "49/49 [==============================] - 15s 303ms/step - loss: 5.6013e-06 - acc: 1.0000 - val_loss: 0.9166 - val_acc: 0.8806\n",
      "Epoch 11/20\n",
      "49/49 [==============================] - 16s 328ms/step - loss: 8.3224e-07 - acc: 1.0000 - val_loss: 1.0681 - val_acc: 0.8798\n",
      "Epoch 12/20\n",
      "49/49 [==============================] - 14s 285ms/step - loss: 1.5779e-07 - acc: 1.0000 - val_loss: 1.1800 - val_acc: 0.8816\n",
      "Epoch 13/20\n",
      "49/49 [==============================] - 14s 283ms/step - loss: 3.6157e-08 - acc: 1.0000 - val_loss: 1.2777 - val_acc: 0.8816\n",
      "Epoch 14/20\n",
      "49/49 [==============================] - 15s 304ms/step - loss: 1.5289e-08 - acc: 1.0000 - val_loss: 1.3282 - val_acc: 0.8814\n",
      "Epoch 15/20\n",
      "49/49 [==============================] - 16s 329ms/step - loss: 9.4792e-09 - acc: 1.0000 - val_loss: 1.3551 - val_acc: 0.8819\n",
      "Epoch 16/20\n",
      "49/49 [==============================] - 15s 310ms/step - loss: 6.8936e-09 - acc: 1.0000 - val_loss: 1.3759 - val_acc: 0.8817\n",
      "Epoch 17/20\n",
      "49/49 [==============================] - 15s 304ms/step - loss: 5.4387e-09 - acc: 1.0000 - val_loss: 1.3920 - val_acc: 0.8815\n",
      "Epoch 18/20\n",
      "49/49 [==============================] - 16s 319ms/step - loss: 4.5063e-09 - acc: 1.0000 - val_loss: 1.4060 - val_acc: 0.8814\n",
      "Epoch 19/20\n",
      "49/49 [==============================] - 15s 298ms/step - loss: 3.8610e-09 - acc: 1.0000 - val_loss: 1.4173 - val_acc: 0.8812\n",
      "Epoch 20/20\n",
      "49/49 [==============================] - 15s 298ms/step - loss: 3.3867e-09 - acc: 1.0000 - val_loss: 1.4265 - val_acc: 0.8812\n"
     ]
    }
   ],
   "source": [
    "model_b_hist = model_b.fit(x_train, y_train, epochs=20, batch_size=512, validation_data=(x_test, y_test))"
   ]
  },
  {
   "cell_type": "code",
   "execution_count": 82,
   "metadata": {},
   "outputs": [
    {
     "data": {
      "image/png": "[encoded data removed]",
      "text/plain": [
       "<Figure size 432x288 with 1 Axes>"
      ]
     },
     "metadata": {},
     "output_type": "display_data"
    }
   ],
   "source": [
    "model_b_val_loss = model_b_hist.history['val_loss']   # model.history에서 특정한 수치만 가져올 수 있음\n",
    "\n",
    "plt.plot(epochs, model_val_loss, 'r+', label='Model')\n",
    "plt.plot(epochs, model_s_val_loss, 'bo', label='Model(small)')\n",
    "plt.plot(epochs, model_b_val_loss, 'g--', label='Model(big)')\n",
    "plt.xlabel('epochs')\n",
    "plt.ylabel('Val Loss')\n",
    "plt.legend()\n",
    "plt.grid()\n",
    "plt.show()"
   ]
  },
  {
   "cell_type": "code",
   "execution_count": null,
   "metadata": {},
   "outputs": [],
   "source": []
  }
 ],
 "metadata": {
  "kernelspec": {
   "display_name": "Python 3.7.0 64-bit",
   "language": "python",
   "name": "python3"
  },
  "language_info": {
   "codemirror_mode": {
    "name": "ipython",
    "version": 3
   },
   "file_extension": ".py",
   "mimetype": "text/x-python",
   "name": "python",
   "nbconvert_exporter": "python",
   "pygments_lexer": "ipython3",
   "version": "3.7.0"
  },
  "orig_nbformat": 4,
  "vscode": {
   "interpreter": {
    "hash": "ce9369ffaed6084bb375bccaaa048319fd0d93ac8a6210b66fc65091ec9ea4c1"
   }
  }
 },
 "nbformat": 4,
 "nbformat_minor": 2
}
