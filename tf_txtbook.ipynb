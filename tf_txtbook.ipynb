{
 "cells": [
  {
   "cell_type": "code",
   "execution_count": 13,
   "metadata": {},
   "outputs": [],
   "source": [
    "import tensorflow as tf\n",
    "import matplotlib.pyplot as plt\n",
    "import numpy as np\n",
    "import keras\n",
    "from sklearn.metrics import roc_auc_score"
   ]
  },
  {
   "cell_type": "code",
   "execution_count": 2,
   "metadata": {},
   "outputs": [],
   "source": [
    "model = keras.Sequential([keras.layers.Dense(units=1, input_shape=[1])])\n",
    "model.compile(optimizer='sgd', loss='mean_squared_error')"
   ]
  },
  {
   "cell_type": "code",
   "execution_count": 3,
   "metadata": {},
   "outputs": [
    {
     "name": "stdout",
     "output_type": "stream",
     "text": [
      "Epoch 1/300\n",
      "1/1 [==============================] - 0s 428ms/step - loss: 1.4275\n",
      "Epoch 2/300\n",
      "1/1 [==============================] - 0s 4ms/step - loss: 1.2584\n",
      "Epoch 3/300\n",
      "1/1 [==============================] - 0s 3ms/step - loss: 1.1226\n",
      "Epoch 4/300\n",
      "1/1 [==============================] - 0s 2ms/step - loss: 1.0130\n",
      "Epoch 5/300\n",
      "1/1 [==============================] - 0s 4ms/step - loss: 0.9241\n",
      "Epoch 6/300\n",
      "1/1 [==============================] - 0s 5ms/step - loss: 0.8516\n",
      "Epoch 7/300\n",
      "1/1 [==============================] - 0s 4ms/step - loss: 0.7919\n",
      "Epoch 8/300\n",
      "1/1 [==============================] - 0s 6ms/step - loss: 0.7425\n",
      "Epoch 9/300\n",
      "1/1 [==============================] - 0s 5ms/step - loss: 0.7012\n",
      "Epoch 10/300\n",
      "1/1 [==============================] - 0s 7ms/step - loss: 0.6663\n",
      "Epoch 11/300\n",
      "1/1 [==============================] - 0s 6ms/step - loss: 0.6364\n",
      "Epoch 12/300\n",
      "1/1 [==============================] - 0s 5ms/step - loss: 0.6107\n",
      "Epoch 13/300\n",
      "1/1 [==============================] - 0s 2ms/step - loss: 0.5881\n",
      "Epoch 14/300\n",
      "1/1 [==============================] - 0s 6ms/step - loss: 0.5682\n",
      "Epoch 15/300\n",
      "1/1 [==============================] - 0s 5ms/step - loss: 0.5503\n",
      "Epoch 16/300\n",
      "1/1 [==============================] - 0s 5ms/step - loss: 0.5342\n",
      "Epoch 17/300\n",
      "1/1 [==============================] - 0s 4ms/step - loss: 0.5194\n",
      "Epoch 18/300\n",
      "1/1 [==============================] - 0s 4ms/step - loss: 0.5057\n",
      "Epoch 19/300\n",
      "1/1 [==============================] - 0s 5ms/step - loss: 0.4929\n",
      "Epoch 20/300\n",
      "1/1 [==============================] - 0s 3ms/step - loss: 0.4809\n",
      "Epoch 21/300\n",
      "1/1 [==============================] - 0s 8ms/step - loss: 0.4696\n",
      "Epoch 22/300\n",
      "1/1 [==============================] - 0s 6ms/step - loss: 0.4588\n",
      "Epoch 23/300\n",
      "1/1 [==============================] - 0s 2ms/step - loss: 0.4485\n",
      "Epoch 24/300\n",
      "1/1 [==============================] - 0s 4ms/step - loss: 0.4385\n",
      "Epoch 25/300\n",
      "1/1 [==============================] - 0s 3ms/step - loss: 0.4290\n",
      "Epoch 26/300\n",
      "1/1 [==============================] - 0s 4ms/step - loss: 0.4197\n",
      "Epoch 27/300\n",
      "1/1 [==============================] - 0s 4ms/step - loss: 0.4107\n",
      "Epoch 28/300\n",
      "1/1 [==============================] - 0s 4ms/step - loss: 0.4020\n",
      "Epoch 29/300\n",
      "1/1 [==============================] - 0s 6ms/step - loss: 0.3936\n",
      "Epoch 30/300\n",
      "1/1 [==============================] - 0s 3ms/step - loss: 0.3853\n",
      "Epoch 31/300\n",
      "1/1 [==============================] - 0s 2ms/step - loss: 0.3773\n",
      "Epoch 32/300\n",
      "1/1 [==============================] - 0s 5ms/step - loss: 0.3694\n",
      "Epoch 33/300\n",
      "1/1 [==============================] - 0s 5ms/step - loss: 0.3617\n",
      "Epoch 34/300\n",
      "1/1 [==============================] - 0s 4ms/step - loss: 0.3542\n",
      "Epoch 35/300\n",
      "1/1 [==============================] - 0s 4ms/step - loss: 0.3469\n",
      "Epoch 36/300\n",
      "1/1 [==============================] - 0s 2ms/step - loss: 0.3397\n",
      "Epoch 37/300\n",
      "1/1 [==============================] - 0s 2ms/step - loss: 0.3327\n",
      "Epoch 38/300\n",
      "1/1 [==============================] - 0s 2ms/step - loss: 0.3259\n",
      "Epoch 39/300\n",
      "1/1 [==============================] - 0s 6ms/step - loss: 0.3192\n",
      "Epoch 40/300\n",
      "1/1 [==============================] - 0s 12ms/step - loss: 0.3126\n",
      "Epoch 41/300\n",
      "1/1 [==============================] - 0s 3ms/step - loss: 0.3062\n",
      "Epoch 42/300\n",
      "1/1 [==============================] - 0s 4ms/step - loss: 0.2999\n",
      "Epoch 43/300\n",
      "1/1 [==============================] - 0s 7ms/step - loss: 0.2937\n",
      "Epoch 44/300\n",
      "1/1 [==============================] - 0s 5ms/step - loss: 0.2877\n",
      "Epoch 45/300\n",
      "1/1 [==============================] - 0s 6ms/step - loss: 0.2817\n",
      "Epoch 46/300\n",
      "1/1 [==============================] - 0s 5ms/step - loss: 0.2760\n",
      "Epoch 47/300\n",
      "1/1 [==============================] - 0s 3ms/step - loss: 0.2703\n",
      "Epoch 48/300\n",
      "1/1 [==============================] - 0s 6ms/step - loss: 0.2647\n",
      "Epoch 49/300\n",
      "1/1 [==============================] - 0s 10ms/step - loss: 0.2593\n",
      "Epoch 50/300\n",
      "1/1 [==============================] - 0s 3ms/step - loss: 0.2540\n",
      "Epoch 51/300\n",
      "1/1 [==============================] - 0s 7ms/step - loss: 0.2487\n",
      "Epoch 52/300\n",
      "1/1 [==============================] - 0s 11ms/step - loss: 0.2436\n",
      "Epoch 53/300\n",
      "1/1 [==============================] - 0s 5ms/step - loss: 0.2386\n",
      "Epoch 54/300\n",
      "1/1 [==============================] - 0s 29ms/step - loss: 0.2337\n",
      "Epoch 55/300\n",
      "1/1 [==============================] - 0s 21ms/step - loss: 0.2289\n",
      "Epoch 56/300\n",
      "1/1 [==============================] - 0s 6ms/step - loss: 0.2242\n",
      "Epoch 57/300\n",
      "1/1 [==============================] - 0s 20ms/step - loss: 0.2196\n",
      "Epoch 58/300\n",
      "1/1 [==============================] - 0s 5ms/step - loss: 0.2151\n",
      "Epoch 59/300\n",
      "1/1 [==============================] - 0s 5ms/step - loss: 0.2107\n",
      "Epoch 60/300\n",
      "1/1 [==============================] - 0s 4ms/step - loss: 0.2064\n",
      "Epoch 61/300\n",
      "1/1 [==============================] - 0s 6ms/step - loss: 0.2021\n",
      "Epoch 62/300\n",
      "1/1 [==============================] - 0s 4ms/step - loss: 0.1980\n",
      "Epoch 63/300\n",
      "1/1 [==============================] - 0s 3ms/step - loss: 0.1939\n",
      "Epoch 64/300\n",
      "1/1 [==============================] - 0s 3ms/step - loss: 0.1899\n",
      "Epoch 65/300\n",
      "1/1 [==============================] - 0s 3ms/step - loss: 0.1860\n",
      "Epoch 66/300\n",
      "1/1 [==============================] - 0s 4ms/step - loss: 0.1822\n",
      "Epoch 67/300\n",
      "1/1 [==============================] - 0s 7ms/step - loss: 0.1785\n",
      "Epoch 68/300\n",
      "1/1 [==============================] - 0s 5ms/step - loss: 0.1748\n",
      "Epoch 69/300\n",
      "1/1 [==============================] - 0s 6ms/step - loss: 0.1712\n",
      "Epoch 70/300\n",
      "1/1 [==============================] - 0s 4ms/step - loss: 0.1677\n",
      "Epoch 71/300\n",
      "1/1 [==============================] - 0s 4ms/step - loss: 0.1642\n",
      "Epoch 72/300\n",
      "1/1 [==============================] - 0s 5ms/step - loss: 0.1609\n",
      "Epoch 73/300\n",
      "1/1 [==============================] - 0s 2ms/step - loss: 0.1576\n",
      "Epoch 74/300\n",
      "1/1 [==============================] - 0s 4ms/step - loss: 0.1543\n",
      "Epoch 75/300\n",
      "1/1 [==============================] - 0s 5ms/step - loss: 0.1512\n",
      "Epoch 76/300\n",
      "1/1 [==============================] - 0s 6ms/step - loss: 0.1480\n",
      "Epoch 77/300\n",
      "1/1 [==============================] - 0s 7ms/step - loss: 0.1450\n",
      "Epoch 78/300\n",
      "1/1 [==============================] - 0s 2ms/step - loss: 0.1420\n",
      "Epoch 79/300\n",
      "1/1 [==============================] - 0s 5ms/step - loss: 0.1391\n",
      "Epoch 80/300\n",
      "1/1 [==============================] - 0s 2ms/step - loss: 0.1363\n",
      "Epoch 81/300\n",
      "1/1 [==============================] - 0s 3ms/step - loss: 0.1335\n",
      "Epoch 82/300\n",
      "1/1 [==============================] - 0s 6ms/step - loss: 0.1307\n",
      "Epoch 83/300\n",
      "1/1 [==============================] - 0s 5ms/step - loss: 0.1280\n",
      "Epoch 84/300\n",
      "1/1 [==============================] - 0s 6ms/step - loss: 0.1254\n",
      "Epoch 85/300\n",
      "1/1 [==============================] - 0s 3ms/step - loss: 0.1228\n",
      "Epoch 86/300\n",
      "1/1 [==============================] - 0s 4ms/step - loss: 0.1203\n",
      "Epoch 87/300\n",
      "1/1 [==============================] - 0s 10ms/step - loss: 0.1178\n",
      "Epoch 88/300\n",
      "1/1 [==============================] - 0s 3ms/step - loss: 0.1154\n",
      "Epoch 89/300\n",
      "1/1 [==============================] - 0s 4ms/step - loss: 0.1130\n",
      "Epoch 90/300\n",
      "1/1 [==============================] - 0s 3ms/step - loss: 0.1107\n",
      "Epoch 91/300\n",
      "1/1 [==============================] - 0s 4ms/step - loss: 0.1084\n",
      "Epoch 92/300\n",
      "1/1 [==============================] - 0s 5ms/step - loss: 0.1062\n",
      "Epoch 93/300\n",
      "1/1 [==============================] - 0s 3ms/step - loss: 0.1040\n",
      "Epoch 94/300\n",
      "1/1 [==============================] - 0s 3ms/step - loss: 0.1019\n",
      "Epoch 95/300\n",
      "1/1 [==============================] - 0s 4ms/step - loss: 0.0998\n",
      "Epoch 96/300\n",
      "1/1 [==============================] - 0s 7ms/step - loss: 0.0978\n",
      "Epoch 97/300\n",
      "1/1 [==============================] - 0s 6ms/step - loss: 0.0957\n",
      "Epoch 98/300\n",
      "1/1 [==============================] - 0s 6ms/step - loss: 0.0938\n",
      "Epoch 99/300\n",
      "1/1 [==============================] - 0s 7ms/step - loss: 0.0919\n",
      "Epoch 100/300\n",
      "1/1 [==============================] - 0s 8ms/step - loss: 0.0900\n",
      "Epoch 101/300\n",
      "1/1 [==============================] - 0s 7ms/step - loss: 0.0881\n",
      "Epoch 102/300\n",
      "1/1 [==============================] - 0s 8ms/step - loss: 0.0863\n",
      "Epoch 103/300\n",
      "1/1 [==============================] - 0s 4ms/step - loss: 0.0845\n",
      "Epoch 104/300\n",
      "1/1 [==============================] - 0s 4ms/step - loss: 0.0828\n",
      "Epoch 105/300\n",
      "1/1 [==============================] - 0s 8ms/step - loss: 0.0811\n",
      "Epoch 106/300\n",
      "1/1 [==============================] - 0s 6ms/step - loss: 0.0794\n",
      "Epoch 107/300\n",
      "1/1 [==============================] - 0s 5ms/step - loss: 0.0778\n",
      "Epoch 108/300\n",
      "1/1 [==============================] - 0s 8ms/step - loss: 0.0762\n",
      "Epoch 109/300\n",
      "1/1 [==============================] - 0s 7ms/step - loss: 0.0746\n",
      "Epoch 110/300\n",
      "1/1 [==============================] - 0s 6ms/step - loss: 0.0731\n",
      "Epoch 111/300\n",
      "1/1 [==============================] - 0s 4ms/step - loss: 0.0716\n",
      "Epoch 112/300\n",
      "1/1 [==============================] - 0s 7ms/step - loss: 0.0701\n",
      "Epoch 113/300\n",
      "1/1 [==============================] - 0s 6ms/step - loss: 0.0687\n",
      "Epoch 114/300\n",
      "1/1 [==============================] - 0s 4ms/step - loss: 0.0673\n",
      "Epoch 115/300\n",
      "1/1 [==============================] - 0s 4ms/step - loss: 0.0659\n",
      "Epoch 116/300\n",
      "1/1 [==============================] - 0s 2ms/step - loss: 0.0645\n",
      "Epoch 117/300\n",
      "1/1 [==============================] - 0s 4ms/step - loss: 0.0632\n",
      "Epoch 118/300\n",
      "1/1 [==============================] - 0s 7ms/step - loss: 0.0619\n",
      "Epoch 119/300\n",
      "1/1 [==============================] - 0s 4ms/step - loss: 0.0606\n",
      "Epoch 120/300\n",
      "1/1 [==============================] - 0s 3ms/step - loss: 0.0594\n",
      "Epoch 121/300\n",
      "1/1 [==============================] - 0s 8ms/step - loss: 0.0582\n",
      "Epoch 122/300\n",
      "1/1 [==============================] - 0s 9ms/step - loss: 0.0570\n",
      "Epoch 123/300\n",
      "1/1 [==============================] - 0s 2ms/step - loss: 0.0558\n",
      "Epoch 124/300\n",
      "1/1 [==============================] - 0s 6ms/step - loss: 0.0547\n",
      "Epoch 125/300\n",
      "1/1 [==============================] - 0s 5ms/step - loss: 0.0535\n",
      "Epoch 126/300\n",
      "1/1 [==============================] - 0s 5ms/step - loss: 0.0524\n",
      "Epoch 127/300\n",
      "1/1 [==============================] - 0s 7ms/step - loss: 0.0514\n",
      "Epoch 128/300\n",
      "1/1 [==============================] - 0s 6ms/step - loss: 0.0503\n",
      "Epoch 129/300\n",
      "1/1 [==============================] - 0s 7ms/step - loss: 0.0493\n",
      "Epoch 130/300\n",
      "1/1 [==============================] - 0s 4ms/step - loss: 0.0483\n",
      "Epoch 131/300\n",
      "1/1 [==============================] - 0s 8ms/step - loss: 0.0473\n",
      "Epoch 132/300\n",
      "1/1 [==============================] - 0s 4ms/step - loss: 0.0463\n",
      "Epoch 133/300\n",
      "1/1 [==============================] - 0s 4ms/step - loss: 0.0454\n",
      "Epoch 134/300\n",
      "1/1 [==============================] - 0s 4ms/step - loss: 0.0444\n",
      "Epoch 135/300\n",
      "1/1 [==============================] - 0s 7ms/step - loss: 0.0435\n",
      "Epoch 136/300\n",
      "1/1 [==============================] - 0s 3ms/step - loss: 0.0426\n",
      "Epoch 137/300\n",
      "1/1 [==============================] - 0s 4ms/step - loss: 0.0417\n",
      "Epoch 138/300\n",
      "1/1 [==============================] - 0s 8ms/step - loss: 0.0409\n",
      "Epoch 139/300\n",
      "1/1 [==============================] - 0s 2ms/step - loss: 0.0400\n",
      "Epoch 140/300\n",
      "1/1 [==============================] - 0s 4ms/step - loss: 0.0392\n",
      "Epoch 141/300\n",
      "1/1 [==============================] - 0s 4ms/step - loss: 0.0384\n",
      "Epoch 142/300\n",
      "1/1 [==============================] - 0s 4ms/step - loss: 0.0376\n",
      "Epoch 143/300\n",
      "1/1 [==============================] - 0s 5ms/step - loss: 0.0369\n",
      "Epoch 144/300\n",
      "1/1 [==============================] - 0s 5ms/step - loss: 0.0361\n",
      "Epoch 145/300\n",
      "1/1 [==============================] - 0s 3ms/step - loss: 0.0354\n",
      "Epoch 146/300\n",
      "1/1 [==============================] - 0s 3ms/step - loss: 0.0346\n",
      "Epoch 147/300\n",
      "1/1 [==============================] - 0s 3ms/step - loss: 0.0339\n",
      "Epoch 148/300\n",
      "1/1 [==============================] - 0s 5ms/step - loss: 0.0332\n",
      "Epoch 149/300\n",
      "1/1 [==============================] - 0s 3ms/step - loss: 0.0325\n",
      "Epoch 150/300\n",
      "1/1 [==============================] - 0s 3ms/step - loss: 0.0319\n",
      "Epoch 151/300\n",
      "1/1 [==============================] - 0s 6ms/step - loss: 0.0312\n",
      "Epoch 152/300\n",
      "1/1 [==============================] - 0s 4ms/step - loss: 0.0306\n",
      "Epoch 153/300\n",
      "1/1 [==============================] - 0s 4ms/step - loss: 0.0299\n",
      "Epoch 154/300\n",
      "1/1 [==============================] - 0s 10ms/step - loss: 0.0293\n",
      "Epoch 155/300\n",
      "1/1 [==============================] - 0s 7ms/step - loss: 0.0287\n",
      "Epoch 156/300\n",
      "1/1 [==============================] - 0s 5ms/step - loss: 0.0281\n",
      "Epoch 157/300\n",
      "1/1 [==============================] - 0s 5ms/step - loss: 0.0276\n",
      "Epoch 158/300\n",
      "1/1 [==============================] - 0s 6ms/step - loss: 0.0270\n",
      "Epoch 159/300\n",
      "1/1 [==============================] - 0s 6ms/step - loss: 0.0264\n",
      "Epoch 160/300\n",
      "1/1 [==============================] - 0s 3ms/step - loss: 0.0259\n",
      "Epoch 161/300\n",
      "1/1 [==============================] - 0s 3ms/step - loss: 0.0254\n",
      "Epoch 162/300\n",
      "1/1 [==============================] - 0s 5ms/step - loss: 0.0248\n",
      "Epoch 163/300\n",
      "1/1 [==============================] - 0s 5ms/step - loss: 0.0243\n",
      "Epoch 164/300\n",
      "1/1 [==============================] - 0s 6ms/step - loss: 0.0238\n",
      "Epoch 165/300\n",
      "1/1 [==============================] - 0s 4ms/step - loss: 0.0233\n",
      "Epoch 166/300\n",
      "1/1 [==============================] - 0s 5ms/step - loss: 0.0229\n",
      "Epoch 167/300\n",
      "1/1 [==============================] - 0s 3ms/step - loss: 0.0224\n",
      "Epoch 168/300\n",
      "1/1 [==============================] - 0s 5ms/step - loss: 0.0219\n",
      "Epoch 169/300\n",
      "1/1 [==============================] - 0s 7ms/step - loss: 0.0215\n",
      "Epoch 170/300\n",
      "1/1 [==============================] - 0s 5ms/step - loss: 0.0210\n",
      "Epoch 171/300\n",
      "1/1 [==============================] - 0s 4ms/step - loss: 0.0206\n",
      "Epoch 172/300\n",
      "1/1 [==============================] - 0s 4ms/step - loss: 0.0202\n",
      "Epoch 173/300\n",
      "1/1 [==============================] - 0s 2ms/step - loss: 0.0198\n",
      "Epoch 174/300\n",
      "1/1 [==============================] - 0s 8ms/step - loss: 0.0194\n",
      "Epoch 175/300\n",
      "1/1 [==============================] - 0s 4ms/step - loss: 0.0190\n",
      "Epoch 176/300\n",
      "1/1 [==============================] - 0s 8ms/step - loss: 0.0186\n",
      "Epoch 177/300\n",
      "1/1 [==============================] - 0s 8ms/step - loss: 0.0182\n",
      "Epoch 178/300\n",
      "1/1 [==============================] - 0s 5ms/step - loss: 0.0178\n",
      "Epoch 179/300\n",
      "1/1 [==============================] - 0s 3ms/step - loss: 0.0175\n",
      "Epoch 180/300\n",
      "1/1 [==============================] - 0s 4ms/step - loss: 0.0171\n",
      "Epoch 181/300\n",
      "1/1 [==============================] - 0s 3ms/step - loss: 0.0167\n",
      "Epoch 182/300\n",
      "1/1 [==============================] - 0s 5ms/step - loss: 0.0164\n",
      "Epoch 183/300\n",
      "1/1 [==============================] - 0s 6ms/step - loss: 0.0161\n",
      "Epoch 184/300\n",
      "1/1 [==============================] - 0s 3ms/step - loss: 0.0157\n",
      "Epoch 185/300\n",
      "1/1 [==============================] - 0s 4ms/step - loss: 0.0154\n",
      "Epoch 186/300\n",
      "1/1 [==============================] - 0s 7ms/step - loss: 0.0151\n",
      "Epoch 187/300\n",
      "1/1 [==============================] - 0s 5ms/step - loss: 0.0148\n",
      "Epoch 188/300\n",
      "1/1 [==============================] - 0s 2ms/step - loss: 0.0145\n",
      "Epoch 189/300\n",
      "1/1 [==============================] - 0s 6ms/step - loss: 0.0142\n",
      "Epoch 190/300\n",
      "1/1 [==============================] - 0s 4ms/step - loss: 0.0139\n",
      "Epoch 191/300\n",
      "1/1 [==============================] - 0s 6ms/step - loss: 0.0136\n",
      "Epoch 192/300\n",
      "1/1 [==============================] - 0s 3ms/step - loss: 0.0133\n",
      "Epoch 193/300\n",
      "1/1 [==============================] - 0s 8ms/step - loss: 0.0131\n",
      "Epoch 194/300\n",
      "1/1 [==============================] - 0s 4ms/step - loss: 0.0128\n",
      "Epoch 195/300\n",
      "1/1 [==============================] - 0s 3ms/step - loss: 0.0125\n",
      "Epoch 196/300\n",
      "1/1 [==============================] - 0s 3ms/step - loss: 0.0123\n",
      "Epoch 197/300\n",
      "1/1 [==============================] - 0s 15ms/step - loss: 0.0120\n",
      "Epoch 198/300\n",
      "1/1 [==============================] - 0s 7ms/step - loss: 0.0118\n",
      "Epoch 199/300\n",
      "1/1 [==============================] - 0s 3ms/step - loss: 0.0115\n",
      "Epoch 200/300\n",
      "1/1 [==============================] - 0s 3ms/step - loss: 0.0113\n",
      "Epoch 201/300\n",
      "1/1 [==============================] - 0s 4ms/step - loss: 0.0111\n",
      "Epoch 202/300\n",
      "1/1 [==============================] - 0s 5ms/step - loss: 0.0108\n",
      "Epoch 203/300\n",
      "1/1 [==============================] - 0s 3ms/step - loss: 0.0106\n",
      "Epoch 204/300\n",
      "1/1 [==============================] - 0s 6ms/step - loss: 0.0104\n",
      "Epoch 205/300\n",
      "1/1 [==============================] - 0s 9ms/step - loss: 0.0102\n",
      "Epoch 206/300\n",
      "1/1 [==============================] - 0s 3ms/step - loss: 0.0100\n",
      "Epoch 207/300\n",
      "1/1 [==============================] - 0s 3ms/step - loss: 0.0098\n",
      "Epoch 208/300\n",
      "1/1 [==============================] - 0s 7ms/step - loss: 0.0096\n",
      "Epoch 209/300\n",
      "1/1 [==============================] - 0s 8ms/step - loss: 0.0094\n",
      "Epoch 210/300\n",
      "1/1 [==============================] - 0s 6ms/step - loss: 0.0092\n",
      "Epoch 211/300\n",
      "1/1 [==============================] - 0s 7ms/step - loss: 0.0090\n",
      "Epoch 212/300\n",
      "1/1 [==============================] - 0s 7ms/step - loss: 0.0088\n",
      "Epoch 213/300\n",
      "1/1 [==============================] - 0s 4ms/step - loss: 0.0086\n",
      "Epoch 214/300\n",
      "1/1 [==============================] - 0s 13ms/step - loss: 0.0084\n",
      "Epoch 215/300\n",
      "1/1 [==============================] - 0s 7ms/step - loss: 0.0083\n",
      "Epoch 216/300\n",
      "1/1 [==============================] - 0s 5ms/step - loss: 0.0081\n",
      "Epoch 217/300\n",
      "1/1 [==============================] - 0s 6ms/step - loss: 0.0079\n",
      "Epoch 218/300\n",
      "1/1 [==============================] - 0s 17ms/step - loss: 0.0078\n",
      "Epoch 219/300\n",
      "1/1 [==============================] - 0s 10ms/step - loss: 0.0076\n",
      "Epoch 220/300\n",
      "1/1 [==============================] - 0s 48ms/step - loss: 0.0075\n",
      "Epoch 221/300\n",
      "1/1 [==============================] - 0s 26ms/step - loss: 0.0073\n",
      "Epoch 222/300\n",
      "1/1 [==============================] - 0s 30ms/step - loss: 0.0072\n",
      "Epoch 223/300\n",
      "1/1 [==============================] - 0s 4ms/step - loss: 0.0070\n",
      "Epoch 224/300\n",
      "1/1 [==============================] - 0s 9ms/step - loss: 0.0069\n",
      "Epoch 225/300\n",
      "1/1 [==============================] - 0s 20ms/step - loss: 0.0067\n",
      "Epoch 226/300\n",
      "1/1 [==============================] - 0s 6ms/step - loss: 0.0066\n",
      "Epoch 227/300\n",
      "1/1 [==============================] - 0s 16ms/step - loss: 0.0064\n",
      "Epoch 228/300\n",
      "1/1 [==============================] - 0s 4ms/step - loss: 0.0063\n",
      "Epoch 229/300\n",
      "1/1 [==============================] - 0s 6ms/step - loss: 0.0062\n",
      "Epoch 230/300\n",
      "1/1 [==============================] - 0s 7ms/step - loss: 0.0061\n",
      "Epoch 231/300\n",
      "1/1 [==============================] - 0s 6ms/step - loss: 0.0059\n",
      "Epoch 232/300\n",
      "1/1 [==============================] - 0s 6ms/step - loss: 0.0058\n",
      "Epoch 233/300\n",
      "1/1 [==============================] - 0s 5ms/step - loss: 0.0057\n",
      "Epoch 234/300\n",
      "1/1 [==============================] - 0s 4ms/step - loss: 0.0056\n",
      "Epoch 235/300\n",
      "1/1 [==============================] - 0s 5ms/step - loss: 0.0055\n",
      "Epoch 236/300\n",
      "1/1 [==============================] - 0s 8ms/step - loss: 0.0053\n",
      "Epoch 237/300\n",
      "1/1 [==============================] - 0s 9ms/step - loss: 0.0052\n",
      "Epoch 238/300\n",
      "1/1 [==============================] - 0s 6ms/step - loss: 0.0051\n",
      "Epoch 239/300\n",
      "1/1 [==============================] - 0s 14ms/step - loss: 0.0050\n",
      "Epoch 240/300\n",
      "1/1 [==============================] - 0s 5ms/step - loss: 0.0049\n",
      "Epoch 241/300\n",
      "1/1 [==============================] - 0s 11ms/step - loss: 0.0048\n",
      "Epoch 242/300\n",
      "1/1 [==============================] - 0s 7ms/step - loss: 0.0047\n",
      "Epoch 243/300\n",
      "1/1 [==============================] - 0s 17ms/step - loss: 0.0046\n",
      "Epoch 244/300\n",
      "1/1 [==============================] - 0s 6ms/step - loss: 0.0045\n",
      "Epoch 245/300\n",
      "1/1 [==============================] - 0s 5ms/step - loss: 0.0044\n",
      "Epoch 246/300\n",
      "1/1 [==============================] - 0s 15ms/step - loss: 0.0043\n",
      "Epoch 247/300\n",
      "1/1 [==============================] - 0s 8ms/step - loss: 0.0043\n",
      "Epoch 248/300\n",
      "1/1 [==============================] - 0s 6ms/step - loss: 0.0042\n",
      "Epoch 249/300\n",
      "1/1 [==============================] - 0s 8ms/step - loss: 0.0041\n",
      "Epoch 250/300\n",
      "1/1 [==============================] - 0s 3ms/step - loss: 0.0040\n",
      "Epoch 251/300\n",
      "1/1 [==============================] - 0s 8ms/step - loss: 0.0039\n",
      "Epoch 252/300\n",
      "1/1 [==============================] - 0s 8ms/step - loss: 0.0038\n",
      "Epoch 253/300\n",
      "1/1 [==============================] - 0s 7ms/step - loss: 0.0038\n",
      "Epoch 254/300\n",
      "1/1 [==============================] - 0s 5ms/step - loss: 0.0037\n",
      "Epoch 255/300\n",
      "1/1 [==============================] - 0s 4ms/step - loss: 0.0036\n",
      "Epoch 256/300\n",
      "1/1 [==============================] - 0s 10ms/step - loss: 0.0035\n",
      "Epoch 257/300\n",
      "1/1 [==============================] - 0s 12ms/step - loss: 0.0035\n",
      "Epoch 258/300\n",
      "1/1 [==============================] - 0s 6ms/step - loss: 0.0034\n",
      "Epoch 259/300\n",
      "1/1 [==============================] - 0s 5ms/step - loss: 0.0033\n",
      "Epoch 260/300\n",
      "1/1 [==============================] - 0s 5ms/step - loss: 0.0033\n",
      "Epoch 261/300\n",
      "1/1 [==============================] - 0s 7ms/step - loss: 0.0032\n",
      "Epoch 262/300\n",
      "1/1 [==============================] - 0s 6ms/step - loss: 0.0031\n",
      "Epoch 263/300\n",
      "1/1 [==============================] - 0s 7ms/step - loss: 0.0031\n",
      "Epoch 264/300\n",
      "1/1 [==============================] - 0s 11ms/step - loss: 0.0030\n",
      "Epoch 265/300\n",
      "1/1 [==============================] - 0s 8ms/step - loss: 0.0029\n",
      "Epoch 266/300\n",
      "1/1 [==============================] - 0s 16ms/step - loss: 0.0029\n",
      "Epoch 267/300\n",
      "1/1 [==============================] - 0s 3ms/step - loss: 0.0028\n",
      "Epoch 268/300\n",
      "1/1 [==============================] - 0s 4ms/step - loss: 0.0028\n",
      "Epoch 269/300\n",
      "1/1 [==============================] - 0s 5ms/step - loss: 0.0027\n",
      "Epoch 270/300\n",
      "1/1 [==============================] - 0s 9ms/step - loss: 0.0026\n",
      "Epoch 271/300\n",
      "1/1 [==============================] - 0s 10ms/step - loss: 0.0026\n",
      "Epoch 272/300\n",
      "1/1 [==============================] - 0s 8ms/step - loss: 0.0025\n",
      "Epoch 273/300\n",
      "1/1 [==============================] - 0s 4ms/step - loss: 0.0025\n",
      "Epoch 274/300\n",
      "1/1 [==============================] - 0s 9ms/step - loss: 0.0024\n",
      "Epoch 275/300\n",
      "1/1 [==============================] - 0s 5ms/step - loss: 0.0024\n",
      "Epoch 276/300\n",
      "1/1 [==============================] - 0s 12ms/step - loss: 0.0023\n",
      "Epoch 277/300\n",
      "1/1 [==============================] - 0s 4ms/step - loss: 0.0023\n",
      "Epoch 278/300\n",
      "1/1 [==============================] - 0s 5ms/step - loss: 0.0022\n",
      "Epoch 279/300\n",
      "1/1 [==============================] - 0s 7ms/step - loss: 0.0022\n",
      "Epoch 280/300\n",
      "1/1 [==============================] - 0s 4ms/step - loss: 0.0021\n",
      "Epoch 281/300\n",
      "1/1 [==============================] - 0s 7ms/step - loss: 0.0021\n",
      "Epoch 282/300\n",
      "1/1 [==============================] - 0s 6ms/step - loss: 0.0021\n",
      "Epoch 283/300\n",
      "1/1 [==============================] - 0s 7ms/step - loss: 0.0020\n",
      "Epoch 284/300\n",
      "1/1 [==============================] - 0s 4ms/step - loss: 0.0020\n",
      "Epoch 285/300\n",
      "1/1 [==============================] - 0s 7ms/step - loss: 0.0019\n",
      "Epoch 286/300\n",
      "1/1 [==============================] - 0s 6ms/step - loss: 0.0019\n",
      "Epoch 287/300\n",
      "1/1 [==============================] - 0s 7ms/step - loss: 0.0019\n",
      "Epoch 288/300\n",
      "1/1 [==============================] - 0s 3ms/step - loss: 0.0018\n",
      "Epoch 289/300\n",
      "1/1 [==============================] - 0s 4ms/step - loss: 0.0018\n",
      "Epoch 290/300\n",
      "1/1 [==============================] - 0s 6ms/step - loss: 0.0017\n",
      "Epoch 291/300\n",
      "1/1 [==============================] - 0s 7ms/step - loss: 0.0017\n",
      "Epoch 292/300\n",
      "1/1 [==============================] - 0s 10ms/step - loss: 0.0017\n",
      "Epoch 293/300\n",
      "1/1 [==============================] - 0s 4ms/step - loss: 0.0016\n",
      "Epoch 294/300\n",
      "1/1 [==============================] - 0s 7ms/step - loss: 0.0016\n",
      "Epoch 295/300\n",
      "1/1 [==============================] - 0s 3ms/step - loss: 0.0016\n",
      "Epoch 296/300\n",
      "1/1 [==============================] - 0s 3ms/step - loss: 0.0015\n",
      "Epoch 297/300\n",
      "1/1 [==============================] - 0s 5ms/step - loss: 0.0015\n",
      "Epoch 298/300\n",
      "1/1 [==============================] - 0s 3ms/step - loss: 0.0015\n",
      "Epoch 299/300\n",
      "1/1 [==============================] - 0s 5ms/step - loss: 0.0014\n",
      "Epoch 300/300\n",
      "1/1 [==============================] - 0s 7ms/step - loss: 0.0014\n"
     ]
    },
    {
     "data": {
      "text/plain": [
       "<keras.callbacks.History at 0x250d4251600>"
      ]
     },
     "execution_count": 3,
     "metadata": {},
     "output_type": "execute_result"
    }
   ],
   "source": [
    "x = np.array([-1.0, 0.0, 1.0, 2.0, 3.0, 4.0])\n",
    "y = np.array([-3.0, -1.0, 1.0, 3.0, 5.0, 7.0])\n",
    "\n",
    "model.fit(x, y, epochs=300)"
   ]
  },
  {
   "cell_type": "code",
   "execution_count": 4,
   "metadata": {},
   "outputs": [
    {
     "name": "stdout",
     "output_type": "stream",
     "text": [
      "1/1 [==============================] - 0s 434ms/step\n"
     ]
    },
    {
     "data": {
      "text/plain": [
       "array([[18.890173]], dtype=float32)"
      ]
     },
     "execution_count": 4,
     "metadata": {},
     "output_type": "execute_result"
    }
   ],
   "source": [
    "model.predict([10.0])"
   ]
  },
  {
   "cell_type": "code",
   "execution_count": 5,
   "metadata": {},
   "outputs": [],
   "source": [
    "fashion_mnist = tf.keras.datasets.fashion_mnist\n",
    "(train_img, train_label), (test_img, test_label) = fashion_mnist.load_data()"
   ]
  },
  {
   "cell_type": "code",
   "execution_count": 6,
   "metadata": {},
   "outputs": [
    {
     "data": {
      "text/plain": [
       "(array([9, 0, 0, ..., 3, 0, 5], dtype=uint8),\n",
       " array([9, 2, 1, ..., 8, 1, 5], dtype=uint8))"
      ]
     },
     "execution_count": 6,
     "metadata": {},
     "output_type": "execute_result"
    }
   ],
   "source": [
    "train_label, test_label"
   ]
  },
  {
   "cell_type": "code",
   "execution_count": 7,
   "metadata": {},
   "outputs": [
    {
     "data": {
      "text/plain": [
       "<matplotlib.image.AxesImage at 0x250db506830>"
      ]
     },
     "execution_count": 7,
     "metadata": {},
     "output_type": "execute_result"
    },
    {
     "data": {
      "image/png": "[encoded data removed]",
      "text/plain": [
       "<Figure size 432x288 with 1 Axes>"
      ]
     },
     "metadata": {
      "needs_background": "light"
     },
     "output_type": "display_data"
    }
   ],
   "source": [
    "plt.imshow(train_img[1])"
   ]
  },
  {
   "cell_type": "code",
   "execution_count": 8,
   "metadata": {},
   "outputs": [],
   "source": [
    "model = keras.Sequential([\n",
    "    keras.layers.Flatten(input_shape=(28, 28)),\n",
    "    keras.layers.Dense(128, activation=tf.nn.relu),\n",
    "    keras.layers.Dense(10, activation=tf.nn.softmax)\n",
    "])"
   ]
  },
  {
   "cell_type": "code",
   "execution_count": 9,
   "metadata": {},
   "outputs": [
    {
     "name": "stdout",
     "output_type": "stream",
     "text": [
      "input to softmax function: [[1. 3. 4. 2.]]\n",
      "output of softmax function: [[0.0320586  0.23688282 0.64391426 0.08714432]]\n",
      "sum of outputs: 1.0\n",
      "class with highest probability: 2\n"
     ]
    }
   ],
   "source": [
    "inputs = np.array([[1.0, 3.0, 4.0, 2.0]])\n",
    "inputs = tf.convert_to_tensor(inputs)\n",
    "print(f'input to softmax function: {inputs.numpy()}')\n",
    "\n",
    "outputs = tf.keras.activations.softmax(inputs)\n",
    "print(f'output of softmax function: {outputs.numpy()}')\n",
    "\n",
    "sum = tf.reduce_sum(outputs)\n",
    "print(f'sum of outputs: {sum}')\n",
    "\n",
    "pred = np.argmax(outputs)\n",
    "print(f'class with highest probability: {pred}')"
   ]
  },
  {
   "cell_type": "code",
   "execution_count": 10,
   "metadata": {},
   "outputs": [
    {
     "name": "stdout",
     "output_type": "stream",
     "text": [
      "Epoch 1/5\n",
      "1875/1875 [==============================] - 9s 4ms/step - loss: 3.4059 - accuracy: 0.7356\n",
      "Epoch 2/5\n",
      "1875/1875 [==============================] - 3s 2ms/step - loss: 0.6180 - accuracy: 0.8000\n",
      "Epoch 3/5\n",
      "1875/1875 [==============================] - 4s 2ms/step - loss: 0.5328 - accuracy: 0.8194\n",
      "Epoch 4/5\n",
      "1875/1875 [==============================] - 4s 2ms/step - loss: 0.5157 - accuracy: 0.8259\n",
      "Epoch 5/5\n",
      "1875/1875 [==============================] - 4s 2ms/step - loss: 0.4912 - accuracy: 0.8348\n"
     ]
    },
    {
     "data": {
      "text/plain": [
       "<keras.callbacks.History at 0x250e39e9bd0>"
      ]
     },
     "execution_count": 10,
     "metadata": {},
     "output_type": "execute_result"
    }
   ],
   "source": [
    "model.compile(\n",
    "    optimizer=tf.optimizers.Adam(),\n",
    "    loss='sparse_categorical_crossentropy',\n",
    "    metrics=['accuracy']\n",
    ")\n",
    "\n",
    "model.fit(train_img, train_label, epochs=5)"
   ]
  },
  {
   "cell_type": "code",
   "execution_count": 11,
   "metadata": {},
   "outputs": [
    {
     "name": "stdout",
     "output_type": "stream",
     "text": [
      "313/313 [==============================] - 1s 998us/step - loss: 0.5191 - accuracy: 0.8355\n"
     ]
    },
    {
     "data": {
      "text/plain": [
       "[0.519088089466095, 0.8355000019073486]"
      ]
     },
     "execution_count": 11,
     "metadata": {},
     "output_type": "execute_result"
    }
   ],
   "source": [
    "model.evaluate(test_img, test_label)"
   ]
  },
  {
   "cell_type": "code",
   "execution_count": 14,
   "metadata": {},
   "outputs": [
    {
     "name": "stdout",
     "output_type": "stream",
     "text": [
      "Epoch 1/5\n",
      "1875/1875 [==============================] - 12s 6ms/step - loss: 0.8691\n",
      "Epoch 2/5\n",
      "1875/1875 [==============================] - 11s 6ms/step - loss: 0.5434\n",
      "Epoch 3/5\n",
      "1875/1875 [==============================] - 11s 6ms/step - loss: 0.4844\n",
      "Epoch 4/5\n",
      "1875/1875 [==============================] - 14s 7ms/step - loss: 0.4534\n",
      "Epoch 5/5\n",
      "1875/1875 [==============================] - 11s 6ms/step - loss: 0.4319\n"
     ]
    },
    {
     "data": {
      "text/plain": [
       "<keras.callbacks.History at 0x250de5a5360>"
      ]
     },
     "execution_count": 14,
     "metadata": {},
     "output_type": "execute_result"
    }
   ],
   "source": [
    "train_img = train_img/255.0\n",
    "test_img = test_img/255.0\n",
    "\n",
    "# callback class 실행\n",
    "callbacks = myCallback()\n",
    "\n",
    "model = tf.keras.models.Sequential([\n",
    "    tf.keras.layers.Flatten(),\n",
    "    tf.keras.layers.Dense(512, activation=tf.nn.relu),\n",
    "    tf.keras.layers.Dense(10, activation=tf.nn.softmax)\n",
    "])\n",
    "\n",
    "model.compile(optimizer='adam', loss='sparse_categorical_crossentropy')\n",
    "model.fit(train_img, train_label, epochs=5, callbacks=[callbacks])"
   ]
  },
  {
   "cell_type": "code",
   "execution_count": 13,
   "metadata": {},
   "outputs": [],
   "source": [
    "class myCallback(tf.keras.callbacks.Callback):\n",
    "    def on_epoch_enc(self, epoch, logs={}):\n",
    "        if(logs.get('loss')<0.4):\n",
    "            print('\\nLoss is low so cancelling training!')\n",
    "            self.model.stop_training=True"
   ]
  },
  {
   "cell_type": "code",
   "execution_count": null,
   "metadata": {},
   "outputs": [],
   "source": [
    "model = tf.keras.models.Sequential([\n",
    "    tf.keras.layers.Conv2D(64, (3,3), activation='relu', input_shape=(28, 28, 1)),      # (64, (3,3)): 64 filters size of 3*3\n",
    "    tf.keras.layers.MaxPool2D(2,2),\n",
    "    tf.keras.layers.Conv2D(64, (3,3), activation='relu'),\n",
    "    tf.keras.layers.MaxPool2D(2,2),\n",
    "    tf.keras.layers.Flatten(),\n",
    "    tf.keras.layers.Dense(128, activation='relu'),      # dense layer: connects input and output\n",
    "    tf.keras.layers.Dense(10, activation='softmax')\n",
    "])"
   ]
  },
  {
   "cell_type": "code",
   "execution_count": 15,
   "metadata": {},
   "outputs": [
    {
     "name": "stdout",
     "output_type": "stream",
     "text": [
      "Model: \"sequential_2\"\n",
      "_________________________________________________________________\n",
      " Layer (type)                Output Shape              Param #   \n",
      "=================================================================\n",
      " flatten_1 (Flatten)         (32, 784)                 0         \n",
      "                                                                 \n",
      " dense_3 (Dense)             (32, 512)                 401920    \n",
      "                                                                 \n",
      " dense_4 (Dense)             (32, 10)                  5130      \n",
      "                                                                 \n",
      "=================================================================\n",
      "Total params: 407,050\n",
      "Trainable params: 407,050\n",
      "Non-trainable params: 0\n",
      "_________________________________________________________________\n"
     ]
    }
   ],
   "source": [
    "model.summary()\n",
    "\n",
    "# it is important to look at 'Output Shape' column\n",
    "# 4th line, (None, 5, 5, 64): 64 images size of 5*5"
   ]
  },
  {
   "cell_type": "code",
   "execution_count": 16,
   "metadata": {},
   "outputs": [
    {
     "data": {
      "text/plain": [
       "array([9, 2, 1, 1, 6, 1, 4, 6, 5, 7, 4, 5, 7, 3, 4, 1, 2, 4, 8, 0, 2, 5,\n",
       "       7, 9, 1, 4, 6, 0, 9, 3, 8, 8, 3, 3, 8, 0, 7, 5, 7, 9, 6, 1, 3, 7,\n",
       "       6, 7, 2, 1, 2, 2, 4, 4, 5, 8, 2, 2, 8, 4, 8, 0, 7, 7, 8, 5, 1, 1,\n",
       "       2, 3, 9, 8, 7, 0, 2, 6, 2, 3, 1, 2, 8, 4, 1, 8, 5, 9, 5, 0, 3, 2,\n",
       "       0, 6, 5, 3, 6, 7, 1, 8, 0, 1, 4, 2], dtype=uint8)"
      ]
     },
     "execution_count": 16,
     "metadata": {},
     "output_type": "execute_result"
    }
   ],
   "source": [
    "test_label[:100]"
   ]
  },
  {
   "cell_type": "code",
   "execution_count": null,
   "metadata": {},
   "outputs": [
    {
     "name": "stdout",
     "output_type": "stream",
     "text": [
      "1/1 [==============================] - 0s 47ms/step\n",
      "1/1 [==============================] - 0s 13ms/step\n",
      "1/1 [==============================] - 0s 15ms/step\n",
      "1/1 [==============================] - 0s 13ms/step\n",
      "1/1 [==============================] - 0s 14ms/step\n",
      "1/1 [==============================] - 0s 13ms/step\n",
      "1/1 [==============================] - 0s 13ms/step\n",
      "1/1 [==============================] - 0s 13ms/step\n",
      "1/1 [==============================] - 0s 13ms/step\n",
      "1/1 [==============================] - 0s 12ms/step\n",
      "1/1 [==============================] - 0s 12ms/step\n",
      "1/1 [==============================] - 0s 13ms/step\n"
     ]
    },
    {
     "data": {
      "image/png": "[encoded data removed]",
      "text/plain": [
       "<Figure size 432x288 with 12 Axes>"
      ]
     },
     "metadata": {
      "needs_background": "light"
     },
     "output_type": "display_data"
    }
   ],
   "source": [
    "import matplotlib.pyplot as plt\n",
    "from tensorflow.keras import models\n",
    "\n",
    "f, axarr = plt.subplots(3,4)\n",
    "\n",
    "first_img = 0\n",
    "second_img = 23\n",
    "third_img = 1\n",
    "conv_num = 0\n",
    "\n",
    "layer_outputs = [layer.output for layer in model.layers]\n",
    "activation_model = tf.keras.models.Model(inputs=model.input, outputs=layer_outputs)\n",
    "\n",
    "for x in range(0,4):\n",
    "    f1 = activation_model.predict(test_img[first_img].reshape(1, 28, 28, 1))[x]\n",
    "    axarr[0,x].imshow(f1[0, :, :, conv_num], cmap='inferno')\n",
    "    axarr[0,x].grid(False)\n",
    "\n",
    "    f2 = activation_model.predict(test_img[second_img].reshape(1, 28, 28, 1))[x]\n",
    "    axarr[1,x].imshow(f2[0, :, :, conv_num], cmap='inferno')\n",
    "    axarr[1,x].grid(False)\n",
    "\n",
    "    f3 = activation_model.predict(test_img[third_img].reshape(1, 28, 28, 1))[x]\n",
    "    axarr[2,x].imshow(f3[0, :, :, conv_num], cmap='inferno')\n",
    "    axarr[2,x].grid(False)"
   ]
  },
  {
   "cell_type": "code",
   "execution_count": 17,
   "metadata": {},
   "outputs": [],
   "source": [
    "from scipy import misc\n",
    "ascent_img = misc.ascent()"
   ]
  },
  {
   "cell_type": "code",
   "execution_count": 18,
   "metadata": {},
   "outputs": [
    {
     "data": {
      "image/png": "[encoded data removed]",
      "text/plain": [
       "<Figure size 432x288 with 1 Axes>"
      ]
     },
     "metadata": {
      "needs_background": "light"
     },
     "output_type": "display_data"
    }
   ],
   "source": [
    "plt.grid(False)\n",
    "plt.gray()\n",
    "plt.axis('off')\n",
    "plt.imshow(ascent_img)\n",
    "plt.show()"
   ]
  },
  {
   "cell_type": "code",
   "execution_count": 19,
   "metadata": {},
   "outputs": [],
   "source": [
    "import numpy as np\n",
    "\n",
    "img_transformed = np.copy(ascent_img)\n",
    "\n",
    "# get dimensions of img\n",
    "size_x = img_transformed.shape[0]\n",
    "size_y = img_transformed.shape[1]\n",
    "\n",
    "filter = [[0, 1, 0], [1, -4, 1], [0, 1, 0]]\n",
    "weight = 1"
   ]
  },
  {
   "cell_type": "code",
   "execution_count": 20,
   "metadata": {},
   "outputs": [],
   "source": [
    "from tensorflow.keras.preprocessing.image import ImageDataGenerator"
   ]
  },
  {
   "cell_type": "code",
   "execution_count": 28,
   "metadata": {},
   "outputs": [],
   "source": [
    "model = tf.keras.models.Sequential([\n",
    "    tf.keras.layers.Conv2D(16, (3,3), activation='relu', input_shape=(300, 300, 3)),\n",
    "    tf.keras.layers.MaxPool2D(2, 2),\n",
    "    tf.keras.layers.Conv2D(32, (3,3), activation='relu'),\n",
    "    tf.keras.layers.MaxPool2D(2,2),\n",
    "    tf.keras.layers.Conv2D(64, (3,3), activation='relu'),\n",
    "    tf.keras.layers.MaxPool2D(2,2),\n",
    "    tf.keras.layers.Flatten(),\n",
    "    tf.keras.layers.Dense(512, activation='relu'),\n",
    "    tf.keras.layers.Dense(1, activation='sigmoid')\n",
    "])"
   ]
  },
  {
   "cell_type": "code",
   "execution_count": 30,
   "metadata": {},
   "outputs": [
    {
     "name": "stdout",
     "output_type": "stream",
     "text": [
      "Model: \"sequential_3\"\n",
      "_________________________________________________________________\n",
      " Layer (type)                Output Shape              Param #   \n",
      "=================================================================\n",
      " conv2d (Conv2D)             (None, 298, 298, 16)      448       \n",
      "                                                                 \n",
      " max_pooling2d (MaxPooling2D  (None, 149, 149, 16)     0         \n",
      " )                                                               \n",
      "                                                                 \n",
      " conv2d_1 (Conv2D)           (None, 147, 147, 32)      4640      \n",
      "                                                                 \n",
      " max_pooling2d_1 (MaxPooling  (None, 73, 73, 32)       0         \n",
      " 2D)                                                             \n",
      "                                                                 \n",
      " conv2d_2 (Conv2D)           (None, 71, 71, 64)        18496     \n",
      "                                                                 \n",
      " max_pooling2d_2 (MaxPooling  (None, 35, 35, 64)       0         \n",
      " 2D)                                                             \n",
      "                                                                 \n",
      " flatten_2 (Flatten)         (None, 78400)             0         \n",
      "                                                                 \n",
      " dense_5 (Dense)             (None, 512)               40141312  \n",
      "                                                                 \n",
      " dense_6 (Dense)             (None, 1)                 513       \n",
      "                                                                 \n",
      "=================================================================\n",
      "Total params: 40,165,409\n",
      "Trainable params: 40,165,409\n",
      "Non-trainable params: 0\n",
      "_________________________________________________________________\n"
     ]
    }
   ],
   "source": [
    "model.summary()"
   ]
  },
  {
   "cell_type": "code",
   "execution_count": 31,
   "metadata": {},
   "outputs": [
    {
     "name": "stderr",
     "output_type": "stream",
     "text": [
      "c:\\Users\\hoon9\\AppData\\Local\\Programs\\Python\\Python310\\lib\\site-packages\\keras\\optimizers\\optimizer_v2\\rmsprop.py:135: UserWarning: The `lr` argument is deprecated, use `learning_rate` instead.\n",
      "  super(RMSprop, self).__init__(name, **kwargs)\n"
     ]
    }
   ],
   "source": [
    "from tensorflow.keras.optimizers import RMSprop\n",
    "\n",
    "model.compile(loss='binary_crossentropy',\n",
    "optimizer=RMSprop(lr=0.001),\n",
    "metrics=['accuracy'])"
   ]
  },
  {
   "cell_type": "markdown",
   "metadata": {},
   "source": [
    "### 이수안 컴퓨터연구소 강의"
   ]
  },
  {
   "cell_type": "markdown",
   "metadata": {},
   "source": [
    "#### datatype 정의"
   ]
  },
  {
   "cell_type": "code",
   "execution_count": 14,
   "metadata": {},
   "outputs": [
    {
     "name": "stdout",
     "output_type": "stream",
     "text": [
      "tf.Tensor(2, shape=(), dtype=int32)\n"
     ]
    }
   ],
   "source": [
    "i = tf.constant(2)\n",
    "print(i)"
   ]
  },
  {
   "cell_type": "code",
   "execution_count": 15,
   "metadata": {},
   "outputs": [
    {
     "name": "stdout",
     "output_type": "stream",
     "text": [
      "tf.Tensor(2.0, shape=(), dtype=float32)\n"
     ]
    }
   ],
   "source": [
    "f = tf.constant(2.)\n",
    "print(f)"
   ]
  },
  {
   "cell_type": "code",
   "execution_count": 16,
   "metadata": {},
   "outputs": [
    {
     "name": "stdout",
     "output_type": "stream",
     "text": [
      "tf.Tensor(2.0, shape=(), dtype=float16)\n"
     ]
    }
   ],
   "source": [
    "f16 = tf.constant(2., dtype=tf.float16)\n",
    "print(f16)"
   ]
  },
  {
   "cell_type": "code",
   "execution_count": 17,
   "metadata": {},
   "outputs": [
    {
     "name": "stdout",
     "output_type": "stream",
     "text": [
      "tf.Tensor(2.0, shape=(), dtype=float32)\n"
     ]
    }
   ],
   "source": [
    "# tf.cast: dtype 변환\n",
    "f32 = tf.cast(f16, tf.float32)\n",
    "print(f32)"
   ]
  },
  {
   "cell_type": "markdown",
   "metadata": {},
   "source": [
    "#### Dense layer\n",
    "- fully connected layer(완전연결층)\n",
    "- 노드 수(유닛 수), activation function 등 지정\n",
    "- name을 통해 레이어간 구분 가능\n",
    "- 가중치 초기화(kernel initializer)\n",
    "    - 보통 가중치의 초기값으로 0에 가까운 무작위 값 사용"
   ]
  },
  {
   "cell_type": "code",
   "execution_count": 18,
   "metadata": {},
   "outputs": [
    {
     "data": {
      "text/plain": [
       "<keras.layers.core.dense.Dense at 0x1dabef748b0>"
      ]
     },
     "execution_count": 18,
     "metadata": {},
     "output_type": "execute_result"
    }
   ],
   "source": [
    "tf.keras.layers.Dense(10, activation='softmax', name='Dense Layer')"
   ]
  },
  {
   "cell_type": "code",
   "execution_count": 19,
   "metadata": {},
   "outputs": [
    {
     "data": {
      "text/plain": [
       "<keras.layers.core.dense.Dense at 0x1dabef74eb0>"
      ]
     },
     "execution_count": 19,
     "metadata": {},
     "output_type": "execute_result"
    }
   ],
   "source": [
    "tf.keras.layers.Dense(10, kernel_initializer='he_normal', name='Dense Layer')"
   ]
  },
  {
   "cell_type": "markdown",
   "metadata": {},
   "source": [
    "- Flatten: 배치 크기(or 데이터 크기)를 제외하고 데이터를 1차원으로 펼치는 작업\n",
    "    - e.g) (128, 3, 2, 2) -> (128, 12)"
   ]
  },
  {
   "cell_type": "markdown",
   "metadata": {},
   "source": [
    "- Sequential: 모델을 순차적인 구조로 진행할 때 사용"
   ]
  },
  {
   "cell_type": "code",
   "execution_count": 20,
   "metadata": {},
   "outputs": [],
   "source": [
    "from tensorflow.keras.layers import Dense, Input, Flatten\n",
    "from tensorflow.keras.models import Sequential, Model\n",
    "from tensorflow.keras.utils import plot_model"
   ]
  },
  {
   "cell_type": "code",
   "execution_count": 21,
   "metadata": {},
   "outputs": [
    {
     "name": "stdout",
     "output_type": "stream",
     "text": [
      "You must install pydot (`pip install pydot`) and install graphviz (see instructions at https://graphviz.gitlab.io/download/) for plot_model/model_to_dot to work.\n"
     ]
    }
   ],
   "source": [
    "model = Sequential([\n",
    "    Input(shape=(28, 28)),\n",
    "    Dense(300, activation='relu'),\n",
    "    Dense(100, activation='relu'),\n",
    "    Dense(10, activation='softmax')\n",
    "])\n",
    "\n",
    "plot_model(model)"
   ]
  },
  {
   "cell_type": "markdown",
   "metadata": {},
   "source": [
    "#### 함수형 API로 nn 생성"
   ]
  },
  {
   "cell_type": "code",
   "execution_count": 22,
   "metadata": {},
   "outputs": [
    {
     "name": "stdout",
     "output_type": "stream",
     "text": [
      "Model: \"model\"\n",
      "_________________________________________________________________\n",
      " Layer (type)                Output Shape              Param #   \n",
      "=================================================================\n",
      " input_2 (InputLayer)        [(None, 28, 28, 1)]       0         \n",
      "                                                                 \n",
      " flatten (Flatten)           (None, 784)               0         \n",
      "                                                                 \n",
      " dense_3 (Dense)             (None, 300)               235500    \n",
      "                                                                 \n",
      " dense_4 (Dense)             (None, 100)               30100     \n",
      "                                                                 \n",
      " dense_5 (Dense)             (None, 10)                1010      \n",
      "                                                                 \n",
      "=================================================================\n",
      "Total params: 266,610\n",
      "Trainable params: 266,610\n",
      "Non-trainable params: 0\n",
      "_________________________________________________________________\n"
     ]
    }
   ],
   "source": [
    "inputs = Input(shape=(28, 28, 1))\n",
    "x = Flatten(input_shape=(28, 28, 1))(inputs)\n",
    "x = Dense(300, activation='relu')(x)\n",
    "x = Dense(100, activation='relu')(x)\n",
    "x = Dense(10, activation='softmax')(x)\n",
    "\n",
    "model = Model(inputs=inputs, outputs=x)\n",
    "model.summary()"
   ]
  },
  {
   "cell_type": "code",
   "execution_count": 23,
   "metadata": {},
   "outputs": [
    {
     "name": "stdout",
     "output_type": "stream",
     "text": [
      "You must install pydot (`pip install pydot`) and install graphviz (see instructions at https://graphviz.gitlab.io/download/) for plot_model/model_to_dot to work.\n"
     ]
    }
   ],
   "source": [
    "plot_model(model)"
   ]
  },
  {
   "cell_type": "code",
   "execution_count": 24,
   "metadata": {},
   "outputs": [
    {
     "name": "stdout",
     "output_type": "stream",
     "text": [
      "Model: \"model_1\"\n",
      "__________________________________________________________________________________________________\n",
      " Layer (type)                   Output Shape         Param #     Connected to                     \n",
      "==================================================================================================\n",
      " input_3 (InputLayer)           [(None, 10, 10)]     0           []                               \n",
      "                                                                                                  \n",
      " dense_6 (Dense)                (None, 10, 100)      1100        ['input_3[0][0]']                \n",
      "                                                                                                  \n",
      " dense_7 (Dense)                (None, 10, 10)       1010        ['dense_6[0][0]']                \n",
      "                                                                                                  \n",
      " dense_8 (Dense)                (None, 10, 1)        11          ['dense_7[0][0]']                \n",
      "                                                                                                  \n",
      " dense_9 (Dense)                (None, 10, 1)        11          ['dense_7[0][0]']                \n",
      "                                                                                                  \n",
      "==================================================================================================\n",
      "Total params: 2,132\n",
      "Trainable params: 2,132\n",
      "Non-trainable params: 0\n",
      "__________________________________________________________________________________________________\n"
     ]
    }
   ],
   "source": [
    "input = Input(shape=(10, 10))\n",
    "hidden1 = Dense(100, activation='relu')(input)\n",
    "hidden2 = Dense(10, activation='relu')(hidden1)\n",
    "output = Dense(1, activation='sigmoid')(hidden2)\n",
    "sub_out = Dense(1, )(hidden2)\n",
    "\n",
    "model = Model(inputs=[input], outputs=[output, sub_out])\n",
    "model.summary()"
   ]
  },
  {
   "cell_type": "markdown",
   "metadata": {},
   "source": [
    "### Subclassing(서브클래싱)\n",
    "- 커스터마이징에 최적화된 방법\n",
    "- Model class 상속받아 Model이 포함하는 기능 사용 가능\n",
    "    - fit(), evaluate(), predict()...\n",
    "    - save(), load()\n",
    "- 주로 call() 메소드 안에서 원하는 계산 가능\n",
    "    - for, if, 저수준 연산 등"
   ]
  },
  {
   "cell_type": "code",
   "execution_count": 25,
   "metadata": {},
   "outputs": [],
   "source": [
    "class MyModel(Model):\n",
    "    def __init__(self, units=30, activation='relu', **kwargs):\n",
    "        super(MyModel, self).__init__(**kwargs)\n",
    "        self.dense_1 = Dense(300, activation=activation)\n",
    "        self.dense_2 = Dense(100, activation=activation)\n",
    "        self.dense_3 = Dense(units, activation=activation)\n",
    "        self.output = Dense(10, activation='softmax')\n",
    "\n",
    "    def call(self, inputs):\n",
    "        x = self.dense_1(inputs)\n",
    "        x = self.dense_2(x)\n",
    "        x = self.dense_3(x)\n",
    "        x = self.output(x)\n",
    "        return x"
   ]
  },
  {
   "cell_type": "markdown",
   "metadata": {},
   "source": [
    "### 모델 가중치 확인"
   ]
  },
  {
   "cell_type": "code",
   "execution_count": 26,
   "metadata": {},
   "outputs": [
    {
     "name": "stdout",
     "output_type": "stream",
     "text": [
      "Model: \"model_2\"\n",
      "_________________________________________________________________\n",
      " Layer (type)                Output Shape              Param #   \n",
      "=================================================================\n",
      " input_4 (InputLayer)        [(None, 28, 28, 1)]       0         \n",
      "                                                                 \n",
      " flatten_1 (Flatten)         (None, 784)               0         \n",
      "                                                                 \n",
      " dense_10 (Dense)            (None, 300)               235500    \n",
      "                                                                 \n",
      " dense_11 (Dense)            (None, 100)               30100     \n",
      "                                                                 \n",
      " dense_12 (Dense)            (None, 10)                1010      \n",
      "                                                                 \n",
      "=================================================================\n",
      "Total params: 266,610\n",
      "Trainable params: 266,610\n",
      "Non-trainable params: 0\n",
      "_________________________________________________________________\n"
     ]
    }
   ],
   "source": [
    "inputs = Input(shape=(28, 28, 1))\n",
    "x = Flatten(input_shape=(28, 28, 1))(inputs)\n",
    "x = Dense(300, activation='relu')(x)\n",
    "x = Dense(100, activation='relu')(x)\n",
    "x = Dense(10, activation='softmax')(x)\n",
    "\n",
    "model = Model(inputs=inputs, outputs=x)\n",
    "model.summary()"
   ]
  },
  {
   "cell_type": "markdown",
   "metadata": {},
   "source": [
    "#### 모델 안에 있는 layer에 접근"
   ]
  },
  {
   "cell_type": "code",
   "execution_count": 27,
   "metadata": {},
   "outputs": [
    {
     "data": {
      "text/plain": [
       "[<keras.engine.input_layer.InputLayer at 0x1dabf289b10>,\n",
       " <keras.layers.reshaping.flatten.Flatten at 0x1dabf288a30>,\n",
       " <keras.layers.core.dense.Dense at 0x1dabf289e10>,\n",
       " <keras.layers.core.dense.Dense at 0x1dabf28b5b0>,\n",
       " <keras.layers.core.dense.Dense at 0x1dabf28a5c0>]"
      ]
     },
     "execution_count": 27,
     "metadata": {},
     "output_type": "execute_result"
    }
   ],
   "source": [
    "model.layers"
   ]
  },
  {
   "cell_type": "code",
   "execution_count": 28,
   "metadata": {},
   "outputs": [
    {
     "data": {
      "text/plain": [
       "'dense_10'"
      ]
     },
     "execution_count": 28,
     "metadata": {},
     "output_type": "execute_result"
    }
   ],
   "source": [
    "layer_2 = model.layers[2]\n",
    "layer_2.name"
   ]
  },
  {
   "cell_type": "code",
   "execution_count": 29,
   "metadata": {},
   "outputs": [
    {
     "data": {
      "text/plain": [
       "True"
      ]
     },
     "execution_count": 29,
     "metadata": {},
     "output_type": "execute_result"
    }
   ],
   "source": [
    "# layer 가져오기\n",
    "model.get_layer('dense_10') is layer_2"
   ]
  },
  {
   "cell_type": "code",
   "execution_count": 30,
   "metadata": {},
   "outputs": [
    {
     "name": "stdout",
     "output_type": "stream",
     "text": [
      "(784, 300)\n",
      "(300,)\n"
     ]
    }
   ],
   "source": [
    "weights, biases = layer_2.get_weights()\n",
    "print(weights.shape)    # (number of input weights, number of output weights)\n",
    "print(biases.shape)"
   ]
  },
  {
   "cell_type": "code",
   "execution_count": 31,
   "metadata": {},
   "outputs": [
    {
     "name": "stdout",
     "output_type": "stream",
     "text": [
      "0.0014213547\n"
     ]
    }
   ],
   "source": [
    "print(weights[700,200])"
   ]
  },
  {
   "cell_type": "code",
   "execution_count": 32,
   "metadata": {},
   "outputs": [
    {
     "name": "stdout",
     "output_type": "stream",
     "text": [
      "[0. 0. 0. 0. 0. 0. 0. 0. 0. 0. 0. 0. 0. 0. 0. 0. 0. 0. 0. 0. 0. 0. 0. 0.\n",
      " 0. 0. 0. 0. 0. 0. 0. 0. 0. 0. 0. 0. 0. 0. 0. 0. 0. 0. 0. 0. 0. 0. 0. 0.\n",
      " 0. 0. 0. 0. 0. 0. 0. 0. 0. 0. 0. 0. 0. 0. 0. 0. 0. 0. 0. 0. 0. 0. 0. 0.\n",
      " 0. 0. 0. 0. 0. 0. 0. 0. 0. 0. 0. 0. 0. 0. 0. 0. 0. 0. 0. 0. 0. 0. 0. 0.\n",
      " 0. 0. 0. 0. 0. 0. 0. 0. 0. 0. 0. 0. 0. 0. 0. 0. 0. 0. 0. 0. 0. 0. 0. 0.\n",
      " 0. 0. 0. 0. 0. 0. 0. 0. 0. 0. 0. 0. 0. 0. 0. 0. 0. 0. 0. 0. 0. 0. 0. 0.\n",
      " 0. 0. 0. 0. 0. 0. 0. 0. 0. 0. 0. 0. 0. 0. 0. 0. 0. 0. 0. 0. 0. 0. 0. 0.\n",
      " 0. 0. 0. 0. 0. 0. 0. 0. 0. 0. 0. 0. 0. 0. 0. 0. 0. 0. 0. 0. 0. 0. 0. 0.\n",
      " 0. 0. 0. 0. 0. 0. 0. 0. 0. 0. 0. 0. 0. 0. 0. 0. 0. 0. 0. 0. 0. 0. 0. 0.\n",
      " 0. 0. 0. 0. 0. 0. 0. 0. 0. 0. 0. 0. 0. 0. 0. 0. 0. 0. 0. 0. 0. 0. 0. 0.\n",
      " 0. 0. 0. 0. 0. 0. 0. 0. 0. 0. 0. 0. 0. 0. 0. 0. 0. 0. 0. 0. 0. 0. 0. 0.\n",
      " 0. 0. 0. 0. 0. 0. 0. 0. 0. 0. 0. 0. 0. 0. 0. 0. 0. 0. 0. 0. 0. 0. 0. 0.\n",
      " 0. 0. 0. 0. 0. 0. 0. 0. 0. 0. 0. 0.]\n"
     ]
    }
   ],
   "source": [
    "print(biases)"
   ]
  },
  {
   "cell_type": "markdown",
   "metadata": {},
   "source": [
    "### Model Compile\n",
    "- 모델을 구상한 후, 사용할 loss function, optimizer 지정"
   ]
  },
  {
   "cell_type": "code",
   "execution_count": 33,
   "metadata": {},
   "outputs": [],
   "source": [
    "model.compile(loss='sparse_categorical_crossentropy',\n",
    "              optimizer='sgd',\n",
    "              metrics=['accuracy'])"
   ]
  },
  {
   "cell_type": "markdown",
   "metadata": {},
   "source": [
    "### Backpropagation(오차역전파)\n",
    "- forward(정방향) 연산을 통해 loss value구함\n",
    "- 각 layer별로 역전파 학습을 위해 중간값 저장\n",
    "- 최종 layer(output)부터 반대로 돌아가면서 layer별로 저장된 값을 이용해 학습 파라미터(weight, bias) 갱신"
   ]
  },
  {
   "cell_type": "code",
   "execution_count": 34,
   "metadata": {},
   "outputs": [],
   "source": [
    "import tensorflow as tf\n",
    "from tensorflow.keras.datasets.mnist import load_data\n",
    "from tensorflow.keras.models import Sequential\n",
    "from tensorflow.keras import models\n",
    "from tensorflow.keras.layers import Dense, Flatten, Input\n",
    "from tensorflow.keras.utils import to_categorical, plot_model\n",
    "\n",
    "from sklearn.model_selection import train_test_split\n",
    "import numpy as np\n",
    "import matplotlib.pyplot as plt\n",
    "\n",
    "plt.style.use('seaborn-white')"
   ]
  },
  {
   "cell_type": "code",
   "execution_count": 35,
   "metadata": {},
   "outputs": [],
   "source": [
    "tf.random.set_seed(42)\n",
    "\n",
    "(x_train_full, y_train_full), (x_test, y_test) = load_data(path='mnits.npz')\n",
    "\n",
    "x_train, x_val, y_train, y_val = train_test_split(x_train_full, y_train_full, test_size=0.3, random_state=42)"
   ]
  },
  {
   "cell_type": "code",
   "execution_count": 36,
   "metadata": {},
   "outputs": [],
   "source": [
    "num_x_train = x_train.shape[0]\n",
    "num_x_val = x_val.shape[0]\n",
    "num_x_test = x_test.shape[0]"
   ]
  },
  {
   "cell_type": "code",
   "execution_count": 42,
   "metadata": {},
   "outputs": [
    {
     "data": {
      "image/png": "[encoded data removed]",
      "text/plain": [
       "<Figure size 1080x216 with 5 Axes>"
      ]
     },
     "metadata": {
      "needs_background": "light"
     },
     "output_type": "display_data"
    }
   ],
   "source": [
    "num_sample = 5\n",
    "random_idx = np.random.randint(60000, size=num_sample)\n",
    "\n",
    "plt.figure(figsize=(15,3))\n",
    "for i, idx in enumerate(random_idx):\n",
    "    img = x_train_full[idx, :]\n",
    "    label = y_train_full[idx]\n",
    "\n",
    "    plt.subplot(1, len(random_idx), i+1)\n",
    "    plt.imshow(img)\n",
    "    plt.title(f'index: {idx}, label: {label}')"
   ]
  },
  {
   "cell_type": "code",
   "execution_count": 44,
   "metadata": {},
   "outputs": [],
   "source": [
    "# normalization\n",
    "x_train = x_train/255.\n",
    "x_val = x_val/255.\n",
    "x_test = x_test/255.\n",
    "\n",
    "y_train = to_categorical(y_train)\n",
    "y_val = to_categorical(y_val)\n",
    "y_test = to_categorical(y_test)"
   ]
  },
  {
   "cell_type": "markdown",
   "metadata": {},
   "source": [
    "### 모델 구성(Sequential)"
   ]
  },
  {
   "cell_type": "code",
   "execution_count": 45,
   "metadata": {},
   "outputs": [
    {
     "name": "stdout",
     "output_type": "stream",
     "text": [
      "Model: \"sequential_1\"\n",
      "_________________________________________________________________\n",
      " Layer (type)                Output Shape              Param #   \n",
      "=================================================================\n",
      " flatten_2 (Flatten)         (None, 784)               0         \n",
      "                                                                 \n",
      " dense_13 (Dense)            (None, 100)               78500     \n",
      "                                                                 \n",
      " dense_14 (Dense)            (None, 64)                6464      \n",
      "                                                                 \n",
      " dense_15 (Dense)            (None, 32)                2080      \n",
      "                                                                 \n",
      " dense_16 (Dense)            (None, 10)                330       \n",
      "                                                                 \n",
      "=================================================================\n",
      "Total params: 87,374\n",
      "Trainable params: 87,374\n",
      "Non-trainable params: 0\n",
      "_________________________________________________________________\n"
     ]
    }
   ],
   "source": [
    "model = Sequential([\n",
    "    Input(shape=(28, 28)),\n",
    "    Flatten(input_shape=[28, 28]),\n",
    "    Dense(100, activation='relu'),\n",
    "    Dense(64, activation='relu'),\n",
    "    Dense(32, activation='relu'),\n",
    "    Dense(10, activation='softmax')\n",
    "])\n",
    "\n",
    "model.summary()"
   ]
  },
  {
   "cell_type": "markdown",
   "metadata": {},
   "source": [
    "### 모델 컴파일 및 학습"
   ]
  },
  {
   "cell_type": "code",
   "execution_count": null,
   "metadata": {},
   "outputs": [],
   "source": []
  },
  {
   "cell_type": "code",
   "execution_count": null,
   "metadata": {},
   "outputs": [],
   "source": []
  }
 ],
 "metadata": {
  "interpreter": {
   "hash": "193862c4b51ce2cf91cc9aaee2c7fe13f9c87404bc6c6138ad6feb7b6375b160"
  },
  "kernelspec": {
   "display_name": "Python 3.10.4 64-bit",
   "language": "python",
   "name": "python3"
  },
  "language_info": {
   "codemirror_mode": {
    "name": "ipython",
    "version": 3
   },
   "file_extension": ".py",
   "mimetype": "text/x-python",
   "name": "python",
   "nbconvert_exporter": "python",
   "pygments_lexer": "ipython3",
   "version": "3.10.4"
  },
  "orig_nbformat": 4
 },
 "nbformat": 4,
 "nbformat_minor": 2
}
