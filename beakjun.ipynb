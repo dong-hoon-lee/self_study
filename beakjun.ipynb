{
 "cells": [
  {
   "cell_type": "code",
   "execution_count": 2,
   "metadata": {},
   "outputs": [
    {
     "name": "stdout",
     "output_type": "stream",
     "text": [
      "2 * 1 = 2\n",
      "2 * 2 = 4\n",
      "2 * 3 = 6\n",
      "2 * 4 = 8\n",
      "2 * 5 = 10\n",
      "2 * 6 = 12\n",
      "2 * 7 = 14\n",
      "2 * 8 = 16\n",
      "2 * 9 = 18\n"
     ]
    }
   ],
   "source": [
    "# 구구단\n",
    "\n",
    "num = int(input())\n",
    "\n",
    "for i in range(1, 10):\n",
    "    print(f'{num} * {i} = {num*i}')"
   ]
  },
  {
   "cell_type": "code",
   "execution_count": 6,
   "metadata": {},
   "outputs": [
    {
     "name": "stdout",
     "output_type": "stream",
     "text": [
      "3\n",
      "7\n"
     ]
    }
   ],
   "source": [
    "# A+B - 3\n",
    "\n",
    "t = int(input())\n",
    "for i in range(t):\n",
    "    a, b = map(int, input().split())\n",
    "    print(a + b)"
   ]
  },
  {
   "cell_type": "code",
   "execution_count": 8,
   "metadata": {},
   "outputs": [
    {
     "name": "stdout",
     "output_type": "stream",
     "text": [
      "10\n"
     ]
    }
   ],
   "source": [
    "# 합\n",
    "\n",
    "n = int(input())\n",
    "result = 0\n",
    "\n",
    "for i in range(1, n+1):\n",
    "    result += i\n",
    "\n",
    "print(result)"
   ]
  },
  {
   "cell_type": "code",
   "execution_count": 1,
   "metadata": {},
   "outputs": [],
   "source": [
    "# 빠른 A+B\n",
    "\n",
    "import sys\n",
    "\n",
    "t = int(input())\n",
    "\n",
    "for i in range(t):\n",
    "    a, b = map(int, sys.stdin.readline().split())\n",
    "    print(a+b)"
   ]
  },
  {
   "cell_type": "code",
   "execution_count": 2,
   "metadata": {},
   "outputs": [],
   "source": [
    "import sys\n",
    "\n",
    "n = int(sys.stdin.readline())\n",
    "\n",
    "for i in range(1, n+1):\n",
    "    print(i)"
   ]
  },
  {
   "cell_type": "code",
   "execution_count": 1,
   "metadata": {},
   "outputs": [
    {
     "name": "stdout",
     "output_type": "stream",
     "text": [
      "3\n",
      "2\n",
      "1\n"
     ]
    }
   ],
   "source": [
    "import sys\n",
    "\n",
    "n = int(input())\n",
    "\n",
    "for i in range(n, 0, -1):\n",
    "    print(i)"
   ]
  },
  {
   "cell_type": "code",
   "execution_count": 2,
   "metadata": {},
   "outputs": [
    {
     "name": "stdout",
     "output_type": "stream",
     "text": [
      "Case #1: 3\n",
      "Case #2: 7\n"
     ]
    }
   ],
   "source": [
    "# A+B - 7\n",
    "\n",
    "t = int(input())\n",
    "\n",
    "for i in range(1, t+1):\n",
    "    a, b = map(int, input().split())\n",
    "    print(f'Case #{i}: {a+b}')"
   ]
  },
  {
   "cell_type": "code",
   "execution_count": 3,
   "metadata": {},
   "outputs": [
    {
     "name": "stdout",
     "output_type": "stream",
     "text": [
      "Case #1: 1 + 2 = 3\n",
      "Case #2: 3 + 4 = 7\n"
     ]
    }
   ],
   "source": [
    "# A+B - 8\n",
    "\n",
    "t = int(input())\n",
    "\n",
    "for i in range(1, t+1):\n",
    "    a, b = map(int, input().split())\n",
    "    print(f'Case #{i}: {a} + {b} = {a+b}')"
   ]
  },
  {
   "cell_type": "code",
   "execution_count": 5,
   "metadata": {},
   "outputs": [
    {
     "name": "stdout",
     "output_type": "stream",
     "text": [
      "*\n",
      "**\n",
      "***\n"
     ]
    }
   ],
   "source": [
    "# 별 찍기 - 1\n",
    "\n",
    "n = int(input())\n",
    "\n",
    "for i in range(1, n+1):\n",
    "    print('*' * i)"
   ]
  },
  {
   "cell_type": "code",
   "execution_count": 13,
   "metadata": {},
   "outputs": [
    {
     "name": "stdout",
     "output_type": "stream",
     "text": [
      "  *\n",
      " **\n",
      "***\n"
     ]
    }
   ],
   "source": [
    "# 별 찍기 - 2\n",
    "\n",
    "n = int(input())\n",
    "\n",
    "for i in range(1, n+1):\n",
    "    print(' '*(n-i) + '*'*i)"
   ]
  },
  {
   "cell_type": "code",
   "execution_count": 16,
   "metadata": {},
   "outputs": [
    {
     "name": "stdout",
     "output_type": "stream",
     "text": [
      "2 1 "
     ]
    }
   ],
   "source": [
    "# X보다 작은 수\n",
    "\n",
    "n, x = map(int, input().split())\n",
    "n_list = list(map(int, input().split()))\n",
    "answer = []\n",
    "\n",
    "for i in n_list:\n",
    "    if i < x:\n",
    "        answer.append(i)\n",
    "\n",
    "for i in answer:\n",
    "    print(i, end=' ')"
   ]
  },
  {
   "cell_type": "code",
   "execution_count": 3,
   "metadata": {},
   "outputs": [
    {
     "name": "stdout",
     "output_type": "stream",
     "text": [
      "11\n"
     ]
    }
   ],
   "source": [
    "# 손익분기점\n",
    "\n",
    "import sys\n",
    "\n",
    "a, b, c = map(int, input().split())\n",
    "if b >= c:\n",
    "    print(-1)\n",
    "else:\n",
    "    print(a // (c-b)+1)"
   ]
  },
  {
   "cell_type": "code",
   "execution_count": 3,
   "metadata": {},
   "outputs": [
    {
     "name": "stdout",
     "output_type": "stream",
     "text": [
      "line: 1\n",
      "max num: 1\n",
      "line: 2\n",
      "max num: 3\n",
      "gap: 1\n",
      "1/2\n"
     ]
    }
   ],
   "source": [
    "# 분수찾기\n",
    "\n",
    "input_num = int(input())\n",
    "\n",
    "line = 0\n",
    "max_num = 0\n",
    "while input_num > max_num:\n",
    "    line += 1\n",
    "    max_num += line \n",
    "\n",
    "gap = max_num - input_num\n",
    "if line % 2 == 0:\n",
    "    top = line - gap\n",
    "    under = gap + 1\n",
    "else :\n",
    "    top = gap + 1\n",
    "    under = line - gap\n",
    "print(f'{top}/{under}')"
   ]
  },
  {
   "cell_type": "code",
   "execution_count": null,
   "metadata": {},
   "outputs": [],
   "source": [
    "# 달팽이는 올라가고 싶다\n",
    "\n",
    "a, b, v = map(int, input().split())\n",
    "\n",
    "if (v-b) % (a-b) == 0:\n",
    "    print((v-b) // (a-b))\n",
    "else:\n",
    "    print((v-b) // (a-b) + 1)"
   ]
  },
  {
   "cell_type": "code",
   "execution_count": 12,
   "metadata": {},
   "outputs": [
    {
     "name": "stdout",
     "output_type": "stream",
     "text": [
      "2\n"
     ]
    }
   ],
   "source": [
    "# 설탕 배달\n",
    "\n",
    "n = int(input())\n",
    "\n",
    "result = 0\n",
    "\n",
    "if (n%5 == 0) or (n%3 == 0) or (n%8 == 0):\n",
    "    result += (n // 5)\n",
    "    temp = (n % 5)\n",
    "    result += (temp // 3)\n",
    "else:\n",
    "    result = -1\n",
    "\n",
    "print(result)"
   ]
  },
  {
   "cell_type": "code",
   "execution_count": 16,
   "metadata": {},
   "outputs": [],
   "source": [
    "class Course:\n",
    "    def __init__(self, s_type:str):\n",
    "        self.s_type =s_type\n",
    "        self.attendance = 0\n",
    "\n",
    "    def printInfo(self):\n",
    "        return self.s_type, self.attendance\n",
    "\n",
    "    def setType(self, s_type):\n",
    "        self.s_type = s_type\n",
    "\n",
    "    def setAttendance(self, attendance):\n",
    "        self.attendance = attendance\n",
    "\n",
    "    def getGrade(self):\n",
    "        grade = 'I'\n",
    "        return grade\n",
    "\n",
    "\n",
    "class LetterGradeCourse(Course):\n",
    "    def __init__(self, name):\n",
    "        super().__init__(name)\n",
    "        self.grade_course_work = 0\n",
    "        self.grade_test = 0\n",
    "        self.attendance = 0\n",
    "\n",
    "    def setGrade(self, grade_course_work:(int or float), grade_test:(int or float), attendance:(int or float)):\n",
    "        self.grade_course_work = grade_course_work\n",
    "        self.grade_test = grade_test\n",
    "        self.attendance = attendance\n",
    "\n",
    "    def __str__(self):\n",
    "        data = f'과목명: {self.name}\\n출석점수: {self.attendance}\\n과제점수: {self.grade_course_work}\\n시험점수: {self.grade_test}'\n",
    "        return data\n",
    "\n",
    "    def total_score(self):\n",
    "        rate = [0.2, 0.3, 0.5]\n",
    "        self.result = (self.attendance * rate[0]) + (self.grade_course_work * rate[1]) + (self.grade_test * rate[2])\n",
    "        return self.result\n",
    "\n",
    "    def getGrade(self):\n",
    "        grade = ['A', 'B', 'C', 'D', 'F']\n",
    "\n",
    "        r = self.total_score()\n",
    "        if r >= 90:\n",
    "            result = grade[0]\n",
    "        elif r >= 80:\n",
    "            result = grade[1]\n",
    "        elif r >= 70:\n",
    "            result = grade[2]\n",
    "        elif r >= 60:\n",
    "            result = grade[3]\n",
    "        else:\n",
    "            result = grade[4]\n",
    "\n",
    "        return result\n",
    "\n",
    "\n",
    "class CourseDriver:\n",
    "    \n",
    "    def __init__(self, grade_course_work, grade_test, attendance, name):\n",
    "        self.letter = LetterGradeCourse(name)\n",
    "        self.letter.setAttendance(attendance)\n",
    "        self.letter.setGrade(\n",
    "            grade_course_work=grade_course_work,\n",
    "            grade_test=grade_test,\n",
    "            attendance=attendance\n",
    "        )\n",
    "\n",
    "    def printInfo(self):\n",
    "        return self.letter.__str__()\n",
    "\n",
    "    def getGrade(self):\n",
    "        return self.letter.getGrade()\n"
   ]
  },
  {
   "cell_type": "code",
   "execution_count": 18,
   "metadata": {},
   "outputs": [],
   "source": [
    "c = CourseDriver(\n",
    "    grade_course_work=80,\n",
    "    grade_test=80,\n",
    "    attendance=80,\n",
    "    name='qqq'\n",
    ")"
   ]
  },
  {
   "cell_type": "code",
   "execution_count": 19,
   "metadata": {},
   "outputs": [
    {
     "name": "stdout",
     "output_type": "stream",
     "text": [
      "과목명: qqq\n",
      "출석점수: 80\n",
      "과제점수: 80\n",
      "시험점수: 80\n",
      "\n",
      "학점: B\n"
     ]
    }
   ],
   "source": [
    "print(c.printInfo())\n",
    "print(f'\\n학점: {c.getGrade()}')"
   ]
  },
  {
   "cell_type": "code",
   "execution_count": 1,
   "metadata": {},
   "outputs": [],
   "source": [
    "class Course:\n",
    "    s_type = ['재학생', '대학원생']\n",
    "\n",
    "    def __init__(self, course_name:str):\n",
    "        self.course_name = course_name\n",
    "        self.attendance = 0\n",
    "\n",
    "    def printInfo(self):\n",
    "        return self.course_name, self.attendance\n",
    "\n",
    "    def setType(self, course_name):\n",
    "        self.course_name = course_name\n",
    "\n",
    "    def setAttendance(self, attendance):\n",
    "        self.attendance = attendance\n",
    "\n",
    "    def getGrade(self):\n",
    "        grade = 'I'\n",
    "        return grade"
   ]
  },
  {
   "cell_type": "code",
   "execution_count": 2,
   "metadata": {},
   "outputs": [],
   "source": [
    "class PassFailCourse(Course):\n",
    "    def __init__(self, course_name, s_type):\n",
    "        super().__init__(course_name)\n",
    "        \n",
    "        self.s_type = s_type\n",
    "        self.course_name = course_name\n",
    "        self.grade_assignment = 0\n",
    "        self.grade_quiz = 0\n",
    "        self.presentation = 0\n",
    "\n",
    "    def setAssignment(self, assignment):\n",
    "        self.grade_assignment = assignment\n",
    "\n",
    "    def setQuiz(self, quiz):\n",
    "        self.grade_quiz = quiz\n",
    "\n",
    "    def setPresentation(self, presentation):\n",
    "        self.presentation = presentation\n",
    "\n",
    "    def getAssignment(self):\n",
    "        return self.grade_assignment\n",
    "    \n",
    "    def getQuiz(self):\n",
    "        return self.grade_quiz\n",
    "\n",
    "    def getPresentation(self):\n",
    "        return self.presentation\n",
    "\n",
    "    def totalScore(self):\n",
    "        rate = [0.2, 0.3]\n",
    "        self.result = ((self.attendance))"
   ]
  },
  {
   "cell_type": "code",
   "execution_count": null,
   "metadata": {},
   "outputs": [],
   "source": [
    "num = int(input())\n",
    "\n",
    "for i in range(num):\n",
    "    H,W,N = map(int,input().split())\n",
    "    count = 1\n",
    "    \n",
    "    while N>H : \n",
    "        N = N-H\n",
    "        count += 1 #방 호수\n",
    "\n",
    "    if count<10:\n",
    "        print(f'{N}0{count}')\n",
    "    else:\n",
    "        print(f'{N}{count}')"
   ]
  },
  {
   "cell_type": "code",
   "execution_count": 2,
   "metadata": {},
   "outputs": [
    {
     "name": "stdout",
     "output_type": "stream",
     "text": [
      "6\n",
      "10\n"
     ]
    }
   ],
   "source": [
    "# 부녀회장이 될테야\n",
    "\n",
    "t = int(input())\n",
    "\n",
    "for i in range(t):\n",
    "    d = []\n",
    "    k = int(input())\n",
    "    n = int(input())\n",
    "    d = [j for j in range(1, n+1)]\n",
    "\n",
    "    for l in range(k):\n",
    "        for j2 in range(1, n):\n",
    "            d[j2] += d[j2-1]\n",
    "    print(d[n-1])"
   ]
  },
  {
   "cell_type": "code",
   "execution_count": 14,
   "metadata": {},
   "outputs": [
    {
     "name": "stdout",
     "output_type": "stream",
     "text": [
      "0\n"
     ]
    }
   ],
   "source": [
    "# 설탕배달\n",
    "\n",
    "n = int(input())\n",
    "box = 0\n",
    "\n",
    "while True:\n",
    "  if n%5 == 0:\n",
    "    box = box + (n//5)\n",
    "    print(box)\n",
    "    break\n",
    "\n",
    "  n = n - 3\n",
    "  box += 1\n",
    "\n",
    "  if n <= 0:\n",
    "    print(\"-1\")\n",
    "    break"
   ]
  },
  {
   "cell_type": "code",
   "execution_count": 37,
   "metadata": {},
   "outputs": [
    {
     "name": "stdout",
     "output_type": "stream",
     "text": [
      "1\n"
     ]
    }
   ],
   "source": [
    "# 소수 찾기\n",
    "\n",
    "n = int(input())\n",
    "num_list = map(int, input().split())\n",
    "cnt = 0\n",
    "\n",
    "for n in num_list:\n",
    "    if n < 2:\n",
    "        continue\n",
    "    for i in range(2, n):\n",
    "        if n%i == 0:\n",
    "            break\n",
    "    else:\n",
    "        cnt += 1\n",
    "\n",
    "print(cnt)"
   ]
  },
  {
   "cell_type": "code",
   "execution_count": 42,
   "metadata": {},
   "outputs": [
    {
     "name": "stdout",
     "output_type": "stream",
     "text": [
      "17\n",
      "2\n"
     ]
    }
   ],
   "source": [
    "# 소수\n",
    "\n",
    "m = int(input())\n",
    "n = int(input())\n",
    "prime_list = []\n",
    "\n",
    "for i in range(m, n+1):\n",
    "    if i < 2:\n",
    "        continue\n",
    "    for j in range(2, i):\n",
    "        if i%j == 0:\n",
    "            break\n",
    "    else:\n",
    "        prime_list.append(i)\n",
    "\n",
    "if len(prime_list) == 0:\n",
    "    print('-1')\n",
    "else:\n",
    "    print(sum(prime_list))\n",
    "    print(min(prime_list))"
   ]
  },
  {
   "cell_type": "code",
   "execution_count": 45,
   "metadata": {},
   "outputs": [
    {
     "name": "stdout",
     "output_type": "stream",
     "text": [
      "13\n"
     ]
    }
   ],
   "source": [
    "# 소인수분해\n",
    "\n",
    "n = int(input())\n",
    "\n",
    "if n < 2:\n",
    "    print('')\n",
    "\n",
    "for i in range(2, n+1):\n",
    "    while n%i == 0:\n",
    "        print(i)\n",
    "        n = n/i"
   ]
  },
  {
   "cell_type": "code",
   "execution_count": 48,
   "metadata": {},
   "outputs": [
    {
     "name": "stdout",
     "output_type": "stream",
     "text": [
      "1\n",
      "4\n",
      "4\n",
      "0\n"
     ]
    }
   ],
   "source": [
    "# 베르트랑 공준\n",
    "\n",
    "import sys\n",
    "\n",
    "while True:\n",
    "    n = int(sys.stdin.readline())\n",
    "    prime_list = []\n",
    "    \n",
    "    for i in range(n, (2*n)+1):\n",
    "        if i < 2:\n",
    "            continue\n",
    "        for j in range(2, i):\n",
    "            if i%j == 0:\n",
    "                break\n",
    "        else:\n",
    "            prime_list.append(i)\n",
    "    \n",
    "    print(len(prime_list))\n",
    "\n",
    "    if n == 0:\n",
    "        break"
   ]
  },
  {
   "cell_type": "code",
   "execution_count": null,
   "metadata": {},
   "outputs": [],
   "source": []
  }
 ],
 "metadata": {
  "interpreter": {
   "hash": "193862c4b51ce2cf91cc9aaee2c7fe13f9c87404bc6c6138ad6feb7b6375b160"
  },
  "kernelspec": {
   "display_name": "Python 3.10.4 64-bit",
   "language": "python",
   "name": "python3"
  },
  "language_info": {
   "codemirror_mode": {
    "name": "ipython",
    "version": 3
   },
   "file_extension": ".py",
   "mimetype": "text/x-python",
   "name": "python",
   "nbconvert_exporter": "python",
   "pygments_lexer": "ipython3",
   "version": "3.10.4"
  },
  "orig_nbformat": 4
 },
 "nbformat": 4,
 "nbformat_minor": 2
}
