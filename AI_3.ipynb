{
 "cells": [
  {
   "cell_type": "code",
   "execution_count": 1,
   "metadata": {},
   "outputs": [
    {
     "name": "stdout",
     "output_type": "stream",
     "text": [
      "Sun May  8 16:09:40 2022       \n",
      "+-----------------------------------------------------------------------------+\n",
      "| NVIDIA-SMI 470.57.02    Driver Version: 470.57.02    CUDA Version: 11.4     |\n",
      "|-------------------------------+----------------------+----------------------+\n",
      "| GPU  Name        Persistence-M| Bus-Id        Disp.A | Volatile Uncorr. ECC |\n",
      "| Fan  Temp  Perf  Pwr:Usage/Cap|         Memory-Usage | GPU-Util  Compute M. |\n",
      "|                               |                      |               MIG M. |\n",
      "|===============================+======================+======================|\n",
      "|   0  Quadro RTX 8000     Off  | 00000000:3B:00.0 Off |                  Off |\n",
      "| 32%   43C    P0    67W / 260W |      0MiB / 48601MiB |      0%      Default |\n",
      "|                               |                      |                  N/A |\n",
      "+-------------------------------+----------------------+----------------------+\n",
      "|   1  Quadro RTX 8000     Off  | 00000000:AF:00.0 Off |                  Off |\n",
      "| 32%   42C    P0    68W / 260W |      0MiB / 48601MiB |      6%      Default |\n",
      "|                               |                      |                  N/A |\n",
      "+-------------------------------+----------------------+----------------------+\n",
      "                                                                               \n",
      "+-----------------------------------------------------------------------------+\n",
      "| Processes:                                                                  |\n",
      "|  GPU   GI   CI        PID   Type   Process name                  GPU Memory |\n",
      "|        ID   ID                                                   Usage      |\n",
      "|=============================================================================|\n",
      "|  No running processes found                                                 |\n",
      "+-----------------------------------------------------------------------------+\n"
     ]
    }
   ],
   "source": [
    "!nvidia-smi"
   ]
  },
  {
   "cell_type": "code",
   "execution_count": 2,
   "metadata": {},
   "outputs": [],
   "source": [
    "import os\n",
    "os.environ['CUDA_VISIBLE_DEVICES'] = '0'"
   ]
  },
  {
   "cell_type": "code",
   "execution_count": 3,
   "metadata": {},
   "outputs": [
    {
     "data": {
      "text/plain": [
       "'1.10.1+cu102'"
      ]
     },
     "execution_count": 3,
     "metadata": {},
     "output_type": "execute_result"
    }
   ],
   "source": [
    "import torch\n",
    "import numpy as np\n",
    "\n",
    "torch.__version__"
   ]
  },
  {
   "cell_type": "code",
   "execution_count": 4,
   "metadata": {},
   "outputs": [
    {
     "data": {
      "text/plain": [
       "tensor([1, 2, 3, 4])"
      ]
     },
     "execution_count": 4,
     "metadata": {},
     "output_type": "execute_result"
    }
   ],
   "source": [
    "np_arr_1 = np.array([1,2,3,4])\n",
    "np_arr_2 = np.array([5,6,7,8])\n",
    "\n",
    "torch_tensor_1 = torch.tensor([1,2,3,4])\n",
    "torch_tensor_2 = torch.tensor([5,6,7,8])\n",
    "\n",
    "torch_tensor_1"
   ]
  },
  {
   "cell_type": "code",
   "execution_count": 5,
   "metadata": {},
   "outputs": [
    {
     "name": "stdout",
     "output_type": "stream",
     "text": [
      "(4,)\n",
      "torch.Size([4])\n",
      "torch.Size([4])\n"
     ]
    }
   ],
   "source": [
    "print(np_arr_1.shape)\n",
    "\n",
    "print(torch_tensor_1.shape)\n",
    "print(torch_tensor_1.size())"
   ]
  },
  {
   "cell_type": "code",
   "execution_count": 6,
   "metadata": {},
   "outputs": [
    {
     "name": "stdout",
     "output_type": "stream",
     "text": [
      "------numpy-------\n",
      "[1 2 3 4 5 6 7 8]\n",
      "------torch-------\n",
      "tensor([1, 2, 3, 4, 5, 6, 7, 8])\n"
     ]
    }
   ],
   "source": [
    "np_concat = np.concatenate([np_arr_1, np_arr_2], axis=0)\n",
    "print('------numpy-------')\n",
    "print(np_concat)\n",
    "\n",
    "torch_concat = torch.cat([torch_tensor_1, torch_tensor_2], dim=0)\n",
    "print('------torch-------')\n",
    "print(torch_concat)"
   ]
  },
  {
   "cell_type": "code",
   "execution_count": 7,
   "metadata": {},
   "outputs": [
    {
     "name": "stdout",
     "output_type": "stream",
     "text": [
      "-------numpy-------\n",
      "[1 2 3]\n",
      "[1 1 2 2 3 3]\n",
      "-------tensor--------\n",
      "tensor([1, 2, 3])\n",
      "tensor([1, 2, 3, 1, 2, 3])\n"
     ]
    }
   ],
   "source": [
    "# repeat 기능\n",
    "\n",
    "x = np.array([1,2,3])\n",
    "x_repeat = x.repeat(2)\n",
    "\n",
    "print('-------numpy-------')\n",
    "print(x)\n",
    "print(x_repeat)\n",
    "\n",
    "y = torch.tensor([1,2,3])\n",
    "y_repeat = y.repeat(2)\n",
    "\n",
    "print('-------tensor--------')\n",
    "print(y)\n",
    "print(y_repeat)"
   ]
  },
  {
   "cell_type": "code",
   "execution_count": 8,
   "metadata": {},
   "outputs": [
    {
     "data": {
      "text/plain": [
       "True"
      ]
     },
     "execution_count": 8,
     "metadata": {},
     "output_type": "execute_result"
    }
   ],
   "source": [
    "# is cuda(GPU) available?\n",
    "torch.cuda.is_available()"
   ]
  },
  {
   "cell_type": "code",
   "execution_count": 34,
   "metadata": {},
   "outputs": [
    {
     "name": "stdout",
     "output_type": "stream",
     "text": [
      "cpu\n",
      "cpu\n",
      "cpu\n"
     ]
    }
   ],
   "source": [
    "a = torch.ones(3)\n",
    "b = torch.rand(100, 10, 3)\n",
    "\n",
    "print(a.device)\n",
    "print(b.device)\n",
    "\n",
    "print(a.device)"
   ]
  },
  {
   "cell_type": "code",
   "execution_count": 10,
   "metadata": {},
   "outputs": [
    {
     "name": "stdout",
     "output_type": "stream",
     "text": [
      "tensor([[0.9303, 0.9332, 0.6412],\n",
      "        [0.3405, 0.2436, 0.1521],\n",
      "        [0.6839, 0.4895, 0.1862],\n",
      "        [0.1234, 0.3155, 0.8768],\n",
      "        [0.2277, 0.2525, 0.3966],\n",
      "        [0.1587, 0.6268, 0.8978],\n",
      "        [0.3108, 0.0575, 0.5294],\n",
      "        [0.7722, 0.8618, 0.9845],\n",
      "        [0.9007, 0.8824, 0.1666],\n",
      "        [0.2748, 0.8925, 0.3795]])\n",
      "tensor([0.9303, 0.9332, 0.6412])\n",
      "tensor(0.9303)\n"
     ]
    }
   ],
   "source": [
    "print(b[0])\n",
    "print(b[0][0])      # same as b[0,0]\n",
    "print(b[0][0][0])   # same as b[0,0,0]"
   ]
  },
  {
   "cell_type": "code",
   "execution_count": 11,
   "metadata": {},
   "outputs": [
    {
     "data": {
      "text/plain": [
       "100"
      ]
     },
     "execution_count": 11,
     "metadata": {},
     "output_type": "execute_result"
    }
   ],
   "source": [
    "len(b)"
   ]
  },
  {
   "cell_type": "code",
   "execution_count": 12,
   "metadata": {},
   "outputs": [
    {
     "data": {
      "text/plain": [
       "tensor([[1., 1.],\n",
       "        [1., 1.]], requires_grad=True)"
      ]
     },
     "execution_count": 12,
     "metadata": {},
     "output_type": "execute_result"
    }
   ],
   "source": [
    "# Autograd\n",
    "# automatically defferentiate tensors\n",
    "\n",
    "x = torch.ones(2,2, requires_grad=True)\n",
    "x"
   ]
  },
  {
   "cell_type": "code",
   "execution_count": 13,
   "metadata": {},
   "outputs": [
    {
     "data": {
      "text/plain": [
       "tensor([[3., 3.],\n",
       "        [3., 3.]], grad_fn=<AddBackward0>)"
      ]
     },
     "execution_count": 13,
     "metadata": {},
     "output_type": "execute_result"
    }
   ],
   "source": [
    "y = x+2\n",
    "y"
   ]
  },
  {
   "cell_type": "code",
   "execution_count": 14,
   "metadata": {},
   "outputs": [
    {
     "data": {
      "text/plain": [
       "tensor([[11., 11.],\n",
       "        [11., 11.]], grad_fn=<AddBackward0>)"
      ]
     },
     "execution_count": 14,
     "metadata": {},
     "output_type": "execute_result"
    }
   ],
   "source": [
    "z = y*y+2\n",
    "z"
   ]
  },
  {
   "cell_type": "code",
   "execution_count": 15,
   "metadata": {},
   "outputs": [
    {
     "data": {
      "text/plain": [
       "tensor(11., grad_fn=<MeanBackward0>)"
      ]
     },
     "execution_count": 15,
     "metadata": {},
     "output_type": "execute_result"
    }
   ],
   "source": [
    "out = z.mean()\n",
    "out"
   ]
  },
  {
   "cell_type": "code",
   "execution_count": 16,
   "metadata": {},
   "outputs": [],
   "source": [
    "y.retain_grad()\n",
    "z.retain_grad()\n",
    "out.backward()"
   ]
  },
  {
   "cell_type": "code",
   "execution_count": 17,
   "metadata": {},
   "outputs": [
    {
     "data": {
      "text/plain": [
       "tensor([[0.2500, 0.2500],\n",
       "        [0.2500, 0.2500]])"
      ]
     },
     "execution_count": 17,
     "metadata": {},
     "output_type": "execute_result"
    }
   ],
   "source": [
    "z.grad"
   ]
  },
  {
   "cell_type": "code",
   "execution_count": 18,
   "metadata": {},
   "outputs": [
    {
     "data": {
      "text/plain": [
       "tensor([[1.5000, 1.5000],\n",
       "        [1.5000, 1.5000]])"
      ]
     },
     "execution_count": 18,
     "metadata": {},
     "output_type": "execute_result"
    }
   ],
   "source": [
    "y.grad"
   ]
  },
  {
   "cell_type": "code",
   "execution_count": 20,
   "metadata": {},
   "outputs": [],
   "source": [
    "# computer remembers gradients of previous calculations\n",
    "# # so we sould use .no_grad() to prevent complexity"
   ]
  },
  {
   "cell_type": "code",
   "execution_count": 26,
   "metadata": {},
   "outputs": [
    {
     "data": {
      "text/plain": [
       "tensor([[1., 2., 3.],\n",
       "        [4., 5., 6.]])"
      ]
     },
     "execution_count": 26,
     "metadata": {},
     "output_type": "execute_result"
    }
   ],
   "source": [
    "import torch.nn as nn\n",
    "\n",
    "x = torch.tensor([[1.,2.,3.], [4.,5.,6.]])\n",
    "x"
   ]
  },
  {
   "cell_type": "code",
   "execution_count": 27,
   "metadata": {},
   "outputs": [
    {
     "data": {
      "text/plain": [
       "Linear(in_features=3, out_features=1, bias=True)"
      ]
     },
     "execution_count": 27,
     "metadata": {},
     "output_type": "execute_result"
    }
   ],
   "source": [
    "linear_fn = nn.Linear(3,1)\n",
    "linear_fn"
   ]
  },
  {
   "cell_type": "code",
   "execution_count": 30,
   "metadata": {},
   "outputs": [
    {
     "name": "stdout",
     "output_type": "stream",
     "text": [
      "tensor([[1.6417],\n",
      "        [2.7969]], grad_fn=<AddmmBackward0>)\n",
      "torch.Size([2, 1])\n"
     ]
    }
   ],
   "source": [
    "y = linear_fn(x)\n",
    "print(y)\n",
    "print(y.shape)"
   ]
  },
  {
   "cell_type": "code",
   "execution_count": 31,
   "metadata": {},
   "outputs": [
    {
     "data": {
      "text/plain": [
       "tensor(4.4386, grad_fn=<SumBackward0>)"
      ]
     },
     "execution_count": 31,
     "metadata": {},
     "output_type": "execute_result"
    }
   ],
   "source": [
    "y.sum()"
   ]
  },
  {
   "cell_type": "code",
   "execution_count": 32,
   "metadata": {},
   "outputs": [],
   "source": [
    "# Design model using Pytorch\n",
    "\n",
    "class Model(nn.Module):\n",
    "    def __init__(self, input_dim, output_dim, hidden_dim):\n",
    "        super(Model, self).__init__()\n",
    "        self.linear1 = nn.Linear(input_dim, hidden_dim)\n",
    "        self.linear2 = nn.Linear(hidden_dim, output_dim)\n",
    "        self.relu = nn.ReLU()\n",
    "\n",
    "    def forward(self, x):\n",
    "        x = self.linear1(x)\n",
    "        x = self.relu(x)        # activation function\n",
    "        x = self.linear2(x)\n",
    "        return x"
   ]
  },
  {
   "cell_type": "code",
   "execution_count": 36,
   "metadata": {},
   "outputs": [],
   "source": [
    "import torch\n",
    "import torch.nn as nn\n",
    "import torch.nn.functional as F\n",
    "import torch.optim as optim\n",
    "\n",
    "from torch.utils.data import DataLoader\n",
    "\n",
    "import torchvision\n",
    "import torchvision.transforms as transforms"
   ]
  },
  {
   "cell_type": "code",
   "execution_count": 37,
   "metadata": {},
   "outputs": [
    {
     "name": "stdout",
     "output_type": "stream",
     "text": [
      "Downloading http://yann.lecun.com/exdb/mnist/train-images-idx3-ubyte.gz\n",
      "Downloading http://yann.lecun.com/exdb/mnist/train-images-idx3-ubyte.gz to ./MNIST/raw/train-images-idx3-ubyte.gz\n"
     ]
    },
    {
     "data": {
      "application/vnd.jupyter.widget-view+json": {
       "model_id": "15009b4eaf2044998d4ce0b39d35eef8",
       "version_major": 2,
       "version_minor": 0
      },
      "text/plain": [
       "  0%|          | 0/9912422 [00:00<?, ?it/s]"
      ]
     },
     "metadata": {},
     "output_type": "display_data"
    },
    {
     "name": "stdout",
     "output_type": "stream",
     "text": [
      "Extracting ./MNIST/raw/train-images-idx3-ubyte.gz to ./MNIST/raw\n",
      "\n",
      "Downloading http://yann.lecun.com/exdb/mnist/train-labels-idx1-ubyte.gz\n",
      "Downloading http://yann.lecun.com/exdb/mnist/train-labels-idx1-ubyte.gz to ./MNIST/raw/train-labels-idx1-ubyte.gz\n"
     ]
    },
    {
     "data": {
      "application/vnd.jupyter.widget-view+json": {
       "model_id": "60efba0122694f9fbdea65f063d3b3b6",
       "version_major": 2,
       "version_minor": 0
      },
      "text/plain": [
       "  0%|          | 0/28881 [00:00<?, ?it/s]"
      ]
     },
     "metadata": {},
     "output_type": "display_data"
    },
    {
     "name": "stdout",
     "output_type": "stream",
     "text": [
      "Extracting ./MNIST/raw/train-labels-idx1-ubyte.gz to ./MNIST/raw\n",
      "\n",
      "Downloading http://yann.lecun.com/exdb/mnist/t10k-images-idx3-ubyte.gz\n",
      "Downloading http://yann.lecun.com/exdb/mnist/t10k-images-idx3-ubyte.gz to ./MNIST/raw/t10k-images-idx3-ubyte.gz\n"
     ]
    },
    {
     "data": {
      "application/vnd.jupyter.widget-view+json": {
       "model_id": "63e060c79a2543bf9edf0389487c626d",
       "version_major": 2,
       "version_minor": 0
      },
      "text/plain": [
       "  0%|          | 0/1648877 [00:00<?, ?it/s]"
      ]
     },
     "metadata": {},
     "output_type": "display_data"
    },
    {
     "name": "stdout",
     "output_type": "stream",
     "text": [
      "Extracting ./MNIST/raw/t10k-images-idx3-ubyte.gz to ./MNIST/raw\n",
      "\n",
      "Downloading http://yann.lecun.com/exdb/mnist/t10k-labels-idx1-ubyte.gz\n",
      "Downloading http://yann.lecun.com/exdb/mnist/t10k-labels-idx1-ubyte.gz to ./MNIST/raw/t10k-labels-idx1-ubyte.gz\n"
     ]
    },
    {
     "data": {
      "application/vnd.jupyter.widget-view+json": {
       "model_id": "1e632b4be434475d8b5edeaa09c31490",
       "version_major": 2,
       "version_minor": 0
      },
      "text/plain": [
       "  0%|          | 0/4542 [00:00<?, ?it/s]"
      ]
     },
     "metadata": {},
     "output_type": "display_data"
    },
    {
     "name": "stdout",
     "output_type": "stream",
     "text": [
      "Extracting ./MNIST/raw/t10k-labels-idx1-ubyte.gz to ./MNIST/raw\n",
      "\n"
     ]
    }
   ],
   "source": [
    "# MNIST dataset\n",
    "train_dataset = torchvision.datasets.MNIST(root='./', train=True, transform=transforms.ToTensor(), download=True)\n",
    "test_dataset = torchvision.datasets.MNIST(root='./', train=False, transform=transforms.ToTensor())\n",
    "\n",
    "# DataLoader\n",
    "# mini batch size\n",
    "train_loader = DataLoader(dataset=train_dataset, batch_size=128, shuffle=True)\n",
    "test_loader = DataLoader(dataset=test_dataset, batch_size=100, shuffle=True)"
   ]
  },
  {
   "cell_type": "code",
   "execution_count": 38,
   "metadata": {},
   "outputs": [],
   "source": [
    "# Define model class\n",
    "\n",
    "class Multimodal_logistic_regression(nn.Module):\n",
    "    def __init__(self, input_size, output_size):\n",
    "        super(Multimodal_logistic_regression, self).__init__()\n",
    "        self.fc = nn.Linear(input_size, output_size)\n",
    "\n",
    "    def forward(self, x):\n",
    "        out = self.fc(x)\n",
    "        return out"
   ]
  },
  {
   "cell_type": "code",
   "execution_count": 41,
   "metadata": {},
   "outputs": [
    {
     "data": {
      "text/plain": [
       "Multimodal_logistic_regression(\n",
       "  (fc): Linear(in_features=784, out_features=10, bias=True)\n",
       ")"
      ]
     },
     "execution_count": 41,
     "metadata": {},
     "output_type": "execute_result"
    }
   ],
   "source": [
    "# model generation\n",
    "\n",
    "model = Multimodal_logistic_regression(784, 10)\n",
    "model = model.to('cuda')\n",
    "model"
   ]
  },
  {
   "cell_type": "code",
   "execution_count": 44,
   "metadata": {},
   "outputs": [],
   "source": [
    "# Define optimizer\n",
    "\n",
    "optim_sgd = torch.optim.SGD(model.parameters(), lr=0.05, momentum=0.9)\n",
    "optim_adam = torch.optim.Adam(model.parameters(), lr=0.05)"
   ]
  },
  {
   "cell_type": "code",
   "execution_count": 47,
   "metadata": {},
   "outputs": [
    {
     "name": "stdout",
     "output_type": "stream",
     "text": [
      "epoch [1/10], Loss: 0.2661\n",
      "epoch [1/10], Loss: 0.3099\n",
      "epoch [1/10], Loss: 0.1870\n",
      "epoch [1/10], Loss: 0.3270\n",
      "epoch [2/10], Loss: 0.2287\n",
      "epoch [2/10], Loss: 0.2344\n",
      "epoch [2/10], Loss: 0.2785\n",
      "epoch [2/10], Loss: 0.3494\n",
      "epoch [3/10], Loss: 0.2830\n",
      "epoch [3/10], Loss: 0.4959\n",
      "epoch [3/10], Loss: 0.2351\n",
      "epoch [3/10], Loss: 0.2606\n",
      "epoch [4/10], Loss: 0.2717\n",
      "epoch [4/10], Loss: 0.2498\n",
      "epoch [4/10], Loss: 0.1603\n",
      "epoch [4/10], Loss: 0.1783\n",
      "epoch [5/10], Loss: 0.1531\n",
      "epoch [5/10], Loss: 0.2677\n",
      "epoch [5/10], Loss: 0.3527\n",
      "epoch [5/10], Loss: 0.2834\n",
      "epoch [6/10], Loss: 0.3579\n",
      "epoch [6/10], Loss: 0.2871\n",
      "epoch [6/10], Loss: 0.1906\n",
      "epoch [6/10], Loss: 0.3247\n",
      "epoch [7/10], Loss: 0.1637\n",
      "epoch [7/10], Loss: 0.2255\n",
      "epoch [7/10], Loss: 0.2870\n",
      "epoch [7/10], Loss: 0.3344\n",
      "epoch [8/10], Loss: 0.1856\n",
      "epoch [8/10], Loss: 0.2927\n",
      "epoch [8/10], Loss: 0.2666\n",
      "epoch [8/10], Loss: 0.2546\n",
      "epoch [9/10], Loss: 0.2372\n",
      "epoch [9/10], Loss: 0.2813\n",
      "epoch [9/10], Loss: 0.2094\n",
      "epoch [9/10], Loss: 0.1717\n",
      "epoch [10/10], Loss: 0.2469\n",
      "epoch [10/10], Loss: 0.1949\n",
      "epoch [10/10], Loss: 0.3286\n",
      "epoch [10/10], Loss: 0.4157\n"
     ]
    }
   ],
   "source": [
    "# model training\n",
    "\n",
    "loss_fn = nn.CrossEntropyLoss()\n",
    "\n",
    "total_step = len(train_loader)\n",
    "\n",
    "for epoch in range(10):\n",
    "    for i, (images, labels) in enumerate(train_loader):\n",
    "        images = images.reshape(-1, 28*28).to('cuda')\n",
    "        labels = labels.to('cuda')\n",
    "        # print(images.shape)\n",
    "\n",
    "        # forward\n",
    "        outputs = model(images)\n",
    "        loss = loss_fn(outputs, labels)\n",
    "\n",
    "        # backward and optimization\n",
    "        optimizer.zero_grad()\n",
    "        loss.backward()     # automatic gradient calculation (autograd)\n",
    "        optimizer.step()\n",
    "\n",
    "        if (i+1) % 100 == 0:\n",
    "            print(f'epoch [{epoch+1}/{10}], Loss: {loss.item():.4f}')"
   ]
  },
  {
   "cell_type": "code",
   "execution_count": 50,
   "metadata": {},
   "outputs": [
    {
     "name": "stdout",
     "output_type": "stream",
     "text": [
      "tensor([0, 4, 3, 4, 4, 6, 3, 7, 6, 4, 7, 4, 8, 5, 1, 0, 5, 0, 8, 3, 5, 3, 4, 3,\n",
      "        0, 5, 1, 1, 5, 6, 5, 9, 0, 7, 2, 3, 8, 9, 0, 9, 2, 7, 4, 2, 2, 2, 1, 7,\n",
      "        8, 5, 9, 9, 2, 0, 3, 0, 8, 9, 7, 0, 1, 4, 1, 3, 8, 1, 9, 2, 1, 1, 9, 5,\n",
      "        9, 5, 7, 4, 1, 7, 2, 0, 1, 3, 3, 3, 3, 6, 4, 1, 9, 9, 4, 7, 2, 7, 1, 2,\n",
      "        3, 9, 3, 7], device='cuda:0')\n",
      "tensor([9, 3, 1, 5, 4, 5, 7, 8, 4, 4, 4, 6, 3, 4, 3, 7, 1, 4, 0, 6, 8, 1, 0, 5,\n",
      "        6, 6, 6, 5, 0, 4, 7, 1, 6, 2, 8, 6, 7, 6, 9, 1, 3, 8, 5, 5, 6, 1, 0, 9,\n",
      "        0, 4, 6, 1, 0, 1, 1, 7, 8, 4, 1, 2, 6, 2, 6, 5, 0, 9, 4, 7, 8, 0, 7, 0,\n",
      "        1, 1, 1, 0, 6, 1, 2, 7, 0, 0, 5, 7, 7, 0, 9, 7, 5, 1, 9, 3, 3, 3, 5, 2,\n",
      "        2, 8, 9, 0], device='cuda:0')\n",
      "tensor([6, 6, 3, 2, 6, 7, 0, 4, 0, 3, 0, 3, 9, 5, 7, 5, 1, 6, 5, 8, 6, 0, 3, 2,\n",
      "        1, 4, 6, 1, 8, 3, 3, 9, 1, 0, 0, 2, 9, 5, 3, 8, 2, 0, 1, 7, 5, 8, 4, 1,\n",
      "        7, 1, 2, 1, 6, 4, 8, 4, 0, 7, 1, 1, 0, 3, 8, 1, 3, 9, 8, 7, 3, 7, 1, 1,\n",
      "        3, 9, 5, 7, 8, 3, 6, 3, 1, 3, 3, 7, 1, 0, 9, 1, 4, 1, 1, 6, 7, 0, 1, 8,\n",
      "        7, 2, 4, 2], device='cuda:0')\n",
      "tensor([0, 8, 9, 3, 1, 2, 1, 4, 4, 2, 5, 4, 1, 1, 3, 6, 4, 6, 8, 1, 4, 6, 5, 2,\n",
      "        4, 6, 4, 4, 4, 2, 7, 5, 7, 5, 3, 1, 6, 6, 9, 6, 2, 0, 4, 4, 0, 4, 9, 5,\n",
      "        1, 8, 5, 7, 4, 2, 9, 3, 0, 9, 6, 2, 7, 3, 0, 0, 2, 3, 9, 3, 2, 4, 6, 4,\n",
      "        5, 3, 9, 5, 5, 4, 0, 4, 9, 1, 3, 0, 1, 6, 0, 2, 7, 4, 1, 3, 1, 9, 2, 9,\n",
      "        3, 2, 8, 6], device='cuda:0')\n",
      "tensor([7, 0, 5, 6, 1, 1, 6, 6, 3, 5, 7, 6, 6, 4, 9, 0, 1, 0, 0, 7, 5, 5, 9, 2,\n",
      "        6, 4, 9, 0, 2, 5, 9, 5, 5, 5, 1, 7, 4, 9, 4, 1, 2, 7, 5, 0, 9, 7, 2, 0,\n",
      "        5, 4, 8, 5, 2, 6, 0, 3, 2, 2, 1, 1, 0, 7, 4, 3, 2, 9, 2, 7, 6, 8, 7, 9,\n",
      "        6, 1, 3, 5, 9, 3, 5, 5, 9, 8, 7, 6, 2, 2, 3, 0, 9, 0, 5, 2, 5, 3, 8, 3,\n",
      "        4, 7, 8, 0], device='cuda:0')\n",
      "tensor([1, 1, 9, 9, 1, 7, 8, 3, 3, 4, 0, 2, 8, 6, 6, 2, 1, 8, 8, 5, 3, 0, 9, 2,\n",
      "        4, 4, 7, 9, 7, 6, 4, 0, 7, 3, 1, 6, 3, 7, 1, 9, 2, 3, 6, 6, 1, 3, 1, 4,\n",
      "        3, 7, 4, 5, 7, 1, 0, 7, 8, 6, 9, 0, 4, 6, 1, 0, 8, 0, 9, 6, 1, 9, 8, 2,\n",
      "        4, 4, 4, 6, 1, 6, 3, 8, 4, 9, 0, 8, 4, 0, 8, 2, 8, 3, 1, 8, 0, 2, 5, 1,\n",
      "        6, 9, 8, 2], device='cuda:0')\n",
      "tensor([1, 1, 7, 3, 6, 7, 9, 1, 4, 8, 8, 1, 1, 1, 4, 2, 7, 2, 0, 4, 7, 7, 4, 4,\n",
      "        2, 2, 2, 1, 5, 0, 0, 0, 9, 1, 7, 0, 0, 9, 0, 4, 9, 8, 7, 0, 2, 4, 3, 1,\n",
      "        4, 3, 0, 8, 0, 7, 9, 7, 4, 7, 2, 1, 9, 5, 4, 1, 0, 4, 8, 1, 6, 3, 3, 7,\n",
      "        2, 0, 0, 7, 1, 7, 9, 1, 2, 2, 3, 7, 0, 1, 3, 9, 9, 6, 1, 1, 4, 1, 1, 9,\n",
      "        6, 5, 8, 3], device='cuda:0')\n",
      "tensor([9, 2, 1, 5, 2, 1, 0, 3, 2, 7, 4, 4, 4, 0, 5, 1, 5, 5, 6, 5, 4, 0, 3, 4,\n",
      "        9, 2, 2, 3, 2, 1, 4, 1, 5, 8, 1, 0, 1, 9, 2, 1, 8, 9, 8, 4, 2, 6, 8, 9,\n",
      "        4, 6, 1, 2, 0, 7, 6, 5, 1, 5, 4, 7, 9, 6, 2, 1, 4, 9, 8, 1, 9, 5, 8, 1,\n",
      "        7, 2, 2, 7, 8, 2, 3, 4, 6, 9, 0, 2, 1, 7, 3, 1, 2, 1, 2, 5, 7, 7, 9, 4,\n",
      "        6, 7, 3, 3], device='cuda:0')\n",
      "tensor([7, 4, 6, 8, 9, 1, 8, 1, 7, 7, 0, 4, 6, 5, 2, 3, 9, 9, 9, 6, 5, 0, 6, 6,\n",
      "        8, 6, 0, 7, 5, 5, 8, 2, 2, 3, 2, 5, 0, 0, 0, 2, 1, 4, 8, 8, 3, 5, 4, 7,\n",
      "        6, 9, 7, 1, 4, 4, 6, 1, 6, 6, 1, 8, 3, 3, 7, 3, 2, 4, 6, 8, 8, 5, 3, 4,\n",
      "        9, 8, 2, 7, 3, 0, 3, 6, 9, 7, 5, 9, 2, 5, 6, 8, 0, 8, 8, 6, 6, 6, 3, 9,\n",
      "        4, 4, 0, 5], device='cuda:0')\n",
      "tensor([0, 4, 3, 5, 8, 6, 8, 8, 2, 0, 7, 0, 8, 8, 2, 8, 9, 4, 8, 6, 1, 2, 2, 3,\n",
      "        3, 2, 6, 9, 0, 9, 6, 9, 6, 7, 4, 8, 4, 7, 0, 3, 2, 7, 6, 5, 0, 5, 3, 4,\n",
      "        1, 4, 0, 5, 2, 7, 0, 7, 5, 6, 5, 1, 7, 9, 1, 8, 1, 8, 2, 8, 6, 2, 2, 6,\n",
      "        7, 0, 0, 6, 9, 4, 0, 2, 6, 8, 8, 0, 2, 4, 5, 0, 6, 0, 9, 6, 4, 8, 3, 1,\n",
      "        1, 6, 4, 0], device='cuda:0')\n",
      "tensor([0, 3, 7, 0, 2, 6, 4, 6, 8, 3, 0, 4, 4, 5, 7, 6, 2, 7, 4, 5, 2, 9, 7, 7,\n",
      "        1, 7, 3, 0, 1, 9, 2, 8, 2, 5, 5, 4, 1, 2, 1, 8, 2, 8, 0, 1, 9, 0, 7, 0,\n",
      "        5, 0, 7, 4, 3, 8, 7, 8, 0, 6, 3, 7, 9, 1, 8, 1, 7, 2, 9, 0, 5, 7, 6, 1,\n",
      "        7, 3, 7, 1, 0, 3, 6, 2, 2, 3, 3, 1, 1, 6, 9, 9, 4, 0, 7, 7, 2, 0, 2, 9,\n",
      "        7, 6, 6, 3], device='cuda:0')\n",
      "tensor([8, 0, 1, 9, 5, 6, 9, 7, 9, 1, 0, 5, 8, 0, 4, 3, 8, 3, 2, 2, 8, 1, 8, 1,\n",
      "        8, 5, 1, 5, 8, 3, 8, 4, 0, 6, 7, 0, 4, 8, 8, 2, 2, 2, 1, 9, 6, 0, 7, 2,\n",
      "        8, 6, 1, 7, 1, 3, 4, 3, 3, 4, 7, 0, 4, 6, 2, 5, 6, 9, 3, 3, 0, 6, 7, 1,\n",
      "        1, 2, 7, 4, 1, 4, 3, 6, 1, 6, 9, 0, 1, 1, 8, 8, 9, 8, 7, 9, 2, 0, 9, 7,\n",
      "        9, 6, 8, 8], device='cuda:0')\n",
      "tensor([8, 8, 9, 5, 9, 5, 6, 3, 3, 3, 2, 8, 8, 6, 9, 5, 3, 7, 6, 1, 6, 3, 8, 6,\n",
      "        0, 0, 8, 8, 0, 6, 6, 9, 8, 3, 3, 6, 3, 1, 8, 6, 1, 1, 2, 9, 7, 7, 4, 5,\n",
      "        9, 5, 1, 3, 2, 6, 7, 9, 9, 8, 8, 1, 9, 4, 8, 3, 8, 1, 4, 5, 5, 3, 9, 3,\n",
      "        3, 5, 1, 5, 6, 3, 3, 7, 6, 9, 1, 6, 4, 9, 7, 5, 4, 6, 0, 1, 2, 3, 1, 9,\n",
      "        1, 9, 4, 4], device='cuda:0')\n",
      "tensor([7, 4, 1, 9, 9, 6, 1, 8, 2, 6, 2, 6, 7, 3, 6, 5, 1, 7, 0, 2, 0, 0, 0, 2,\n",
      "        2, 2, 1, 1, 3, 7, 4, 1, 2, 4, 8, 9, 5, 6, 3, 3, 6, 4, 4, 3, 1, 9, 0, 0,\n",
      "        5, 1, 2, 0, 7, 6, 2, 1, 7, 7, 8, 5, 3, 6, 9, 6, 1, 5, 6, 1, 5, 3, 0, 3,\n",
      "        3, 3, 6, 8, 9, 1, 5, 2, 3, 2, 7, 3, 6, 7, 4, 8, 7, 8, 7, 7, 8, 7, 7, 8,\n",
      "        0, 9, 2, 2], device='cuda:0')\n",
      "tensor([8, 2, 2, 9, 7, 4, 0, 5, 1, 3, 2, 5, 7, 1, 2, 7, 5, 1, 2, 7, 7, 8, 2, 8,\n",
      "        9, 3, 4, 8, 0, 1, 4, 0, 2, 6, 5, 3, 7, 7, 4, 7, 4, 4, 9, 4, 6, 0, 3, 2,\n",
      "        7, 5, 1, 1, 9, 3, 0, 2, 6, 0, 8, 6, 2, 9, 3, 6, 1, 8, 1, 2, 5, 6, 4, 1,\n",
      "        3, 5, 4, 3, 0, 8, 0, 3, 9, 9, 7, 0, 7, 6, 6, 7, 6, 2, 9, 1, 6, 5, 8, 2,\n",
      "        7, 2, 6, 4], device='cuda:0')\n",
      "tensor([6, 2, 7, 6, 1, 2, 5, 0, 6, 4, 5, 0, 1, 7, 6, 0, 0, 9, 0, 3, 5, 3, 2, 6,\n",
      "        8, 6, 7, 7, 6, 2, 8, 3, 1, 7, 8, 3, 5, 2, 5, 1, 1, 8, 0, 2, 9, 4, 1, 7,\n",
      "        1, 7, 4, 5, 0, 9, 0, 9, 1, 4, 6, 1, 1, 5, 9, 7, 7, 2, 3, 4, 9, 7, 6, 9,\n",
      "        0, 1, 8, 1, 3, 8, 9, 7, 1, 9, 7, 0, 4, 3, 9, 8, 8, 3, 2, 4, 1, 3, 6, 5,\n",
      "        7, 4, 5, 5], device='cuda:0')\n",
      "tensor([1, 1, 1, 0, 3, 1, 6, 4, 7, 5, 8, 5, 6, 6, 8, 0, 1, 4, 7, 0, 1, 5, 5, 5,\n",
      "        9, 3, 0, 2, 7, 0, 7, 5, 0, 6, 3, 3, 8, 5, 2, 7, 9, 9, 1, 7, 3, 8, 8, 2,\n",
      "        2, 4, 7, 9, 2, 1, 8, 4, 1, 0, 1, 9, 9, 4, 7, 4, 6, 0, 3, 9, 5, 1, 6, 8,\n",
      "        8, 3, 6, 5, 1, 1, 3, 4, 6, 4, 9, 4, 2, 6, 0, 7, 1, 9, 5, 7, 1, 0, 9, 4,\n",
      "        6, 2, 0, 9], device='cuda:0')\n",
      "tensor([3, 1, 9, 4, 1, 1, 9, 1, 3, 5, 4, 7, 9, 0, 6, 6, 8, 1, 5, 4, 4, 6, 4, 9,\n",
      "        4, 5, 3, 1, 3, 8, 3, 9, 6, 5, 4, 2, 9, 2, 6, 3, 9, 7, 0, 8, 1, 4, 4, 5,\n",
      "        0, 1, 3, 9, 7, 5, 1, 1, 7, 3, 7, 7, 0, 6, 7, 0, 7, 6, 6, 7, 8, 0, 6, 2,\n",
      "        5, 0, 4, 5, 1, 1, 5, 8, 5, 6, 5, 9, 0, 2, 9, 3, 2, 8, 8, 0, 5, 9, 1, 2,\n",
      "        2, 0, 0, 4], device='cuda:0')\n",
      "tensor([5, 1, 9, 7, 8, 1, 7, 2, 0, 4, 0, 3, 2, 7, 0, 3, 7, 7, 0, 1, 6, 3, 2, 3,\n",
      "        4, 4, 3, 0, 9, 9, 2, 4, 0, 2, 8, 4, 5, 8, 6, 9, 4, 6, 7, 0, 8, 1, 7, 6,\n",
      "        4, 6, 3, 8, 7, 9, 2, 7, 8, 4, 7, 0, 6, 0, 9, 2, 1, 5, 7, 9, 9, 7, 7, 2,\n",
      "        4, 2, 1, 6, 4, 3, 8, 9, 7, 8, 0, 1, 6, 2, 4, 1, 5, 7, 6, 7, 0, 3, 1, 4,\n",
      "        1, 5, 6, 0], device='cuda:0')\n",
      "tensor([8, 9, 0, 9, 2, 9, 2, 3, 7, 8, 9, 3, 4, 7, 8, 0, 5, 2, 4, 1, 0, 2, 5, 3,\n",
      "        6, 3, 7, 0, 6, 0, 7, 8, 2, 8, 6, 3, 4, 6, 4, 8, 0, 1, 6, 7, 8, 5, 0, 1,\n",
      "        9, 9, 6, 5, 4, 3, 0, 1, 2, 0, 9, 0, 8, 2, 3, 4, 6, 4, 2, 2, 6, 1, 4, 0,\n",
      "        1, 6, 2, 3, 1, 4, 5, 8, 9, 7, 7, 8, 0, 1, 2, 9, 3, 7, 1, 6, 2, 9, 3, 5,\n",
      "        8, 8, 1, 6], device='cuda:0')\n",
      "tensor([5, 2, 3, 9, 5, 1, 6, 5, 0, 8, 2, 2, 3, 2, 0, 7, 6, 8, 1, 8, 1, 1, 7, 3,\n",
      "        0, 1, 7, 0, 8, 4, 7, 4, 2, 1, 7, 3, 9, 6, 8, 7, 1, 3, 9, 8, 3, 9, 9, 5,\n",
      "        5, 4, 6, 2, 1, 4, 7, 4, 3, 0, 9, 9, 0, 3, 6, 0, 6, 3, 3, 7, 7, 0, 0, 6,\n",
      "        9, 7, 8, 9, 5, 7, 7, 3, 1, 1, 9, 9, 5, 1, 1, 7, 5, 6, 9, 2, 9, 5, 0, 2,\n",
      "        1, 2, 5, 6], device='cuda:0')\n",
      "tensor([6, 8, 2, 3, 1, 9, 4, 5, 7, 2, 3, 8, 1, 9, 5, 8, 4, 8, 5, 3, 9, 3, 7, 2,\n",
      "        8, 3, 5, 9, 8, 8, 2, 7, 7, 9, 7, 7, 8, 6, 6, 1, 1, 9, 5, 4, 7, 6, 7, 6,\n",
      "        2, 6, 9, 7, 6, 9, 7, 5, 6, 2, 9, 8, 3, 1, 3, 8, 8, 4, 1, 8, 6, 0, 3, 3,\n",
      "        5, 7, 3, 2, 6, 6, 4, 4, 6, 3, 2, 8, 0, 8, 2, 4, 2, 9, 0, 9, 3, 4, 0, 4,\n",
      "        8, 5, 1, 0], device='cuda:0')\n",
      "tensor([8, 9, 6, 7, 5, 3, 8, 6, 5, 7, 8, 9, 6, 9, 6, 1, 1, 9, 9, 9, 7, 3, 7, 7,\n",
      "        1, 2, 9, 7, 3, 1, 2, 4, 9, 5, 2, 1, 2, 2, 3, 9, 4, 2, 5, 2, 5, 7, 9, 1,\n",
      "        0, 5, 0, 8, 3, 2, 7, 2, 0, 2, 3, 5, 9, 2, 6, 1, 9, 4, 0, 4, 9, 8, 3, 2,\n",
      "        0, 8, 3, 1, 4, 7, 4, 3, 9, 1, 5, 7, 2, 4, 6, 4, 9, 0, 3, 8, 8, 8, 4, 7,\n",
      "        4, 1, 8, 0], device='cuda:0')\n",
      "tensor([4, 9, 0, 3, 4, 9, 7, 4, 3, 7, 3, 1, 7, 1, 5, 2, 5, 7, 2, 6, 4, 9, 8, 7,\n",
      "        5, 0, 0, 1, 6, 9, 5, 8, 7, 7, 5, 7, 9, 5, 8, 3, 6, 7, 6, 9, 5, 3, 1, 7,\n",
      "        5, 9, 0, 1, 9, 9, 7, 7, 4, 6, 5, 2, 5, 4, 3, 4, 3, 2, 5, 1, 8, 7, 0, 7,\n",
      "        9, 8, 0, 6, 9, 3, 9, 9, 6, 2, 0, 9, 2, 8, 1, 0, 8, 3, 7, 3, 0, 9, 0, 8,\n",
      "        9, 6, 0, 3], device='cuda:0')\n",
      "tensor([3, 6, 1, 7, 2, 2, 6, 8, 8, 3, 2, 2, 0, 9, 1, 2, 1, 9, 3, 1, 6, 0, 6, 0,\n",
      "        7, 3, 9, 3, 9, 1, 8, 8, 0, 8, 9, 5, 7, 2, 1, 1, 7, 3, 4, 3, 3, 1, 5, 4,\n",
      "        4, 8, 0, 6, 9, 0, 4, 3, 4, 7, 2, 1, 3, 8, 6, 7, 2, 4, 4, 7, 4, 5, 9, 1,\n",
      "        9, 1, 6, 7, 9, 1, 3, 9, 9, 7, 2, 7, 9, 2, 8, 3, 8, 2, 7, 3, 5, 3, 8, 5,\n",
      "        9, 7, 5, 9], device='cuda:0')\n",
      "tensor([3, 6, 1, 8, 6, 8, 4, 7, 9, 5, 7, 3, 7, 9, 2, 0, 4, 6, 9, 7, 0, 3, 2, 5,\n",
      "        7, 6, 9, 0, 6, 7, 2, 2, 4, 1, 6, 7, 1, 7, 5, 1, 6, 2, 6, 6, 1, 3, 0, 2,\n",
      "        2, 6, 1, 3, 2, 4, 3, 6, 1, 0, 2, 4, 2, 1, 7, 8, 4, 9, 0, 4, 2, 1, 0, 3,\n",
      "        6, 8, 7, 8, 6, 1, 8, 5, 2, 3, 8, 8, 8, 8, 5, 7, 3, 8, 0, 0, 0, 1, 1, 2,\n",
      "        3, 6, 3, 0], device='cuda:0')\n",
      "tensor([2, 3, 9, 6, 1, 3, 6, 0, 3, 2, 7, 6, 5, 3, 2, 6, 3, 9, 8, 6, 3, 1, 5, 6,\n",
      "        0, 1, 3, 6, 6, 5, 2, 9, 8, 2, 0, 1, 8, 4, 3, 2, 2, 8, 2, 2, 4, 7, 5, 9,\n",
      "        6, 2, 4, 8, 1, 2, 4, 7, 8, 8, 1, 8, 6, 6, 0, 3, 4, 5, 8, 9, 7, 4, 8, 7,\n",
      "        2, 8, 3, 2, 8, 0, 5, 3, 8, 7, 8, 2, 1, 9, 7, 7, 2, 2, 0, 2, 8, 4, 0, 4,\n",
      "        1, 2, 1, 4], device='cuda:0')\n",
      "tensor([0, 3, 0, 7, 2, 1, 6, 8, 4, 0, 7, 3, 2, 3, 6, 0, 3, 6, 1, 6, 0, 5, 4, 6,\n",
      "        4, 5, 2, 3, 2, 0, 9, 5, 7, 4, 9, 3, 0, 6, 3, 1, 5, 7, 7, 3, 3, 4, 3, 3,\n",
      "        1, 6, 2, 9, 4, 2, 7, 8, 0, 5, 8, 0, 7, 0, 2, 3, 6, 7, 6, 3, 1, 5, 9, 7,\n",
      "        5, 9, 9, 5, 4, 8, 1, 3, 0, 0, 9, 6, 5, 0, 5, 1, 8, 9, 5, 2, 1, 1, 1, 9,\n",
      "        8, 1, 9, 4], device='cuda:0')\n",
      "tensor([0, 7, 6, 3, 5, 9, 9, 9, 2, 2, 7, 4, 0, 2, 7, 1, 0, 5, 8, 3, 9, 9, 0, 6,\n",
      "        6, 0, 3, 5, 6, 3, 2, 0, 2, 8, 0, 7, 0, 8, 3, 0, 7, 0, 7, 1, 3, 7, 3, 0,\n",
      "        2, 7, 0, 6, 7, 2, 8, 0, 6, 1, 3, 8, 6, 3, 7, 5, 6, 4, 1, 9, 0, 8, 9, 8,\n",
      "        1, 2, 4, 1, 6, 1, 3, 9, 3, 8, 5, 3, 7, 6, 9, 1, 3, 2, 9, 2, 4, 4, 4, 4,\n",
      "        0, 7, 0, 8], device='cuda:0')\n",
      "tensor([6, 9, 2, 1, 3, 9, 9, 2, 8, 4, 4, 6, 4, 7, 0, 8, 4, 9, 7, 1, 1, 9, 7, 5,\n",
      "        8, 7, 9, 7, 0, 0, 9, 9, 2, 2, 7, 1, 3, 8, 0, 6, 2, 5, 1, 9, 3, 0, 0, 2,\n",
      "        2, 9, 5, 2, 1, 7, 1, 0, 9, 9, 4, 7, 0, 7, 4, 6, 4, 5, 3, 6, 1, 1, 7, 1,\n",
      "        3, 0, 9, 0, 1, 4, 6, 4, 6, 3, 6, 8, 2, 9, 4, 8, 4, 3, 1, 0, 9, 9, 0, 7,\n",
      "        7, 0, 7, 9], device='cuda:0')\n",
      "tensor([6, 2, 8, 0, 4, 1, 3, 6, 0, 6, 9, 5, 5, 1, 0, 2, 1, 7, 4, 9, 7, 0, 3, 0,\n",
      "        4, 0, 5, 6, 3, 2, 6, 6, 9, 1, 3, 7, 9, 9, 6, 5, 5, 4, 3, 4, 6, 3, 9, 7,\n",
      "        1, 4, 7, 7, 0, 2, 0, 8, 9, 2, 8, 1, 7, 8, 9, 7, 9, 5, 2, 7, 2, 9, 6, 3,\n",
      "        0, 9, 5, 5, 9, 7, 7, 4, 3, 6, 5, 4, 2, 5, 0, 0, 2, 1, 0, 7, 0, 7, 7, 8,\n",
      "        9, 8, 8, 5], device='cuda:0')\n",
      "tensor([3, 7, 5, 5, 6, 4, 6, 8, 8, 4, 0, 5, 5, 9, 8, 4, 4, 4, 2, 7, 6, 9, 7, 1,\n",
      "        2, 9, 6, 3, 1, 9, 3, 3, 0, 4, 0, 0, 7, 5, 9, 3, 3, 0, 8, 8, 9, 9, 1, 0,\n",
      "        1, 8, 5, 1, 3, 2, 3, 1, 7, 6, 6, 1, 3, 8, 7, 1, 8, 8, 0, 2, 4, 0, 5, 7,\n",
      "        8, 8, 6, 7, 5, 0, 1, 7, 5, 3, 2, 5, 3, 9, 1, 3, 5, 2, 0, 7, 7, 3, 4, 3,\n",
      "        7, 3, 4, 8], device='cuda:0')\n",
      "tensor([6, 4, 2, 3, 6, 0, 6, 5, 1, 1, 9, 2, 5, 5, 3, 7, 9, 5, 1, 0, 1, 9, 1, 9,\n",
      "        1, 7, 1, 4, 9, 1, 6, 2, 3, 5, 8, 6, 7, 4, 0, 3, 6, 0, 3, 5, 6, 6, 0, 3,\n",
      "        7, 3, 1, 2, 6, 2, 2, 0, 7, 5, 9, 2, 8, 5, 6, 2, 1, 6, 8, 6, 4, 6, 0, 3,\n",
      "        8, 8, 6, 3, 1, 8, 8, 3, 5, 3, 6, 5, 8, 8, 3, 7, 8, 6, 9, 9, 6, 4, 2, 0,\n",
      "        5, 3, 3, 9], device='cuda:0')\n",
      "tensor([9, 2, 2, 1, 0, 2, 9, 9, 2, 0, 7, 7, 1, 3, 4, 4, 6, 7, 8, 0, 9, 5, 2, 2,\n",
      "        7, 3, 3, 2, 0, 6, 0, 2, 0, 2, 5, 4, 6, 1, 1, 0, 8, 9, 9, 9, 1, 4, 2, 0,\n",
      "        3, 9, 7, 3, 4, 3, 8, 4, 6, 3, 0, 2, 7, 2, 2, 8, 5, 3, 5, 9, 4, 5, 2, 7,\n",
      "        9, 4, 0, 0, 7, 5, 3, 4, 9, 8, 1, 6, 1, 2, 2, 1, 0, 8, 8, 6, 7, 2, 2, 5,\n",
      "        8, 8, 8, 0], device='cuda:0')\n",
      "tensor([7, 5, 2, 9, 3, 3, 7, 1, 9, 0, 7, 3, 6, 7, 7, 2, 1, 2, 7, 9, 3, 5, 7, 4,\n",
      "        6, 9, 9, 0, 2, 4, 3, 2, 9, 0, 9, 6, 8, 7, 1, 9, 0, 9, 6, 0, 9, 9, 4, 7,\n",
      "        4, 6, 7, 4, 7, 5, 8, 4, 1, 8, 4, 2, 6, 9, 1, 6, 6, 6, 2, 6, 5, 3, 1, 5,\n",
      "        8, 2, 1, 0, 2, 0, 8, 1, 3, 7, 5, 6, 1, 6, 6, 1, 3, 6, 7, 3, 2, 9, 7, 2,\n",
      "        9, 1, 9, 4], device='cuda:0')\n",
      "tensor([1, 5, 7, 4, 8, 0, 5, 0, 0, 8, 6, 1, 1, 7, 7, 8, 6, 3, 9, 8, 6, 9, 0, 1,\n",
      "        7, 0, 8, 0, 8, 6, 1, 1, 2, 6, 3, 3, 2, 8, 5, 1, 9, 2, 1, 1, 4, 3, 6, 6,\n",
      "        1, 3, 2, 1, 4, 0, 6, 1, 9, 8, 0, 2, 5, 0, 9, 6, 2, 9, 8, 8, 4, 7, 8, 2,\n",
      "        8, 3, 8, 2, 1, 0, 0, 9, 3, 9, 3, 8, 0, 8, 4, 7, 4, 1, 1, 6, 7, 4, 1, 9,\n",
      "        3, 3, 9, 2], device='cuda:0')\n",
      "tensor([9, 7, 1, 9, 0, 4, 3, 1, 7, 9, 4, 8, 2, 3, 2, 5, 9, 8, 7, 2, 6, 6, 4, 1,\n",
      "        4, 6, 8, 8, 4, 1, 8, 0, 2, 1, 6, 0, 9, 9, 9, 0, 6, 1, 0, 7, 3, 4, 4, 1,\n",
      "        9, 0, 1, 9, 6, 1, 9, 7, 5, 3, 9, 6, 9, 5, 6, 3, 1, 3, 1, 2, 7, 5, 5, 2,\n",
      "        7, 7, 3, 0, 9, 4, 2, 0, 5, 1, 3, 2, 0, 9, 9, 5, 2, 4, 8, 8, 1, 2, 0, 4,\n",
      "        0, 1, 6, 8], device='cuda:0')\n",
      "tensor([1, 4, 6, 5, 1, 2, 8, 6, 1, 1, 0, 0, 1, 3, 8, 4, 0, 5, 4, 0, 6, 1, 5, 9,\n",
      "        1, 9, 1, 4, 8, 9, 5, 7, 8, 1, 1, 2, 8, 7, 3, 1, 2, 7, 1, 0, 1, 1, 4, 2,\n",
      "        2, 2, 0, 6, 7, 5, 1, 0, 9, 3, 3, 1, 5, 9, 1, 0, 9, 9, 9, 1, 0, 0, 1, 7,\n",
      "        0, 9, 3, 1, 0, 3, 8, 1, 1, 5, 0, 5, 8, 5, 4, 5, 9, 0, 1, 4, 4, 8, 3, 7,\n",
      "        0, 2, 7, 0], device='cuda:0')\n",
      "tensor([8, 4, 9, 4, 1, 0, 1, 6, 5, 7, 1, 6, 3, 5, 0, 8, 7, 3, 8, 6, 5, 4, 3, 0,\n",
      "        5, 8, 5, 4, 3, 1, 9, 5, 4, 6, 9, 4, 6, 9, 2, 8, 5, 0, 4, 9, 1, 1, 3, 2,\n",
      "        1, 9, 8, 1, 8, 3, 4, 4, 1, 2, 0, 9, 3, 7, 4, 1, 9, 1, 6, 2, 5, 5, 2, 5,\n",
      "        6, 6, 9, 1, 2, 8, 4, 2, 3, 9, 3, 9, 7, 7, 2, 7, 6, 6, 9, 2, 1, 7, 1, 8,\n",
      "        8, 7, 6, 6], device='cuda:0')\n",
      "tensor([9, 9, 9, 4, 0, 5, 9, 1, 6, 0, 6, 3, 1, 9, 6, 8, 0, 1, 6, 6, 7, 2, 4, 3,\n",
      "        7, 7, 3, 6, 6, 8, 4, 5, 3, 5, 4, 3, 3, 5, 1, 0, 1, 3, 7, 9, 2, 4, 0, 1,\n",
      "        9, 5, 6, 3, 6, 8, 1, 5, 7, 8, 7, 8, 8, 7, 3, 0, 5, 3, 0, 0, 1, 5, 1, 6,\n",
      "        8, 2, 3, 4, 7, 8, 4, 7, 6, 2, 3, 1, 9, 0, 0, 1, 9, 0, 8, 9, 0, 9, 6, 6,\n",
      "        5, 6, 8, 3], device='cuda:0')\n",
      "tensor([9, 7, 7, 2, 3, 4, 6, 6, 0, 3, 4, 9, 1, 3, 9, 1, 2, 8, 9, 8, 9, 3, 0, 8,\n",
      "        4, 3, 4, 0, 2, 1, 0, 7, 3, 7, 0, 8, 3, 5, 5, 3, 9, 0, 9, 4, 3, 9, 6, 0,\n",
      "        1, 6, 0, 9, 4, 5, 0, 2, 7, 8, 7, 9, 2, 2, 0, 6, 8, 4, 5, 8, 0, 3, 9, 5,\n",
      "        1, 0, 9, 4, 2, 7, 2, 6, 4, 7, 8, 6, 1, 8, 3, 5, 7, 6, 8, 8, 2, 0, 4, 4,\n",
      "        9, 4, 9, 2], device='cuda:0')\n",
      "tensor([7, 6, 5, 3, 8, 7, 2, 7, 6, 9, 4, 2, 6, 8, 8, 3, 3, 9, 4, 7, 8, 7, 4, 3,\n",
      "        4, 0, 5, 8, 2, 2, 4, 5, 1, 1, 4, 3, 5, 5, 7, 9, 3, 5, 3, 8, 1, 8, 0, 5,\n",
      "        8, 6, 5, 8, 7, 0, 7, 3, 7, 0, 3, 6, 3, 2, 7, 3, 4, 2, 8, 1, 8, 3, 9, 4,\n",
      "        3, 9, 8, 4, 2, 4, 9, 4, 8, 8, 8, 7, 9, 6, 4, 5, 4, 6, 3, 9, 9, 0, 0, 1,\n",
      "        1, 9, 8, 8], device='cuda:0')\n",
      "tensor([4, 0, 4, 7, 2, 3, 9, 9, 5, 3, 1, 2, 9, 6, 5, 8, 0, 3, 0, 9, 8, 0, 6, 8,\n",
      "        3, 1, 2, 8, 8, 3, 3, 2, 2, 9, 6, 9, 3, 6, 0, 2, 1, 3, 6, 7, 2, 4, 4, 5,\n",
      "        7, 1, 0, 9, 0, 4, 5, 4, 9, 1, 9, 3, 2, 1, 9, 4, 1, 7, 4, 6, 1, 4, 6, 6,\n",
      "        3, 8, 8, 5, 1, 3, 8, 9, 9, 4, 2, 5, 0, 2, 9, 6, 0, 0, 0, 1, 6, 3, 6, 7,\n",
      "        3, 2, 2, 1], device='cuda:0')\n",
      "tensor([2, 4, 8, 0, 0, 3, 9, 2, 8, 0, 7, 1, 1, 3, 0, 0, 7, 5, 9, 7, 0, 3, 2, 4,\n",
      "        0, 1, 2, 1, 4, 9, 2, 3, 8, 7, 3, 7, 1, 3, 7, 5, 1, 6, 2, 5, 4, 8, 7, 2,\n",
      "        0, 8, 7, 2, 7, 1, 1, 9, 9, 7, 1, 5, 0, 9, 5, 8, 8, 0, 3, 0, 8, 8, 1, 7,\n",
      "        5, 4, 9, 3, 9, 3, 9, 8, 1, 4, 9, 1, 4, 0, 0, 6, 3, 7, 1, 5, 0, 7, 5, 0,\n",
      "        3, 0, 1, 3], device='cuda:0')\n",
      "tensor([3, 1, 7, 1, 5, 1, 4, 5, 2, 6, 6, 7, 1, 6, 6, 3, 8, 8, 9, 8, 9, 1, 2, 3,\n",
      "        2, 3, 8, 4, 9, 4, 2, 6, 6, 5, 3, 8, 1, 3, 2, 6, 7, 6, 9, 9, 8, 7, 7, 8,\n",
      "        9, 0, 8, 8, 5, 1, 5, 0, 7, 8, 5, 0, 2, 1, 4, 7, 5, 1, 8, 5, 4, 1, 1, 8,\n",
      "        6, 0, 1, 1, 3, 0, 5, 2, 5, 1, 6, 6, 8, 2, 4, 6, 6, 8, 6, 1, 6, 5, 5, 7,\n",
      "        5, 5, 6, 4], device='cuda:0')\n",
      "tensor([7, 3, 8, 0, 5, 4, 8, 6, 9, 7, 1, 8, 1, 0, 8, 1, 8, 5, 6, 2, 6, 2, 9, 3,\n",
      "        3, 0, 6, 8, 3, 3, 7, 7, 6, 2, 0, 8, 9, 4, 5, 7, 4, 5, 1, 2, 5, 8, 0, 0,\n",
      "        4, 1, 3, 5, 2, 0, 4, 2, 8, 3, 0, 4, 7, 9, 3, 3, 6, 5, 1, 5, 3, 1, 4, 2,\n",
      "        8, 7, 6, 6, 5, 6, 1, 4, 0, 7, 9, 0, 3, 4, 5, 4, 5, 1, 6, 5, 7, 9, 1, 1,\n",
      "        6, 8, 8, 0], device='cuda:0')\n",
      "tensor([3, 8, 8, 8, 3, 3, 3, 1, 9, 5, 4, 6, 5, 8, 8, 8, 7, 6, 9, 7, 5, 0, 6, 0,\n",
      "        0, 8, 6, 1, 6, 4, 2, 1, 9, 6, 1, 2, 0, 8, 3, 8, 0, 0, 8, 0, 9, 5, 0, 6,\n",
      "        3, 0, 6, 1, 8, 9, 4, 9, 1, 8, 6, 4, 2, 1, 7, 9, 5, 2, 0, 4, 6, 5, 2, 1,\n",
      "        1, 8, 5, 7, 8, 9, 7, 4, 0, 7, 5, 1, 7, 6, 7, 1, 4, 0, 6, 5, 6, 1, 2, 6,\n",
      "        5, 4, 6, 0], device='cuda:0')\n",
      "tensor([0, 1, 9, 4, 5, 9, 0, 2, 3, 3, 1, 0, 2, 1, 9, 8, 5, 6, 1, 4, 0, 1, 5, 7,\n",
      "        1, 6, 5, 8, 2, 8, 0, 7, 3, 9, 2, 0, 7, 8, 0, 5, 1, 4, 3, 7, 8, 4, 6, 7,\n",
      "        0, 4, 1, 3, 8, 1, 6, 3, 7, 6, 0, 1, 9, 4, 8, 5, 6, 4, 8, 9, 7, 3, 4, 1,\n",
      "        4, 3, 1, 5, 7, 1, 4, 0, 1, 3, 7, 4, 5, 2, 2, 6, 5, 4, 3, 8, 9, 2, 7, 8,\n",
      "        5, 3, 0, 9], device='cuda:0')\n",
      "tensor([9, 6, 1, 8, 2, 8, 3, 8, 9, 9, 8, 6, 8, 6, 4, 3, 3, 4, 5, 1, 5, 1, 5, 0,\n",
      "        3, 7, 8, 5, 3, 0, 9, 0, 1, 4, 8, 1, 0, 1, 5, 0, 7, 7, 4, 6, 9, 7, 8, 1,\n",
      "        5, 2, 8, 5, 8, 0, 8, 3, 9, 2, 1, 2, 6, 7, 7, 4, 5, 1, 7, 4, 0, 8, 4, 4,\n",
      "        1, 4, 3, 1, 3, 4, 0, 8, 6, 1, 5, 8, 6, 1, 2, 3, 5, 7, 9, 8, 9, 8, 4, 8,\n",
      "        6, 9, 8, 2], device='cuda:0')\n",
      "tensor([9, 0, 9, 2, 0, 1, 9, 3, 9, 9, 4, 2, 6, 1, 6, 6, 7, 0, 7, 8, 1, 4, 9, 0,\n",
      "        6, 4, 3, 6, 9, 1, 7, 9, 0, 3, 3, 3, 4, 8, 1, 3, 0, 2, 3, 8, 3, 8, 0, 0,\n",
      "        9, 5, 7, 0, 7, 7, 8, 3, 3, 6, 2, 0, 1, 7, 8, 8, 6, 5, 6, 9, 9, 6, 2, 0,\n",
      "        4, 4, 6, 6, 5, 4, 0, 9, 7, 8, 8, 2, 9, 8, 6, 6, 1, 1, 6, 5, 1, 5, 5, 0,\n",
      "        2, 7, 2, 1], device='cuda:0')\n",
      "tensor([3, 4, 7, 4, 6, 2, 6, 4, 6, 7, 7, 0, 5, 5, 5, 6, 2, 8, 3, 0, 7, 8, 7, 7,\n",
      "        2, 3, 1, 3, 8, 7, 6, 2, 7, 0, 4, 0, 3, 0, 2, 4, 6, 4, 9, 9, 7, 9, 2, 5,\n",
      "        6, 5, 0, 1, 1, 7, 2, 0, 4, 4, 4, 0, 4, 5, 5, 5, 9, 7, 9, 1, 4, 3, 0, 8,\n",
      "        3, 2, 8, 3, 6, 7, 1, 3, 9, 7, 8, 9, 8, 8, 0, 8, 1, 5, 2, 5, 3, 6, 7, 5,\n",
      "        6, 7, 2, 7], device='cuda:0')\n",
      "tensor([4, 8, 5, 3, 2, 0, 2, 1, 6, 6, 1, 4, 9, 4, 0, 2, 1, 0, 9, 3, 3, 9, 0, 0,\n",
      "        2, 2, 1, 8, 7, 8, 6, 5, 7, 6, 0, 1, 9, 4, 5, 1, 5, 3, 1, 2, 2, 5, 7, 1,\n",
      "        0, 8, 3, 6, 0, 9, 5, 4, 0, 7, 0, 7, 8, 3, 5, 6, 8, 4, 0, 8, 0, 2, 9, 3,\n",
      "        8, 7, 0, 4, 0, 1, 9, 4, 4, 7, 7, 6, 0, 1, 0, 3, 4, 6, 1, 3, 5, 1, 2, 2,\n",
      "        3, 3, 4, 4], device='cuda:0')\n",
      "tensor([2, 7, 3, 8, 0, 7, 1, 1, 5, 6, 4, 9, 6, 4, 8, 0, 3, 2, 0, 4, 3, 8, 1, 3,\n",
      "        9, 1, 7, 0, 2, 2, 7, 9, 2, 2, 9, 0, 6, 8, 0, 7, 3, 8, 6, 8, 3, 3, 1, 6,\n",
      "        3, 1, 3, 9, 8, 7, 2, 4, 6, 0, 1, 7, 2, 6, 5, 1, 3, 2, 4, 8, 9, 1, 1, 9,\n",
      "        6, 9, 4, 9, 4, 3, 3, 9, 8, 7, 8, 4, 7, 7, 0, 4, 4, 5, 8, 0, 7, 7, 6, 0,\n",
      "        0, 8, 9, 3], device='cuda:0')\n",
      "tensor([1, 8, 2, 2, 7, 9, 0, 3, 8, 6, 7, 6, 0, 7, 0, 3, 6, 5, 8, 6, 0, 9, 3, 5,\n",
      "        5, 4, 8, 7, 8, 3, 4, 0, 3, 6, 4, 7, 7, 6, 2, 3, 0, 4, 4, 1, 7, 1, 6, 0,\n",
      "        8, 9, 3, 0, 8, 9, 7, 3, 1, 9, 2, 5, 0, 7, 3, 1, 0, 3, 5, 7, 7, 4, 1, 7,\n",
      "        2, 3, 1, 1, 5, 7, 6, 9, 2, 1, 9, 1, 5, 5, 1, 2, 8, 4, 1, 4, 9, 3, 5, 7,\n",
      "        5, 4, 5, 8], device='cuda:0')\n",
      "tensor([1, 0, 4, 4, 6, 2, 4, 1, 0, 0, 0, 8, 7, 6, 5, 8, 4, 2, 3, 1, 3, 6, 1, 9,\n",
      "        1, 7, 5, 6, 7, 1, 6, 1, 8, 3, 9, 3, 9, 1, 1, 2, 5, 7, 1, 2, 2, 8, 2, 1,\n",
      "        3, 5, 4, 0, 7, 0, 8, 8, 1, 9, 3, 0, 8, 8, 6, 7, 7, 8, 5, 6, 2, 8, 2, 4,\n",
      "        4, 2, 8, 0, 6, 7, 0, 6, 2, 8, 9, 9, 3, 8, 9, 2, 8, 0, 4, 9, 7, 0, 8, 6,\n",
      "        6, 5, 3, 1], device='cuda:0')\n",
      "tensor([9, 4, 6, 4, 3, 6, 8, 1, 6, 3, 6, 7, 4, 1, 0, 2, 7, 2, 3, 7, 1, 5, 1, 9,\n",
      "        1, 8, 5, 1, 6, 3, 3, 4, 8, 1, 5, 7, 1, 3, 7, 0, 1, 4, 6, 7, 4, 7, 2, 4,\n",
      "        3, 2, 5, 1, 1, 8, 9, 3, 8, 5, 2, 1, 1, 1, 0, 7, 0, 0, 4, 1, 4, 2, 1, 9,\n",
      "        8, 9, 7, 6, 6, 2, 3, 1, 9, 5, 5, 5, 4, 2, 7, 2, 2, 9, 6, 9, 4, 2, 9, 7,\n",
      "        7, 1, 2, 7], device='cuda:0')\n",
      "tensor([1, 3, 3, 0, 8, 0, 4, 7, 5, 7, 7, 6, 2, 2, 8, 8, 0, 2, 6, 1, 7, 4, 8, 1,\n",
      "        0, 5, 0, 8, 6, 9, 2, 6, 4, 8, 8, 6, 1, 4, 0, 5, 7, 3, 0, 1, 6, 1, 7, 8,\n",
      "        3, 5, 5, 5, 8, 0, 3, 8, 0, 5, 7, 4, 8, 8, 7, 2, 4, 0, 9, 2, 2, 5, 0, 3,\n",
      "        3, 7, 9, 5, 0, 0, 2, 2, 8, 9, 1, 3, 9, 2, 3, 1, 6, 7, 3, 3, 0, 1, 4, 9,\n",
      "        6, 2, 6, 0], device='cuda:0')\n",
      "tensor([5, 9, 8, 6, 6, 9, 2, 1, 8, 0, 2, 1, 2, 6, 6, 3, 7, 0, 4, 6, 0, 3, 1, 8,\n",
      "        7, 0, 4, 7, 4, 9, 0, 9, 6, 9, 7, 9, 6, 1, 0, 1, 3, 1, 4, 6, 7, 4, 4, 9,\n",
      "        9, 9, 1, 7, 6, 9, 8, 8, 7, 8, 3, 5, 8, 1, 7, 3, 9, 9, 0, 1, 1, 0, 5, 8,\n",
      "        4, 3, 2, 3, 0, 2, 3, 0, 9, 6, 2, 5, 8, 9, 0, 6, 2, 6, 1, 5, 2, 6, 2, 1,\n",
      "        5, 6, 6, 5], device='cuda:0')\n",
      "tensor([5, 9, 6, 3, 6, 8, 8, 8, 8, 1, 9, 3, 9, 2, 5, 1, 4, 0, 6, 5, 4, 1, 4, 4,\n",
      "        7, 8, 1, 7, 1, 6, 0, 3, 8, 7, 2, 1, 1, 8, 8, 6, 4, 1, 7, 0, 7, 3, 9, 7,\n",
      "        5, 3, 0, 7, 8, 1, 4, 4, 9, 6, 4, 8, 5, 1, 4, 4, 8, 8, 0, 7, 5, 1, 8, 5,\n",
      "        3, 8, 6, 3, 0, 9, 4, 0, 7, 4, 6, 2, 8, 2, 4, 0, 6, 3, 2, 3, 8, 0, 2, 0,\n",
      "        6, 5, 7, 6], device='cuda:0')\n",
      "tensor([6, 7, 1, 8, 5, 2, 0, 8, 5, 4, 7, 9, 3, 7, 4, 5, 7, 9, 1, 4, 0, 6, 9, 9,\n",
      "        9, 8, 0, 8, 7, 6, 2, 0, 9, 8, 9, 0, 0, 9, 7, 2, 5, 7, 1, 2, 9, 9, 4, 9,\n",
      "        2, 9, 7, 3, 2, 9, 6, 7, 6, 0, 2, 7, 2, 2, 7, 3, 3, 4, 1, 3, 1, 9, 1, 7,\n",
      "        6, 0, 8, 1, 2, 9, 0, 4, 3, 8, 6, 8, 3, 8, 1, 8, 4, 4, 4, 2, 3, 3, 4, 0,\n",
      "        1, 0, 9, 7], device='cuda:0')\n",
      "tensor([2, 3, 7, 1, 4, 6, 2, 1, 1, 0, 8, 2, 8, 0, 1, 8, 0, 2, 6, 1, 5, 8, 0, 5,\n",
      "        8, 7, 4, 8, 7, 0, 9, 7, 5, 3, 7, 7, 7, 4, 6, 9, 9, 6, 7, 2, 7, 9, 1, 8,\n",
      "        6, 8, 7, 0, 6, 1, 7, 4, 3, 2, 8, 0, 8, 8, 5, 4, 9, 8, 5, 6, 0, 7, 6, 6,\n",
      "        1, 7, 4, 4, 8, 3, 7, 5, 1, 0, 9, 6, 3, 3, 6, 9, 4, 3, 3, 2, 6, 1, 0, 3,\n",
      "        8, 8, 5, 0], device='cuda:0')\n",
      "tensor([8, 5, 8, 3, 5, 4, 1, 9, 7, 3, 3, 6, 0, 0, 8, 5, 1, 0, 7, 3, 3, 9, 0, 8,\n",
      "        2, 3, 2, 9, 9, 2, 8, 8, 8, 5, 1, 5, 9, 6, 6, 1, 4, 2, 4, 5, 6, 4, 5, 7,\n",
      "        9, 4, 6, 4, 2, 2, 3, 6, 3, 3, 7, 9, 8, 0, 9, 8, 0, 8, 5, 3, 4, 3, 8, 4,\n",
      "        8, 8, 8, 1, 2, 3, 6, 4, 8, 1, 5, 4, 0, 9, 5, 7, 8, 4, 5, 5, 5, 5, 0, 3,\n",
      "        8, 7, 7, 6], device='cuda:0')\n",
      "tensor([3, 9, 5, 8, 4, 6, 2, 2, 6, 9, 9, 9, 0, 4, 7, 7, 1, 6, 4, 1, 6, 4, 3, 5,\n",
      "        2, 6, 6, 0, 4, 9, 3, 2, 0, 8, 0, 6, 9, 8, 3, 5, 9, 5, 0, 3, 5, 4, 6, 6,\n",
      "        3, 4, 5, 6, 4, 9, 8, 5, 4, 5, 2, 8, 4, 1, 4, 7, 9, 0, 1, 1, 0, 3, 4, 6,\n",
      "        6, 5, 1, 6, 1, 7, 1, 1, 3, 4, 3, 0, 1, 8, 9, 3, 9, 9, 1, 0, 9, 3, 6, 1,\n",
      "        3, 2, 4, 7], device='cuda:0')\n",
      "tensor([1, 2, 6, 2, 6, 6, 8, 8, 0, 2, 2, 6, 8, 3, 9, 9, 8, 3, 5, 8, 9, 7, 0, 2,\n",
      "        4, 5, 0, 0, 7, 1, 4, 2, 2, 1, 9, 5, 6, 2, 5, 7, 2, 7, 3, 0, 2, 3, 9, 7,\n",
      "        1, 3, 5, 9, 4, 9, 2, 8, 8, 1, 2, 6, 4, 7, 5, 3, 8, 0, 4, 1, 8, 2, 6, 9,\n",
      "        3, 8, 7, 3, 8, 4, 5, 8, 4, 9, 5, 6, 6, 5, 6, 0, 4, 3, 2, 5, 9, 7, 9, 8,\n",
      "        1, 5, 0, 1], device='cuda:0')\n",
      "tensor([6, 9, 6, 8, 0, 4, 2, 1, 0, 3, 2, 0, 7, 9, 8, 9, 6, 9, 8, 8, 7, 6, 7, 7,\n",
      "        7, 2, 2, 5, 9, 9, 1, 3, 7, 6, 1, 3, 1, 6, 0, 7, 1, 1, 6, 7, 8, 6, 7, 9,\n",
      "        5, 8, 4, 2, 7, 6, 0, 6, 8, 6, 6, 3, 1, 6, 8, 0, 4, 9, 5, 8, 2, 3, 1, 3,\n",
      "        6, 6, 1, 3, 9, 5, 6, 2, 0, 8, 0, 0, 8, 6, 0, 8, 1, 8, 0, 7, 4, 9, 2, 8,\n",
      "        3, 5, 4, 7], device='cuda:0')\n",
      "tensor([9, 6, 9, 2, 9, 3, 2, 7, 6, 9, 1, 1, 0, 3, 1, 7, 2, 8, 2, 7, 0, 6, 5, 1,\n",
      "        9, 3, 5, 1, 5, 0, 1, 1, 4, 7, 0, 2, 1, 5, 9, 6, 2, 1, 0, 9, 8, 7, 6, 2,\n",
      "        1, 0, 2, 8, 6, 4, 5, 8, 8, 1, 9, 0, 2, 5, 7, 6, 2, 4, 0, 6, 8, 8, 1, 8,\n",
      "        9, 9, 5, 3, 1, 7, 1, 7, 7, 4, 2, 4, 3, 5, 5, 2, 3, 3, 7, 1, 1, 2, 1, 9,\n",
      "        9, 2, 0, 7], device='cuda:0')\n",
      "tensor([3, 6, 2, 1, 8, 2, 9, 6, 0, 6, 3, 0, 5, 4, 9, 3, 7, 2, 4, 4, 2, 4, 0, 5,\n",
      "        8, 6, 7, 5, 9, 6, 8, 4, 9, 2, 5, 4, 4, 4, 0, 1, 3, 0, 3, 5, 0, 5, 0, 0,\n",
      "        8, 4, 8, 1, 1, 0, 4, 3, 1, 8, 1, 0, 4, 7, 0, 0, 1, 7, 7, 0, 7, 4, 0, 4,\n",
      "        1, 8, 9, 2, 9, 6, 1, 6, 4, 5, 8, 5, 3, 2, 7, 3, 5, 1, 3, 6, 9, 2, 8, 9,\n",
      "        7, 9, 2, 4], device='cuda:0')\n",
      "tensor([2, 8, 9, 3, 0, 9, 7, 6, 3, 0, 0, 1, 7, 6, 3, 6, 1, 4, 7, 9, 6, 6, 4, 0,\n",
      "        6, 4, 1, 0, 2, 4, 1, 0, 1, 6, 1, 1, 1, 1, 0, 8, 8, 2, 8, 7, 8, 4, 1, 8,\n",
      "        2, 2, 4, 7, 3, 4, 9, 7, 7, 2, 2, 7, 6, 2, 0, 9, 4, 3, 4, 2, 8, 9, 8, 6,\n",
      "        3, 4, 1, 9, 5, 4, 8, 3, 1, 9, 5, 8, 3, 9, 9, 9, 8, 5, 0, 6, 0, 5, 5, 7,\n",
      "        2, 5, 5, 3], device='cuda:0')\n",
      "tensor([1, 1, 1, 7, 4, 2, 8, 2, 0, 9, 8, 4, 7, 3, 2, 3, 9, 6, 6, 8, 8, 6, 2, 1,\n",
      "        2, 0, 0, 7, 8, 9, 7, 0, 4, 3, 8, 9, 0, 3, 1, 7, 9, 6, 0, 3, 1, 8, 3, 5,\n",
      "        6, 3, 7, 7, 7, 0, 9, 8, 7, 8, 7, 6, 5, 5, 6, 3, 1, 6, 7, 6, 6, 5, 4, 6,\n",
      "        4, 3, 5, 1, 1, 4, 5, 7, 8, 4, 6, 6, 9, 2, 0, 1, 2, 3, 6, 6, 1, 9, 6, 4,\n",
      "        4, 4, 1, 9], device='cuda:0')\n",
      "tensor([7, 7, 4, 5, 8, 2, 3, 4, 4, 4, 6, 4, 3, 3, 3, 3, 9, 0, 9, 5, 2, 9, 4, 9,\n",
      "        9, 9, 3, 6, 0, 7, 1, 4, 2, 9, 4, 4, 1, 3, 4, 8, 1, 1, 0, 3, 2, 1, 6, 2,\n",
      "        0, 1, 8, 2, 8, 1, 7, 9, 3, 1, 2, 9, 6, 5, 5, 0, 7, 5, 7, 6, 7, 7, 7, 1,\n",
      "        5, 4, 4, 6, 0, 7, 5, 4, 3, 6, 7, 3, 2, 2, 9, 8, 7, 0, 3, 7, 7, 7, 2, 9,\n",
      "        3, 7, 1, 2], device='cuda:0')\n",
      "tensor([5, 9, 2, 3, 9, 2, 3, 3, 4, 4, 9, 9, 0, 8, 4, 4, 7, 2, 8, 7, 0, 4, 0, 2,\n",
      "        2, 0, 4, 5, 8, 3, 4, 8, 1, 5, 8, 3, 0, 2, 1, 7, 5, 7, 9, 3, 2, 3, 6, 4,\n",
      "        6, 7, 6, 9, 0, 5, 5, 1, 8, 9, 0, 3, 0, 3, 7, 4, 6, 9, 2, 4, 6, 6, 5, 6,\n",
      "        4, 4, 4, 8, 9, 3, 1, 8, 7, 6, 5, 2, 9, 1, 2, 1, 3, 8, 7, 0, 3, 6, 6, 4,\n",
      "        1, 3, 5, 7], device='cuda:0')\n",
      "tensor([2, 6, 1, 6, 1, 2, 3, 8, 5, 2, 1, 9, 8, 2, 0, 6, 9, 2, 8, 1, 1, 5, 8, 6,\n",
      "        2, 7, 8, 2, 4, 8, 5, 6, 7, 2, 2, 1, 7, 5, 2, 5, 8, 3, 5, 6, 7, 8, 6, 6,\n",
      "        0, 2, 0, 2, 8, 4, 0, 4, 1, 4, 9, 1, 9, 8, 8, 3, 5, 2, 3, 1, 5, 6, 4, 6,\n",
      "        7, 1, 7, 4, 9, 4, 2, 9, 8, 4, 4, 0, 1, 1, 3, 7, 4, 1, 6, 5, 2, 8, 7, 0,\n",
      "        1, 5, 4, 3], device='cuda:0')\n",
      "tensor([0, 7, 3, 4, 2, 4, 9, 3, 5, 6, 5, 3, 7, 4, 3, 2, 6, 6, 7, 0, 6, 3, 7, 5,\n",
      "        6, 5, 5, 2, 1, 5, 3, 2, 8, 1, 9, 0, 5, 1, 2, 3, 5, 7, 5, 5, 0, 2, 1, 3,\n",
      "        4, 2, 3, 3, 3, 2, 8, 6, 1, 4, 7, 9, 1, 4, 2, 5, 7, 5, 9, 1, 8, 8, 0, 4,\n",
      "        6, 9, 5, 0, 2, 1, 0, 5, 6, 8, 5, 7, 9, 3, 5, 4, 2, 6, 8, 4, 3, 8, 9, 2,\n",
      "        9, 3, 6, 8], device='cuda:0')\n",
      "tensor([8, 0, 3, 3, 4, 8, 7, 8, 8, 5, 3, 6, 8, 3, 7, 3, 0, 2, 9, 8, 7, 7, 7, 2,\n",
      "        9, 4, 3, 4, 7, 9, 6, 7, 3, 2, 0, 2, 1, 8, 7, 6, 2, 2, 7, 2, 8, 3, 0, 2,\n",
      "        7, 1, 9, 2, 3, 8, 3, 6, 0, 6, 5, 3, 3, 9, 3, 7, 0, 1, 6, 1, 3, 9, 4, 7,\n",
      "        9, 1, 5, 4, 9, 3, 3, 8, 7, 8, 6, 7, 6, 4, 2, 1, 7, 2, 2, 0, 4, 3, 2, 8,\n",
      "        5, 0, 4, 1], device='cuda:0')\n",
      "tensor([2, 3, 7, 6, 0, 3, 7, 6, 1, 5, 2, 4, 0, 8, 1, 9, 7, 0, 5, 7, 9, 5, 8, 5,\n",
      "        7, 7, 3, 6, 9, 0, 4, 4, 0, 5, 8, 6, 2, 3, 9, 0, 1, 6, 9, 2, 3, 8, 2, 6,\n",
      "        5, 2, 5, 1, 6, 9, 3, 9, 6, 9, 1, 1, 3, 6, 9, 2, 7, 1, 9, 3, 4, 1, 8, 2,\n",
      "        8, 4, 6, 0, 2, 9, 8, 8, 7, 9, 9, 5, 2, 4, 3, 5, 3, 2, 3, 3, 4, 0, 6, 2,\n",
      "        4, 3, 8, 4], device='cuda:0')\n",
      "tensor([8, 1, 6, 2, 2, 6, 9, 5, 7, 6, 7, 0, 6, 7, 8, 1, 6, 7, 7, 6, 7, 5, 3, 3,\n",
      "        9, 1, 3, 4, 8, 1, 9, 4, 1, 9, 6, 5, 7, 4, 4, 2, 4, 6, 4, 0, 3, 1, 0, 9,\n",
      "        8, 6, 0, 6, 7, 7, 8, 2, 4, 5, 5, 9, 5, 3, 2, 7, 6, 3, 5, 2, 7, 1, 3, 4,\n",
      "        9, 1, 8, 4, 4, 4, 4, 4, 5, 1, 1, 2, 2, 0, 0, 4, 9, 3, 7, 8, 9, 1, 2, 1,\n",
      "        3, 2, 5, 1], device='cuda:0')\n",
      "tensor([1, 6, 9, 2, 7, 8, 8, 1, 1, 4, 3, 9, 5, 4, 5, 3, 2, 0, 6, 3, 8, 6, 3, 4,\n",
      "        3, 6, 5, 0, 0, 8, 0, 4, 1, 2, 8, 3, 8, 5, 0, 3, 2, 3, 1, 7, 6, 7, 1, 9,\n",
      "        8, 2, 1, 8, 1, 1, 6, 9, 8, 3, 1, 9, 1, 1, 1, 4, 8, 8, 7, 0, 4, 8, 8, 0,\n",
      "        8, 0, 9, 7, 3, 7, 0, 3, 7, 6, 5, 0, 7, 5, 3, 8, 8, 0, 8, 9, 1, 7, 6, 4,\n",
      "        7, 0, 6, 0], device='cuda:0')\n",
      "tensor([4, 2, 8, 9, 9, 5, 2, 7, 8, 6, 9, 1, 1, 9, 6, 8, 6, 7, 5, 0, 4, 6, 6, 1,\n",
      "        2, 1, 8, 2, 8, 4, 2, 5, 1, 2, 8, 1, 1, 8, 7, 4, 8, 7, 0, 3, 3, 6, 5, 0,\n",
      "        4, 1, 7, 4, 1, 9, 1, 5, 8, 4, 8, 7, 0, 5, 7, 1, 2, 1, 0, 8, 2, 0, 8, 8,\n",
      "        4, 2, 9, 6, 7, 3, 0, 8, 6, 7, 9, 2, 1, 0, 0, 7, 2, 0, 7, 1, 8, 1, 4, 2,\n",
      "        3, 8, 7, 0], device='cuda:0')\n",
      "tensor([4, 6, 3, 8, 1, 9, 3, 0, 8, 8, 2, 1, 5, 3, 7, 6, 5, 0, 4, 2, 5, 7, 1, 0,\n",
      "        6, 8, 2, 8, 3, 4, 8, 6, 8, 1, 4, 0, 7, 5, 6, 3, 8, 0, 4, 9, 4, 1, 3, 4,\n",
      "        3, 0, 5, 9, 1, 9, 7, 5, 1, 8, 5, 1, 8, 7, 0, 0, 6, 7, 5, 9, 1, 8, 8, 7,\n",
      "        8, 4, 3, 7, 7, 8, 8, 6, 9, 5, 5, 9, 2, 9, 6, 9, 8, 0, 7, 7, 4, 3, 2, 1,\n",
      "        0, 2, 4, 4], device='cuda:0')\n",
      "tensor([2, 7, 4, 6, 3, 4, 4, 8, 1, 2, 3, 7, 6, 4, 1, 4, 9, 6, 5, 2, 2, 8, 8, 7,\n",
      "        5, 2, 3, 8, 9, 2, 0, 9, 1, 5, 5, 4, 1, 6, 8, 6, 3, 5, 9, 3, 1, 5, 7, 8,\n",
      "        7, 9, 8, 7, 4, 1, 9, 8, 0, 3, 7, 4, 3, 4, 1, 8, 8, 5, 4, 8, 7, 3, 0, 5,\n",
      "        2, 1, 9, 3, 2, 2, 5, 4, 6, 3, 2, 3, 8, 4, 0, 1, 1, 2, 0, 9, 9, 4, 4, 6,\n",
      "        1, 7, 0, 5], device='cuda:0')\n",
      "tensor([1, 0, 7, 8, 9, 1, 1, 7, 2, 7, 1, 2, 3, 4, 4, 6, 3, 4, 1, 7, 1, 0, 9, 1,\n",
      "        4, 7, 5, 5, 8, 3, 6, 7, 0, 3, 1, 3, 7, 6, 5, 7, 0, 0, 9, 9, 2, 0, 5, 3,\n",
      "        1, 2, 6, 5, 1, 7, 2, 3, 3, 2, 5, 3, 6, 0, 0, 2, 1, 1, 0, 2, 9, 6, 5, 1,\n",
      "        4, 7, 3, 9, 1, 6, 4, 6, 4, 6, 8, 0, 2, 1, 7, 5, 7, 8, 8, 1, 3, 4, 7, 7,\n",
      "        6, 2, 6, 6], device='cuda:0')\n",
      "tensor([5, 1, 6, 3, 7, 3, 6, 1, 7, 8, 4, 7, 9, 5, 3, 8, 4, 0, 4, 2, 7, 4, 1, 2,\n",
      "        5, 4, 3, 9, 9, 2, 3, 0, 1, 1, 2, 4, 8, 6, 3, 2, 3, 8, 3, 6, 2, 7, 3, 3,\n",
      "        6, 4, 4, 9, 5, 8, 6, 2, 4, 7, 4, 5, 7, 0, 2, 6, 1, 0, 5, 2, 6, 2, 0, 4,\n",
      "        1, 1, 0, 4, 4, 0, 0, 3, 1, 2, 3, 7, 7, 6, 4, 6, 5, 2, 4, 5, 3, 4, 9, 0,\n",
      "        6, 6, 7, 2], device='cuda:0')\n",
      "tensor([9, 1, 8, 8, 2, 0, 1, 4, 4, 7, 1, 2, 2, 2, 1, 5, 3, 6, 6, 6, 3, 7, 5, 5,\n",
      "        7, 1, 4, 1, 5, 5, 5, 7, 1, 9, 2, 8, 1, 5, 3, 0, 6, 7, 4, 4, 8, 9, 7, 7,\n",
      "        4, 4, 8, 2, 2, 3, 4, 8, 3, 0, 7, 8, 2, 9, 3, 5, 8, 4, 2, 7, 4, 3, 5, 5,\n",
      "        2, 8, 8, 5, 2, 3, 4, 4, 6, 3, 1, 9, 3, 8, 9, 9, 2, 0, 3, 0, 3, 1, 6, 8,\n",
      "        5, 9, 7, 5], device='cuda:0')\n",
      "tensor([0, 4, 7, 9, 5, 8, 0, 3, 8, 2, 5, 3, 9, 4, 4, 9, 1, 3, 5, 3, 1, 5, 4, 3,\n",
      "        9, 1, 1, 7, 2, 0, 7, 1, 9, 4, 2, 3, 3, 1, 1, 0, 0, 2, 3, 4, 2, 2, 2, 0,\n",
      "        1, 2, 0, 8, 4, 6, 7, 1, 4, 8, 0, 3, 9, 8, 3, 1, 5, 3, 2, 8, 7, 2, 5, 0,\n",
      "        7, 3, 3, 5, 7, 0, 5, 3, 3, 6, 5, 2, 8, 8, 1, 8, 1, 3, 9, 7, 7, 0, 0, 8,\n",
      "        7, 8, 6, 9], device='cuda:0')\n",
      "tensor([5, 2, 7, 7, 6, 9, 8, 0, 0, 3, 7, 7, 1, 1, 7, 2, 5, 5, 3, 8, 3, 7, 0, 0,\n",
      "        9, 1, 6, 3, 1, 9, 4, 9, 7, 4, 4, 5, 0, 1, 9, 8, 7, 0, 0, 4, 5, 8, 1, 8,\n",
      "        9, 0, 0, 2, 1, 2, 3, 6, 4, 0, 2, 6, 1, 9, 0, 6, 3, 1, 9, 0, 3, 8, 8, 5,\n",
      "        5, 5, 7, 1, 2, 1, 9, 6, 4, 1, 5, 8, 6, 0, 3, 4, 8, 3, 8, 9, 7, 5, 6, 9,\n",
      "        9, 8, 2, 1], device='cuda:0')\n",
      "tensor([5, 0, 0, 9, 6, 6, 5, 9, 4, 7, 7, 8, 2, 8, 4, 9, 7, 9, 1, 3, 0, 1, 4, 9,\n",
      "        4, 2, 8, 7, 5, 3, 7, 5, 1, 3, 3, 7, 1, 5, 3, 1, 7, 8, 2, 1, 6, 9, 5, 1,\n",
      "        4, 4, 3, 0, 9, 2, 2, 1, 9, 8, 4, 9, 6, 2, 0, 8, 5, 9, 9, 7, 5, 4, 0, 2,\n",
      "        6, 0, 4, 2, 7, 8, 1, 2, 8, 1, 8, 1, 1, 7, 7, 7, 4, 4, 8, 4, 4, 9, 5, 4,\n",
      "        3, 7, 3, 7], device='cuda:0')\n",
      "tensor([9, 1, 1, 3, 3, 5, 0, 9, 8, 2, 0, 8, 3, 6, 2, 1, 2, 8, 4, 7, 7, 5, 1, 2,\n",
      "        5, 2, 2, 8, 3, 9, 5, 8, 1, 5, 6, 8, 1, 2, 2, 4, 0, 9, 0, 7, 0, 7, 3, 5,\n",
      "        2, 2, 0, 8, 8, 2, 5, 0, 7, 1, 8, 9, 3, 8, 1, 8, 4, 7, 5, 9, 8, 1, 4, 6,\n",
      "        0, 9, 5, 0, 9, 1, 2, 3, 9, 0, 7, 2, 1, 1, 9, 1, 4, 4, 5, 9, 5, 8, 8, 4,\n",
      "        0, 9, 9, 8], device='cuda:0')\n",
      "tensor([4, 0, 1, 1, 8, 7, 4, 0, 1, 8, 6, 1, 2, 3, 2, 5, 9, 6, 7, 7, 0, 6, 4, 4,\n",
      "        1, 0, 7, 3, 6, 0, 5, 8, 6, 1, 6, 9, 5, 3, 7, 4, 2, 6, 3, 4, 4, 4, 7, 9,\n",
      "        0, 0, 6, 0, 7, 8, 9, 1, 7, 6, 7, 2, 5, 5, 9, 7, 6, 3, 0, 1, 6, 8, 0, 8,\n",
      "        2, 8, 8, 4, 1, 9, 0, 6, 1, 2, 1, 0, 6, 7, 7, 9, 8, 1, 9, 1, 9, 9, 0, 1,\n",
      "        3, 8, 7, 7], device='cuda:0')\n",
      "tensor([9, 0, 3, 1, 9, 1, 7, 5, 6, 5, 1, 2, 1, 1, 2, 5, 9, 7, 5, 3, 2, 5, 3, 9,\n",
      "        4, 3, 3, 4, 3, 8, 4, 4, 5, 4, 0, 2, 9, 0, 7, 5, 0, 0, 1, 8, 9, 4, 3, 5,\n",
      "        2, 8, 7, 0, 2, 2, 6, 7, 7, 4, 8, 2, 4, 9, 4, 7, 2, 9, 7, 3, 9, 7, 0, 6,\n",
      "        2, 3, 3, 7, 9, 2, 8, 4, 5, 1, 5, 4, 5, 2, 2, 5, 4, 2, 9, 0, 9, 9, 3, 4,\n",
      "        4, 7, 1, 6], device='cuda:0')\n",
      "tensor([2, 2, 9, 7, 1, 7, 7, 0, 2, 4, 2, 4, 0, 6, 1, 8, 4, 7, 4, 8, 8, 6, 2, 2,\n",
      "        0, 3, 0, 1, 1, 3, 7, 8, 1, 7, 5, 2, 9, 1, 5, 8, 2, 2, 1, 6, 2, 7, 4, 9,\n",
      "        5, 8, 9, 6, 5, 3, 7, 3, 1, 0, 2, 5, 1, 1, 0, 8, 4, 4, 8, 9, 6, 0, 7, 1,\n",
      "        8, 6, 2, 8, 2, 6, 5, 5, 6, 7, 8, 1, 9, 9, 6, 3, 6, 9, 2, 6, 1, 4, 0, 3,\n",
      "        3, 1, 5, 4], device='cuda:0')\n",
      "tensor([6, 2, 0, 9, 0, 6, 9, 8, 3, 9, 5, 2, 5, 5, 8, 9, 8, 8, 6, 3, 8, 2, 8, 1,\n",
      "        3, 7, 5, 4, 8, 1, 1, 2, 3, 9, 0, 9, 6, 6, 7, 7, 7, 4, 2, 8, 4, 8, 6, 3,\n",
      "        1, 8, 8, 3, 0, 6, 6, 3, 5, 8, 6, 9, 6, 3, 6, 8, 4, 0, 3, 9, 4, 0, 6, 9,\n",
      "        7, 1, 3, 9, 5, 5, 8, 5, 3, 7, 7, 0, 1, 5, 6, 8, 0, 6, 5, 1, 4, 9, 1, 6,\n",
      "        8, 6, 4, 7], device='cuda:0')\n",
      "tensor([8, 0, 8, 3, 5, 0, 2, 8, 7, 1, 3, 5, 9, 1, 4, 7, 2, 9, 4, 0, 4, 3, 3, 6,\n",
      "        9, 2, 7, 1, 4, 6, 7, 4, 3, 8, 2, 4, 7, 1, 1, 1, 9, 7, 4, 9, 9, 6, 1, 8,\n",
      "        3, 3, 2, 7, 4, 5, 7, 4, 5, 0, 8, 3, 2, 0, 3, 9, 8, 2, 0, 0, 4, 6, 3, 5,\n",
      "        9, 3, 0, 4, 4, 9, 9, 8, 7, 3, 9, 6, 0, 1, 7, 5, 9, 0, 6, 4, 2, 7, 9, 3,\n",
      "        6, 4, 9, 1], device='cuda:0')\n",
      "tensor([1, 3, 6, 6, 1, 1, 7, 4, 0, 8, 1, 6, 7, 0, 3, 6, 6, 1, 3, 2, 4, 2, 9, 4,\n",
      "        8, 3, 3, 7, 1, 6, 5, 8, 2, 4, 8, 4, 4, 7, 5, 4, 7, 9, 4, 3, 3, 2, 8, 1,\n",
      "        5, 1, 4, 3, 7, 7, 7, 7, 7, 9, 0, 7, 4, 6, 0, 1, 3, 0, 2, 3, 9, 8, 4, 8,\n",
      "        6, 1, 0, 1, 8, 0, 7, 7, 7, 6, 1, 9, 5, 9, 5, 8, 4, 3, 8, 6, 8, 9, 3, 5,\n",
      "        3, 6, 5, 2], device='cuda:0')\n",
      "tensor([1, 8, 7, 1, 8, 0, 6, 5, 9, 5, 8, 2, 0, 0, 1, 1, 0, 2, 0, 0, 3, 7, 6, 9,\n",
      "        2, 2, 4, 6, 2, 6, 4, 6, 2, 8, 8, 7, 0, 6, 2, 5, 0, 4, 4, 2, 1, 5, 4, 9,\n",
      "        9, 7, 2, 8, 8, 1, 9, 4, 6, 4, 4, 8, 3, 7, 0, 3, 1, 4, 4, 9, 1, 6, 8, 7,\n",
      "        1, 3, 9, 4, 0, 6, 4, 7, 9, 1, 4, 1, 9, 2, 8, 0, 7, 0, 7, 0, 0, 7, 5, 2,\n",
      "        5, 3, 4, 9], device='cuda:0')\n",
      "tensor([0, 4, 8, 0, 1, 1, 7, 1, 7, 1, 1, 6, 0, 7, 0, 7, 9, 6, 4, 8, 1, 3, 5, 5,\n",
      "        4, 7, 7, 7, 5, 2, 0, 4, 1, 3, 8, 0, 8, 1, 9, 9, 1, 3, 3, 5, 6, 4, 6, 3,\n",
      "        7, 7, 0, 0, 7, 1, 8, 5, 8, 8, 2, 3, 0, 2, 1, 6, 1, 0, 2, 2, 1, 6, 6, 9,\n",
      "        1, 2, 9, 7, 9, 1, 6, 6, 9, 4, 3, 2, 5, 2, 1, 9, 5, 5, 9, 7, 3, 0, 0, 5,\n",
      "        0, 7, 6, 1], device='cuda:0')\n",
      "tensor([8, 0, 9, 9, 6, 4, 7, 1, 3, 1, 1, 4, 0, 3, 1, 6, 4, 3, 7, 1, 1, 0, 3, 6,\n",
      "        3, 4, 6, 3, 5, 7, 2, 9, 3, 4, 7, 9, 9, 4, 9, 2, 3, 9, 6, 9, 2, 1, 2, 6,\n",
      "        5, 8, 5, 5, 3, 2, 4, 1, 2, 4, 1, 3, 4, 2, 2, 9, 7, 4, 6, 5, 7, 9, 0, 6,\n",
      "        4, 4, 6, 1, 9, 2, 8, 9, 7, 1, 1, 8, 0, 3, 5, 8, 9, 6, 8, 0, 1, 2, 7, 2,\n",
      "        9, 0, 1, 0], device='cuda:0')\n",
      "tensor([1, 5, 8, 8, 1, 1, 0, 5, 7, 0, 6, 3, 6, 6, 2, 7, 4, 9, 9, 7, 3, 6, 4, 8,\n",
      "        0, 7, 2, 6, 9, 0, 5, 5, 6, 4, 7, 5, 9, 2, 4, 0, 6, 0, 3, 2, 9, 2, 0, 8,\n",
      "        3, 0, 1, 2, 4, 5, 4, 1, 7, 7, 1, 0, 9, 1, 7, 6, 6, 4, 6, 7, 5, 3, 9, 4,\n",
      "        9, 8, 0, 9, 8, 4, 9, 9, 3, 8, 3, 3, 9, 0, 0, 9, 3, 0, 5, 1, 0, 3, 3, 3,\n",
      "        3, 1, 4, 2], device='cuda:0')\n",
      "tensor([4, 1, 9, 3, 6, 9, 0, 6, 8, 5, 7, 0, 8, 2, 4, 0, 6, 0, 9, 6, 7, 7, 7, 2,\n",
      "        1, 5, 8, 1, 0, 7, 2, 0, 3, 2, 4, 2, 1, 3, 0, 7, 4, 4, 3, 9, 1, 3, 9, 7,\n",
      "        1, 1, 8, 2, 7, 8, 3, 6, 0, 6, 7, 5, 0, 8, 3, 9, 3, 3, 9, 6, 1, 4, 4, 9,\n",
      "        4, 7, 1, 4, 9, 3, 8, 9, 9, 9, 0, 5, 8, 2, 7, 1, 3, 9, 3, 9, 6, 5, 0, 3,\n",
      "        5, 0, 3, 1], device='cuda:0')\n",
      "tensor([3, 2, 4, 8, 3, 1, 2, 1, 8, 2, 3, 4, 1, 6, 1, 8, 2, 4, 8, 4, 3, 8, 3, 2,\n",
      "        3, 8, 8, 2, 2, 4, 1, 8, 3, 2, 8, 0, 3, 5, 7, 2, 4, 7, 2, 7, 5, 3, 7, 1,\n",
      "        0, 7, 8, 7, 2, 8, 1, 8, 8, 2, 7, 5, 2, 1, 3, 3, 8, 1, 1, 7, 7, 0, 9, 0,\n",
      "        2, 8, 1, 0, 6, 0, 8, 5, 7, 5, 6, 9, 8, 1, 0, 5, 2, 8, 1, 0, 3, 8, 1, 9,\n",
      "        6, 6, 1, 9], device='cuda:0')\n",
      "tensor([7, 7, 1, 9, 0, 9, 8, 8, 1, 9, 8, 4, 8, 4, 7, 2, 2, 3, 2, 9, 5, 7, 8, 8,\n",
      "        8, 5, 9, 1, 0, 2, 4, 0, 3, 3, 6, 3, 1, 8, 7, 2, 4, 1, 0, 4, 0, 9, 8, 1,\n",
      "        1, 7, 5, 9, 6, 3, 0, 1, 6, 4, 0, 6, 8, 9, 1, 2, 7, 4, 3, 4, 3, 7, 2, 1,\n",
      "        0, 4, 4, 4, 7, 1, 4, 2, 9, 3, 9, 2, 6, 4, 9, 7, 8, 0, 8, 8, 1, 7, 1, 8,\n",
      "        3, 7, 2, 1], device='cuda:0')\n",
      "Acc: 92.32\n"
     ]
    }
   ],
   "source": [
    "# model testing\n",
    "\n",
    "with torch.no_grad():\n",
    "    correct = 0\n",
    "    total = 0\n",
    "\n",
    "    for images, labels in test_loader:\n",
    "        images = images.reshape(-1, 28*28).to('cuda')\n",
    "        labels = labels.to('cuda')\n",
    "        outputs = model(images)\n",
    "\n",
    "        _, predictions = torch.max(outputs.data, 1)\n",
    "        print(predictions)\n",
    "        total += labels.size(0)\n",
    "        correct += (predictions == labels).sum().item()\n",
    "\n",
    "    print(f'Acc: {100 * correct/total}')"
   ]
  },
  {
   "cell_type": "code",
   "execution_count": null,
   "metadata": {},
   "outputs": [],
   "source": []
  }
 ],
 "metadata": {
  "interpreter": {
   "hash": "0a6f0236100a25fedb96dd72ba2d7dd42bd6265e8c9814c4d22f34b2c50964d1"
  },
  "kernelspec": {
   "display_name": "Python 3.6.8 ('.venv': venv)",
   "language": "python",
   "name": "python3"
  },
  "language_info": {
   "codemirror_mode": {
    "name": "ipython",
    "version": 3
   },
   "file_extension": ".py",
   "mimetype": "text/x-python",
   "name": "python",
   "nbconvert_exporter": "python",
   "pygments_lexer": "ipython3",
   "version": "3.6.8"
  },
  "orig_nbformat": 4
 },
 "nbformat": 4,
 "nbformat_minor": 2
}
